{
 "cells": [
  {
   "cell_type": "code",
   "execution_count": 2,
   "id": "532b8c49-66ff-4ffd-97ee-719bed2b9e72",
   "metadata": {},
   "outputs": [],
   "source": [
    "!aws configure set default.s3.max_concurrent_requests 100\n",
    "!aws configure set default.s3.multipart_threshold 64MB\n",
    "!aws configure set default.s3.multipart_chunksize 16MB"
   ]
  },
  {
   "cell_type": "code",
   "execution_count": 6,
   "id": "b1584086-f963-4ebc-a25a-103d52420fa3",
   "metadata": {},
   "outputs": [],
   "source": [
    "!AWS_ACCESS_KEY_ID=xxx \\\n",
    "    AWS_SECRET_ACCESS_KEY=xxxm \\\n",
    "    AWS_SESSION_TOKEN=xxx \\\n",
    "    aws s3 sync s3://nasa-veda-scratch/icechunk/MUR-JPL-L4-GLOB-v4.1-virtual-v3/ s3://nasa-eodc-public/icechunk/MUR-JPL-L4-GLOB-v4.1/1/ \\\n",
    "    --storage-class STANDARD \\\n",
    "    --exact-timestamps"
   ]
  },
  {
   "cell_type": "code",
   "execution_count": null,
   "id": "677006f5-52d7-4bf1-96c4-68f6a33449de",
   "metadata": {},
   "outputs": [],
   "source": []
  }
 ],
 "metadata": {
  "kernelspec": {
   "display_name": "Python 3 (ipykernel)",
   "language": "python",
   "name": "python3"
  },
  "language_info": {
   "codemirror_mode": {
    "name": "ipython",
    "version": 3
   },
   "file_extension": ".py",
   "mimetype": "text/x-python",
   "name": "python",
   "nbconvert_exporter": "python",
   "pygments_lexer": "ipython3",
   "version": "3.11.10"
  }
 },
 "nbformat": 4,
 "nbformat_minor": 5
}
