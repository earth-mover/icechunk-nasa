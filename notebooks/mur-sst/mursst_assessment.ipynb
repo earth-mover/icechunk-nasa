{
 "cells": [
  {
   "cell_type": "markdown",
   "id": "70efbfac-4092-471b-a04a-e88a8cc2697d",
   "metadata": {},
   "source": [
    "# Assessment of MUR SST Chunking and Codecs\n",
    "\n",
    "This notebook provides an analysis of the different [MUR SST](https://podaac.jpl.nasa.gov/dataset/MUR-JPL-L4-GLOB-v4.1) chunk shapes and codecs for given time periods. As Zarr does not currently support arrays with variation in chunk shape, dimension and codecs, this notebook serves as reporting on why a virtual Zarr store must contain some native Zarr data to maintain consistent chunk shape and codecs."
   ]
  },
  {
   "cell_type": "markdown",
   "id": "3f2b5db5-6fc7-452f-95f2-ff9ba010c8e5",
   "metadata": {},
   "source": [
    "## Load Libraries"
   ]
  },
  {
   "cell_type": "code",
   "execution_count": 1,
   "id": "cdc4e27c-cb06-4c47-9dec-76eb4205b074",
   "metadata": {},
   "outputs": [],
   "source": [
    "from concurrent.futures import ThreadPoolExecutor\n",
    "import utils\n",
    "\n",
    "import warnings\n",
    "warnings.filterwarnings(\"ignore\", category=UserWarning)\n",
    "\n",
    "variables = ['analysed_sst', 'analysis_error', 'mask', 'sea_ice_fraction']"
   ]
  },
  {
   "cell_type": "markdown",
   "id": "4f377146-d39e-4328-a8f0-928148b4b652",
   "metadata": {},
   "source": [
    "## List DMRPP files + Open with VirtualiZarr\n",
    "\n",
    "These files will be opened with VirtualiZarr's `open_virtual_dataset` which will subsequently be used to extract chunk shape and codecs from each file."
   ]
  },
  {
   "cell_type": "code",
   "execution_count": 2,
   "id": "c2b861e1-eaf2-4290-975b-55fe34f0c032",
   "metadata": {},
   "outputs": [],
   "source": [
    "files = utils.list_mur_sst_files(\"2002-06-01\", \"2025-04-25\")"
   ]
  },
  {
   "cell_type": "code",
   "execution_count": 3,
   "id": "af5cdf6b-31f7-4723-b086-1e310fa2d442",
   "metadata": {},
   "outputs": [
    {
     "name": "stdout",
     "output_type": "stream",
     "text": [
      "CPU times: user 4min 9s, sys: 5.15 s, total: 4min 14s\n",
      "Wall time: 5min\n"
     ]
    }
   ],
   "source": [
    "%%time\n",
    "with ThreadPoolExecutor() as executor:\n",
    "    vdss = list(executor.map(utils.open_virtual_dmrpp, files))"
   ]
  },
  {
   "cell_type": "markdown",
   "id": "1319a008-abd8-4bef-bbdf-f02562c8f1e9",
   "metadata": {},
   "source": [
    "## Extract periods for which different chunk shapes are used for each variable"
   ]
  },
  {
   "cell_type": "code",
   "execution_count": 5,
   "id": "2ba77b12-a243-46db-930e-d9129f4efce6",
   "metadata": {},
   "outputs": [],
   "source": [
    "chunk_shapes_dict = utils.process_variable_metadata(vdss, variables, 'chunks')"
   ]
  },
  {
   "cell_type": "code",
   "execution_count": 7,
   "id": "8693848d-bd0f-479e-9ce1-f7046aaa1714",
   "metadata": {},
   "outputs": [
    {
     "data": {
      "text/html": [
       "<div>\n",
       "<style scoped>\n",
       "    .dataframe tbody tr th:only-of-type {\n",
       "        vertical-align: middle;\n",
       "    }\n",
       "\n",
       "    .dataframe tbody tr th {\n",
       "        vertical-align: top;\n",
       "    }\n",
       "\n",
       "    .dataframe thead th {\n",
       "        text-align: right;\n",
       "    }\n",
       "</style>\n",
       "<table border=\"1\" class=\"dataframe\">\n",
       "  <thead>\n",
       "    <tr style=\"text-align: right;\">\n",
       "      <th></th>\n",
       "      <th></th>\n",
       "      <th>date_ranges</th>\n",
       "    </tr>\n",
       "    <tr>\n",
       "      <th>variable</th>\n",
       "      <th>chunk shape</th>\n",
       "      <th></th>\n",
       "    </tr>\n",
       "  </thead>\n",
       "  <tbody>\n",
       "    <tr>\n",
       "      <th rowspan=\"2\" valign=\"top\">analysed_sst</th>\n",
       "      <th>(1, 1023, 2047)</th>\n",
       "      <td>[(2002-06-01, 2023-02-23), (2023-03-01, 2023-04-21), (2023-04-23, 2023-09-03), (2024-03-24, 2024-03-24), (2024-06-02, 2025-04-25)]</td>\n",
       "    </tr>\n",
       "    <tr>\n",
       "      <th>(1, 3600, 7200)</th>\n",
       "      <td>[(2023-02-24, 2023-02-28), (2023-04-22, 2023-04-22), (2023-09-04, 2024-03-23), (2024-03-25, 2024-06-01)]</td>\n",
       "    </tr>\n",
       "    <tr>\n",
       "      <th rowspan=\"2\" valign=\"top\">analysis_error</th>\n",
       "      <th>(1, 1023, 2047)</th>\n",
       "      <td>[(2002-06-01, 2023-02-23), (2023-03-01, 2023-04-21), (2023-04-23, 2023-09-03), (2024-06-02, 2025-04-25)]</td>\n",
       "    </tr>\n",
       "    <tr>\n",
       "      <th>(1, 3600, 7200)</th>\n",
       "      <td>[(2023-02-24, 2023-02-28), (2023-04-22, 2023-04-22), (2023-09-04, 2024-06-01)]</td>\n",
       "    </tr>\n",
       "    <tr>\n",
       "      <th rowspan=\"3\" valign=\"top\">mask</th>\n",
       "      <th>(1, 1447, 2895)</th>\n",
       "      <td>[(2002-06-01, 2021-02-19), (2021-02-22, 2022-11-08), (2022-11-10, 2023-02-23), (2023-03-01, 2023-04-21), (2023-04-23, 2023-09-03)]</td>\n",
       "    </tr>\n",
       "    <tr>\n",
       "      <th>(1, 1023, 2047)</th>\n",
       "      <td>[(2021-02-20, 2021-02-21), (2022-11-09, 2022-11-09), (2024-06-02, 2025-04-25)]</td>\n",
       "    </tr>\n",
       "    <tr>\n",
       "      <th>(1, 4500, 9000)</th>\n",
       "      <td>[(2023-02-24, 2023-02-28), (2023-04-22, 2023-04-22), (2023-09-04, 2024-06-01)]</td>\n",
       "    </tr>\n",
       "    <tr>\n",
       "      <th rowspan=\"3\" valign=\"top\">sea_ice_fraction</th>\n",
       "      <th>(1, 1447, 2895)</th>\n",
       "      <td>[(2002-06-01, 2021-02-19), (2021-02-22, 2022-11-08), (2022-11-10, 2023-02-23), (2023-03-01, 2023-04-21), (2023-04-23, 2023-09-03)]</td>\n",
       "    </tr>\n",
       "    <tr>\n",
       "      <th>(1, 1023, 2047)</th>\n",
       "      <td>[(2021-02-20, 2021-02-21), (2022-11-09, 2022-11-09), (2024-06-02, 2025-04-25)]</td>\n",
       "    </tr>\n",
       "    <tr>\n",
       "      <th>(1, 4500, 9000)</th>\n",
       "      <td>[(2023-02-24, 2023-02-28), (2023-04-22, 2023-04-22), (2023-09-04, 2024-06-01)]</td>\n",
       "    </tr>\n",
       "  </tbody>\n",
       "</table>\n",
       "</div>"
      ],
      "text/plain": [
       "                                                                                                                                                         date_ranges\n",
       "variable         chunk shape                                                                                                                                        \n",
       "analysed_sst     (1, 1023, 2047)  [(2002-06-01, 2023-02-23), (2023-03-01, 2023-04-21), (2023-04-23, 2023-09-03), (2024-03-24, 2024-03-24), (2024-06-02, 2025-04-25)]\n",
       "                 (1, 3600, 7200)                            [(2023-02-24, 2023-02-28), (2023-04-22, 2023-04-22), (2023-09-04, 2024-03-23), (2024-03-25, 2024-06-01)]\n",
       "analysis_error   (1, 1023, 2047)                            [(2002-06-01, 2023-02-23), (2023-03-01, 2023-04-21), (2023-04-23, 2023-09-03), (2024-06-02, 2025-04-25)]\n",
       "                 (1, 3600, 7200)                                                      [(2023-02-24, 2023-02-28), (2023-04-22, 2023-04-22), (2023-09-04, 2024-06-01)]\n",
       "mask             (1, 1447, 2895)  [(2002-06-01, 2021-02-19), (2021-02-22, 2022-11-08), (2022-11-10, 2023-02-23), (2023-03-01, 2023-04-21), (2023-04-23, 2023-09-03)]\n",
       "                 (1, 1023, 2047)                                                      [(2021-02-20, 2021-02-21), (2022-11-09, 2022-11-09), (2024-06-02, 2025-04-25)]\n",
       "                 (1, 4500, 9000)                                                      [(2023-02-24, 2023-02-28), (2023-04-22, 2023-04-22), (2023-09-04, 2024-06-01)]\n",
       "sea_ice_fraction (1, 1447, 2895)  [(2002-06-01, 2021-02-19), (2021-02-22, 2022-11-08), (2022-11-10, 2023-02-23), (2023-03-01, 2023-04-21), (2023-04-23, 2023-09-03)]\n",
       "                 (1, 1023, 2047)                                                      [(2021-02-20, 2021-02-21), (2022-11-09, 2022-11-09), (2024-06-02, 2025-04-25)]\n",
       "                 (1, 4500, 9000)                                                      [(2023-02-24, 2023-02-28), (2023-04-22, 2023-04-22), (2023-09-04, 2024-06-01)]"
      ]
     },
     "execution_count": 7,
     "metadata": {},
     "output_type": "execute_result"
    }
   ],
   "source": [
    "utils.convert_dict_to_df(chunk_shapes_dict, 'chunk shape')"
   ]
  },
  {
   "cell_type": "markdown",
   "id": "4440c5ae-f5b6-41df-bfd4-919f3fd0d5ff",
   "metadata": {},
   "source": [
    "## Extract periods for which different codecs are used for each variable"
   ]
  },
  {
   "cell_type": "code",
   "execution_count": 23,
   "id": "fa672ce5-4f5e-4078-a14d-9b339b5176e5",
   "metadata": {},
   "outputs": [],
   "source": [
    "codecs_dict = utils.process_variable_metadata(vdss, variables, 'codecs')"
   ]
  },
  {
   "cell_type": "code",
   "execution_count": 24,
   "id": "1078b33e-4193-4864-bd16-165854cc103d",
   "metadata": {},
   "outputs": [
    {
     "data": {
      "text/html": [
       "<div>\n",
       "<style scoped>\n",
       "    .dataframe tbody tr th:only-of-type {\n",
       "        vertical-align: middle;\n",
       "    }\n",
       "\n",
       "    .dataframe tbody tr th {\n",
       "        vertical-align: top;\n",
       "    }\n",
       "\n",
       "    .dataframe thead th {\n",
       "        text-align: right;\n",
       "    }\n",
       "</style>\n",
       "<table border=\"1\" class=\"dataframe\">\n",
       "  <thead>\n",
       "    <tr style=\"text-align: right;\">\n",
       "      <th></th>\n",
       "      <th></th>\n",
       "      <th>date_ranges</th>\n",
       "    </tr>\n",
       "    <tr>\n",
       "      <th>variable</th>\n",
       "      <th>codecs</th>\n",
       "      <th></th>\n",
       "    </tr>\n",
       "  </thead>\n",
       "  <tbody>\n",
       "    <tr>\n",
       "      <th rowspan=\"4\" valign=\"top\">analysed_sst</th>\n",
       "      <th>[{'name': 'numcodecs.shuffle', 'configuration': {'elementsize': 2}}, {'name': 'numcodecs.zlib', 'configuration': {'level': 6}}]</th>\n",
       "      <td>[(2002-06-01, 2003-09-10), (2003-09-12, 2021-02-19), (2021-02-22, 2021-12-23), (2022-01-27, 2022-11-08), (2022-11-10, 2024-03-05), (2024-03-07, 2024-03-17), (2024-03-19, 2024-05-11)]</td>\n",
       "    </tr>\n",
       "    <tr>\n",
       "      <th>[{'name': 'numcodecs.zlib', 'configuration': {'level': 6}}]</th>\n",
       "      <td>[(2003-09-11, 2003-09-11)]</td>\n",
       "    </tr>\n",
       "    <tr>\n",
       "      <th>[{'name': 'numcodecs.shuffle', 'configuration': {'elementsize': 2}}, {'name': 'numcodecs.zlib', 'configuration': {'level': 7}}]</th>\n",
       "      <td>[(2021-02-20, 2021-02-21), (2022-11-09, 2022-11-09), (2024-03-06, 2024-03-06), (2024-03-18, 2024-03-18), (2024-05-12, 2025-04-25)]</td>\n",
       "    </tr>\n",
       "    <tr>\n",
       "      <th>[{'name': 'numcodecs.zlib', 'configuration': {'level': 6}}, {'name': 'numcodecs.shuffle', 'configuration': {'elementsize': 2}}]</th>\n",
       "      <td>[(2021-12-24, 2022-01-26)]</td>\n",
       "    </tr>\n",
       "    <tr>\n",
       "      <th rowspan=\"4\" valign=\"top\">analysis_error</th>\n",
       "      <th>[{'name': 'numcodecs.shuffle', 'configuration': {'elementsize': 2}}, {'name': 'numcodecs.zlib', 'configuration': {'level': 6}}]</th>\n",
       "      <td>[(2002-06-01, 2003-09-10), (2003-09-12, 2021-02-19), (2021-02-22, 2021-12-23), (2022-01-27, 2022-11-08), (2022-11-10, 2024-03-05), (2024-03-07, 2024-03-17), (2024-03-19, 2024-05-11)]</td>\n",
       "    </tr>\n",
       "    <tr>\n",
       "      <th>[{'name': 'numcodecs.zlib', 'configuration': {'level': 6}}]</th>\n",
       "      <td>[(2003-09-11, 2003-09-11)]</td>\n",
       "    </tr>\n",
       "    <tr>\n",
       "      <th>[{'name': 'numcodecs.shuffle', 'configuration': {'elementsize': 2}}, {'name': 'numcodecs.zlib', 'configuration': {'level': 7}}]</th>\n",
       "      <td>[(2021-02-20, 2021-02-21), (2022-11-09, 2022-11-09), (2024-03-06, 2024-03-06), (2024-03-18, 2024-03-18), (2024-05-12, 2025-04-25)]</td>\n",
       "    </tr>\n",
       "    <tr>\n",
       "      <th>[{'name': 'numcodecs.zlib', 'configuration': {'level': 6}}, {'name': 'numcodecs.shuffle', 'configuration': {'elementsize': 2}}]</th>\n",
       "      <td>[(2021-12-24, 2022-01-26)]</td>\n",
       "    </tr>\n",
       "    <tr>\n",
       "      <th rowspan=\"4\" valign=\"top\">mask</th>\n",
       "      <th>[{'name': 'numcodecs.shuffle', 'configuration': {'elementsize': 1}}, {'name': 'numcodecs.zlib', 'configuration': {'level': 6}}]</th>\n",
       "      <td>[(2002-06-01, 2003-09-10), (2003-09-12, 2021-02-19), (2021-02-22, 2021-12-23), (2022-01-27, 2022-11-08), (2022-11-10, 2024-03-05), (2024-03-07, 2024-03-17), (2024-03-19, 2024-05-11)]</td>\n",
       "    </tr>\n",
       "    <tr>\n",
       "      <th>[{'name': 'numcodecs.zlib', 'configuration': {'level': 6}}]</th>\n",
       "      <td>[(2003-09-11, 2003-09-11)]</td>\n",
       "    </tr>\n",
       "    <tr>\n",
       "      <th>[{'name': 'numcodecs.shuffle', 'configuration': {'elementsize': 1}}, {'name': 'numcodecs.zlib', 'configuration': {'level': 7}}]</th>\n",
       "      <td>[(2021-02-20, 2021-02-21), (2022-11-09, 2022-11-09), (2024-03-06, 2024-03-06), (2024-03-18, 2024-03-18), (2024-05-12, 2025-04-25)]</td>\n",
       "    </tr>\n",
       "    <tr>\n",
       "      <th>[{'name': 'numcodecs.zlib', 'configuration': {'level': 6}}, {'name': 'numcodecs.shuffle', 'configuration': {'elementsize': 1}}]</th>\n",
       "      <td>[(2021-12-24, 2022-01-26)]</td>\n",
       "    </tr>\n",
       "    <tr>\n",
       "      <th rowspan=\"4\" valign=\"top\">sea_ice_fraction</th>\n",
       "      <th>[{'name': 'numcodecs.shuffle', 'configuration': {'elementsize': 1}}, {'name': 'numcodecs.zlib', 'configuration': {'level': 6}}]</th>\n",
       "      <td>[(2002-06-01, 2003-09-10), (2003-09-12, 2021-02-19), (2021-02-22, 2021-12-23), (2022-01-27, 2022-11-08), (2022-11-10, 2024-03-05), (2024-03-07, 2024-03-17), (2024-03-19, 2024-05-11)]</td>\n",
       "    </tr>\n",
       "    <tr>\n",
       "      <th>[{'name': 'numcodecs.zlib', 'configuration': {'level': 6}}]</th>\n",
       "      <td>[(2003-09-11, 2003-09-11)]</td>\n",
       "    </tr>\n",
       "    <tr>\n",
       "      <th>[{'name': 'numcodecs.shuffle', 'configuration': {'elementsize': 1}}, {'name': 'numcodecs.zlib', 'configuration': {'level': 7}}]</th>\n",
       "      <td>[(2021-02-20, 2021-02-21), (2022-11-09, 2022-11-09), (2024-03-06, 2024-03-06), (2024-03-18, 2024-03-18), (2024-05-12, 2025-04-25)]</td>\n",
       "    </tr>\n",
       "    <tr>\n",
       "      <th>[{'name': 'numcodecs.zlib', 'configuration': {'level': 6}}, {'name': 'numcodecs.shuffle', 'configuration': {'elementsize': 1}}]</th>\n",
       "      <td>[(2021-12-24, 2022-01-26)]</td>\n",
       "    </tr>\n",
       "  </tbody>\n",
       "</table>\n",
       "</div>"
      ],
      "text/plain": [
       "                                                                                                                                                                                                                                                                                                                             date_ranges\n",
       "variable         codecs                                                                                                                                                                                                                                                                                                                 \n",
       "analysed_sst     [{'name': 'numcodecs.shuffle', 'configuration': {'elementsize': 2}}, {'name': 'numcodecs.zlib', 'configuration': {'level': 6}}]  [(2002-06-01, 2003-09-10), (2003-09-12, 2021-02-19), (2021-02-22, 2021-12-23), (2022-01-27, 2022-11-08), (2022-11-10, 2024-03-05), (2024-03-07, 2024-03-17), (2024-03-19, 2024-05-11)]\n",
       "                 [{'name': 'numcodecs.zlib', 'configuration': {'level': 6}}]                                                                                                                                                                                                                                  [(2003-09-11, 2003-09-11)]\n",
       "                 [{'name': 'numcodecs.shuffle', 'configuration': {'elementsize': 2}}, {'name': 'numcodecs.zlib', 'configuration': {'level': 7}}]                                                      [(2021-02-20, 2021-02-21), (2022-11-09, 2022-11-09), (2024-03-06, 2024-03-06), (2024-03-18, 2024-03-18), (2024-05-12, 2025-04-25)]\n",
       "                 [{'name': 'numcodecs.zlib', 'configuration': {'level': 6}}, {'name': 'numcodecs.shuffle', 'configuration': {'elementsize': 2}}]                                                                                                                                                              [(2021-12-24, 2022-01-26)]\n",
       "analysis_error   [{'name': 'numcodecs.shuffle', 'configuration': {'elementsize': 2}}, {'name': 'numcodecs.zlib', 'configuration': {'level': 6}}]  [(2002-06-01, 2003-09-10), (2003-09-12, 2021-02-19), (2021-02-22, 2021-12-23), (2022-01-27, 2022-11-08), (2022-11-10, 2024-03-05), (2024-03-07, 2024-03-17), (2024-03-19, 2024-05-11)]\n",
       "                 [{'name': 'numcodecs.zlib', 'configuration': {'level': 6}}]                                                                                                                                                                                                                                  [(2003-09-11, 2003-09-11)]\n",
       "                 [{'name': 'numcodecs.shuffle', 'configuration': {'elementsize': 2}}, {'name': 'numcodecs.zlib', 'configuration': {'level': 7}}]                                                      [(2021-02-20, 2021-02-21), (2022-11-09, 2022-11-09), (2024-03-06, 2024-03-06), (2024-03-18, 2024-03-18), (2024-05-12, 2025-04-25)]\n",
       "                 [{'name': 'numcodecs.zlib', 'configuration': {'level': 6}}, {'name': 'numcodecs.shuffle', 'configuration': {'elementsize': 2}}]                                                                                                                                                              [(2021-12-24, 2022-01-26)]\n",
       "mask             [{'name': 'numcodecs.shuffle', 'configuration': {'elementsize': 1}}, {'name': 'numcodecs.zlib', 'configuration': {'level': 6}}]  [(2002-06-01, 2003-09-10), (2003-09-12, 2021-02-19), (2021-02-22, 2021-12-23), (2022-01-27, 2022-11-08), (2022-11-10, 2024-03-05), (2024-03-07, 2024-03-17), (2024-03-19, 2024-05-11)]\n",
       "                 [{'name': 'numcodecs.zlib', 'configuration': {'level': 6}}]                                                                                                                                                                                                                                  [(2003-09-11, 2003-09-11)]\n",
       "                 [{'name': 'numcodecs.shuffle', 'configuration': {'elementsize': 1}}, {'name': 'numcodecs.zlib', 'configuration': {'level': 7}}]                                                      [(2021-02-20, 2021-02-21), (2022-11-09, 2022-11-09), (2024-03-06, 2024-03-06), (2024-03-18, 2024-03-18), (2024-05-12, 2025-04-25)]\n",
       "                 [{'name': 'numcodecs.zlib', 'configuration': {'level': 6}}, {'name': 'numcodecs.shuffle', 'configuration': {'elementsize': 1}}]                                                                                                                                                              [(2021-12-24, 2022-01-26)]\n",
       "sea_ice_fraction [{'name': 'numcodecs.shuffle', 'configuration': {'elementsize': 1}}, {'name': 'numcodecs.zlib', 'configuration': {'level': 6}}]  [(2002-06-01, 2003-09-10), (2003-09-12, 2021-02-19), (2021-02-22, 2021-12-23), (2022-01-27, 2022-11-08), (2022-11-10, 2024-03-05), (2024-03-07, 2024-03-17), (2024-03-19, 2024-05-11)]\n",
       "                 [{'name': 'numcodecs.zlib', 'configuration': {'level': 6}}]                                                                                                                                                                                                                                  [(2003-09-11, 2003-09-11)]\n",
       "                 [{'name': 'numcodecs.shuffle', 'configuration': {'elementsize': 1}}, {'name': 'numcodecs.zlib', 'configuration': {'level': 7}}]                                                      [(2021-02-20, 2021-02-21), (2022-11-09, 2022-11-09), (2024-03-06, 2024-03-06), (2024-03-18, 2024-03-18), (2024-05-12, 2025-04-25)]\n",
       "                 [{'name': 'numcodecs.zlib', 'configuration': {'level': 6}}, {'name': 'numcodecs.shuffle', 'configuration': {'elementsize': 1}}]                                                                                                                                                              [(2021-12-24, 2022-01-26)]"
      ]
     },
     "execution_count": 24,
     "metadata": {},
     "output_type": "execute_result"
    }
   ],
   "source": [
    "utils.convert_dict_to_df(codecs_dict, 'codecs')"
   ]
  }
 ],
 "metadata": {
  "kernelspec": {
   "display_name": "Python 3 (ipykernel)",
   "language": "python",
   "name": "python3"
  },
  "language_info": {
   "codemirror_mode": {
    "name": "ipython",
    "version": 3
   },
   "file_extension": ".py",
   "mimetype": "text/x-python",
   "name": "python",
   "nbconvert_exporter": "python",
   "pygments_lexer": "ipython3",
   "version": "3.11.10"
  }
 },
 "nbformat": 4,
 "nbformat_minor": 5
}
