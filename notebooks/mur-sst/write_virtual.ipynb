{
 "cells": [
  {
   "cell_type": "code",
   "execution_count": 1,
   "id": "96c2733a-ffc6-405e-add9-f5421d99b5e5",
   "metadata": {},
   "outputs": [],
   "source": [
    "import fsspec\n",
    "import xarray as xr\n",
    "import warnings\n",
    "warnings.filterwarnings(\"ignore\", category=UserWarning)\n",
    "\n",
    "import helpers"
   ]
  },
  {
   "cell_type": "markdown",
   "id": "7f6e67c9-cb8c-432a-96f3-28596aedd5f7",
   "metadata": {},
   "source": [
    "# Todos for this notebook\n",
    "\n",
    "**NOTE:** This work depends on https://github.com/zarr-developers/VirtualiZarr/pull/369\n",
    "\n",
    "- [ ] Estimate cost\n",
    "- [ ] Validate all data has correct `_FillValue` in encoding\n",
    "- [ ] Implement distributed zarr write (see https://icechunk.io/icechunk-python/examples/dask_write)\n",
    "\n",
    "Nice to have:\n",
    "- [ ] Add arraylake option"
   ]
  },
  {
   "cell_type": "markdown",
   "id": "cc39ea87-e9a6-4ceb-82df-407229af68ea",
   "metadata": {},
   "source": [
    "# 1. Start a dask cluster\n",
    "\n",
    "The dask cluster will help parallelize generating references and in computation for validation."
   ]
  },
  {
   "cell_type": "code",
   "execution_count": null,
   "id": "368a270a-b30f-4b88-9e3c-cea0fe100949",
   "metadata": {},
   "outputs": [],
   "source": [
    "from dask.distributed import Client, LocalCluster\n",
    "cluster = LocalCluster()\n",
    "client = Client(cluster)\n",
    "cluster.scale(8)\n",
    "client"
   ]
  },
  {
   "cell_type": "markdown",
   "id": "12817cf2-fb96-4d44-878b-8be9dc02d5ca",
   "metadata": {},
   "source": [
    "# 2. Initialize file stores for reading and writing"
   ]
  },
  {
   "cell_type": "markdown",
   "id": "15fef9b1-b783-425f-951a-631a7296c548",
   "metadata": {},
   "source": [
    "## 2a. Initialize a filesystem for accessing the MUR SST data files."
   ]
  },
  {
   "cell_type": "code",
   "execution_count": 2,
   "id": "0bf1a93e-6452-483b-b3a8-e1d405953ce7",
   "metadata": {},
   "outputs": [],
   "source": [
    "fs = fsspec.filesystem(\"s3\", anon=False)"
   ]
  },
  {
   "cell_type": "markdown",
   "id": "74f6f96e-b04f-45cc-b080-998f9d3497d7",
   "metadata": {},
   "source": [
    "## 2b. Initialize the store we are writing to (icechunk).\n",
    "\n",
    "**NOTE:** If just appending to the store, `overwrite` should `=False`.\n",
    "\n",
    "If overwriting an existing s3 store, you need to run the following lines:\n",
    "\n",
    "<code>\n",
    "!pip install awscli\n",
    "!aws s3 rm --recursive s3://nasa-veda-scratch/icechunk/{store_name}\n",
    "</code>"
   ]
  },
  {
   "cell_type": "code",
   "execution_count": 3,
   "id": "617867ad-f1f3-4bd7-b3d7-98b4b11b8478",
   "metadata": {},
   "outputs": [
    {
     "data": {
      "text/plain": [
       "<icechunk.IcechunkStore at 0x7f993673f350>"
      ]
     },
     "execution_count": 3,
     "metadata": {},
     "output_type": "execute_result"
    }
   ],
   "source": [
    "store = helpers.find_or_create_icechunk_store(store_name=\"MUR-JPL-L4-GLOB-v4.1-virtual\", store_type=\"s3\", overwrite=False)\n",
    "store"
   ]
  },
  {
   "cell_type": "markdown",
   "id": "cb8b25bb-453f-482e-8e86-143307249e93",
   "metadata": {},
   "source": [
    "# 3. Create initial store with data from 2002\n",
    "\n",
    "## 3a. List, virtualize and concatenize datasets\n",
    "\n",
    "This step uses the dmrpp reader of VirtualiZarr. This reader makes this process very fast since we don't actually have to open and read any of the original files."
   ]
  },
  {
   "cell_type": "code",
   "execution_count": null,
   "id": "96506b26-9129-437c-bb8a-c539037d9db5",
   "metadata": {},
   "outputs": [],
   "source": [
    "mur_sst_files_2002 = helpers.list_mur_sst_files(start_date=\"2002-06-01\", end_date=\"2002-12-31\")\n",
    "mur_sst_dmrpps_2002 = [f + '.dmrpp' for f in mur_sst_files_2002]\n",
    "virtual_ds_2002 = helpers.create_virtual_ds(dmrpps=mur_sst_dmrpps_2002)"
   ]
  },
  {
   "cell_type": "code",
   "execution_count": null,
   "id": "0e3e044e-82c0-46f8-98a4-3f9294ab327b",
   "metadata": {},
   "outputs": [],
   "source": [
    "# sanity check\n",
    "len(mur_sst_dmrpps_2002)"
   ]
  },
  {
   "cell_type": "markdown",
   "id": "b2f98b73-6a16-47b1-8f74-84df9f2cd97b",
   "metadata": {},
   "source": [
    "## 3b. Write to icechunk"
   ]
  },
  {
   "cell_type": "code",
   "execution_count": null,
   "id": "2be45430-3310-4f9c-9f3a-d1493493f0e1",
   "metadata": {},
   "outputs": [],
   "source": [
    "%%time\n",
    "virtual_ds_2002.virtualize.to_icechunk(store)\n",
    "store.commit(\"Wrote 2002 data\")"
   ]
  },
  {
   "cell_type": "markdown",
   "id": "4413c12a-74c1-4cb3-bf40-aed6bd45bde8",
   "metadata": {},
   "source": [
    "## 3c. Validate"
   ]
  },
  {
   "cell_type": "code",
   "execution_count": null,
   "id": "a6eaf38e-f587-438e-93e3-45193b19e759",
   "metadata": {},
   "outputs": [],
   "source": [
    "helpers.validate_data(store, dates=[\"2002-06-01\", \"2002-12-31\"], fs=fs)"
   ]
  },
  {
   "cell_type": "markdown",
   "id": "deb57c96-5f98-439d-82f7-9547e5e4426b",
   "metadata": {},
   "source": [
    "# 4. Append 2003\n",
    "\n",
    "One file in 2003 (2003-09-11) had a different encoding, so the the list of 2003 files is split into 3 lists. All dates apart from the date with the different encoding are written as virtual stores. The problematic data is written as zarr.\n",
    "\n",
    "See and run `helpers.get_codecs` with a list of virtual datasets to check all codecs are the same."
   ]
  },
  {
   "cell_type": "markdown",
   "id": "cd66040a-8d4e-4d72-9a5a-f2e7f49bb8ee",
   "metadata": {},
   "source": [
    "## 4a. List files from 2003\n",
    "\n",
    "And split that list by the date with the different encoding."
   ]
  },
  {
   "cell_type": "code",
   "execution_count": null,
   "id": "03f985f1-32e3-42ae-ad11-1f038614d07a",
   "metadata": {},
   "outputs": [],
   "source": [
    "mur_sst_files_2003_1 = helpers.list_mur_sst_files(start_date=\"2003-01-01\", end_date=\"2003-09-10\")"
   ]
  },
  {
   "cell_type": "markdown",
   "id": "5e29a257-3376-4cce-a927-6d4a5f53d827",
   "metadata": {},
   "source": [
    "## 4b. Write first set of files as virtual datasets using the DMRPP reader"
   ]
  },
  {
   "cell_type": "code",
   "execution_count": null,
   "id": "b264e948-0278-4b29-b825-4f378bdef48f",
   "metadata": {},
   "outputs": [],
   "source": [
    "mur_sst_files_2003_1_dmrpps = [f + '.dmrpp' for f in mur_sst_files_2003_1]\n",
    "virtual_ds_2003_1 = helpers.create_virtual_ds(dmrpps=mur_sst_files_2003_1_dmrpps)"
   ]
  },
  {
   "cell_type": "code",
   "execution_count": null,
   "id": "caa1bcbb-3247-49ac-8398-dfe9ecd6cc6e",
   "metadata": {},
   "outputs": [],
   "source": [
    "virtual_ds_2003_1.virtualize.to_icechunk(store, append_dim='time')\n",
    "store.commit(\"Wrote first part of 2003 data\")"
   ]
  },
  {
   "cell_type": "markdown",
   "id": "1dbd18d4-06a5-45e3-af21-552c0e1286b8",
   "metadata": {},
   "source": [
    "## 4c. Write data with different encoding as zarr"
   ]
  },
  {
   "cell_type": "code",
   "execution_count": null,
   "id": "2a44b458-c1e6-4c1c-a9d0-a6fa12049d4f",
   "metadata": {},
   "outputs": [],
   "source": [
    "# this takes about a minute and a lot of memory (nearly 40GB)\n",
    "problematic_file = helpers.list_mur_sst_files(start_date=\"2003-09-11\", end_date=\"2003-09-11\")\n",
    "# using chunks={} or chunks='auto' to initialize the dataset with dask arrays fails, throwing an error that the store is in read-only mode.\n",
    "# I have not investigated this.\n",
    "ds = xr.open_dataset(fs.open(problematic_file[0]))\n",
    "ds.to_zarr(store, append_dim='time')\n",
    "store.commit(f\"Wrote {problematic_file} in zarr\")"
   ]
  },
  {
   "cell_type": "markdown",
   "id": "7173ee65-96f7-45a4-9156-40f9eeeb2f91",
   "metadata": {},
   "source": [
    "## 4d. Write the rest of 2003 as virtual data"
   ]
  },
  {
   "cell_type": "code",
   "execution_count": null,
   "id": "46f61c26-f7af-4ade-b2cb-550a4f166b51",
   "metadata": {},
   "outputs": [],
   "source": [
    "mur_sst_files_2003_2 = helpers.list_mur_sst_files(start_date=\"2003-09-12\", end_date=\"2003-12-31\")\n",
    "mur_sst_files_2003_2_dmrpps = [f + '.dmrpp' for f in mur_sst_files_2003_2]\n",
    "virtual_ds_2003_2 = helpers.create_virtual_ds(dmrpps=mur_sst_files_2003_2_dmrpps)"
   ]
  },
  {
   "cell_type": "code",
   "execution_count": null,
   "id": "8b138a89-af22-4736-937e-bc3735f9b7b5",
   "metadata": {},
   "outputs": [],
   "source": [
    "virtual_ds_2003_2.virtualize.to_icechunk(store, append_dim='time')\n",
    "store.commit(f\"Wrote to end of 2003.\")"
   ]
  },
  {
   "cell_type": "markdown",
   "id": "40667225-1e8d-482c-9f5b-d44f54c505c9",
   "metadata": {},
   "source": [
    "## 4e. Validate"
   ]
  },
  {
   "cell_type": "code",
   "execution_count": null,
   "id": "6c41cecc-6ce7-4adf-a853-1bb5e60f3be2",
   "metadata": {},
   "outputs": [],
   "source": [
    "helpers.validate_data(store, dates=[\"2003-01-01\", \"2003-12-31\"], fs=fs)"
   ]
  },
  {
   "cell_type": "markdown",
   "id": "f6138d75-0c05-4bd5-86db-7e72fabc5f2b",
   "metadata": {},
   "source": [
    "# 5. Append 2004"
   ]
  },
  {
   "cell_type": "markdown",
   "id": "ccafaf4d-e89c-4c9b-b8ce-c489c84f0277",
   "metadata": {},
   "source": [
    "## 5a. List files"
   ]
  },
  {
   "cell_type": "code",
   "execution_count": null,
   "id": "2d175d63-cbb1-4c5b-98b0-8e90c35b95ac",
   "metadata": {},
   "outputs": [],
   "source": [
    "dates = ['2004-01-01', '2004-12-31']\n",
    "mur_sst_files_2004 = helpers.list_mur_sst_files(start_date=dates[0], end_date=dates[1])\n",
    "mur_sst_files_2004_dmrpps = [f + '.dmrpp' for f in mur_sst_files_2004]"
   ]
  },
  {
   "cell_type": "code",
   "execution_count": null,
   "id": "9a6ddaba-9223-415e-bebd-0b86c8b6405d",
   "metadata": {},
   "outputs": [],
   "source": [
    "len(mur_sst_files_2004_dmrpps)"
   ]
  },
  {
   "cell_type": "markdown",
   "id": "682916bc-6f3d-4793-80e6-efa8fc592326",
   "metadata": {},
   "source": [
    "## 5b. Write data"
   ]
  },
  {
   "cell_type": "code",
   "execution_count": null,
   "id": "cb4343cb-53fb-4000-becf-432fa37a1b1d",
   "metadata": {},
   "outputs": [],
   "source": [
    "virtual_ds_2004 = helpers.create_virtual_ds(dmrpps=mur_sst_files_2004_dmrpps)\n",
    "virtual_ds_2004.virtualize.to_icechunk(store, append_dim='time')\n",
    "store.commit(f\"Wrote 2004 to store.\")"
   ]
  },
  {
   "cell_type": "markdown",
   "id": "b70afbdd-87bf-4c89-91da-b592aa290f40",
   "metadata": {},
   "source": [
    "## 5c. Validate data"
   ]
  },
  {
   "cell_type": "code",
   "execution_count": null,
   "id": "83447236-0f85-4009-b907-72bddc16a745",
   "metadata": {},
   "outputs": [],
   "source": [
    "%%time\n",
    "helpers.validate_data(store, dates=dates, fs=fs)"
   ]
  },
  {
   "cell_type": "markdown",
   "id": "62b0b93a-b8ea-4c57-a743-b5442bff5b8a",
   "metadata": {},
   "source": [
    "# 6. Let's try 2 years! 2005-2006"
   ]
  },
  {
   "cell_type": "markdown",
   "id": "3862cc23-2aa0-4fbc-baa8-f41c1467d8d6",
   "metadata": {},
   "source": [
    "## 6a. List files"
   ]
  },
  {
   "cell_type": "code",
   "execution_count": null,
   "id": "af6573d5-14b8-42b0-8209-358fab4f8550",
   "metadata": {},
   "outputs": [],
   "source": [
    "dates = ['2005-01-01', '2006-12-31']\n",
    "mur_sst_files_2005_2006 = helpers.list_mur_sst_files(start_date=dates[0], end_date=dates[1])\n",
    "mur_sst_files_2005_2006_dmrpps = [f + '.dmrpp' for f in mur_sst_files_2005_2006]"
   ]
  },
  {
   "cell_type": "code",
   "execution_count": null,
   "id": "0a349c99-ba58-4fe4-a419-41aca46609db",
   "metadata": {},
   "outputs": [],
   "source": [
    "len(mur_sst_files_2005_2006_dmrpps)"
   ]
  },
  {
   "cell_type": "markdown",
   "id": "1d9f3714-8a07-44dd-9fcc-e6d31351f426",
   "metadata": {},
   "source": [
    "## 6b. Write data"
   ]
  },
  {
   "cell_type": "code",
   "execution_count": null,
   "id": "e805173c-4956-41e6-87f1-388c51e00b86",
   "metadata": {},
   "outputs": [],
   "source": [
    "virtual_ds_2005_2006 = helpers.create_virtual_ds(dmrpps=mur_sst_files_2005_2006_dmrpps)\n",
    "virtual_ds_2005_2006.virtualize.to_icechunk(store, append_dim='time')\n",
    "store.commit(f\"Wrote 2005-2006 to store.\")"
   ]
  },
  {
   "cell_type": "markdown",
   "id": "f76610d0-e365-4108-8457-6ad626846e61",
   "metadata": {},
   "source": [
    "## 6c. Validate data"
   ]
  },
  {
   "cell_type": "code",
   "execution_count": null,
   "id": "3837f38a-0b54-4b47-b84b-7e877d840df3",
   "metadata": {},
   "outputs": [],
   "source": [
    "%%time\n",
    "helpers.validate_data(store, dates=dates, fs=fs)"
   ]
  },
  {
   "cell_type": "markdown",
   "id": "5aebd799-eb74-4ef3-a5fe-6ba2f638ef70",
   "metadata": {},
   "source": [
    "# 7. Let's try 5 years! 2007 through end of 2011"
   ]
  },
  {
   "cell_type": "markdown",
   "id": "2356754e-9459-4e1e-8cdb-4bb6fdc08898",
   "metadata": {},
   "source": [
    "## 7a. List files"
   ]
  },
  {
   "cell_type": "code",
   "execution_count": null,
   "id": "e4aa5930-0702-48e3-a592-e8c13054970f",
   "metadata": {},
   "outputs": [],
   "source": [
    "dates = ['2007-01-01', '2011-12-31']\n",
    "mur_sst_files_2007_2011 = helpers.list_mur_sst_files(start_date=dates[0], end_date=dates[1])\n",
    "mur_sst_files_2007_2011_dmrpps = [f + '.dmrpp' for f in mur_sst_files_2007_2011]"
   ]
  },
  {
   "cell_type": "code",
   "execution_count": null,
   "id": "67d64c6a-7a09-4886-8ad5-9425d8d99955",
   "metadata": {},
   "outputs": [],
   "source": [
    "len(mur_sst_files_2007_2011_dmrpps)"
   ]
  },
  {
   "cell_type": "markdown",
   "id": "be579dd5-79c0-4979-b2f2-f3ba868e8927",
   "metadata": {},
   "source": [
    "## 7b. Write data"
   ]
  },
  {
   "cell_type": "code",
   "execution_count": null,
   "id": "1dca0578-5935-4a7e-b94f-ad8afd7e9795",
   "metadata": {},
   "outputs": [],
   "source": [
    "virtual_ds_2007_2011 = helpers.create_virtual_ds(dmrpps=mur_sst_files_2007_2011_dmrpps)\n",
    "virtual_ds_2007_2011.virtualize.to_icechunk(store, append_dim='time')\n",
    "store.commit(f\"Wrote 2007-2011 to store.\")"
   ]
  },
  {
   "cell_type": "markdown",
   "id": "59456b4e-ae52-48e6-8a0f-224e616079bf",
   "metadata": {},
   "source": [
    "## 7c. Validate data"
   ]
  },
  {
   "cell_type": "code",
   "execution_count": null,
   "id": "9bc8dde8-bff9-46d1-834e-8ded2fdec040",
   "metadata": {},
   "outputs": [],
   "source": [
    "%%time\n",
    "helpers.validate_data(store, dates=dates, fs=fs)"
   ]
  },
  {
   "cell_type": "markdown",
   "id": "aaadecba-ac8d-4049-b9aa-84f7467b3638",
   "metadata": {},
   "source": [
    "# 8. 2012"
   ]
  },
  {
   "cell_type": "markdown",
   "id": "2e9f8fcd-352e-49ed-9629-8f82c13503cc",
   "metadata": {},
   "source": [
    "## 8a. List files"
   ]
  },
  {
   "cell_type": "code",
   "execution_count": null,
   "id": "37c68b0b-56d5-4201-96df-24a9c93cb39d",
   "metadata": {},
   "outputs": [],
   "source": [
    "dates = ['2012-01-01', '2012-12-31']\n",
    "mur_sst_files_2012 = helpers.list_mur_sst_files(start_date=dates[0], end_date=dates[1])\n",
    "mur_sst_files_2012_dmrpps = [f + '.dmrpp' for f in mur_sst_files_2012]"
   ]
  },
  {
   "cell_type": "code",
   "execution_count": null,
   "id": "6ef8b6c2-d46d-4456-8d4c-6468b606de81",
   "metadata": {},
   "outputs": [],
   "source": [
    "len(mur_sst_files_2012_dmrpps)"
   ]
  },
  {
   "cell_type": "markdown",
   "id": "25232308-3475-4714-acdc-366471cae472",
   "metadata": {},
   "source": [
    "## 8b. Write data"
   ]
  },
  {
   "cell_type": "code",
   "execution_count": null,
   "id": "257c25db-dd2e-401f-baab-763427e2d664",
   "metadata": {},
   "outputs": [],
   "source": [
    "virtual_ds_2012 = helpers.create_virtual_ds(dmrpps=mur_sst_files_2012_dmrpps)"
   ]
  },
  {
   "cell_type": "code",
   "execution_count": null,
   "id": "b29ce860-b106-48f5-9f93-2fd07f520b88",
   "metadata": {},
   "outputs": [],
   "source": [
    "virtual_ds_2012.virtualize.to_icechunk(store, append_dim='time')\n",
    "store.commit(f\"Wrote 2012 to store.\")"
   ]
  },
  {
   "cell_type": "markdown",
   "id": "4809c496-4a27-4377-b17d-0c9372c5698c",
   "metadata": {},
   "source": [
    "## 8c. Validate data"
   ]
  },
  {
   "cell_type": "code",
   "execution_count": null,
   "id": "e865c7ed-95c5-4fff-bbd4-3a2d6761d91a",
   "metadata": {},
   "outputs": [],
   "source": [
    "%%time\n",
    "helpers.validate_data(store, dates=dates, fs=fs)"
   ]
  },
  {
   "cell_type": "markdown",
   "id": "368bc21e-ad9f-40b5-8589-9a86c5f9507a",
   "metadata": {},
   "source": [
    "# 9. 2013"
   ]
  },
  {
   "cell_type": "markdown",
   "id": "e3f67101-0efa-42ff-870c-04311b30837b",
   "metadata": {},
   "source": [
    "## 9a. List files"
   ]
  },
  {
   "cell_type": "code",
   "execution_count": null,
   "id": "f69569b4-4416-4d32-bb08-30665b5574b4",
   "metadata": {},
   "outputs": [],
   "source": [
    "dates = ['2013-01-01', '2013-12-31']\n",
    "mur_sst_files_2013 = helpers.list_mur_sst_files(start_date=dates[0], end_date=dates[1])\n",
    "mur_sst_files_2013_dmrpps = [f + '.dmrpp' for f in mur_sst_files_2013]"
   ]
  },
  {
   "cell_type": "code",
   "execution_count": null,
   "id": "27a79ad9-08f0-4781-92fb-1fd5893e29cc",
   "metadata": {},
   "outputs": [],
   "source": [
    "len(mur_sst_files_2013_dmrpps)"
   ]
  },
  {
   "cell_type": "markdown",
   "id": "2320dd89-355a-474b-b2ec-0bcac9f9dca7",
   "metadata": {},
   "source": [
    "## 9b. Write data"
   ]
  },
  {
   "cell_type": "code",
   "execution_count": null,
   "id": "935abd71-fc50-4098-ac6d-deb5e0fa60ef",
   "metadata": {},
   "outputs": [],
   "source": [
    "virtual_ds_2013 = helpers.create_virtual_ds(dmrpps=mur_sst_files_2013_dmrpps)"
   ]
  },
  {
   "cell_type": "code",
   "execution_count": null,
   "id": "d3ece276-a2b0-4514-aa00-b7ecf3b26ea0",
   "metadata": {},
   "outputs": [],
   "source": [
    "virtual_ds_2013.virtualize.to_icechunk(store, append_dim='time')\n",
    "store.commit(f\"Wrote 2013 to store.\")"
   ]
  },
  {
   "cell_type": "markdown",
   "id": "aae92421-04fa-44d4-8308-0ff7279ecd02",
   "metadata": {},
   "source": [
    "## 9c. Validate data"
   ]
  },
  {
   "cell_type": "code",
   "execution_count": null,
   "id": "e8f248da-d0fe-4eec-b621-b44eb18a06e5",
   "metadata": {},
   "outputs": [],
   "source": [
    "%%time\n",
    "dates = ['2013-01-01', '2013-12-31']\n",
    "helpers.validate_data(store, dates=dates, fs=fs)"
   ]
  },
  {
   "cell_type": "markdown",
   "id": "1bdbecab-50be-460b-b234-eb0c7bb1d072",
   "metadata": {},
   "source": [
    "# 10. 2014"
   ]
  },
  {
   "cell_type": "markdown",
   "id": "bf1fd75d-9a03-4add-a7a9-37508b6f1f58",
   "metadata": {},
   "source": [
    "## 10a. List files"
   ]
  },
  {
   "cell_type": "code",
   "execution_count": null,
   "id": "a0f84ab0-68ce-4c81-a375-2a13f1e66438",
   "metadata": {},
   "outputs": [],
   "source": [
    "dates = ['2014-01-01', '2014-12-31']\n",
    "mur_sst_files_2014 = helpers.list_mur_sst_files(start_date=dates[0], end_date=dates[1])\n",
    "mur_sst_files_2014_dmrpps = [f + '.dmrpp' for f in mur_sst_files_2014]"
   ]
  },
  {
   "cell_type": "code",
   "execution_count": null,
   "id": "5a3a8906-3eb8-4e51-966b-3f18872f8cbb",
   "metadata": {},
   "outputs": [],
   "source": [
    "len(mur_sst_files_2014_dmrpps)"
   ]
  },
  {
   "cell_type": "markdown",
   "id": "af48a060-0572-4e4b-b0e8-182177465331",
   "metadata": {},
   "source": [
    "## 10b. Write data"
   ]
  },
  {
   "cell_type": "code",
   "execution_count": null,
   "id": "c9e8de50-b41d-4227-87cf-4f7575881348",
   "metadata": {},
   "outputs": [],
   "source": [
    "virtual_ds_2014 = helpers.create_virtual_ds(dmrpps=mur_sst_files_2014_dmrpps)"
   ]
  },
  {
   "cell_type": "code",
   "execution_count": null,
   "id": "c7820489-888f-459e-b3ee-b1a69efcb291",
   "metadata": {},
   "outputs": [],
   "source": [
    "virtual_ds_2014.virtualize.to_icechunk(store, append_dim='time')\n",
    "store.commit(f\"Wrote 2014 to store.\")"
   ]
  },
  {
   "cell_type": "markdown",
   "id": "417f3850-a610-4ca7-9f7c-c20610a8cf0e",
   "metadata": {},
   "source": [
    "## 10c. Validate data"
   ]
  },
  {
   "cell_type": "code",
   "execution_count": null,
   "id": "ef1208bd-15db-45a9-8391-5aae7b68f512",
   "metadata": {},
   "outputs": [],
   "source": [
    "%%time\n",
    "helpers.validate_data(store, dates=dates, fs=fs)"
   ]
  },
  {
   "cell_type": "markdown",
   "id": "12973743-2fbf-40f1-bf24-4926a67681f2",
   "metadata": {},
   "source": [
    "# 11. 2015"
   ]
  },
  {
   "cell_type": "markdown",
   "id": "7cc06361-bb0b-4064-a851-551f5026dbfc",
   "metadata": {},
   "source": [
    "## 11a. List files"
   ]
  },
  {
   "cell_type": "code",
   "execution_count": null,
   "id": "6d2d28eb-cd37-49bb-9bdd-ac193b608a5b",
   "metadata": {},
   "outputs": [],
   "source": [
    "dates = ['2015-01-01', '2015-12-31']\n",
    "mur_sst_files_2015 = helpers.list_mur_sst_files(start_date=dates[0], end_date=dates[1])\n",
    "mur_sst_files_2015_dmrpps = [f + '.dmrpp' for f in mur_sst_files_2015]"
   ]
  },
  {
   "cell_type": "code",
   "execution_count": null,
   "id": "85c46026-c720-4b0c-9c96-3714ef0db5de",
   "metadata": {},
   "outputs": [],
   "source": [
    "len(mur_sst_files_2015_dmrpps)"
   ]
  },
  {
   "cell_type": "markdown",
   "id": "02457de6-3242-413d-ada7-e1f8d6a08729",
   "metadata": {},
   "source": [
    "## 11b. Write data"
   ]
  },
  {
   "cell_type": "code",
   "execution_count": null,
   "id": "2cedfe48-1bd7-4e7d-9a4b-0ef2a687922d",
   "metadata": {},
   "outputs": [],
   "source": [
    "virtual_ds_2015 = helpers.create_virtual_ds(dmrpps=mur_sst_files_2015_dmrpps)"
   ]
  },
  {
   "cell_type": "code",
   "execution_count": null,
   "id": "adee9ef8-9a56-469b-8f68-f6ab85bf51be",
   "metadata": {},
   "outputs": [],
   "source": [
    "virtual_ds_2015.virtualize.to_icechunk(store, append_dim='time')\n",
    "store.commit(f\"Wrote 2015 to store.\")"
   ]
  },
  {
   "cell_type": "markdown",
   "id": "f3bd55f8-95e6-439a-adee-716aaed4246b",
   "metadata": {},
   "source": [
    "## 11c. Validate data"
   ]
  },
  {
   "cell_type": "code",
   "execution_count": null,
   "id": "03da73ed-e917-4824-8300-18a94a68ee77",
   "metadata": {},
   "outputs": [],
   "source": [
    "%%time\n",
    "helpers.validate_data(store, dates=dates, fs=fs)"
   ]
  },
  {
   "cell_type": "markdown",
   "id": "095366f7-ffef-4fe6-9eb8-aa1e8f23205e",
   "metadata": {},
   "source": [
    "# 12. 2016"
   ]
  },
  {
   "cell_type": "markdown",
   "id": "7d85d7f9-122e-4643-9cdb-765ecdc1b616",
   "metadata": {},
   "source": [
    "## 12a. List files"
   ]
  },
  {
   "cell_type": "code",
   "execution_count": null,
   "id": "c17fd9c1-4790-4adf-85d7-9b1918095caa",
   "metadata": {},
   "outputs": [],
   "source": [
    "dates = ['2016-01-01', '2016-12-31']\n",
    "mur_sst_files_2016 = helpers.list_mur_sst_files(start_date=dates[0], end_date=dates[1])\n",
    "mur_sst_files_2016_dmrpps = [f + '.dmrpp' for f in mur_sst_files_2016]"
   ]
  },
  {
   "cell_type": "code",
   "execution_count": null,
   "id": "1ac78d88-6fb3-4d27-80c7-5bc3c70f76ce",
   "metadata": {},
   "outputs": [],
   "source": [
    "len(mur_sst_files_2016_dmrpps)"
   ]
  },
  {
   "cell_type": "markdown",
   "id": "f11778a2-33cf-4b73-a008-76885111cf59",
   "metadata": {},
   "source": [
    "## 12b. Write data"
   ]
  },
  {
   "cell_type": "code",
   "execution_count": null,
   "id": "af0f9f5c-b70f-4839-85b3-4f5dd884c366",
   "metadata": {},
   "outputs": [],
   "source": [
    "virtual_ds_2016 = helpers.create_virtual_ds(dmrpps=mur_sst_files_2016_dmrpps)"
   ]
  },
  {
   "cell_type": "code",
   "execution_count": null,
   "id": "2565ace9-5fcd-4af1-824b-ca3024a29234",
   "metadata": {},
   "outputs": [],
   "source": [
    "virtual_ds_2016.virtualize.to_icechunk(store, append_dim='time')\n",
    "store.commit(f\"Wrote 2016 to store.\")"
   ]
  },
  {
   "cell_type": "markdown",
   "id": "4d56d916-3aee-42a0-acbe-5015e240cb5d",
   "metadata": {},
   "source": [
    "# 13. 2017"
   ]
  },
  {
   "cell_type": "markdown",
   "id": "4f3c45a4-db99-416f-b74e-0d3c72512f88",
   "metadata": {},
   "source": [
    "## 13a. List files"
   ]
  },
  {
   "cell_type": "code",
   "execution_count": null,
   "id": "db75b776-f0ac-4d55-9a9c-7c74152930ea",
   "metadata": {},
   "outputs": [],
   "source": [
    "%%time\n",
    "dates = ['2017-01-01', '2017-12-31']\n",
    "mur_sst_files_2017 = helpers.list_mur_sst_files(start_date=dates[0], end_date=dates[1])\n",
    "mur_sst_files_2017_dmrpps = [f + '.dmrpp' for f in mur_sst_files_2017]"
   ]
  },
  {
   "cell_type": "code",
   "execution_count": null,
   "id": "610615b5-9bfa-4301-8be0-60ebd3023b60",
   "metadata": {},
   "outputs": [],
   "source": [
    "len(mur_sst_files_2017_dmrpps)"
   ]
  },
  {
   "cell_type": "markdown",
   "id": "819601fb-a3f1-4d3b-af7d-ac7452baeb1d",
   "metadata": {},
   "source": [
    "## 13b. Write data"
   ]
  },
  {
   "cell_type": "code",
   "execution_count": null,
   "id": "69b0874a-22db-40e0-8922-5fd66b2f709d",
   "metadata": {},
   "outputs": [],
   "source": [
    "%%time\n",
    "virtual_ds_2017 = helpers.create_virtual_ds(dmrpps=mur_sst_files_2017_dmrpps)\n",
    "virtual_ds_2017.virtualize.to_icechunk(store, append_dim='time')\n",
    "store.commit(f\"Wrote 2017 to store.\")"
   ]
  },
  {
   "cell_type": "markdown",
   "id": "fb6008f3-ad5f-4e99-9a92-71467d0d72a4",
   "metadata": {},
   "source": [
    "## 13c. Validate data"
   ]
  },
  {
   "cell_type": "code",
   "execution_count": null,
   "id": "cd31987b-0065-4997-b0ef-1dd7d486644a",
   "metadata": {},
   "outputs": [],
   "source": [
    "%%time\n",
    "helpers.validate_data(store, dates=dates, fs=fs)"
   ]
  },
  {
   "cell_type": "markdown",
   "id": "dba1ade2-d22a-4005-a74e-5a76a3145f8c",
   "metadata": {},
   "source": [
    "# 14. 2018"
   ]
  },
  {
   "cell_type": "markdown",
   "id": "f928b06c-0338-4ba3-a08b-607b4fc830fb",
   "metadata": {},
   "source": [
    "## 14a. List files"
   ]
  },
  {
   "cell_type": "code",
   "execution_count": null,
   "id": "e8dc333b-03e4-4c12-9b2d-3b4411576208",
   "metadata": {},
   "outputs": [],
   "source": [
    "%%time\n",
    "dates = ['2018-01-01', '2018-12-31']\n",
    "mur_sst_files_2018 = helpers.list_mur_sst_files(start_date=dates[0], end_date=dates[1])\n",
    "mur_sst_files_2018_dmrpps = [f + '.dmrpp' for f in mur_sst_files_2018]"
   ]
  },
  {
   "cell_type": "code",
   "execution_count": null,
   "id": "7d702f76-c755-4075-b924-b2bc92078944",
   "metadata": {},
   "outputs": [],
   "source": [
    "len(mur_sst_files_2018_dmrpps)"
   ]
  },
  {
   "cell_type": "markdown",
   "id": "241cfd2b-6e81-4c58-8f59-4277308df577",
   "metadata": {},
   "source": [
    "## 14b. Write data"
   ]
  },
  {
   "cell_type": "code",
   "execution_count": null,
   "id": "498802d3-057b-47d4-9955-8d9d4932eb7c",
   "metadata": {},
   "outputs": [],
   "source": [
    "%%time\n",
    "virtual_ds_2018 = helpers.create_virtual_ds(dmrpps=mur_sst_files_2018_dmrpps)\n",
    "virtual_ds_2018.virtualize.to_icechunk(store, append_dim='time')\n",
    "store.commit(f\"Wrote 2018 to store.\")"
   ]
  },
  {
   "cell_type": "markdown",
   "id": "63c021f7-8958-4995-8fa3-2b4770efc439",
   "metadata": {},
   "source": [
    "## 14c. Validate data"
   ]
  },
  {
   "cell_type": "code",
   "execution_count": null,
   "id": "9c731902-8396-4989-a335-bcb761d71c4e",
   "metadata": {},
   "outputs": [],
   "source": [
    "%%time\n",
    "helpers.validate_data(store, dates=dates, fs=fs)"
   ]
  },
  {
   "cell_type": "markdown",
   "id": "d6243e5c-42ed-4594-8816-8821bdc75fe6",
   "metadata": {},
   "source": [
    "# 15. 2019"
   ]
  },
  {
   "cell_type": "markdown",
   "id": "710ad0d7-4ee0-4f78-aa5b-5c819c28b808",
   "metadata": {},
   "source": [
    "## 15a. List files"
   ]
  },
  {
   "cell_type": "code",
   "execution_count": null,
   "id": "2791b244-a8a0-4cb3-b176-5625fa170cc4",
   "metadata": {},
   "outputs": [],
   "source": [
    "%%time\n",
    "dates = ['2019-01-01', '2019-12-31']\n",
    "mur_sst_files_2019 = helpers.list_mur_sst_files(start_date=dates[0], end_date=dates[1])\n",
    "mur_sst_files_2019_dmrpps = [f + '.dmrpp' for f in mur_sst_files_2019]"
   ]
  },
  {
   "cell_type": "code",
   "execution_count": null,
   "id": "277977d4-263b-4823-94ab-6d5a72634139",
   "metadata": {},
   "outputs": [],
   "source": [
    "len(mur_sst_files_2019_dmrpps)"
   ]
  },
  {
   "cell_type": "markdown",
   "id": "652cc6f9-e522-410b-85e3-bd30d93f5716",
   "metadata": {},
   "source": [
    "## 15b. Write data"
   ]
  },
  {
   "cell_type": "code",
   "execution_count": null,
   "id": "fad5dde3-a646-45be-becc-6a47e23ba4ea",
   "metadata": {},
   "outputs": [],
   "source": [
    "%%time\n",
    "virtual_ds_2019 = helpers.create_virtual_ds(dmrpps=mur_sst_files_2019_dmrpps)\n",
    "virtual_ds_2019.virtualize.to_icechunk(store, append_dim='time')\n",
    "store.commit(f\"Wrote 2019 to store.\")"
   ]
  },
  {
   "cell_type": "markdown",
   "id": "876cafd7-87c9-4c8b-830c-7c56411f3a0a",
   "metadata": {},
   "source": [
    "## 15c. Validate data"
   ]
  },
  {
   "cell_type": "code",
   "execution_count": null,
   "id": "39510175-2423-476b-a62d-707454970765",
   "metadata": {},
   "outputs": [],
   "source": [
    "%%time\n",
    "dates = ['2019-01-01', '2019-12-31']\n",
    "helpers.validate_data(store, dates=dates, fs=fs)"
   ]
  },
  {
   "cell_type": "markdown",
   "id": "e3eb0982-7afa-475a-ac4f-b1e0be10784e",
   "metadata": {},
   "source": [
    "# 16. 2020"
   ]
  },
  {
   "cell_type": "markdown",
   "id": "bbf529d2-0097-47a3-88ef-b06dfce1132d",
   "metadata": {},
   "source": [
    "## 16a. List files"
   ]
  },
  {
   "cell_type": "code",
   "execution_count": null,
   "id": "f562e5c8-92e2-478d-8460-e16990da277a",
   "metadata": {},
   "outputs": [],
   "source": [
    "%%time\n",
    "dates = ['2020-01-01', '2020-12-31']\n",
    "mur_sst_files_2020 = helpers.list_mur_sst_files(start_date=dates[0], end_date=dates[1])\n",
    "mur_sst_files_2020_dmrpps = [f + '.dmrpp' for f in mur_sst_files_2020]"
   ]
  },
  {
   "cell_type": "code",
   "execution_count": null,
   "id": "ab3a8a13-6909-43a5-89a1-7e946a727154",
   "metadata": {},
   "outputs": [],
   "source": [
    "len(mur_sst_files_2020_dmrpps)"
   ]
  },
  {
   "cell_type": "markdown",
   "id": "0fbefd8a-1b3f-4e60-b3a2-942d41eda496",
   "metadata": {},
   "source": [
    "## 16b. Write data"
   ]
  },
  {
   "cell_type": "code",
   "execution_count": null,
   "id": "a9bac991-1efd-4534-9ee1-60260b60f2a5",
   "metadata": {},
   "outputs": [],
   "source": [
    "%%time\n",
    "virtual_ds_2020 = helpers.create_virtual_ds(dmrpps=mur_sst_files_2020_dmrpps)\n",
    "virtual_ds_2020.virtualize.to_icechunk(store, append_dim='time')\n",
    "store.commit(f\"Wrote 2020 to store.\")"
   ]
  },
  {
   "cell_type": "markdown",
   "id": "148d1e66-3ab3-48fc-acb1-3c60372700ce",
   "metadata": {},
   "source": [
    "## 16c. Validate data"
   ]
  },
  {
   "cell_type": "code",
   "execution_count": null,
   "id": "35f70d4c-b06e-4279-8dc7-59288ed6155e",
   "metadata": {},
   "outputs": [],
   "source": [
    "%%time\n",
    "helpers.validate_data(store, dates=dates, fs=fs)"
   ]
  },
  {
   "cell_type": "markdown",
   "id": "c7063cde-77e9-45a9-ab60-e0cf3a6e1e55",
   "metadata": {},
   "source": [
    "# 17. 2021\n",
    "\n",
    "Two files in 2021 (2021-02-20 and 02-21) and then 7 files (2021-12-24 to 2021-12-31) have a different encoding, so the the list of 2020 files is split into 4 parts. All dates apart from the dates with the different encoding are written as virtual stores. The problematic data is written as zarr.\n",
    "\n",
    "See and run `helpers.get_codecs` with a list of virtual datasets to check all codecs are the same.\n",
    "\n",
    "```python\n",
    "from virtualizarr import open_virtual_dataset\n",
    "vdss = [open_virtual_dataset(f, indexes={}, filetype='dmrpp') for f in mur_sst_files_dmrpps]\n",
    "helpers.check_codecs(vdss)\n",
    "```"
   ]
  },
  {
   "cell_type": "markdown",
   "id": "766c6078-a422-4362-a843-f27b651cb68c",
   "metadata": {},
   "source": [
    "## 17a. List files from first period"
   ]
  },
  {
   "cell_type": "code",
   "execution_count": null,
   "id": "d43a784a-7a53-4034-82c4-71839470077a",
   "metadata": {},
   "outputs": [],
   "source": [
    "%%time\n",
    "dates = ['2021-01-01', '2021-02-19']\n",
    "mur_sst_files_2021_1 = helpers.list_mur_sst_files(start_date=dates[0], end_date=dates[1])\n",
    "mur_sst_files_2021_1_dmrpps = [f + '.dmrpp' for f in mur_sst_files_2021_1]"
   ]
  },
  {
   "cell_type": "code",
   "execution_count": null,
   "id": "b489f765-fe54-4a81-8072-2d63583ab74d",
   "metadata": {},
   "outputs": [],
   "source": [
    "len(mur_sst_files_2021_1_dmrpps)"
   ]
  },
  {
   "cell_type": "markdown",
   "id": "1e4777be-db86-4a95-b8fa-21144a690932",
   "metadata": {},
   "source": [
    "## 17b. Write data"
   ]
  },
  {
   "cell_type": "code",
   "execution_count": null,
   "id": "ed996201-5a3b-488a-8636-d123da31cb15",
   "metadata": {},
   "outputs": [],
   "source": [
    "%%time\n",
    "virtual_ds_2021_1 = helpers.create_virtual_ds(dmrpps=mur_sst_files_2021_1_dmrpps)\n",
    "virtual_ds_2021_1.virtualize.to_icechunk(store, append_dim='time')\n",
    "store.commit(f\"Wrote 2021-01-01-2021-02-19 to store.\")"
   ]
  },
  {
   "cell_type": "markdown",
   "id": "204aec7a-4821-44de-a9da-efeb9b9cc56b",
   "metadata": {},
   "source": [
    "## 17c. Write 2 special days as zarr"
   ]
  },
  {
   "cell_type": "code",
   "execution_count": null,
   "id": "44c09608-41c1-4bf8-b5ec-4d77d31bb06a",
   "metadata": {},
   "outputs": [],
   "source": [
    "# this takes about a minute and a lot of memory (nearly 40GB)\n",
    "problematic_files = helpers.list_mur_sst_files(start_date=\"2021-02-20\", end_date=\"2021-02-21\")\n",
    "ds = xr.open_mfdataset(\n",
    "    [fs.open(f) for f in problematic_files],\n",
    "    drop_variables=['dt_1km_data', 'sst_anomaly']\n",
    ")\n",
    "\n",
    "ds['analysed_sst'] = ds['analysed_sst'].chunk({'time': 1, 'lat': 1023, 'lon': 2047})\n",
    "ds['analysis_error'] = ds['analysis_error'].chunk({'time': 1, 'lat': 1023, 'lon': 2047})\n",
    "ds['mask'] = ds['mask'].chunk({'time': 1, 'lat': 1447, 'lon': 2895})\n",
    "ds['sea_ice_fraction'] = ds['sea_ice_fraction'].chunk({'time': 1, 'lat': 1447, 'lon': 2895})"
   ]
  },
  {
   "cell_type": "code",
   "execution_count": null,
   "id": "0b1b32b0-b326-45de-8eea-cf6e8d5d349b",
   "metadata": {},
   "outputs": [],
   "source": [
    "ds"
   ]
  },
  {
   "cell_type": "code",
   "execution_count": null,
   "id": "00f771b5-6b59-40d9-ba51-bf22869d15b7",
   "metadata": {},
   "outputs": [],
   "source": [
    "ds.to_zarr(store, append_dim='time')\n",
    "store.commit(f\"Wrote 2021-02-20 to 02-21 in zarr\")"
   ]
  },
  {
   "cell_type": "markdown",
   "id": "62df041f-3a56-46f7-bae8-02a18ef73129",
   "metadata": {},
   "source": [
    "## 17d. List files for 2021-02-22 to 2021-12-23"
   ]
  },
  {
   "cell_type": "code",
   "execution_count": null,
   "id": "317c2822-5a92-4ae2-a845-2718bb3e904f",
   "metadata": {},
   "outputs": [],
   "source": [
    "%%time\n",
    "dates = ['2021-02-22', '2021-12-23']\n",
    "mur_sst_files_2021_2 = helpers.list_mur_sst_files(start_date=dates[0], end_date=dates[1])\n",
    "mur_sst_files_2021_2_dmrpps = [f + '.dmrpp' for f in mur_sst_files_2021_2]"
   ]
  },
  {
   "cell_type": "code",
   "execution_count": null,
   "id": "4bab3b9a-08a6-4f39-b65b-2d8a04fb6ebc",
   "metadata": {},
   "outputs": [],
   "source": [
    "len(mur_sst_files_2021_2_dmrpps)"
   ]
  },
  {
   "cell_type": "markdown",
   "id": "c097ac9f-a344-4f02-a5ba-baae511f011a",
   "metadata": {},
   "source": [
    "## 17e. Write data"
   ]
  },
  {
   "cell_type": "code",
   "execution_count": null,
   "id": "477cd5ed-dc0d-4916-9a5b-491747b4039a",
   "metadata": {},
   "outputs": [],
   "source": [
    "%%time\n",
    "virtual_ds_2021_2 = helpers.create_virtual_ds(dmrpps=mur_sst_files_2021_2_dmrpps)\n",
    "virtual_ds_2021_2.virtualize.to_icechunk(store, append_dim='time')\n",
    "store.commit(f\"Wrote 2021-02-22 to 2021-12-23 to store.\")"
   ]
  },
  {
   "cell_type": "markdown",
   "id": "3b8abc48-ac58-4c7a-82f4-4816ec411ad8",
   "metadata": {},
   "source": [
    "## 17f. Write the rest of the days as Zarr"
   ]
  },
  {
   "cell_type": "code",
   "execution_count": null,
   "id": "8ff872e6-3b83-4c17-ad68-421c1aee9c9e",
   "metadata": {},
   "outputs": [],
   "source": [
    "problematic_files = helpers.list_mur_sst_files(start_date=\"2021-12-24\", end_date=\"2021-12-31\")\n",
    "ds = xr.open_mfdataset(\n",
    "    [fs.open(f) for f in problematic_files],\n",
    "    drop_variables=['dt_1km_data', 'sst_anomaly']\n",
    ")\n",
    "\n",
    "ds['analysed_sst'] = ds['analysed_sst'].chunk({'time': 1, 'lat': 1023, 'lon': 2047})\n",
    "ds['analysis_error'] = ds['analysis_error'].chunk({'time': 1, 'lat': 1023, 'lon': 2047})\n",
    "ds['mask'] = ds['mask'].chunk({'time': 1, 'lat': 1447, 'lon': 2895})\n",
    "ds['sea_ice_fraction'] = ds['sea_ice_fraction'].chunk({'time': 1, 'lat': 1447, 'lon': 2895})"
   ]
  },
  {
   "cell_type": "code",
   "execution_count": null,
   "id": "8c6b152f-87f8-4eb3-8461-36acd0dc86e7",
   "metadata": {},
   "outputs": [],
   "source": [
    "ds"
   ]
  },
  {
   "cell_type": "code",
   "execution_count": null,
   "id": "1863d8ba-2bdb-4bd1-ad9e-259db3c1a83a",
   "metadata": {},
   "outputs": [],
   "source": [
    "# %%time\n",
    "# # ds.to_zarr(store, append_dim='time')\n",
    "# # store.commit(f\"Wrote 2021-12-24 to 2021-12-31 in zarr\")"
   ]
  },
  {
   "cell_type": "markdown",
   "id": "8575c70a-7a8c-46fc-89fb-37ec883e650b",
   "metadata": {},
   "source": [
    "## 17*. Validate data"
   ]
  },
  {
   "cell_type": "code",
   "execution_count": null,
   "id": "26c94219-4c4f-4fff-aa86-0f86750518d2",
   "metadata": {},
   "outputs": [],
   "source": [
    "%%time\n",
    "dates = ['2021-01-01', '2021-12-31']\n",
    "helpers.validate_data(store, dates=dates, fs=fs)"
   ]
  },
  {
   "cell_type": "markdown",
   "id": "397b8033-2c31-42d9-ab63-747572d4b093",
   "metadata": {},
   "source": [
    "# Post-script: Checking the store and how long it takes to open it."
   ]
  },
  {
   "cell_type": "code",
   "execution_count": 4,
   "id": "e197fd1c-88d8-4b39-8201-878545b988bf",
   "metadata": {},
   "outputs": [
    {
     "name": "stdout",
     "output_type": "stream",
     "text": [
      "CPU times: user 24.1 s, sys: 7.69 s, total: 31.8 s\n",
      "Wall time: 2min 19s\n"
     ]
    }
   ],
   "source": [
    "%%time\n",
    "xds = xr.open_zarr(store, consolidated=False)"
   ]
  },
  {
   "cell_type": "code",
   "execution_count": 6,
   "id": "61310e70-00f1-4138-9279-74c8cfac97b9",
   "metadata": {},
   "outputs": [
    {
     "data": {
      "text/html": [
       "<div><svg style=\"position: absolute; width: 0; height: 0; overflow: hidden\">\n",
       "<defs>\n",
       "<symbol id=\"icon-database\" viewBox=\"0 0 32 32\">\n",
       "<path d=\"M16 0c-8.837 0-16 2.239-16 5v4c0 2.761 7.163 5 16 5s16-2.239 16-5v-4c0-2.761-7.163-5-16-5z\"></path>\n",
       "<path d=\"M16 17c-8.837 0-16-2.239-16-5v6c0 2.761 7.163 5 16 5s16-2.239 16-5v-6c0 2.761-7.163 5-16 5z\"></path>\n",
       "<path d=\"M16 26c-8.837 0-16-2.239-16-5v6c0 2.761 7.163 5 16 5s16-2.239 16-5v-6c0 2.761-7.163 5-16 5z\"></path>\n",
       "</symbol>\n",
       "<symbol id=\"icon-file-text2\" viewBox=\"0 0 32 32\">\n",
       "<path d=\"M28.681 7.159c-0.694-0.947-1.662-2.053-2.724-3.116s-2.169-2.030-3.116-2.724c-1.612-1.182-2.393-1.319-2.841-1.319h-15.5c-1.378 0-2.5 1.121-2.5 2.5v27c0 1.378 1.122 2.5 2.5 2.5h23c1.378 0 2.5-1.122 2.5-2.5v-19.5c0-0.448-0.137-1.23-1.319-2.841zM24.543 5.457c0.959 0.959 1.712 1.825 2.268 2.543h-4.811v-4.811c0.718 0.556 1.584 1.309 2.543 2.268zM28 29.5c0 0.271-0.229 0.5-0.5 0.5h-23c-0.271 0-0.5-0.229-0.5-0.5v-27c0-0.271 0.229-0.5 0.5-0.5 0 0 15.499-0 15.5 0v7c0 0.552 0.448 1 1 1h7v19.5z\"></path>\n",
       "<path d=\"M23 26h-14c-0.552 0-1-0.448-1-1s0.448-1 1-1h14c0.552 0 1 0.448 1 1s-0.448 1-1 1z\"></path>\n",
       "<path d=\"M23 22h-14c-0.552 0-1-0.448-1-1s0.448-1 1-1h14c0.552 0 1 0.448 1 1s-0.448 1-1 1z\"></path>\n",
       "<path d=\"M23 18h-14c-0.552 0-1-0.448-1-1s0.448-1 1-1h14c0.552 0 1 0.448 1 1s-0.448 1-1 1z\"></path>\n",
       "</symbol>\n",
       "</defs>\n",
       "</svg>\n",
       "<style>/* CSS stylesheet for displaying xarray objects in jupyterlab.\n",
       " *\n",
       " */\n",
       "\n",
       ":root {\n",
       "  --xr-font-color0: var(--jp-content-font-color0, rgba(0, 0, 0, 1));\n",
       "  --xr-font-color2: var(--jp-content-font-color2, rgba(0, 0, 0, 0.54));\n",
       "  --xr-font-color3: var(--jp-content-font-color3, rgba(0, 0, 0, 0.38));\n",
       "  --xr-border-color: var(--jp-border-color2, #e0e0e0);\n",
       "  --xr-disabled-color: var(--jp-layout-color3, #bdbdbd);\n",
       "  --xr-background-color: var(--jp-layout-color0, white);\n",
       "  --xr-background-color-row-even: var(--jp-layout-color1, white);\n",
       "  --xr-background-color-row-odd: var(--jp-layout-color2, #eeeeee);\n",
       "}\n",
       "\n",
       "html[theme=\"dark\"],\n",
       "html[data-theme=\"dark\"],\n",
       "body[data-theme=\"dark\"],\n",
       "body.vscode-dark {\n",
       "  --xr-font-color0: rgba(255, 255, 255, 1);\n",
       "  --xr-font-color2: rgba(255, 255, 255, 0.54);\n",
       "  --xr-font-color3: rgba(255, 255, 255, 0.38);\n",
       "  --xr-border-color: #1f1f1f;\n",
       "  --xr-disabled-color: #515151;\n",
       "  --xr-background-color: #111111;\n",
       "  --xr-background-color-row-even: #111111;\n",
       "  --xr-background-color-row-odd: #313131;\n",
       "}\n",
       "\n",
       ".xr-wrap {\n",
       "  display: block !important;\n",
       "  min-width: 300px;\n",
       "  max-width: 700px;\n",
       "}\n",
       "\n",
       ".xr-text-repr-fallback {\n",
       "  /* fallback to plain text repr when CSS is not injected (untrusted notebook) */\n",
       "  display: none;\n",
       "}\n",
       "\n",
       ".xr-header {\n",
       "  padding-top: 6px;\n",
       "  padding-bottom: 6px;\n",
       "  margin-bottom: 4px;\n",
       "  border-bottom: solid 1px var(--xr-border-color);\n",
       "}\n",
       "\n",
       ".xr-header > div,\n",
       ".xr-header > ul {\n",
       "  display: inline;\n",
       "  margin-top: 0;\n",
       "  margin-bottom: 0;\n",
       "}\n",
       "\n",
       ".xr-obj-type,\n",
       ".xr-array-name {\n",
       "  margin-left: 2px;\n",
       "  margin-right: 10px;\n",
       "}\n",
       "\n",
       ".xr-obj-type {\n",
       "  color: var(--xr-font-color2);\n",
       "}\n",
       "\n",
       ".xr-sections {\n",
       "  padding-left: 0 !important;\n",
       "  display: grid;\n",
       "  grid-template-columns: 150px auto auto 1fr 0 20px 0 20px;\n",
       "}\n",
       "\n",
       ".xr-section-item {\n",
       "  display: contents;\n",
       "}\n",
       "\n",
       ".xr-section-item input {\n",
       "  display: inline-block;\n",
       "  opacity: 0;\n",
       "  height: 0;\n",
       "}\n",
       "\n",
       ".xr-section-item input + label {\n",
       "  color: var(--xr-disabled-color);\n",
       "}\n",
       "\n",
       ".xr-section-item input:enabled + label {\n",
       "  cursor: pointer;\n",
       "  color: var(--xr-font-color2);\n",
       "}\n",
       "\n",
       ".xr-section-item input:focus + label {\n",
       "  border: 2px solid var(--xr-font-color0);\n",
       "}\n",
       "\n",
       ".xr-section-item input:enabled + label:hover {\n",
       "  color: var(--xr-font-color0);\n",
       "}\n",
       "\n",
       ".xr-section-summary {\n",
       "  grid-column: 1;\n",
       "  color: var(--xr-font-color2);\n",
       "  font-weight: 500;\n",
       "}\n",
       "\n",
       ".xr-section-summary > span {\n",
       "  display: inline-block;\n",
       "  padding-left: 0.5em;\n",
       "}\n",
       "\n",
       ".xr-section-summary-in:disabled + label {\n",
       "  color: var(--xr-font-color2);\n",
       "}\n",
       "\n",
       ".xr-section-summary-in + label:before {\n",
       "  display: inline-block;\n",
       "  content: \"►\";\n",
       "  font-size: 11px;\n",
       "  width: 15px;\n",
       "  text-align: center;\n",
       "}\n",
       "\n",
       ".xr-section-summary-in:disabled + label:before {\n",
       "  color: var(--xr-disabled-color);\n",
       "}\n",
       "\n",
       ".xr-section-summary-in:checked + label:before {\n",
       "  content: \"▼\";\n",
       "}\n",
       "\n",
       ".xr-section-summary-in:checked + label > span {\n",
       "  display: none;\n",
       "}\n",
       "\n",
       ".xr-section-summary,\n",
       ".xr-section-inline-details {\n",
       "  padding-top: 4px;\n",
       "  padding-bottom: 4px;\n",
       "}\n",
       "\n",
       ".xr-section-inline-details {\n",
       "  grid-column: 2 / -1;\n",
       "}\n",
       "\n",
       ".xr-section-details {\n",
       "  display: none;\n",
       "  grid-column: 1 / -1;\n",
       "  margin-bottom: 5px;\n",
       "}\n",
       "\n",
       ".xr-section-summary-in:checked ~ .xr-section-details {\n",
       "  display: contents;\n",
       "}\n",
       "\n",
       ".xr-array-wrap {\n",
       "  grid-column: 1 / -1;\n",
       "  display: grid;\n",
       "  grid-template-columns: 20px auto;\n",
       "}\n",
       "\n",
       ".xr-array-wrap > label {\n",
       "  grid-column: 1;\n",
       "  vertical-align: top;\n",
       "}\n",
       "\n",
       ".xr-preview {\n",
       "  color: var(--xr-font-color3);\n",
       "}\n",
       "\n",
       ".xr-array-preview,\n",
       ".xr-array-data {\n",
       "  padding: 0 5px !important;\n",
       "  grid-column: 2;\n",
       "}\n",
       "\n",
       ".xr-array-data,\n",
       ".xr-array-in:checked ~ .xr-array-preview {\n",
       "  display: none;\n",
       "}\n",
       "\n",
       ".xr-array-in:checked ~ .xr-array-data,\n",
       ".xr-array-preview {\n",
       "  display: inline-block;\n",
       "}\n",
       "\n",
       ".xr-dim-list {\n",
       "  display: inline-block !important;\n",
       "  list-style: none;\n",
       "  padding: 0 !important;\n",
       "  margin: 0;\n",
       "}\n",
       "\n",
       ".xr-dim-list li {\n",
       "  display: inline-block;\n",
       "  padding: 0;\n",
       "  margin: 0;\n",
       "}\n",
       "\n",
       ".xr-dim-list:before {\n",
       "  content: \"(\";\n",
       "}\n",
       "\n",
       ".xr-dim-list:after {\n",
       "  content: \")\";\n",
       "}\n",
       "\n",
       ".xr-dim-list li:not(:last-child):after {\n",
       "  content: \",\";\n",
       "  padding-right: 5px;\n",
       "}\n",
       "\n",
       ".xr-has-index {\n",
       "  font-weight: bold;\n",
       "}\n",
       "\n",
       ".xr-var-list,\n",
       ".xr-var-item {\n",
       "  display: contents;\n",
       "}\n",
       "\n",
       ".xr-var-item > div,\n",
       ".xr-var-item label,\n",
       ".xr-var-item > .xr-var-name span {\n",
       "  background-color: var(--xr-background-color-row-even);\n",
       "  margin-bottom: 0;\n",
       "}\n",
       "\n",
       ".xr-var-item > .xr-var-name:hover span {\n",
       "  padding-right: 5px;\n",
       "}\n",
       "\n",
       ".xr-var-list > li:nth-child(odd) > div,\n",
       ".xr-var-list > li:nth-child(odd) > label,\n",
       ".xr-var-list > li:nth-child(odd) > .xr-var-name span {\n",
       "  background-color: var(--xr-background-color-row-odd);\n",
       "}\n",
       "\n",
       ".xr-var-name {\n",
       "  grid-column: 1;\n",
       "}\n",
       "\n",
       ".xr-var-dims {\n",
       "  grid-column: 2;\n",
       "}\n",
       "\n",
       ".xr-var-dtype {\n",
       "  grid-column: 3;\n",
       "  text-align: right;\n",
       "  color: var(--xr-font-color2);\n",
       "}\n",
       "\n",
       ".xr-var-preview {\n",
       "  grid-column: 4;\n",
       "}\n",
       "\n",
       ".xr-index-preview {\n",
       "  grid-column: 2 / 5;\n",
       "  color: var(--xr-font-color2);\n",
       "}\n",
       "\n",
       ".xr-var-name,\n",
       ".xr-var-dims,\n",
       ".xr-var-dtype,\n",
       ".xr-preview,\n",
       ".xr-attrs dt {\n",
       "  white-space: nowrap;\n",
       "  overflow: hidden;\n",
       "  text-overflow: ellipsis;\n",
       "  padding-right: 10px;\n",
       "}\n",
       "\n",
       ".xr-var-name:hover,\n",
       ".xr-var-dims:hover,\n",
       ".xr-var-dtype:hover,\n",
       ".xr-attrs dt:hover {\n",
       "  overflow: visible;\n",
       "  width: auto;\n",
       "  z-index: 1;\n",
       "}\n",
       "\n",
       ".xr-var-attrs,\n",
       ".xr-var-data,\n",
       ".xr-index-data {\n",
       "  display: none;\n",
       "  background-color: var(--xr-background-color) !important;\n",
       "  padding-bottom: 5px !important;\n",
       "}\n",
       "\n",
       ".xr-var-attrs-in:checked ~ .xr-var-attrs,\n",
       ".xr-var-data-in:checked ~ .xr-var-data,\n",
       ".xr-index-data-in:checked ~ .xr-index-data {\n",
       "  display: block;\n",
       "}\n",
       "\n",
       ".xr-var-data > table {\n",
       "  float: right;\n",
       "}\n",
       "\n",
       ".xr-var-name span,\n",
       ".xr-var-data,\n",
       ".xr-index-name div,\n",
       ".xr-index-data,\n",
       ".xr-attrs {\n",
       "  padding-left: 25px !important;\n",
       "}\n",
       "\n",
       ".xr-attrs,\n",
       ".xr-var-attrs,\n",
       ".xr-var-data,\n",
       ".xr-index-data {\n",
       "  grid-column: 1 / -1;\n",
       "}\n",
       "\n",
       "dl.xr-attrs {\n",
       "  padding: 0;\n",
       "  margin: 0;\n",
       "  display: grid;\n",
       "  grid-template-columns: 125px auto;\n",
       "}\n",
       "\n",
       ".xr-attrs dt,\n",
       ".xr-attrs dd {\n",
       "  padding: 0;\n",
       "  margin: 0;\n",
       "  float: left;\n",
       "  padding-right: 10px;\n",
       "  width: auto;\n",
       "}\n",
       "\n",
       ".xr-attrs dt {\n",
       "  font-weight: normal;\n",
       "  grid-column: 1;\n",
       "}\n",
       "\n",
       ".xr-attrs dt:hover span {\n",
       "  display: inline-block;\n",
       "  background: var(--xr-background-color);\n",
       "  padding-right: 10px;\n",
       "}\n",
       "\n",
       ".xr-attrs dd {\n",
       "  grid-column: 2;\n",
       "  white-space: pre-wrap;\n",
       "  word-break: break-all;\n",
       "}\n",
       "\n",
       ".xr-icon-database,\n",
       ".xr-icon-file-text2,\n",
       ".xr-no-icon {\n",
       "  display: inline-block;\n",
       "  vertical-align: middle;\n",
       "  width: 1em;\n",
       "  height: 1.5em !important;\n",
       "  stroke-width: 0;\n",
       "  stroke: currentColor;\n",
       "  fill: currentColor;\n",
       "}\n",
       "</style><pre class='xr-text-repr-fallback'>&lt;xarray.Dataset&gt; Size: 130TB\n",
       "Dimensions:           (lat: 17999, time: 7148, lon: 36000)\n",
       "Coordinates:\n",
       "  * lat               (lat) float32 72kB -89.99 -89.98 -89.97 ... 89.98 89.99\n",
       "  * lon               (lon) float32 144kB -180.0 -180.0 -180.0 ... 180.0 180.0\n",
       "  * time              (time) datetime64[ns] 57kB 2002-06-01T09:00:00 ... 2021...\n",
       "Data variables:\n",
       "    sea_ice_fraction  (time, lat, lon) float64 37TB dask.array&lt;chunksize=(1, 1447, 2895), meta=np.ndarray&gt;\n",
       "    analysed_sst      (time, lat, lon) float64 37TB dask.array&lt;chunksize=(1, 1023, 2047), meta=np.ndarray&gt;\n",
       "    mask              (time, lat, lon) float32 19TB dask.array&lt;chunksize=(1, 1447, 2895), meta=np.ndarray&gt;\n",
       "    analysis_error    (time, lat, lon) float64 37TB dask.array&lt;chunksize=(1, 1023, 2047), meta=np.ndarray&gt;\n",
       "Attributes: (12/47)\n",
       "    Conventions:                CF-1.7\n",
       "    Metadata_Conventions:       Unidata Observation Dataset v1.0\n",
       "    acknowledgment:             Please acknowledge the use of these data with...\n",
       "    cdm_data_type:              grid\n",
       "    comment:                    MUR = &quot;Multi-scale Ultra-high Resolution&quot;\n",
       "    creator_email:              ghrsst@podaac.jpl.nasa.gov\n",
       "    ...                         ...\n",
       "    summary:                    A merged, multi-sensor L4 Foundation SST anal...\n",
       "    time_coverage_end:          20210222T210000Z\n",
       "    time_coverage_start:        20210221T210000Z\n",
       "    title:                      Daily MUR SST, Final product\n",
       "    uuid:                       27665bc0-d5fc-11e1-9b23-0800200c9a66\n",
       "    westernmost_longitude:      -180.0</pre><div class='xr-wrap' style='display:none'><div class='xr-header'><div class='xr-obj-type'>xarray.Dataset</div></div><ul class='xr-sections'><li class='xr-section-item'><input id='section-10050aab-a06b-4260-ab28-8d46c3f7a007' class='xr-section-summary-in' type='checkbox' disabled ><label for='section-10050aab-a06b-4260-ab28-8d46c3f7a007' class='xr-section-summary'  title='Expand/collapse section'>Dimensions:</label><div class='xr-section-inline-details'><ul class='xr-dim-list'><li><span class='xr-has-index'>lat</span>: 17999</li><li><span class='xr-has-index'>time</span>: 7148</li><li><span class='xr-has-index'>lon</span>: 36000</li></ul></div><div class='xr-section-details'></div></li><li class='xr-section-item'><input id='section-3417fe97-aa38-4b0d-889f-98043e26e786' class='xr-section-summary-in' type='checkbox'  checked><label for='section-3417fe97-aa38-4b0d-889f-98043e26e786' class='xr-section-summary' >Coordinates: <span>(3)</span></label><div class='xr-section-inline-details'></div><div class='xr-section-details'><ul class='xr-var-list'><li class='xr-var-item'><div class='xr-var-name'><span class='xr-has-index'>lat</span></div><div class='xr-var-dims'>(lat)</div><div class='xr-var-dtype'>float32</div><div class='xr-var-preview xr-preview'>-89.99 -89.98 ... 89.98 89.99</div><input id='attrs-0dbded6f-e7d7-4c9a-9adf-8d42a6129c92' class='xr-var-attrs-in' type='checkbox' ><label for='attrs-0dbded6f-e7d7-4c9a-9adf-8d42a6129c92' title='Show/Hide attributes'><svg class='icon xr-icon-file-text2'><use xlink:href='#icon-file-text2'></use></svg></label><input id='data-c0f2b83c-0e57-4250-b951-0dd891f573a8' class='xr-var-data-in' type='checkbox'><label for='data-c0f2b83c-0e57-4250-b951-0dd891f573a8' title='Show/Hide data repr'><svg class='icon xr-icon-database'><use xlink:href='#icon-database'></use></svg></label><div class='xr-var-attrs'><dl class='xr-attrs'><dt><span>axis :</span></dt><dd>Y</dd><dt><span>comment :</span></dt><dd>geolocations inherited from the input data without correction</dd><dt><span>long_name :</span></dt><dd>latitude</dd><dt><span>standard_name :</span></dt><dd>latitude</dd><dt><span>units :</span></dt><dd>degrees_north</dd><dt><span>valid_max :</span></dt><dd>90.0</dd><dt><span>valid_min :</span></dt><dd>-90.0</dd></dl></div><div class='xr-var-data'><pre>array([-89.99, -89.98, -89.97, ...,  89.97,  89.98,  89.99], dtype=float32)</pre></div></li><li class='xr-var-item'><div class='xr-var-name'><span class='xr-has-index'>lon</span></div><div class='xr-var-dims'>(lon)</div><div class='xr-var-dtype'>float32</div><div class='xr-var-preview xr-preview'>-180.0 -180.0 ... 180.0 180.0</div><input id='attrs-c3f5c345-5e69-4887-866c-ea9c4ec5c6e0' class='xr-var-attrs-in' type='checkbox' ><label for='attrs-c3f5c345-5e69-4887-866c-ea9c4ec5c6e0' title='Show/Hide attributes'><svg class='icon xr-icon-file-text2'><use xlink:href='#icon-file-text2'></use></svg></label><input id='data-2fa4980f-476b-4495-b278-07b76ee460e9' class='xr-var-data-in' type='checkbox'><label for='data-2fa4980f-476b-4495-b278-07b76ee460e9' title='Show/Hide data repr'><svg class='icon xr-icon-database'><use xlink:href='#icon-database'></use></svg></label><div class='xr-var-attrs'><dl class='xr-attrs'><dt><span>axis :</span></dt><dd>X</dd><dt><span>comment :</span></dt><dd>geolocations inherited from the input data without correction</dd><dt><span>long_name :</span></dt><dd>longitude</dd><dt><span>standard_name :</span></dt><dd>longitude</dd><dt><span>units :</span></dt><dd>degrees_east</dd><dt><span>valid_max :</span></dt><dd>180.0</dd><dt><span>valid_min :</span></dt><dd>-180.0</dd></dl></div><div class='xr-var-data'><pre>array([-179.99, -179.98, -179.97, ...,  179.98,  179.99,  180.  ],\n",
       "      dtype=float32)</pre></div></li><li class='xr-var-item'><div class='xr-var-name'><span class='xr-has-index'>time</span></div><div class='xr-var-dims'>(time)</div><div class='xr-var-dtype'>datetime64[ns]</div><div class='xr-var-preview xr-preview'>2002-06-01T09:00:00 ... 2021-12-...</div><input id='attrs-2d36f46b-2330-4ef8-aab5-41294e59c70d' class='xr-var-attrs-in' type='checkbox' ><label for='attrs-2d36f46b-2330-4ef8-aab5-41294e59c70d' title='Show/Hide attributes'><svg class='icon xr-icon-file-text2'><use xlink:href='#icon-file-text2'></use></svg></label><input id='data-352de593-da9a-4c44-91c7-ca51de1b7d8c' class='xr-var-data-in' type='checkbox'><label for='data-352de593-da9a-4c44-91c7-ca51de1b7d8c' title='Show/Hide data repr'><svg class='icon xr-icon-database'><use xlink:href='#icon-database'></use></svg></label><div class='xr-var-attrs'><dl class='xr-attrs'><dt><span>axis :</span></dt><dd>T</dd><dt><span>comment :</span></dt><dd>Nominal time of analyzed fields</dd><dt><span>long_name :</span></dt><dd>reference time of sst field</dd><dt><span>standard_name :</span></dt><dd>time</dd></dl></div><div class='xr-var-data'><pre>array([&#x27;2002-06-01T09:00:00.000000000&#x27;, &#x27;2002-06-02T09:00:00.000000000&#x27;,\n",
       "       &#x27;2002-06-03T09:00:00.000000000&#x27;, ..., &#x27;2021-12-21T09:00:00.000000000&#x27;,\n",
       "       &#x27;2021-12-22T09:00:00.000000000&#x27;, &#x27;2021-12-23T09:00:00.000000000&#x27;],\n",
       "      dtype=&#x27;datetime64[ns]&#x27;)</pre></div></li></ul></div></li><li class='xr-section-item'><input id='section-6dd3ddb2-e72f-448d-b0aa-5f6b8963cd5b' class='xr-section-summary-in' type='checkbox'  checked><label for='section-6dd3ddb2-e72f-448d-b0aa-5f6b8963cd5b' class='xr-section-summary' >Data variables: <span>(4)</span></label><div class='xr-section-inline-details'></div><div class='xr-section-details'><ul class='xr-var-list'><li class='xr-var-item'><div class='xr-var-name'><span>sea_ice_fraction</span></div><div class='xr-var-dims'>(time, lat, lon)</div><div class='xr-var-dtype'>float64</div><div class='xr-var-preview xr-preview'>dask.array&lt;chunksize=(1, 1447, 2895), meta=np.ndarray&gt;</div><input id='attrs-5c8f06a3-95f8-4908-ba15-b289b387062d' class='xr-var-attrs-in' type='checkbox' ><label for='attrs-5c8f06a3-95f8-4908-ba15-b289b387062d' title='Show/Hide attributes'><svg class='icon xr-icon-file-text2'><use xlink:href='#icon-file-text2'></use></svg></label><input id='data-58c50c7c-882f-42d1-9637-41b21e7bb8d4' class='xr-var-data-in' type='checkbox'><label for='data-58c50c7c-882f-42d1-9637-41b21e7bb8d4' title='Show/Hide data repr'><svg class='icon xr-icon-database'><use xlink:href='#icon-database'></use></svg></label><div class='xr-var-attrs'><dl class='xr-attrs'><dt><span>comment :</span></dt><dd>ice data interpolated by a nearest neighbor approach.</dd><dt><span>long_name :</span></dt><dd>sea ice area fraction</dd><dt><span>source :</span></dt><dd>EUMETSAT OSI-SAF, copyright EUMETSAT</dd><dt><span>standard_name :</span></dt><dd>sea ice area fraction</dd><dt><span>units :</span></dt><dd>fraction (between 0 and 1)</dd><dt><span>valid_max :</span></dt><dd>100</dd><dt><span>valid_min :</span></dt><dd>0</dd></dl></div><div class='xr-var-data'><table>\n",
       "    <tr>\n",
       "        <td>\n",
       "            <table style=\"border-collapse: collapse;\">\n",
       "                <thead>\n",
       "                    <tr>\n",
       "                        <td> </td>\n",
       "                        <th> Array </th>\n",
       "                        <th> Chunk </th>\n",
       "                    </tr>\n",
       "                </thead>\n",
       "                <tbody>\n",
       "                    \n",
       "                    <tr>\n",
       "                        <th> Bytes </th>\n",
       "                        <td> 33.70 TiB </td>\n",
       "                        <td> 31.96 MiB </td>\n",
       "                    </tr>\n",
       "                    \n",
       "                    <tr>\n",
       "                        <th> Shape </th>\n",
       "                        <td> (7148, 17999, 36000) </td>\n",
       "                        <td> (1, 1447, 2895) </td>\n",
       "                    </tr>\n",
       "                    <tr>\n",
       "                        <th> Dask graph </th>\n",
       "                        <td colspan=\"2\"> 1208012 chunks in 2 graph layers </td>\n",
       "                    </tr>\n",
       "                    <tr>\n",
       "                        <th> Data type </th>\n",
       "                        <td colspan=\"2\"> float64 numpy.ndarray </td>\n",
       "                    </tr>\n",
       "                </tbody>\n",
       "            </table>\n",
       "        </td>\n",
       "        <td>\n",
       "        <svg width=\"204\" height=\"134\" style=\"stroke:rgb(0,0,0);stroke-width:1\" >\n",
       "\n",
       "  <!-- Horizontal lines -->\n",
       "  <line x1=\"10\" y1=\"0\" x2=\"34\" y2=\"24\" style=\"stroke-width:2\" />\n",
       "  <line x1=\"10\" y1=\"4\" x2=\"34\" y2=\"29\" />\n",
       "  <line x1=\"10\" y1=\"9\" x2=\"34\" y2=\"34\" />\n",
       "  <line x1=\"10\" y1=\"14\" x2=\"34\" y2=\"39\" />\n",
       "  <line x1=\"10\" y1=\"19\" x2=\"34\" y2=\"43\" />\n",
       "  <line x1=\"10\" y1=\"24\" x2=\"34\" y2=\"48\" />\n",
       "  <line x1=\"10\" y1=\"28\" x2=\"34\" y2=\"53\" />\n",
       "  <line x1=\"10\" y1=\"33\" x2=\"34\" y2=\"58\" />\n",
       "  <line x1=\"10\" y1=\"38\" x2=\"34\" y2=\"63\" />\n",
       "  <line x1=\"10\" y1=\"43\" x2=\"34\" y2=\"68\" />\n",
       "  <line x1=\"10\" y1=\"48\" x2=\"34\" y2=\"72\" />\n",
       "  <line x1=\"10\" y1=\"53\" x2=\"34\" y2=\"77\" />\n",
       "  <line x1=\"10\" y1=\"57\" x2=\"34\" y2=\"82\" />\n",
       "  <line x1=\"10\" y1=\"59\" x2=\"34\" y2=\"84\" style=\"stroke-width:2\" />\n",
       "\n",
       "  <!-- Vertical lines -->\n",
       "  <line x1=\"10\" y1=\"0\" x2=\"10\" y2=\"59\" style=\"stroke-width:2\" />\n",
       "  <line x1=\"11\" y1=\"1\" x2=\"11\" y2=\"61\" />\n",
       "  <line x1=\"12\" y1=\"2\" x2=\"12\" y2=\"62\" />\n",
       "  <line x1=\"13\" y1=\"3\" x2=\"13\" y2=\"63\" />\n",
       "  <line x1=\"15\" y1=\"5\" x2=\"15\" y2=\"65\" />\n",
       "  <line x1=\"16\" y1=\"6\" x2=\"16\" y2=\"66\" />\n",
       "  <line x1=\"17\" y1=\"7\" x2=\"17\" y2=\"67\" />\n",
       "  <line x1=\"19\" y1=\"9\" x2=\"19\" y2=\"69\" />\n",
       "  <line x1=\"20\" y1=\"10\" x2=\"20\" y2=\"70\" />\n",
       "  <line x1=\"21\" y1=\"11\" x2=\"21\" y2=\"71\" />\n",
       "  <line x1=\"22\" y1=\"12\" x2=\"22\" y2=\"72\" />\n",
       "  <line x1=\"24\" y1=\"14\" x2=\"24\" y2=\"74\" />\n",
       "  <line x1=\"25\" y1=\"15\" x2=\"25\" y2=\"75\" />\n",
       "  <line x1=\"26\" y1=\"16\" x2=\"26\" y2=\"76\" />\n",
       "  <line x1=\"28\" y1=\"18\" x2=\"28\" y2=\"78\" />\n",
       "  <line x1=\"29\" y1=\"19\" x2=\"29\" y2=\"79\" />\n",
       "  <line x1=\"30\" y1=\"20\" x2=\"30\" y2=\"80\" />\n",
       "  <line x1=\"32\" y1=\"22\" x2=\"32\" y2=\"82\" />\n",
       "  <line x1=\"33\" y1=\"23\" x2=\"33\" y2=\"83\" />\n",
       "  <line x1=\"34\" y1=\"24\" x2=\"34\" y2=\"84\" style=\"stroke-width:2\" />\n",
       "\n",
       "  <!-- Colored Rectangle -->\n",
       "  <polygon points=\"10.0,0.0 34.69364749981231,24.693647499812307 34.69364749981231,84.69031416647897 10.0,59.99666666666667\" style=\"fill:#8B4903A0;stroke-width:0\"/>\n",
       "\n",
       "  <!-- Horizontal lines -->\n",
       "  <line x1=\"10\" y1=\"0\" x2=\"130\" y2=\"0\" style=\"stroke-width:2\" />\n",
       "  <line x1=\"11\" y1=\"1\" x2=\"131\" y2=\"1\" />\n",
       "  <line x1=\"12\" y1=\"2\" x2=\"132\" y2=\"2\" />\n",
       "  <line x1=\"13\" y1=\"3\" x2=\"133\" y2=\"3\" />\n",
       "  <line x1=\"15\" y1=\"5\" x2=\"135\" y2=\"5\" />\n",
       "  <line x1=\"16\" y1=\"6\" x2=\"136\" y2=\"6\" />\n",
       "  <line x1=\"17\" y1=\"7\" x2=\"137\" y2=\"7\" />\n",
       "  <line x1=\"19\" y1=\"9\" x2=\"139\" y2=\"9\" />\n",
       "  <line x1=\"20\" y1=\"10\" x2=\"140\" y2=\"10\" />\n",
       "  <line x1=\"21\" y1=\"11\" x2=\"141\" y2=\"11\" />\n",
       "  <line x1=\"22\" y1=\"12\" x2=\"142\" y2=\"12\" />\n",
       "  <line x1=\"24\" y1=\"14\" x2=\"144\" y2=\"14\" />\n",
       "  <line x1=\"25\" y1=\"15\" x2=\"145\" y2=\"15\" />\n",
       "  <line x1=\"26\" y1=\"16\" x2=\"146\" y2=\"16\" />\n",
       "  <line x1=\"28\" y1=\"18\" x2=\"148\" y2=\"18\" />\n",
       "  <line x1=\"29\" y1=\"19\" x2=\"149\" y2=\"19\" />\n",
       "  <line x1=\"30\" y1=\"20\" x2=\"150\" y2=\"20\" />\n",
       "  <line x1=\"32\" y1=\"22\" x2=\"152\" y2=\"22\" />\n",
       "  <line x1=\"33\" y1=\"23\" x2=\"153\" y2=\"23\" />\n",
       "  <line x1=\"34\" y1=\"24\" x2=\"154\" y2=\"24\" style=\"stroke-width:2\" />\n",
       "\n",
       "  <!-- Vertical lines -->\n",
       "  <line x1=\"10\" y1=\"0\" x2=\"34\" y2=\"24\" style=\"stroke-width:2\" />\n",
       "  <line x1=\"19\" y1=\"0\" x2=\"44\" y2=\"24\" />\n",
       "  <line x1=\"29\" y1=\"0\" x2=\"53\" y2=\"24\" />\n",
       "  <line x1=\"38\" y1=\"0\" x2=\"63\" y2=\"24\" />\n",
       "  <line x1=\"48\" y1=\"0\" x2=\"73\" y2=\"24\" />\n",
       "  <line x1=\"58\" y1=\"0\" x2=\"82\" y2=\"24\" />\n",
       "  <line x1=\"67\" y1=\"0\" x2=\"92\" y2=\"24\" />\n",
       "  <line x1=\"77\" y1=\"0\" x2=\"102\" y2=\"24\" />\n",
       "  <line x1=\"87\" y1=\"0\" x2=\"111\" y2=\"24\" />\n",
       "  <line x1=\"96\" y1=\"0\" x2=\"121\" y2=\"24\" />\n",
       "  <line x1=\"106\" y1=\"0\" x2=\"131\" y2=\"24\" />\n",
       "  <line x1=\"116\" y1=\"0\" x2=\"140\" y2=\"24\" />\n",
       "  <line x1=\"125\" y1=\"0\" x2=\"150\" y2=\"24\" />\n",
       "  <line x1=\"130\" y1=\"0\" x2=\"154\" y2=\"24\" style=\"stroke-width:2\" />\n",
       "\n",
       "  <!-- Colored Rectangle -->\n",
       "  <polygon points=\"10.0,0.0 130.0,0.0 154.6936474998123,24.693647499812307 34.69364749981231,24.693647499812307\" style=\"fill:#8B4903A0;stroke-width:0\"/>\n",
       "\n",
       "  <!-- Horizontal lines -->\n",
       "  <line x1=\"34\" y1=\"24\" x2=\"154\" y2=\"24\" style=\"stroke-width:2\" />\n",
       "  <line x1=\"34\" y1=\"29\" x2=\"154\" y2=\"29\" />\n",
       "  <line x1=\"34\" y1=\"34\" x2=\"154\" y2=\"34\" />\n",
       "  <line x1=\"34\" y1=\"39\" x2=\"154\" y2=\"39\" />\n",
       "  <line x1=\"34\" y1=\"43\" x2=\"154\" y2=\"43\" />\n",
       "  <line x1=\"34\" y1=\"48\" x2=\"154\" y2=\"48\" />\n",
       "  <line x1=\"34\" y1=\"53\" x2=\"154\" y2=\"53\" />\n",
       "  <line x1=\"34\" y1=\"58\" x2=\"154\" y2=\"58\" />\n",
       "  <line x1=\"34\" y1=\"63\" x2=\"154\" y2=\"63\" />\n",
       "  <line x1=\"34\" y1=\"68\" x2=\"154\" y2=\"68\" />\n",
       "  <line x1=\"34\" y1=\"72\" x2=\"154\" y2=\"72\" />\n",
       "  <line x1=\"34\" y1=\"77\" x2=\"154\" y2=\"77\" />\n",
       "  <line x1=\"34\" y1=\"82\" x2=\"154\" y2=\"82\" />\n",
       "  <line x1=\"34\" y1=\"84\" x2=\"154\" y2=\"84\" style=\"stroke-width:2\" />\n",
       "\n",
       "  <!-- Vertical lines -->\n",
       "  <line x1=\"34\" y1=\"24\" x2=\"34\" y2=\"84\" style=\"stroke-width:2\" />\n",
       "  <line x1=\"44\" y1=\"24\" x2=\"44\" y2=\"84\" />\n",
       "  <line x1=\"53\" y1=\"24\" x2=\"53\" y2=\"84\" />\n",
       "  <line x1=\"63\" y1=\"24\" x2=\"63\" y2=\"84\" />\n",
       "  <line x1=\"73\" y1=\"24\" x2=\"73\" y2=\"84\" />\n",
       "  <line x1=\"82\" y1=\"24\" x2=\"82\" y2=\"84\" />\n",
       "  <line x1=\"92\" y1=\"24\" x2=\"92\" y2=\"84\" />\n",
       "  <line x1=\"102\" y1=\"24\" x2=\"102\" y2=\"84\" />\n",
       "  <line x1=\"111\" y1=\"24\" x2=\"111\" y2=\"84\" />\n",
       "  <line x1=\"121\" y1=\"24\" x2=\"121\" y2=\"84\" />\n",
       "  <line x1=\"131\" y1=\"24\" x2=\"131\" y2=\"84\" />\n",
       "  <line x1=\"140\" y1=\"24\" x2=\"140\" y2=\"84\" />\n",
       "  <line x1=\"150\" y1=\"24\" x2=\"150\" y2=\"84\" />\n",
       "  <line x1=\"154\" y1=\"24\" x2=\"154\" y2=\"84\" style=\"stroke-width:2\" />\n",
       "\n",
       "  <!-- Colored Rectangle -->\n",
       "  <polygon points=\"34.69364749981231,24.693647499812307 154.6936474998123,24.693647499812307 154.6936474998123,84.69031416647897 34.69364749981231,84.69031416647897\" style=\"fill:#ECB172A0;stroke-width:0\"/>\n",
       "\n",
       "  <!-- Text -->\n",
       "  <text x=\"94.693647\" y=\"104.690314\" font-size=\"1.0rem\" font-weight=\"100\" text-anchor=\"middle\" >36000</text>\n",
       "  <text x=\"174.693647\" y=\"54.691981\" font-size=\"1.0rem\" font-weight=\"100\" text-anchor=\"middle\" transform=\"rotate(-90,174.693647,54.691981)\">17999</text>\n",
       "  <text x=\"12.346824\" y=\"92.343490\" font-size=\"1.0rem\" font-weight=\"100\" text-anchor=\"middle\" transform=\"rotate(45,12.346824,92.343490)\">7148</text>\n",
       "</svg>\n",
       "        </td>\n",
       "    </tr>\n",
       "</table></div></li><li class='xr-var-item'><div class='xr-var-name'><span>analysed_sst</span></div><div class='xr-var-dims'>(time, lat, lon)</div><div class='xr-var-dtype'>float64</div><div class='xr-var-preview xr-preview'>dask.array&lt;chunksize=(1, 1023, 2047), meta=np.ndarray&gt;</div><input id='attrs-bfdfe23f-1fa3-439f-8db0-7c679f2ea881' class='xr-var-attrs-in' type='checkbox' ><label for='attrs-bfdfe23f-1fa3-439f-8db0-7c679f2ea881' title='Show/Hide attributes'><svg class='icon xr-icon-file-text2'><use xlink:href='#icon-file-text2'></use></svg></label><input id='data-583c4bdf-4d8d-490d-b62a-043c6ec25567' class='xr-var-data-in' type='checkbox'><label for='data-583c4bdf-4d8d-490d-b62a-043c6ec25567' title='Show/Hide data repr'><svg class='icon xr-icon-database'><use xlink:href='#icon-database'></use></svg></label><div class='xr-var-attrs'><dl class='xr-attrs'><dt><span>comment :</span></dt><dd>&quot;Final&quot; version using Multi-Resolution Variational Analysis (MRVA) method for interpolation</dd><dt><span>long_name :</span></dt><dd>analysed sea surface temperature</dd><dt><span>source :</span></dt><dd>AMSRE-REMSS, AVHRR_Pathfinder-PFV5.2-NODC_day, AVHRR_Pathfinder-PFV5.2-NODC_night, MODIS_T-JPL, iQUAM-NOAA/NESDIS, Ice_Conc-OSISAF</dd><dt><span>standard_name :</span></dt><dd>sea_surface_foundation_temperature</dd><dt><span>units :</span></dt><dd>kelvin</dd><dt><span>valid_max :</span></dt><dd>32767</dd><dt><span>valid_min :</span></dt><dd>-32767</dd></dl></div><div class='xr-var-data'><table>\n",
       "    <tr>\n",
       "        <td>\n",
       "            <table style=\"border-collapse: collapse;\">\n",
       "                <thead>\n",
       "                    <tr>\n",
       "                        <td> </td>\n",
       "                        <th> Array </th>\n",
       "                        <th> Chunk </th>\n",
       "                    </tr>\n",
       "                </thead>\n",
       "                <tbody>\n",
       "                    \n",
       "                    <tr>\n",
       "                        <th> Bytes </th>\n",
       "                        <td> 33.70 TiB </td>\n",
       "                        <td> 15.98 MiB </td>\n",
       "                    </tr>\n",
       "                    \n",
       "                    <tr>\n",
       "                        <th> Shape </th>\n",
       "                        <td> (7148, 17999, 36000) </td>\n",
       "                        <td> (1, 1023, 2047) </td>\n",
       "                    </tr>\n",
       "                    <tr>\n",
       "                        <th> Dask graph </th>\n",
       "                        <td colspan=\"2\"> 2315952 chunks in 2 graph layers </td>\n",
       "                    </tr>\n",
       "                    <tr>\n",
       "                        <th> Data type </th>\n",
       "                        <td colspan=\"2\"> float64 numpy.ndarray </td>\n",
       "                    </tr>\n",
       "                </tbody>\n",
       "            </table>\n",
       "        </td>\n",
       "        <td>\n",
       "        <svg width=\"204\" height=\"134\" style=\"stroke:rgb(0,0,0);stroke-width:1\" >\n",
       "\n",
       "  <!-- Horizontal lines -->\n",
       "  <line x1=\"10\" y1=\"0\" x2=\"34\" y2=\"24\" style=\"stroke-width:2\" />\n",
       "  <line x1=\"10\" y1=\"3\" x2=\"34\" y2=\"28\" />\n",
       "  <line x1=\"10\" y1=\"6\" x2=\"34\" y2=\"31\" />\n",
       "  <line x1=\"10\" y1=\"10\" x2=\"34\" y2=\"34\" />\n",
       "  <line x1=\"10\" y1=\"13\" x2=\"34\" y2=\"38\" />\n",
       "  <line x1=\"10\" y1=\"17\" x2=\"34\" y2=\"41\" />\n",
       "  <line x1=\"10\" y1=\"20\" x2=\"34\" y2=\"45\" />\n",
       "  <line x1=\"10\" y1=\"23\" x2=\"34\" y2=\"48\" />\n",
       "  <line x1=\"10\" y1=\"27\" x2=\"34\" y2=\"51\" />\n",
       "  <line x1=\"10\" y1=\"30\" x2=\"34\" y2=\"55\" />\n",
       "  <line x1=\"10\" y1=\"34\" x2=\"34\" y2=\"58\" />\n",
       "  <line x1=\"10\" y1=\"37\" x2=\"34\" y2=\"62\" />\n",
       "  <line x1=\"10\" y1=\"40\" x2=\"34\" y2=\"65\" />\n",
       "  <line x1=\"10\" y1=\"44\" x2=\"34\" y2=\"69\" />\n",
       "  <line x1=\"10\" y1=\"47\" x2=\"34\" y2=\"72\" />\n",
       "  <line x1=\"10\" y1=\"51\" x2=\"34\" y2=\"75\" />\n",
       "  <line x1=\"10\" y1=\"54\" x2=\"34\" y2=\"79\" />\n",
       "  <line x1=\"10\" y1=\"57\" x2=\"34\" y2=\"82\" />\n",
       "  <line x1=\"10\" y1=\"59\" x2=\"34\" y2=\"84\" style=\"stroke-width:2\" />\n",
       "\n",
       "  <!-- Vertical lines -->\n",
       "  <line x1=\"10\" y1=\"0\" x2=\"10\" y2=\"59\" style=\"stroke-width:2\" />\n",
       "  <line x1=\"11\" y1=\"1\" x2=\"11\" y2=\"61\" />\n",
       "  <line x1=\"12\" y1=\"2\" x2=\"12\" y2=\"62\" />\n",
       "  <line x1=\"13\" y1=\"3\" x2=\"13\" y2=\"63\" />\n",
       "  <line x1=\"15\" y1=\"5\" x2=\"15\" y2=\"65\" />\n",
       "  <line x1=\"16\" y1=\"6\" x2=\"16\" y2=\"66\" />\n",
       "  <line x1=\"17\" y1=\"7\" x2=\"17\" y2=\"67\" />\n",
       "  <line x1=\"19\" y1=\"9\" x2=\"19\" y2=\"69\" />\n",
       "  <line x1=\"20\" y1=\"10\" x2=\"20\" y2=\"70\" />\n",
       "  <line x1=\"21\" y1=\"11\" x2=\"21\" y2=\"71\" />\n",
       "  <line x1=\"22\" y1=\"12\" x2=\"22\" y2=\"72\" />\n",
       "  <line x1=\"24\" y1=\"14\" x2=\"24\" y2=\"74\" />\n",
       "  <line x1=\"25\" y1=\"15\" x2=\"25\" y2=\"75\" />\n",
       "  <line x1=\"26\" y1=\"16\" x2=\"26\" y2=\"76\" />\n",
       "  <line x1=\"28\" y1=\"18\" x2=\"28\" y2=\"78\" />\n",
       "  <line x1=\"29\" y1=\"19\" x2=\"29\" y2=\"79\" />\n",
       "  <line x1=\"30\" y1=\"20\" x2=\"30\" y2=\"80\" />\n",
       "  <line x1=\"32\" y1=\"22\" x2=\"32\" y2=\"82\" />\n",
       "  <line x1=\"33\" y1=\"23\" x2=\"33\" y2=\"83\" />\n",
       "  <line x1=\"34\" y1=\"24\" x2=\"34\" y2=\"84\" style=\"stroke-width:2\" />\n",
       "\n",
       "  <!-- Colored Rectangle -->\n",
       "  <polygon points=\"10.0,0.0 34.69364749981231,24.693647499812307 34.69364749981231,84.69031416647897 10.0,59.99666666666667\" style=\"fill:#8B4903A0;stroke-width:0\"/>\n",
       "\n",
       "  <!-- Horizontal lines -->\n",
       "  <line x1=\"10\" y1=\"0\" x2=\"130\" y2=\"0\" style=\"stroke-width:2\" />\n",
       "  <line x1=\"11\" y1=\"1\" x2=\"131\" y2=\"1\" />\n",
       "  <line x1=\"12\" y1=\"2\" x2=\"132\" y2=\"2\" />\n",
       "  <line x1=\"13\" y1=\"3\" x2=\"133\" y2=\"3\" />\n",
       "  <line x1=\"15\" y1=\"5\" x2=\"135\" y2=\"5\" />\n",
       "  <line x1=\"16\" y1=\"6\" x2=\"136\" y2=\"6\" />\n",
       "  <line x1=\"17\" y1=\"7\" x2=\"137\" y2=\"7\" />\n",
       "  <line x1=\"19\" y1=\"9\" x2=\"139\" y2=\"9\" />\n",
       "  <line x1=\"20\" y1=\"10\" x2=\"140\" y2=\"10\" />\n",
       "  <line x1=\"21\" y1=\"11\" x2=\"141\" y2=\"11\" />\n",
       "  <line x1=\"22\" y1=\"12\" x2=\"142\" y2=\"12\" />\n",
       "  <line x1=\"24\" y1=\"14\" x2=\"144\" y2=\"14\" />\n",
       "  <line x1=\"25\" y1=\"15\" x2=\"145\" y2=\"15\" />\n",
       "  <line x1=\"26\" y1=\"16\" x2=\"146\" y2=\"16\" />\n",
       "  <line x1=\"28\" y1=\"18\" x2=\"148\" y2=\"18\" />\n",
       "  <line x1=\"29\" y1=\"19\" x2=\"149\" y2=\"19\" />\n",
       "  <line x1=\"30\" y1=\"20\" x2=\"150\" y2=\"20\" />\n",
       "  <line x1=\"32\" y1=\"22\" x2=\"152\" y2=\"22\" />\n",
       "  <line x1=\"33\" y1=\"23\" x2=\"153\" y2=\"23\" />\n",
       "  <line x1=\"34\" y1=\"24\" x2=\"154\" y2=\"24\" style=\"stroke-width:2\" />\n",
       "\n",
       "  <!-- Vertical lines -->\n",
       "  <line x1=\"10\" y1=\"0\" x2=\"34\" y2=\"24\" style=\"stroke-width:2\" />\n",
       "  <line x1=\"16\" y1=\"0\" x2=\"41\" y2=\"24\" />\n",
       "  <line x1=\"23\" y1=\"0\" x2=\"48\" y2=\"24\" />\n",
       "  <line x1=\"30\" y1=\"0\" x2=\"55\" y2=\"24\" />\n",
       "  <line x1=\"37\" y1=\"0\" x2=\"61\" y2=\"24\" />\n",
       "  <line x1=\"44\" y1=\"0\" x2=\"68\" y2=\"24\" />\n",
       "  <line x1=\"50\" y1=\"0\" x2=\"75\" y2=\"24\" />\n",
       "  <line x1=\"57\" y1=\"0\" x2=\"82\" y2=\"24\" />\n",
       "  <line x1=\"64\" y1=\"0\" x2=\"89\" y2=\"24\" />\n",
       "  <line x1=\"71\" y1=\"0\" x2=\"96\" y2=\"24\" />\n",
       "  <line x1=\"78\" y1=\"0\" x2=\"102\" y2=\"24\" />\n",
       "  <line x1=\"85\" y1=\"0\" x2=\"109\" y2=\"24\" />\n",
       "  <line x1=\"91\" y1=\"0\" x2=\"116\" y2=\"24\" />\n",
       "  <line x1=\"98\" y1=\"0\" x2=\"123\" y2=\"24\" />\n",
       "  <line x1=\"105\" y1=\"0\" x2=\"130\" y2=\"24\" />\n",
       "  <line x1=\"112\" y1=\"0\" x2=\"137\" y2=\"24\" />\n",
       "  <line x1=\"119\" y1=\"0\" x2=\"143\" y2=\"24\" />\n",
       "  <line x1=\"125\" y1=\"0\" x2=\"150\" y2=\"24\" />\n",
       "  <line x1=\"130\" y1=\"0\" x2=\"154\" y2=\"24\" style=\"stroke-width:2\" />\n",
       "\n",
       "  <!-- Colored Rectangle -->\n",
       "  <polygon points=\"10.0,0.0 130.0,0.0 154.6936474998123,24.693647499812307 34.69364749981231,24.693647499812307\" style=\"fill:#8B4903A0;stroke-width:0\"/>\n",
       "\n",
       "  <!-- Horizontal lines -->\n",
       "  <line x1=\"34\" y1=\"24\" x2=\"154\" y2=\"24\" style=\"stroke-width:2\" />\n",
       "  <line x1=\"34\" y1=\"28\" x2=\"154\" y2=\"28\" />\n",
       "  <line x1=\"34\" y1=\"31\" x2=\"154\" y2=\"31\" />\n",
       "  <line x1=\"34\" y1=\"34\" x2=\"154\" y2=\"34\" />\n",
       "  <line x1=\"34\" y1=\"38\" x2=\"154\" y2=\"38\" />\n",
       "  <line x1=\"34\" y1=\"41\" x2=\"154\" y2=\"41\" />\n",
       "  <line x1=\"34\" y1=\"45\" x2=\"154\" y2=\"45\" />\n",
       "  <line x1=\"34\" y1=\"48\" x2=\"154\" y2=\"48\" />\n",
       "  <line x1=\"34\" y1=\"51\" x2=\"154\" y2=\"51\" />\n",
       "  <line x1=\"34\" y1=\"55\" x2=\"154\" y2=\"55\" />\n",
       "  <line x1=\"34\" y1=\"58\" x2=\"154\" y2=\"58\" />\n",
       "  <line x1=\"34\" y1=\"62\" x2=\"154\" y2=\"62\" />\n",
       "  <line x1=\"34\" y1=\"65\" x2=\"154\" y2=\"65\" />\n",
       "  <line x1=\"34\" y1=\"69\" x2=\"154\" y2=\"69\" />\n",
       "  <line x1=\"34\" y1=\"72\" x2=\"154\" y2=\"72\" />\n",
       "  <line x1=\"34\" y1=\"75\" x2=\"154\" y2=\"75\" />\n",
       "  <line x1=\"34\" y1=\"79\" x2=\"154\" y2=\"79\" />\n",
       "  <line x1=\"34\" y1=\"82\" x2=\"154\" y2=\"82\" />\n",
       "  <line x1=\"34\" y1=\"84\" x2=\"154\" y2=\"84\" style=\"stroke-width:2\" />\n",
       "\n",
       "  <!-- Vertical lines -->\n",
       "  <line x1=\"34\" y1=\"24\" x2=\"34\" y2=\"84\" style=\"stroke-width:2\" />\n",
       "  <line x1=\"41\" y1=\"24\" x2=\"41\" y2=\"84\" />\n",
       "  <line x1=\"48\" y1=\"24\" x2=\"48\" y2=\"84\" />\n",
       "  <line x1=\"55\" y1=\"24\" x2=\"55\" y2=\"84\" />\n",
       "  <line x1=\"61\" y1=\"24\" x2=\"61\" y2=\"84\" />\n",
       "  <line x1=\"68\" y1=\"24\" x2=\"68\" y2=\"84\" />\n",
       "  <line x1=\"75\" y1=\"24\" x2=\"75\" y2=\"84\" />\n",
       "  <line x1=\"82\" y1=\"24\" x2=\"82\" y2=\"84\" />\n",
       "  <line x1=\"89\" y1=\"24\" x2=\"89\" y2=\"84\" />\n",
       "  <line x1=\"96\" y1=\"24\" x2=\"96\" y2=\"84\" />\n",
       "  <line x1=\"102\" y1=\"24\" x2=\"102\" y2=\"84\" />\n",
       "  <line x1=\"109\" y1=\"24\" x2=\"109\" y2=\"84\" />\n",
       "  <line x1=\"116\" y1=\"24\" x2=\"116\" y2=\"84\" />\n",
       "  <line x1=\"123\" y1=\"24\" x2=\"123\" y2=\"84\" />\n",
       "  <line x1=\"130\" y1=\"24\" x2=\"130\" y2=\"84\" />\n",
       "  <line x1=\"137\" y1=\"24\" x2=\"137\" y2=\"84\" />\n",
       "  <line x1=\"143\" y1=\"24\" x2=\"143\" y2=\"84\" />\n",
       "  <line x1=\"150\" y1=\"24\" x2=\"150\" y2=\"84\" />\n",
       "  <line x1=\"154\" y1=\"24\" x2=\"154\" y2=\"84\" style=\"stroke-width:2\" />\n",
       "\n",
       "  <!-- Colored Rectangle -->\n",
       "  <polygon points=\"34.69364749981231,24.693647499812307 154.6936474998123,24.693647499812307 154.6936474998123,84.69031416647897 34.69364749981231,84.69031416647897\" style=\"fill:#ECB172A0;stroke-width:0\"/>\n",
       "\n",
       "  <!-- Text -->\n",
       "  <text x=\"94.693647\" y=\"104.690314\" font-size=\"1.0rem\" font-weight=\"100\" text-anchor=\"middle\" >36000</text>\n",
       "  <text x=\"174.693647\" y=\"54.691981\" font-size=\"1.0rem\" font-weight=\"100\" text-anchor=\"middle\" transform=\"rotate(-90,174.693647,54.691981)\">17999</text>\n",
       "  <text x=\"12.346824\" y=\"92.343490\" font-size=\"1.0rem\" font-weight=\"100\" text-anchor=\"middle\" transform=\"rotate(45,12.346824,92.343490)\">7148</text>\n",
       "</svg>\n",
       "        </td>\n",
       "    </tr>\n",
       "</table></div></li><li class='xr-var-item'><div class='xr-var-name'><span>mask</span></div><div class='xr-var-dims'>(time, lat, lon)</div><div class='xr-var-dtype'>float32</div><div class='xr-var-preview xr-preview'>dask.array&lt;chunksize=(1, 1447, 2895), meta=np.ndarray&gt;</div><input id='attrs-316351d5-db09-41ca-9715-9f89a80d2454' class='xr-var-attrs-in' type='checkbox' ><label for='attrs-316351d5-db09-41ca-9715-9f89a80d2454' title='Show/Hide attributes'><svg class='icon xr-icon-file-text2'><use xlink:href='#icon-file-text2'></use></svg></label><input id='data-35d8a625-52fb-4df7-bf32-5886883430a4' class='xr-var-data-in' type='checkbox'><label for='data-35d8a625-52fb-4df7-bf32-5886883430a4' title='Show/Hide data repr'><svg class='icon xr-icon-database'><use xlink:href='#icon-database'></use></svg></label><div class='xr-var-attrs'><dl class='xr-attrs'><dt><span>comment :</span></dt><dd>mask can be used to further filter the data.</dd><dt><span>flag_masks :</span></dt><dd>[1, 2, 4, 8, 16]</dd><dt><span>flag_meanings :</span></dt><dd>1=open-sea, 2=land, 5=open-lake, 9=open-sea with ice in the grid, 13=open-lake with ice in the grid</dd><dt><span>flag_values :</span></dt><dd>[1, 2, 5, 9, 13]</dd><dt><span>long_name :</span></dt><dd>sea/land field composite mask</dd><dt><span>source :</span></dt><dd>GMT &quot;grdlandmask&quot;, ice flag from sea_ice_fraction data</dd><dt><span>valid_max :</span></dt><dd>31</dd><dt><span>valid_min :</span></dt><dd>1</dd></dl></div><div class='xr-var-data'><table>\n",
       "    <tr>\n",
       "        <td>\n",
       "            <table style=\"border-collapse: collapse;\">\n",
       "                <thead>\n",
       "                    <tr>\n",
       "                        <td> </td>\n",
       "                        <th> Array </th>\n",
       "                        <th> Chunk </th>\n",
       "                    </tr>\n",
       "                </thead>\n",
       "                <tbody>\n",
       "                    \n",
       "                    <tr>\n",
       "                        <th> Bytes </th>\n",
       "                        <td> 16.85 TiB </td>\n",
       "                        <td> 15.98 MiB </td>\n",
       "                    </tr>\n",
       "                    \n",
       "                    <tr>\n",
       "                        <th> Shape </th>\n",
       "                        <td> (7148, 17999, 36000) </td>\n",
       "                        <td> (1, 1447, 2895) </td>\n",
       "                    </tr>\n",
       "                    <tr>\n",
       "                        <th> Dask graph </th>\n",
       "                        <td colspan=\"2\"> 1208012 chunks in 2 graph layers </td>\n",
       "                    </tr>\n",
       "                    <tr>\n",
       "                        <th> Data type </th>\n",
       "                        <td colspan=\"2\"> float32 numpy.ndarray </td>\n",
       "                    </tr>\n",
       "                </tbody>\n",
       "            </table>\n",
       "        </td>\n",
       "        <td>\n",
       "        <svg width=\"204\" height=\"134\" style=\"stroke:rgb(0,0,0);stroke-width:1\" >\n",
       "\n",
       "  <!-- Horizontal lines -->\n",
       "  <line x1=\"10\" y1=\"0\" x2=\"34\" y2=\"24\" style=\"stroke-width:2\" />\n",
       "  <line x1=\"10\" y1=\"4\" x2=\"34\" y2=\"29\" />\n",
       "  <line x1=\"10\" y1=\"9\" x2=\"34\" y2=\"34\" />\n",
       "  <line x1=\"10\" y1=\"14\" x2=\"34\" y2=\"39\" />\n",
       "  <line x1=\"10\" y1=\"19\" x2=\"34\" y2=\"43\" />\n",
       "  <line x1=\"10\" y1=\"24\" x2=\"34\" y2=\"48\" />\n",
       "  <line x1=\"10\" y1=\"28\" x2=\"34\" y2=\"53\" />\n",
       "  <line x1=\"10\" y1=\"33\" x2=\"34\" y2=\"58\" />\n",
       "  <line x1=\"10\" y1=\"38\" x2=\"34\" y2=\"63\" />\n",
       "  <line x1=\"10\" y1=\"43\" x2=\"34\" y2=\"68\" />\n",
       "  <line x1=\"10\" y1=\"48\" x2=\"34\" y2=\"72\" />\n",
       "  <line x1=\"10\" y1=\"53\" x2=\"34\" y2=\"77\" />\n",
       "  <line x1=\"10\" y1=\"57\" x2=\"34\" y2=\"82\" />\n",
       "  <line x1=\"10\" y1=\"59\" x2=\"34\" y2=\"84\" style=\"stroke-width:2\" />\n",
       "\n",
       "  <!-- Vertical lines -->\n",
       "  <line x1=\"10\" y1=\"0\" x2=\"10\" y2=\"59\" style=\"stroke-width:2\" />\n",
       "  <line x1=\"11\" y1=\"1\" x2=\"11\" y2=\"61\" />\n",
       "  <line x1=\"12\" y1=\"2\" x2=\"12\" y2=\"62\" />\n",
       "  <line x1=\"13\" y1=\"3\" x2=\"13\" y2=\"63\" />\n",
       "  <line x1=\"15\" y1=\"5\" x2=\"15\" y2=\"65\" />\n",
       "  <line x1=\"16\" y1=\"6\" x2=\"16\" y2=\"66\" />\n",
       "  <line x1=\"17\" y1=\"7\" x2=\"17\" y2=\"67\" />\n",
       "  <line x1=\"19\" y1=\"9\" x2=\"19\" y2=\"69\" />\n",
       "  <line x1=\"20\" y1=\"10\" x2=\"20\" y2=\"70\" />\n",
       "  <line x1=\"21\" y1=\"11\" x2=\"21\" y2=\"71\" />\n",
       "  <line x1=\"22\" y1=\"12\" x2=\"22\" y2=\"72\" />\n",
       "  <line x1=\"24\" y1=\"14\" x2=\"24\" y2=\"74\" />\n",
       "  <line x1=\"25\" y1=\"15\" x2=\"25\" y2=\"75\" />\n",
       "  <line x1=\"26\" y1=\"16\" x2=\"26\" y2=\"76\" />\n",
       "  <line x1=\"28\" y1=\"18\" x2=\"28\" y2=\"78\" />\n",
       "  <line x1=\"29\" y1=\"19\" x2=\"29\" y2=\"79\" />\n",
       "  <line x1=\"30\" y1=\"20\" x2=\"30\" y2=\"80\" />\n",
       "  <line x1=\"32\" y1=\"22\" x2=\"32\" y2=\"82\" />\n",
       "  <line x1=\"33\" y1=\"23\" x2=\"33\" y2=\"83\" />\n",
       "  <line x1=\"34\" y1=\"24\" x2=\"34\" y2=\"84\" style=\"stroke-width:2\" />\n",
       "\n",
       "  <!-- Colored Rectangle -->\n",
       "  <polygon points=\"10.0,0.0 34.69364749981231,24.693647499812307 34.69364749981231,84.69031416647897 10.0,59.99666666666667\" style=\"fill:#8B4903A0;stroke-width:0\"/>\n",
       "\n",
       "  <!-- Horizontal lines -->\n",
       "  <line x1=\"10\" y1=\"0\" x2=\"130\" y2=\"0\" style=\"stroke-width:2\" />\n",
       "  <line x1=\"11\" y1=\"1\" x2=\"131\" y2=\"1\" />\n",
       "  <line x1=\"12\" y1=\"2\" x2=\"132\" y2=\"2\" />\n",
       "  <line x1=\"13\" y1=\"3\" x2=\"133\" y2=\"3\" />\n",
       "  <line x1=\"15\" y1=\"5\" x2=\"135\" y2=\"5\" />\n",
       "  <line x1=\"16\" y1=\"6\" x2=\"136\" y2=\"6\" />\n",
       "  <line x1=\"17\" y1=\"7\" x2=\"137\" y2=\"7\" />\n",
       "  <line x1=\"19\" y1=\"9\" x2=\"139\" y2=\"9\" />\n",
       "  <line x1=\"20\" y1=\"10\" x2=\"140\" y2=\"10\" />\n",
       "  <line x1=\"21\" y1=\"11\" x2=\"141\" y2=\"11\" />\n",
       "  <line x1=\"22\" y1=\"12\" x2=\"142\" y2=\"12\" />\n",
       "  <line x1=\"24\" y1=\"14\" x2=\"144\" y2=\"14\" />\n",
       "  <line x1=\"25\" y1=\"15\" x2=\"145\" y2=\"15\" />\n",
       "  <line x1=\"26\" y1=\"16\" x2=\"146\" y2=\"16\" />\n",
       "  <line x1=\"28\" y1=\"18\" x2=\"148\" y2=\"18\" />\n",
       "  <line x1=\"29\" y1=\"19\" x2=\"149\" y2=\"19\" />\n",
       "  <line x1=\"30\" y1=\"20\" x2=\"150\" y2=\"20\" />\n",
       "  <line x1=\"32\" y1=\"22\" x2=\"152\" y2=\"22\" />\n",
       "  <line x1=\"33\" y1=\"23\" x2=\"153\" y2=\"23\" />\n",
       "  <line x1=\"34\" y1=\"24\" x2=\"154\" y2=\"24\" style=\"stroke-width:2\" />\n",
       "\n",
       "  <!-- Vertical lines -->\n",
       "  <line x1=\"10\" y1=\"0\" x2=\"34\" y2=\"24\" style=\"stroke-width:2\" />\n",
       "  <line x1=\"19\" y1=\"0\" x2=\"44\" y2=\"24\" />\n",
       "  <line x1=\"29\" y1=\"0\" x2=\"53\" y2=\"24\" />\n",
       "  <line x1=\"38\" y1=\"0\" x2=\"63\" y2=\"24\" />\n",
       "  <line x1=\"48\" y1=\"0\" x2=\"73\" y2=\"24\" />\n",
       "  <line x1=\"58\" y1=\"0\" x2=\"82\" y2=\"24\" />\n",
       "  <line x1=\"67\" y1=\"0\" x2=\"92\" y2=\"24\" />\n",
       "  <line x1=\"77\" y1=\"0\" x2=\"102\" y2=\"24\" />\n",
       "  <line x1=\"87\" y1=\"0\" x2=\"111\" y2=\"24\" />\n",
       "  <line x1=\"96\" y1=\"0\" x2=\"121\" y2=\"24\" />\n",
       "  <line x1=\"106\" y1=\"0\" x2=\"131\" y2=\"24\" />\n",
       "  <line x1=\"116\" y1=\"0\" x2=\"140\" y2=\"24\" />\n",
       "  <line x1=\"125\" y1=\"0\" x2=\"150\" y2=\"24\" />\n",
       "  <line x1=\"130\" y1=\"0\" x2=\"154\" y2=\"24\" style=\"stroke-width:2\" />\n",
       "\n",
       "  <!-- Colored Rectangle -->\n",
       "  <polygon points=\"10.0,0.0 130.0,0.0 154.6936474998123,24.693647499812307 34.69364749981231,24.693647499812307\" style=\"fill:#8B4903A0;stroke-width:0\"/>\n",
       "\n",
       "  <!-- Horizontal lines -->\n",
       "  <line x1=\"34\" y1=\"24\" x2=\"154\" y2=\"24\" style=\"stroke-width:2\" />\n",
       "  <line x1=\"34\" y1=\"29\" x2=\"154\" y2=\"29\" />\n",
       "  <line x1=\"34\" y1=\"34\" x2=\"154\" y2=\"34\" />\n",
       "  <line x1=\"34\" y1=\"39\" x2=\"154\" y2=\"39\" />\n",
       "  <line x1=\"34\" y1=\"43\" x2=\"154\" y2=\"43\" />\n",
       "  <line x1=\"34\" y1=\"48\" x2=\"154\" y2=\"48\" />\n",
       "  <line x1=\"34\" y1=\"53\" x2=\"154\" y2=\"53\" />\n",
       "  <line x1=\"34\" y1=\"58\" x2=\"154\" y2=\"58\" />\n",
       "  <line x1=\"34\" y1=\"63\" x2=\"154\" y2=\"63\" />\n",
       "  <line x1=\"34\" y1=\"68\" x2=\"154\" y2=\"68\" />\n",
       "  <line x1=\"34\" y1=\"72\" x2=\"154\" y2=\"72\" />\n",
       "  <line x1=\"34\" y1=\"77\" x2=\"154\" y2=\"77\" />\n",
       "  <line x1=\"34\" y1=\"82\" x2=\"154\" y2=\"82\" />\n",
       "  <line x1=\"34\" y1=\"84\" x2=\"154\" y2=\"84\" style=\"stroke-width:2\" />\n",
       "\n",
       "  <!-- Vertical lines -->\n",
       "  <line x1=\"34\" y1=\"24\" x2=\"34\" y2=\"84\" style=\"stroke-width:2\" />\n",
       "  <line x1=\"44\" y1=\"24\" x2=\"44\" y2=\"84\" />\n",
       "  <line x1=\"53\" y1=\"24\" x2=\"53\" y2=\"84\" />\n",
       "  <line x1=\"63\" y1=\"24\" x2=\"63\" y2=\"84\" />\n",
       "  <line x1=\"73\" y1=\"24\" x2=\"73\" y2=\"84\" />\n",
       "  <line x1=\"82\" y1=\"24\" x2=\"82\" y2=\"84\" />\n",
       "  <line x1=\"92\" y1=\"24\" x2=\"92\" y2=\"84\" />\n",
       "  <line x1=\"102\" y1=\"24\" x2=\"102\" y2=\"84\" />\n",
       "  <line x1=\"111\" y1=\"24\" x2=\"111\" y2=\"84\" />\n",
       "  <line x1=\"121\" y1=\"24\" x2=\"121\" y2=\"84\" />\n",
       "  <line x1=\"131\" y1=\"24\" x2=\"131\" y2=\"84\" />\n",
       "  <line x1=\"140\" y1=\"24\" x2=\"140\" y2=\"84\" />\n",
       "  <line x1=\"150\" y1=\"24\" x2=\"150\" y2=\"84\" />\n",
       "  <line x1=\"154\" y1=\"24\" x2=\"154\" y2=\"84\" style=\"stroke-width:2\" />\n",
       "\n",
       "  <!-- Colored Rectangle -->\n",
       "  <polygon points=\"34.69364749981231,24.693647499812307 154.6936474998123,24.693647499812307 154.6936474998123,84.69031416647897 34.69364749981231,84.69031416647897\" style=\"fill:#ECB172A0;stroke-width:0\"/>\n",
       "\n",
       "  <!-- Text -->\n",
       "  <text x=\"94.693647\" y=\"104.690314\" font-size=\"1.0rem\" font-weight=\"100\" text-anchor=\"middle\" >36000</text>\n",
       "  <text x=\"174.693647\" y=\"54.691981\" font-size=\"1.0rem\" font-weight=\"100\" text-anchor=\"middle\" transform=\"rotate(-90,174.693647,54.691981)\">17999</text>\n",
       "  <text x=\"12.346824\" y=\"92.343490\" font-size=\"1.0rem\" font-weight=\"100\" text-anchor=\"middle\" transform=\"rotate(45,12.346824,92.343490)\">7148</text>\n",
       "</svg>\n",
       "        </td>\n",
       "    </tr>\n",
       "</table></div></li><li class='xr-var-item'><div class='xr-var-name'><span>analysis_error</span></div><div class='xr-var-dims'>(time, lat, lon)</div><div class='xr-var-dtype'>float64</div><div class='xr-var-preview xr-preview'>dask.array&lt;chunksize=(1, 1023, 2047), meta=np.ndarray&gt;</div><input id='attrs-580e98e7-567d-4154-aa6a-6e0e9dac8e6d' class='xr-var-attrs-in' type='checkbox' ><label for='attrs-580e98e7-567d-4154-aa6a-6e0e9dac8e6d' title='Show/Hide attributes'><svg class='icon xr-icon-file-text2'><use xlink:href='#icon-file-text2'></use></svg></label><input id='data-46c4c3f4-12b3-4c42-a1a8-98be28051157' class='xr-var-data-in' type='checkbox'><label for='data-46c4c3f4-12b3-4c42-a1a8-98be28051157' title='Show/Hide data repr'><svg class='icon xr-icon-database'><use xlink:href='#icon-database'></use></svg></label><div class='xr-var-attrs'><dl class='xr-attrs'><dt><span>comment :</span></dt><dd>none</dd><dt><span>long_name :</span></dt><dd>estimated error standard deviation of analysed_sst</dd><dt><span>units :</span></dt><dd>kelvin</dd><dt><span>valid_max :</span></dt><dd>32767</dd><dt><span>valid_min :</span></dt><dd>0</dd></dl></div><div class='xr-var-data'><table>\n",
       "    <tr>\n",
       "        <td>\n",
       "            <table style=\"border-collapse: collapse;\">\n",
       "                <thead>\n",
       "                    <tr>\n",
       "                        <td> </td>\n",
       "                        <th> Array </th>\n",
       "                        <th> Chunk </th>\n",
       "                    </tr>\n",
       "                </thead>\n",
       "                <tbody>\n",
       "                    \n",
       "                    <tr>\n",
       "                        <th> Bytes </th>\n",
       "                        <td> 33.70 TiB </td>\n",
       "                        <td> 15.98 MiB </td>\n",
       "                    </tr>\n",
       "                    \n",
       "                    <tr>\n",
       "                        <th> Shape </th>\n",
       "                        <td> (7148, 17999, 36000) </td>\n",
       "                        <td> (1, 1023, 2047) </td>\n",
       "                    </tr>\n",
       "                    <tr>\n",
       "                        <th> Dask graph </th>\n",
       "                        <td colspan=\"2\"> 2315952 chunks in 2 graph layers </td>\n",
       "                    </tr>\n",
       "                    <tr>\n",
       "                        <th> Data type </th>\n",
       "                        <td colspan=\"2\"> float64 numpy.ndarray </td>\n",
       "                    </tr>\n",
       "                </tbody>\n",
       "            </table>\n",
       "        </td>\n",
       "        <td>\n",
       "        <svg width=\"204\" height=\"134\" style=\"stroke:rgb(0,0,0);stroke-width:1\" >\n",
       "\n",
       "  <!-- Horizontal lines -->\n",
       "  <line x1=\"10\" y1=\"0\" x2=\"34\" y2=\"24\" style=\"stroke-width:2\" />\n",
       "  <line x1=\"10\" y1=\"3\" x2=\"34\" y2=\"28\" />\n",
       "  <line x1=\"10\" y1=\"6\" x2=\"34\" y2=\"31\" />\n",
       "  <line x1=\"10\" y1=\"10\" x2=\"34\" y2=\"34\" />\n",
       "  <line x1=\"10\" y1=\"13\" x2=\"34\" y2=\"38\" />\n",
       "  <line x1=\"10\" y1=\"17\" x2=\"34\" y2=\"41\" />\n",
       "  <line x1=\"10\" y1=\"20\" x2=\"34\" y2=\"45\" />\n",
       "  <line x1=\"10\" y1=\"23\" x2=\"34\" y2=\"48\" />\n",
       "  <line x1=\"10\" y1=\"27\" x2=\"34\" y2=\"51\" />\n",
       "  <line x1=\"10\" y1=\"30\" x2=\"34\" y2=\"55\" />\n",
       "  <line x1=\"10\" y1=\"34\" x2=\"34\" y2=\"58\" />\n",
       "  <line x1=\"10\" y1=\"37\" x2=\"34\" y2=\"62\" />\n",
       "  <line x1=\"10\" y1=\"40\" x2=\"34\" y2=\"65\" />\n",
       "  <line x1=\"10\" y1=\"44\" x2=\"34\" y2=\"69\" />\n",
       "  <line x1=\"10\" y1=\"47\" x2=\"34\" y2=\"72\" />\n",
       "  <line x1=\"10\" y1=\"51\" x2=\"34\" y2=\"75\" />\n",
       "  <line x1=\"10\" y1=\"54\" x2=\"34\" y2=\"79\" />\n",
       "  <line x1=\"10\" y1=\"57\" x2=\"34\" y2=\"82\" />\n",
       "  <line x1=\"10\" y1=\"59\" x2=\"34\" y2=\"84\" style=\"stroke-width:2\" />\n",
       "\n",
       "  <!-- Vertical lines -->\n",
       "  <line x1=\"10\" y1=\"0\" x2=\"10\" y2=\"59\" style=\"stroke-width:2\" />\n",
       "  <line x1=\"11\" y1=\"1\" x2=\"11\" y2=\"61\" />\n",
       "  <line x1=\"12\" y1=\"2\" x2=\"12\" y2=\"62\" />\n",
       "  <line x1=\"13\" y1=\"3\" x2=\"13\" y2=\"63\" />\n",
       "  <line x1=\"15\" y1=\"5\" x2=\"15\" y2=\"65\" />\n",
       "  <line x1=\"16\" y1=\"6\" x2=\"16\" y2=\"66\" />\n",
       "  <line x1=\"17\" y1=\"7\" x2=\"17\" y2=\"67\" />\n",
       "  <line x1=\"19\" y1=\"9\" x2=\"19\" y2=\"69\" />\n",
       "  <line x1=\"20\" y1=\"10\" x2=\"20\" y2=\"70\" />\n",
       "  <line x1=\"21\" y1=\"11\" x2=\"21\" y2=\"71\" />\n",
       "  <line x1=\"22\" y1=\"12\" x2=\"22\" y2=\"72\" />\n",
       "  <line x1=\"24\" y1=\"14\" x2=\"24\" y2=\"74\" />\n",
       "  <line x1=\"25\" y1=\"15\" x2=\"25\" y2=\"75\" />\n",
       "  <line x1=\"26\" y1=\"16\" x2=\"26\" y2=\"76\" />\n",
       "  <line x1=\"28\" y1=\"18\" x2=\"28\" y2=\"78\" />\n",
       "  <line x1=\"29\" y1=\"19\" x2=\"29\" y2=\"79\" />\n",
       "  <line x1=\"30\" y1=\"20\" x2=\"30\" y2=\"80\" />\n",
       "  <line x1=\"32\" y1=\"22\" x2=\"32\" y2=\"82\" />\n",
       "  <line x1=\"33\" y1=\"23\" x2=\"33\" y2=\"83\" />\n",
       "  <line x1=\"34\" y1=\"24\" x2=\"34\" y2=\"84\" style=\"stroke-width:2\" />\n",
       "\n",
       "  <!-- Colored Rectangle -->\n",
       "  <polygon points=\"10.0,0.0 34.69364749981231,24.693647499812307 34.69364749981231,84.69031416647897 10.0,59.99666666666667\" style=\"fill:#8B4903A0;stroke-width:0\"/>\n",
       "\n",
       "  <!-- Horizontal lines -->\n",
       "  <line x1=\"10\" y1=\"0\" x2=\"130\" y2=\"0\" style=\"stroke-width:2\" />\n",
       "  <line x1=\"11\" y1=\"1\" x2=\"131\" y2=\"1\" />\n",
       "  <line x1=\"12\" y1=\"2\" x2=\"132\" y2=\"2\" />\n",
       "  <line x1=\"13\" y1=\"3\" x2=\"133\" y2=\"3\" />\n",
       "  <line x1=\"15\" y1=\"5\" x2=\"135\" y2=\"5\" />\n",
       "  <line x1=\"16\" y1=\"6\" x2=\"136\" y2=\"6\" />\n",
       "  <line x1=\"17\" y1=\"7\" x2=\"137\" y2=\"7\" />\n",
       "  <line x1=\"19\" y1=\"9\" x2=\"139\" y2=\"9\" />\n",
       "  <line x1=\"20\" y1=\"10\" x2=\"140\" y2=\"10\" />\n",
       "  <line x1=\"21\" y1=\"11\" x2=\"141\" y2=\"11\" />\n",
       "  <line x1=\"22\" y1=\"12\" x2=\"142\" y2=\"12\" />\n",
       "  <line x1=\"24\" y1=\"14\" x2=\"144\" y2=\"14\" />\n",
       "  <line x1=\"25\" y1=\"15\" x2=\"145\" y2=\"15\" />\n",
       "  <line x1=\"26\" y1=\"16\" x2=\"146\" y2=\"16\" />\n",
       "  <line x1=\"28\" y1=\"18\" x2=\"148\" y2=\"18\" />\n",
       "  <line x1=\"29\" y1=\"19\" x2=\"149\" y2=\"19\" />\n",
       "  <line x1=\"30\" y1=\"20\" x2=\"150\" y2=\"20\" />\n",
       "  <line x1=\"32\" y1=\"22\" x2=\"152\" y2=\"22\" />\n",
       "  <line x1=\"33\" y1=\"23\" x2=\"153\" y2=\"23\" />\n",
       "  <line x1=\"34\" y1=\"24\" x2=\"154\" y2=\"24\" style=\"stroke-width:2\" />\n",
       "\n",
       "  <!-- Vertical lines -->\n",
       "  <line x1=\"10\" y1=\"0\" x2=\"34\" y2=\"24\" style=\"stroke-width:2\" />\n",
       "  <line x1=\"16\" y1=\"0\" x2=\"41\" y2=\"24\" />\n",
       "  <line x1=\"23\" y1=\"0\" x2=\"48\" y2=\"24\" />\n",
       "  <line x1=\"30\" y1=\"0\" x2=\"55\" y2=\"24\" />\n",
       "  <line x1=\"37\" y1=\"0\" x2=\"61\" y2=\"24\" />\n",
       "  <line x1=\"44\" y1=\"0\" x2=\"68\" y2=\"24\" />\n",
       "  <line x1=\"50\" y1=\"0\" x2=\"75\" y2=\"24\" />\n",
       "  <line x1=\"57\" y1=\"0\" x2=\"82\" y2=\"24\" />\n",
       "  <line x1=\"64\" y1=\"0\" x2=\"89\" y2=\"24\" />\n",
       "  <line x1=\"71\" y1=\"0\" x2=\"96\" y2=\"24\" />\n",
       "  <line x1=\"78\" y1=\"0\" x2=\"102\" y2=\"24\" />\n",
       "  <line x1=\"85\" y1=\"0\" x2=\"109\" y2=\"24\" />\n",
       "  <line x1=\"91\" y1=\"0\" x2=\"116\" y2=\"24\" />\n",
       "  <line x1=\"98\" y1=\"0\" x2=\"123\" y2=\"24\" />\n",
       "  <line x1=\"105\" y1=\"0\" x2=\"130\" y2=\"24\" />\n",
       "  <line x1=\"112\" y1=\"0\" x2=\"137\" y2=\"24\" />\n",
       "  <line x1=\"119\" y1=\"0\" x2=\"143\" y2=\"24\" />\n",
       "  <line x1=\"125\" y1=\"0\" x2=\"150\" y2=\"24\" />\n",
       "  <line x1=\"130\" y1=\"0\" x2=\"154\" y2=\"24\" style=\"stroke-width:2\" />\n",
       "\n",
       "  <!-- Colored Rectangle -->\n",
       "  <polygon points=\"10.0,0.0 130.0,0.0 154.6936474998123,24.693647499812307 34.69364749981231,24.693647499812307\" style=\"fill:#8B4903A0;stroke-width:0\"/>\n",
       "\n",
       "  <!-- Horizontal lines -->\n",
       "  <line x1=\"34\" y1=\"24\" x2=\"154\" y2=\"24\" style=\"stroke-width:2\" />\n",
       "  <line x1=\"34\" y1=\"28\" x2=\"154\" y2=\"28\" />\n",
       "  <line x1=\"34\" y1=\"31\" x2=\"154\" y2=\"31\" />\n",
       "  <line x1=\"34\" y1=\"34\" x2=\"154\" y2=\"34\" />\n",
       "  <line x1=\"34\" y1=\"38\" x2=\"154\" y2=\"38\" />\n",
       "  <line x1=\"34\" y1=\"41\" x2=\"154\" y2=\"41\" />\n",
       "  <line x1=\"34\" y1=\"45\" x2=\"154\" y2=\"45\" />\n",
       "  <line x1=\"34\" y1=\"48\" x2=\"154\" y2=\"48\" />\n",
       "  <line x1=\"34\" y1=\"51\" x2=\"154\" y2=\"51\" />\n",
       "  <line x1=\"34\" y1=\"55\" x2=\"154\" y2=\"55\" />\n",
       "  <line x1=\"34\" y1=\"58\" x2=\"154\" y2=\"58\" />\n",
       "  <line x1=\"34\" y1=\"62\" x2=\"154\" y2=\"62\" />\n",
       "  <line x1=\"34\" y1=\"65\" x2=\"154\" y2=\"65\" />\n",
       "  <line x1=\"34\" y1=\"69\" x2=\"154\" y2=\"69\" />\n",
       "  <line x1=\"34\" y1=\"72\" x2=\"154\" y2=\"72\" />\n",
       "  <line x1=\"34\" y1=\"75\" x2=\"154\" y2=\"75\" />\n",
       "  <line x1=\"34\" y1=\"79\" x2=\"154\" y2=\"79\" />\n",
       "  <line x1=\"34\" y1=\"82\" x2=\"154\" y2=\"82\" />\n",
       "  <line x1=\"34\" y1=\"84\" x2=\"154\" y2=\"84\" style=\"stroke-width:2\" />\n",
       "\n",
       "  <!-- Vertical lines -->\n",
       "  <line x1=\"34\" y1=\"24\" x2=\"34\" y2=\"84\" style=\"stroke-width:2\" />\n",
       "  <line x1=\"41\" y1=\"24\" x2=\"41\" y2=\"84\" />\n",
       "  <line x1=\"48\" y1=\"24\" x2=\"48\" y2=\"84\" />\n",
       "  <line x1=\"55\" y1=\"24\" x2=\"55\" y2=\"84\" />\n",
       "  <line x1=\"61\" y1=\"24\" x2=\"61\" y2=\"84\" />\n",
       "  <line x1=\"68\" y1=\"24\" x2=\"68\" y2=\"84\" />\n",
       "  <line x1=\"75\" y1=\"24\" x2=\"75\" y2=\"84\" />\n",
       "  <line x1=\"82\" y1=\"24\" x2=\"82\" y2=\"84\" />\n",
       "  <line x1=\"89\" y1=\"24\" x2=\"89\" y2=\"84\" />\n",
       "  <line x1=\"96\" y1=\"24\" x2=\"96\" y2=\"84\" />\n",
       "  <line x1=\"102\" y1=\"24\" x2=\"102\" y2=\"84\" />\n",
       "  <line x1=\"109\" y1=\"24\" x2=\"109\" y2=\"84\" />\n",
       "  <line x1=\"116\" y1=\"24\" x2=\"116\" y2=\"84\" />\n",
       "  <line x1=\"123\" y1=\"24\" x2=\"123\" y2=\"84\" />\n",
       "  <line x1=\"130\" y1=\"24\" x2=\"130\" y2=\"84\" />\n",
       "  <line x1=\"137\" y1=\"24\" x2=\"137\" y2=\"84\" />\n",
       "  <line x1=\"143\" y1=\"24\" x2=\"143\" y2=\"84\" />\n",
       "  <line x1=\"150\" y1=\"24\" x2=\"150\" y2=\"84\" />\n",
       "  <line x1=\"154\" y1=\"24\" x2=\"154\" y2=\"84\" style=\"stroke-width:2\" />\n",
       "\n",
       "  <!-- Colored Rectangle -->\n",
       "  <polygon points=\"34.69364749981231,24.693647499812307 154.6936474998123,24.693647499812307 154.6936474998123,84.69031416647897 34.69364749981231,84.69031416647897\" style=\"fill:#ECB172A0;stroke-width:0\"/>\n",
       "\n",
       "  <!-- Text -->\n",
       "  <text x=\"94.693647\" y=\"104.690314\" font-size=\"1.0rem\" font-weight=\"100\" text-anchor=\"middle\" >36000</text>\n",
       "  <text x=\"174.693647\" y=\"54.691981\" font-size=\"1.0rem\" font-weight=\"100\" text-anchor=\"middle\" transform=\"rotate(-90,174.693647,54.691981)\">17999</text>\n",
       "  <text x=\"12.346824\" y=\"92.343490\" font-size=\"1.0rem\" font-weight=\"100\" text-anchor=\"middle\" transform=\"rotate(45,12.346824,92.343490)\">7148</text>\n",
       "</svg>\n",
       "        </td>\n",
       "    </tr>\n",
       "</table></div></li></ul></div></li><li class='xr-section-item'><input id='section-14cd2357-37eb-4495-9754-ef8cbe2946b4' class='xr-section-summary-in' type='checkbox'  ><label for='section-14cd2357-37eb-4495-9754-ef8cbe2946b4' class='xr-section-summary' >Indexes: <span>(3)</span></label><div class='xr-section-inline-details'></div><div class='xr-section-details'><ul class='xr-var-list'><li class='xr-var-item'><div class='xr-index-name'><div>lat</div></div><div class='xr-index-preview'>PandasIndex</div><input type='checkbox' disabled/><label></label><input id='index-aa6fe75b-3677-46ff-9c46-f7d1a794f9cb' class='xr-index-data-in' type='checkbox'/><label for='index-aa6fe75b-3677-46ff-9c46-f7d1a794f9cb' title='Show/Hide index repr'><svg class='icon xr-icon-database'><use xlink:href='#icon-database'></use></svg></label><div class='xr-index-data'><pre>PandasIndex(Index([-89.98999786376953,  -89.9800033569336, -89.97000122070312,\n",
       "       -89.95999908447266, -89.94999694824219, -89.94000244140625,\n",
       "       -89.93000030517578, -89.91999816894531, -89.91000366210938,\n",
       "        -89.9000015258789,\n",
       "       ...\n",
       "         89.9000015258789,  89.91000366210938,  89.91999816894531,\n",
       "        89.93000030517578,  89.94000244140625,  89.94999694824219,\n",
       "        89.95999908447266,  89.97000122070312,   89.9800033569336,\n",
       "        89.98999786376953],\n",
       "      dtype=&#x27;float32&#x27;, name=&#x27;lat&#x27;, length=17999))</pre></div></li><li class='xr-var-item'><div class='xr-index-name'><div>lon</div></div><div class='xr-index-preview'>PandasIndex</div><input type='checkbox' disabled/><label></label><input id='index-c8c7ab31-0de8-49c4-bd40-6198ed67f79d' class='xr-index-data-in' type='checkbox'/><label for='index-c8c7ab31-0de8-49c4-bd40-6198ed67f79d' title='Show/Hide index repr'><svg class='icon xr-icon-database'><use xlink:href='#icon-database'></use></svg></label><div class='xr-index-data'><pre>PandasIndex(Index([-179.99000549316406, -179.97999572753906, -179.97000122070312,\n",
       "        -179.9600067138672,  -179.9499969482422, -179.94000244140625,\n",
       "       -179.92999267578125,  -179.9199981689453, -179.91000366210938,\n",
       "       -179.89999389648438,\n",
       "       ...\n",
       "        179.91000366210938,   179.9199981689453,  179.92999267578125,\n",
       "        179.94000244140625,   179.9499969482422,   179.9600067138672,\n",
       "        179.97000122070312,  179.97999572753906,  179.99000549316406,\n",
       "                     180.0],\n",
       "      dtype=&#x27;float32&#x27;, name=&#x27;lon&#x27;, length=36000))</pre></div></li><li class='xr-var-item'><div class='xr-index-name'><div>time</div></div><div class='xr-index-preview'>PandasIndex</div><input type='checkbox' disabled/><label></label><input id='index-d60a1782-3328-46db-a725-3c00289520d9' class='xr-index-data-in' type='checkbox'/><label for='index-d60a1782-3328-46db-a725-3c00289520d9' title='Show/Hide index repr'><svg class='icon xr-icon-database'><use xlink:href='#icon-database'></use></svg></label><div class='xr-index-data'><pre>PandasIndex(DatetimeIndex([&#x27;2002-06-01 09:00:00&#x27;, &#x27;2002-06-02 09:00:00&#x27;,\n",
       "               &#x27;2002-06-03 09:00:00&#x27;, &#x27;2002-06-04 09:00:00&#x27;,\n",
       "               &#x27;2002-06-05 09:00:00&#x27;, &#x27;2002-06-06 09:00:00&#x27;,\n",
       "               &#x27;2002-06-07 09:00:00&#x27;, &#x27;2002-06-08 09:00:00&#x27;,\n",
       "               &#x27;2002-06-09 09:00:00&#x27;, &#x27;2002-06-10 09:00:00&#x27;,\n",
       "               ...\n",
       "               &#x27;2021-12-14 09:00:00&#x27;, &#x27;2021-12-15 09:00:00&#x27;,\n",
       "               &#x27;2021-12-16 09:00:00&#x27;, &#x27;2021-12-17 09:00:00&#x27;,\n",
       "               &#x27;2021-12-18 09:00:00&#x27;, &#x27;2021-12-19 09:00:00&#x27;,\n",
       "               &#x27;2021-12-20 09:00:00&#x27;, &#x27;2021-12-21 09:00:00&#x27;,\n",
       "               &#x27;2021-12-22 09:00:00&#x27;, &#x27;2021-12-23 09:00:00&#x27;],\n",
       "              dtype=&#x27;datetime64[ns]&#x27;, name=&#x27;time&#x27;, length=7148, freq=None))</pre></div></li></ul></div></li><li class='xr-section-item'><input id='section-3b1422e7-1ffb-4919-85ef-523da1d28126' class='xr-section-summary-in' type='checkbox'  ><label for='section-3b1422e7-1ffb-4919-85ef-523da1d28126' class='xr-section-summary' >Attributes: <span>(47)</span></label><div class='xr-section-inline-details'></div><div class='xr-section-details'><dl class='xr-attrs'><dt><span>Conventions :</span></dt><dd>CF-1.7</dd><dt><span>Metadata_Conventions :</span></dt><dd>Unidata Observation Dataset v1.0</dd><dt><span>acknowledgment :</span></dt><dd>Please acknowledge the use of these data with the following statement:  These data were provided by JPL under support by NASA MEaSUREs program.</dd><dt><span>cdm_data_type :</span></dt><dd>grid</dd><dt><span>comment :</span></dt><dd>MUR = &quot;Multi-scale Ultra-high Resolution&quot;</dd><dt><span>creator_email :</span></dt><dd>ghrsst@podaac.jpl.nasa.gov</dd><dt><span>creator_name :</span></dt><dd>JPL MUR SST project</dd><dt><span>creator_url :</span></dt><dd>http://mur.jpl.nasa.gov</dd><dt><span>date_created :</span></dt><dd>20210303T072024Z</dd><dt><span>easternmost_longitude :</span></dt><dd>180.0</dd><dt><span>file_quality_level :</span></dt><dd>3</dd><dt><span>gds_version_id :</span></dt><dd>2.0</dd><dt><span>geospatial_lat_resolution :</span></dt><dd>0.009999999776482582</dd><dt><span>geospatial_lat_units :</span></dt><dd>degrees north</dd><dt><span>geospatial_lon_resolution :</span></dt><dd>0.009999999776482582</dd><dt><span>geospatial_lon_units :</span></dt><dd>degrees east</dd><dt><span>history :</span></dt><dd>created at nominal 4-day latency; replaced nrt (1-day latency) version.</dd><dt><span>id :</span></dt><dd>MUR-JPL-L4-GLOB-v04.1</dd><dt><span>institution :</span></dt><dd>Jet Propulsion Laboratory</dd><dt><span>keywords :</span></dt><dd>Oceans &gt; Ocean Temperature &gt; Sea Surface Temperature</dd><dt><span>keywords_vocabulary :</span></dt><dd>NASA Global Change Master Directory (GCMD) Science Keywords</dd><dt><span>license :</span></dt><dd>These data are available free of charge under data policy of JPL PO.DAAC.</dd><dt><span>metadata_link :</span></dt><dd>http://podaac.jpl.nasa.gov/ws/metadata/dataset/?format=iso&amp;shortName=MUR-JPL-L4-GLOB-v04.1</dd><dt><span>naming_authority :</span></dt><dd>org.ghrsst</dd><dt><span>netcdf_version_id :</span></dt><dd>4.1</dd><dt><span>northernmost_latitude :</span></dt><dd>90.0</dd><dt><span>platform :</span></dt><dd>Terra, Aqua, GCOM-W, MetOp-A, MetOp-B, Buoys/Ships</dd><dt><span>processing_level :</span></dt><dd>L4</dd><dt><span>product_version :</span></dt><dd>04.1</dd><dt><span>project :</span></dt><dd>NASA Making Earth Science Data Records for Use in Research Environments (MEaSUREs) Program</dd><dt><span>publisher_email :</span></dt><dd>ghrsst-po@nceo.ac.uk</dd><dt><span>publisher_name :</span></dt><dd>GHRSST Project Office</dd><dt><span>publisher_url :</span></dt><dd>http://www.ghrsst.org</dd><dt><span>references :</span></dt><dd>http://podaac.jpl.nasa.gov/Multi-scale_Ultra-high_Resolution_MUR-SST</dd><dt><span>sensor :</span></dt><dd>MODIS, AMSR2, AVHRR, in-situ</dd><dt><span>source :</span></dt><dd>MODIS_T-JPL, MODIS_A-JPL, AMSR2-REMSS, AVHRRMTA_G-NAVO, AVHRRMTB_G-NAVO, iQUAM-NOAA/NESDIS, Ice_Conc-OSISAF</dd><dt><span>southernmost_latitude :</span></dt><dd>-90.0</dd><dt><span>spatial_resolution :</span></dt><dd>0.01 degrees</dd><dt><span>standard_name_vocabulary :</span></dt><dd>NetCDF Climate and Forecast (CF) Metadata Convention</dd><dt><span>start_time :</span></dt><dd>20210222T090000Z</dd><dt><span>stop_time :</span></dt><dd>20210222T090000Z</dd><dt><span>summary :</span></dt><dd>A merged, multi-sensor L4 Foundation SST analysis product from JPL.</dd><dt><span>time_coverage_end :</span></dt><dd>20210222T210000Z</dd><dt><span>time_coverage_start :</span></dt><dd>20210221T210000Z</dd><dt><span>title :</span></dt><dd>Daily MUR SST, Final product</dd><dt><span>uuid :</span></dt><dd>27665bc0-d5fc-11e1-9b23-0800200c9a66</dd><dt><span>westernmost_longitude :</span></dt><dd>-180.0</dd></dl></div></li></ul></div></div>"
      ],
      "text/plain": [
       "<xarray.Dataset> Size: 130TB\n",
       "Dimensions:           (lat: 17999, time: 7148, lon: 36000)\n",
       "Coordinates:\n",
       "  * lat               (lat) float32 72kB -89.99 -89.98 -89.97 ... 89.98 89.99\n",
       "  * lon               (lon) float32 144kB -180.0 -180.0 -180.0 ... 180.0 180.0\n",
       "  * time              (time) datetime64[ns] 57kB 2002-06-01T09:00:00 ... 2021...\n",
       "Data variables:\n",
       "    sea_ice_fraction  (time, lat, lon) float64 37TB dask.array<chunksize=(1, 1447, 2895), meta=np.ndarray>\n",
       "    analysed_sst      (time, lat, lon) float64 37TB dask.array<chunksize=(1, 1023, 2047), meta=np.ndarray>\n",
       "    mask              (time, lat, lon) float32 19TB dask.array<chunksize=(1, 1447, 2895), meta=np.ndarray>\n",
       "    analysis_error    (time, lat, lon) float64 37TB dask.array<chunksize=(1, 1023, 2047), meta=np.ndarray>\n",
       "Attributes: (12/47)\n",
       "    Conventions:                CF-1.7\n",
       "    Metadata_Conventions:       Unidata Observation Dataset v1.0\n",
       "    acknowledgment:             Please acknowledge the use of these data with...\n",
       "    cdm_data_type:              grid\n",
       "    comment:                    MUR = \"Multi-scale Ultra-high Resolution\"\n",
       "    creator_email:              ghrsst@podaac.jpl.nasa.gov\n",
       "    ...                         ...\n",
       "    summary:                    A merged, multi-sensor L4 Foundation SST anal...\n",
       "    time_coverage_end:          20210222T210000Z\n",
       "    time_coverage_start:        20210221T210000Z\n",
       "    title:                      Daily MUR SST, Final product\n",
       "    uuid:                       27665bc0-d5fc-11e1-9b23-0800200c9a66\n",
       "    westernmost_longitude:      -180.0"
      ]
     },
     "execution_count": 6,
     "metadata": {},
     "output_type": "execute_result"
    }
   ],
   "source": [
    "xds"
   ]
  },
  {
   "cell_type": "code",
   "execution_count": 17,
   "id": "08387d48-d77a-4fc9-8cc5-9a3217805f5b",
   "metadata": {},
   "outputs": [
    {
     "data": {
      "text/plain": [
       "13"
      ]
     },
     "execution_count": 17,
     "metadata": {},
     "output_type": "execute_result"
    }
   ],
   "source": [
    "len(xds.mask.chunks[1])"
   ]
  }
 ],
 "metadata": {
  "kernelspec": {
   "display_name": "Python 3 (ipykernel)",
   "language": "python",
   "name": "python3"
  },
  "language_info": {
   "codemirror_mode": {
    "name": "ipython",
    "version": 3
   },
   "file_extension": ".py",
   "mimetype": "text/x-python",
   "name": "python",
   "nbconvert_exporter": "python",
   "pygments_lexer": "ipython3",
   "version": "3.11.10"
  }
 },
 "nbformat": 4,
 "nbformat_minor": 5
}
