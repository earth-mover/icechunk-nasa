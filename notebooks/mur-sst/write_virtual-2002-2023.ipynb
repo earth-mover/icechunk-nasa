{
 "cells": [
  {
   "cell_type": "markdown",
   "id": "62c84395-aac7-4e6d-819f-a0a7d27e88a4",
   "metadata": {},
   "source": [
    "# Creating a virtual Zarr store for MUR SST\n",
    "\n",
    "This notebook uses virtualizarr and icechunk to create a virtual Zarr store for MUR SST until 2023-09-23. However, because there are some dates where the encoding and chunking change from the default (which I infer to be the settings used for the marjority of the data), some dates are written as Zarr. \n",
    "\n",
    "The default encoding is `[{'id': 'shuffle', 'elementsize': 2}, {'id': 'zlib', 'level': 6}]` and the default chunk shape is `(1, 1023, 2047)` (time, lat, lon) for the main data variable `analysed_sst`. Changes to these 2 settings are detailed below where you find the word \"report\".\n",
    "\n",
    "## Methodology\n",
    "\n",
    "Mostly, going year by year, the steps are as follows:\n",
    "\n",
    "1. Initiate the Icechunk repo or open the existing repo.\n",
    "\n",
    "### For most data, append a virtual dataset\n",
    "\n",
    "2. List the files on S3 from that year (see `helpers.list_mur_sst_files`). Then create a list of the corresponding `.dmrpp` files.\n",
    "3. Create virtual representations of those files using VirtualiZarr's `dmrpp` reader and concatenate them into one virtual dataset.\n",
    "4. Instantiate a writable icechunk session for the repo, and use the store accessor for that session to append the virtual dataset to the existing Icechunk store (`virtual_dataset.virtualize.to_icechunk(store, append_dim='time')`.\n",
    "5. (Optional but recommended) Once you get a commit response (snapshot id), validate the newly written data with `helpers.validate_data`.\n",
    "\n",
    "### For days with different encoding or chunking\n",
    "\n",
    "2. Use `dask_write_zarr.update` to append those dates as native Zarr. This function resizes the arrays in the existing Zarr store to accomodate the new data, breaks up the files and variables in each file into separate tasks, and writes that data to Zarr in parallel. This takes about 1 minute per day. This process could definitely be improved, as memory errors arose when trying to write 3 or more days at a time.\n",
    "3. (Optional but recommended) Once you get a commit response, validate the newly written data.\n",
    "\n",
    "\n",
    "\n",
    "## Todos for this workflow\n",
    "\n",
    "- [x] Use dask for distributed writing of zarr (https://icechunk.io/icechunk-python/examples/dask_write/)\n",
    "- [x] Add information on the datasets with different encodings\n",
    "- [ ] Estimate total time to create 2004-2024 and associated cost\n",
    "- [ ] Remove old stores (local and s3)\n",
    "- [ ] Nice to have: Improve validation by reusing an already open icechunk store, since opening the store is slow.\n",
    "- [ ] Use something other than dask since this is still error prone and slow if not properly managing memory (current limit on an instance with 60GB of memory is 2 days at a time, although this complets in 2 minutes).\n",
    "\n",
    "## Todos for this dataset\n",
    "\n",
    "- [ ] Validate with PO.DAAC\n",
    "- [ ] If validated, publish and document in VEDA datastore\n",
    "- [ ] continue on with a new store for 2023-09-04 to current day."
   ]
  },
  {
   "cell_type": "markdown",
   "id": "fb95145d-13af-4df1-a6a3-969a6a90211d",
   "metadata": {},
   "source": [
    "# 0. Setup\n",
    "\n",
    "## Make sure the required versions of icechunk, virtualizarr, xarray and zarr-python are installed"
   ]
  },
  {
   "cell_type": "code",
   "execution_count": 1,
   "id": "557369ff-8155-4ea0-974b-6f0fb18340d3",
   "metadata": {},
   "outputs": [
    {
     "name": "stdout",
     "output_type": "stream",
     "text": [
      "icechunk                  0.1.0a12\n",
      "virtualizarr              1.2.1.dev20+g079e480\n",
      "xarray                    2025.1.1\n",
      "zarr                      3.0.1\n"
     ]
    }
   ],
   "source": [
    "#!pip install git+https://github.com/zarr-developers/VirtualiZarr.git@ab/upgrade-icechunk#egg=VirtualiZarr[icechunk]\n",
    "!pip list | grep -E '^(virtualizarr|icechunk|zarr|xarray)\\s'"
   ]
  },
  {
   "cell_type": "markdown",
   "id": "ca4e7f31-3631-4a7e-86ac-b77b0c080304",
   "metadata": {},
   "source": [
    "## Import packages"
   ]
  },
  {
   "cell_type": "code",
   "execution_count": 2,
   "id": "107edc31-3ff5-4c24-83d8-3ba3e0b27445",
   "metadata": {},
   "outputs": [],
   "source": [
    "import fsspec\n",
    "import xarray as xr\n",
    "import warnings\n",
    "warnings.filterwarnings(\"ignore\", category=UserWarning)\n",
    "\n",
    "import dask_write_zarr as dwz\n",
    "import helpers"
   ]
  },
  {
   "cell_type": "code",
   "execution_count": 3,
   "id": "d8f6a8bb-973c-4d2b-ab59-2d8c26f8f4b4",
   "metadata": {},
   "outputs": [
    {
     "data": {
      "text/plain": [
       "<donfig.config_obj.ConfigSet at 0x7fc8622ef850>"
      ]
     },
     "execution_count": 3,
     "metadata": {},
     "output_type": "execute_result"
    }
   ],
   "source": [
    "import zarr\n",
    "\n",
    "zarr.config.set({\n",
    "    'async': {'concurrency': 100, 'timeout': None},\n",
    "    'threading': {'max_workers': None}\n",
    "})"
   ]
  },
  {
   "cell_type": "markdown",
   "id": "cc39ea87-e9a6-4ceb-82df-407229af68ea",
   "metadata": {},
   "source": [
    "# 1. Start a dask cluster\n",
    "\n",
    "The dask cluster will help parallelize generating references and in computation for validation."
   ]
  },
  {
   "cell_type": "code",
   "execution_count": 97,
   "id": "368a270a-b30f-4b88-9e3c-cea0fe100949",
   "metadata": {},
   "outputs": [
    {
     "data": {
      "text/html": [
       "<div>\n",
       "    <div style=\"width: 24px; height: 24px; background-color: #e1e1e1; border: 3px solid #9D9D9D; border-radius: 5px; position: absolute;\"> </div>\n",
       "    <div style=\"margin-left: 48px;\">\n",
       "        <h3 style=\"margin-bottom: 0px;\">Client</h3>\n",
       "        <p style=\"color: #9D9D9D; margin-bottom: 0px;\">Client-fbbd916a-dd01-11ef-83e2-be1277e0a451</p>\n",
       "        <table style=\"width: 100%; text-align: left;\">\n",
       "\n",
       "        <tr>\n",
       "        \n",
       "            <td style=\"text-align: left;\"><strong>Connection method:</strong> Cluster object</td>\n",
       "            <td style=\"text-align: left;\"><strong>Cluster type:</strong> distributed.LocalCluster</td>\n",
       "        \n",
       "        </tr>\n",
       "\n",
       "        \n",
       "            <tr>\n",
       "                <td style=\"text-align: left;\">\n",
       "                    <strong>Dashboard: </strong> <a href=\"/user/abarciauskas-bgse/proxy/41577/status\" target=\"_blank\">/user/abarciauskas-bgse/proxy/41577/status</a>\n",
       "                </td>\n",
       "                <td style=\"text-align: left;\"></td>\n",
       "            </tr>\n",
       "        \n",
       "\n",
       "        </table>\n",
       "\n",
       "        \n",
       "\n",
       "        \n",
       "            <details>\n",
       "            <summary style=\"margin-bottom: 20px;\"><h3 style=\"display: inline;\">Cluster Info</h3></summary>\n",
       "            <div class=\"jp-RenderedHTMLCommon jp-RenderedHTML jp-mod-trusted jp-OutputArea-output\">\n",
       "    <div style=\"width: 24px; height: 24px; background-color: #e1e1e1; border: 3px solid #9D9D9D; border-radius: 5px; position: absolute;\">\n",
       "    </div>\n",
       "    <div style=\"margin-left: 48px;\">\n",
       "        <h3 style=\"margin-bottom: 0px; margin-top: 0px;\">LocalCluster</h3>\n",
       "        <p style=\"color: #9D9D9D; margin-bottom: 0px;\">8e6f8ccd</p>\n",
       "        <table style=\"width: 100%; text-align: left;\">\n",
       "            <tr>\n",
       "                <td style=\"text-align: left;\">\n",
       "                    <strong>Dashboard:</strong> <a href=\"/user/abarciauskas-bgse/proxy/41577/status\" target=\"_blank\">/user/abarciauskas-bgse/proxy/41577/status</a>\n",
       "                </td>\n",
       "                <td style=\"text-align: left;\">\n",
       "                    <strong>Workers:</strong> 4\n",
       "                </td>\n",
       "            </tr>\n",
       "            <tr>\n",
       "                <td style=\"text-align: left;\">\n",
       "                    <strong>Total threads:</strong> 4\n",
       "                </td>\n",
       "                <td style=\"text-align: left;\">\n",
       "                    <strong>Total memory:</strong> 60.62 GiB\n",
       "                </td>\n",
       "            </tr>\n",
       "            \n",
       "            <tr>\n",
       "    <td style=\"text-align: left;\"><strong>Status:</strong> running</td>\n",
       "    <td style=\"text-align: left;\"><strong>Using processes:</strong> True</td>\n",
       "</tr>\n",
       "\n",
       "            \n",
       "        </table>\n",
       "\n",
       "        <details>\n",
       "            <summary style=\"margin-bottom: 20px;\">\n",
       "                <h3 style=\"display: inline;\">Scheduler Info</h3>\n",
       "            </summary>\n",
       "\n",
       "            <div style=\"\">\n",
       "    <div>\n",
       "        <div style=\"width: 24px; height: 24px; background-color: #FFF7E5; border: 3px solid #FF6132; border-radius: 5px; position: absolute;\"> </div>\n",
       "        <div style=\"margin-left: 48px;\">\n",
       "            <h3 style=\"margin-bottom: 0px;\">Scheduler</h3>\n",
       "            <p style=\"color: #9D9D9D; margin-bottom: 0px;\">Scheduler-0c03052a-ce1b-406e-99ec-407abdf20263</p>\n",
       "            <table style=\"width: 100%; text-align: left;\">\n",
       "                <tr>\n",
       "                    <td style=\"text-align: left;\">\n",
       "                        <strong>Comm:</strong> tcp://127.0.0.1:35209\n",
       "                    </td>\n",
       "                    <td style=\"text-align: left;\">\n",
       "                        <strong>Workers:</strong> 4\n",
       "                    </td>\n",
       "                </tr>\n",
       "                <tr>\n",
       "                    <td style=\"text-align: left;\">\n",
       "                        <strong>Dashboard:</strong> <a href=\"/user/abarciauskas-bgse/proxy/41577/status\" target=\"_blank\">/user/abarciauskas-bgse/proxy/41577/status</a>\n",
       "                    </td>\n",
       "                    <td style=\"text-align: left;\">\n",
       "                        <strong>Total threads:</strong> 4\n",
       "                    </td>\n",
       "                </tr>\n",
       "                <tr>\n",
       "                    <td style=\"text-align: left;\">\n",
       "                        <strong>Started:</strong> Just now\n",
       "                    </td>\n",
       "                    <td style=\"text-align: left;\">\n",
       "                        <strong>Total memory:</strong> 60.62 GiB\n",
       "                    </td>\n",
       "                </tr>\n",
       "            </table>\n",
       "        </div>\n",
       "    </div>\n",
       "\n",
       "    <details style=\"margin-left: 48px;\">\n",
       "        <summary style=\"margin-bottom: 20px;\">\n",
       "            <h3 style=\"display: inline;\">Workers</h3>\n",
       "        </summary>\n",
       "\n",
       "        \n",
       "        <div style=\"margin-bottom: 20px;\">\n",
       "            <div style=\"width: 24px; height: 24px; background-color: #DBF5FF; border: 3px solid #4CC9FF; border-radius: 5px; position: absolute;\"> </div>\n",
       "            <div style=\"margin-left: 48px;\">\n",
       "            <details>\n",
       "                <summary>\n",
       "                    <h4 style=\"margin-bottom: 0px; display: inline;\">Worker: 0</h4>\n",
       "                </summary>\n",
       "                <table style=\"width: 100%; text-align: left;\">\n",
       "                    <tr>\n",
       "                        <td style=\"text-align: left;\">\n",
       "                            <strong>Comm: </strong> tcp://127.0.0.1:41661\n",
       "                        </td>\n",
       "                        <td style=\"text-align: left;\">\n",
       "                            <strong>Total threads: </strong> 1\n",
       "                        </td>\n",
       "                    </tr>\n",
       "                    <tr>\n",
       "                        <td style=\"text-align: left;\">\n",
       "                            <strong>Dashboard: </strong> <a href=\"/user/abarciauskas-bgse/proxy/41931/status\" target=\"_blank\">/user/abarciauskas-bgse/proxy/41931/status</a>\n",
       "                        </td>\n",
       "                        <td style=\"text-align: left;\">\n",
       "                            <strong>Memory: </strong> 15.16 GiB\n",
       "                        </td>\n",
       "                    </tr>\n",
       "                    <tr>\n",
       "                        <td style=\"text-align: left;\">\n",
       "                            <strong>Nanny: </strong> tcp://127.0.0.1:45211\n",
       "                        </td>\n",
       "                        <td style=\"text-align: left;\"></td>\n",
       "                    </tr>\n",
       "                    <tr>\n",
       "                        <td colspan=\"2\" style=\"text-align: left;\">\n",
       "                            <strong>Local directory: </strong> /tmp/dask-scratch-space/worker-1u2et9fu\n",
       "                        </td>\n",
       "                    </tr>\n",
       "\n",
       "                    \n",
       "\n",
       "                    \n",
       "\n",
       "                </table>\n",
       "            </details>\n",
       "            </div>\n",
       "        </div>\n",
       "        \n",
       "        <div style=\"margin-bottom: 20px;\">\n",
       "            <div style=\"width: 24px; height: 24px; background-color: #DBF5FF; border: 3px solid #4CC9FF; border-radius: 5px; position: absolute;\"> </div>\n",
       "            <div style=\"margin-left: 48px;\">\n",
       "            <details>\n",
       "                <summary>\n",
       "                    <h4 style=\"margin-bottom: 0px; display: inline;\">Worker: 1</h4>\n",
       "                </summary>\n",
       "                <table style=\"width: 100%; text-align: left;\">\n",
       "                    <tr>\n",
       "                        <td style=\"text-align: left;\">\n",
       "                            <strong>Comm: </strong> tcp://127.0.0.1:46477\n",
       "                        </td>\n",
       "                        <td style=\"text-align: left;\">\n",
       "                            <strong>Total threads: </strong> 1\n",
       "                        </td>\n",
       "                    </tr>\n",
       "                    <tr>\n",
       "                        <td style=\"text-align: left;\">\n",
       "                            <strong>Dashboard: </strong> <a href=\"/user/abarciauskas-bgse/proxy/41001/status\" target=\"_blank\">/user/abarciauskas-bgse/proxy/41001/status</a>\n",
       "                        </td>\n",
       "                        <td style=\"text-align: left;\">\n",
       "                            <strong>Memory: </strong> 15.16 GiB\n",
       "                        </td>\n",
       "                    </tr>\n",
       "                    <tr>\n",
       "                        <td style=\"text-align: left;\">\n",
       "                            <strong>Nanny: </strong> tcp://127.0.0.1:41723\n",
       "                        </td>\n",
       "                        <td style=\"text-align: left;\"></td>\n",
       "                    </tr>\n",
       "                    <tr>\n",
       "                        <td colspan=\"2\" style=\"text-align: left;\">\n",
       "                            <strong>Local directory: </strong> /tmp/dask-scratch-space/worker-bluk91hc\n",
       "                        </td>\n",
       "                    </tr>\n",
       "\n",
       "                    \n",
       "\n",
       "                    \n",
       "\n",
       "                </table>\n",
       "            </details>\n",
       "            </div>\n",
       "        </div>\n",
       "        \n",
       "        <div style=\"margin-bottom: 20px;\">\n",
       "            <div style=\"width: 24px; height: 24px; background-color: #DBF5FF; border: 3px solid #4CC9FF; border-radius: 5px; position: absolute;\"> </div>\n",
       "            <div style=\"margin-left: 48px;\">\n",
       "            <details>\n",
       "                <summary>\n",
       "                    <h4 style=\"margin-bottom: 0px; display: inline;\">Worker: 2</h4>\n",
       "                </summary>\n",
       "                <table style=\"width: 100%; text-align: left;\">\n",
       "                    <tr>\n",
       "                        <td style=\"text-align: left;\">\n",
       "                            <strong>Comm: </strong> tcp://127.0.0.1:35289\n",
       "                        </td>\n",
       "                        <td style=\"text-align: left;\">\n",
       "                            <strong>Total threads: </strong> 1\n",
       "                        </td>\n",
       "                    </tr>\n",
       "                    <tr>\n",
       "                        <td style=\"text-align: left;\">\n",
       "                            <strong>Dashboard: </strong> <a href=\"/user/abarciauskas-bgse/proxy/46387/status\" target=\"_blank\">/user/abarciauskas-bgse/proxy/46387/status</a>\n",
       "                        </td>\n",
       "                        <td style=\"text-align: left;\">\n",
       "                            <strong>Memory: </strong> 15.16 GiB\n",
       "                        </td>\n",
       "                    </tr>\n",
       "                    <tr>\n",
       "                        <td style=\"text-align: left;\">\n",
       "                            <strong>Nanny: </strong> tcp://127.0.0.1:41825\n",
       "                        </td>\n",
       "                        <td style=\"text-align: left;\"></td>\n",
       "                    </tr>\n",
       "                    <tr>\n",
       "                        <td colspan=\"2\" style=\"text-align: left;\">\n",
       "                            <strong>Local directory: </strong> /tmp/dask-scratch-space/worker-r8zwhhux\n",
       "                        </td>\n",
       "                    </tr>\n",
       "\n",
       "                    \n",
       "\n",
       "                    \n",
       "\n",
       "                </table>\n",
       "            </details>\n",
       "            </div>\n",
       "        </div>\n",
       "        \n",
       "        <div style=\"margin-bottom: 20px;\">\n",
       "            <div style=\"width: 24px; height: 24px; background-color: #DBF5FF; border: 3px solid #4CC9FF; border-radius: 5px; position: absolute;\"> </div>\n",
       "            <div style=\"margin-left: 48px;\">\n",
       "            <details>\n",
       "                <summary>\n",
       "                    <h4 style=\"margin-bottom: 0px; display: inline;\">Worker: 3</h4>\n",
       "                </summary>\n",
       "                <table style=\"width: 100%; text-align: left;\">\n",
       "                    <tr>\n",
       "                        <td style=\"text-align: left;\">\n",
       "                            <strong>Comm: </strong> tcp://127.0.0.1:45397\n",
       "                        </td>\n",
       "                        <td style=\"text-align: left;\">\n",
       "                            <strong>Total threads: </strong> 1\n",
       "                        </td>\n",
       "                    </tr>\n",
       "                    <tr>\n",
       "                        <td style=\"text-align: left;\">\n",
       "                            <strong>Dashboard: </strong> <a href=\"/user/abarciauskas-bgse/proxy/39697/status\" target=\"_blank\">/user/abarciauskas-bgse/proxy/39697/status</a>\n",
       "                        </td>\n",
       "                        <td style=\"text-align: left;\">\n",
       "                            <strong>Memory: </strong> 15.16 GiB\n",
       "                        </td>\n",
       "                    </tr>\n",
       "                    <tr>\n",
       "                        <td style=\"text-align: left;\">\n",
       "                            <strong>Nanny: </strong> tcp://127.0.0.1:34649\n",
       "                        </td>\n",
       "                        <td style=\"text-align: left;\"></td>\n",
       "                    </tr>\n",
       "                    <tr>\n",
       "                        <td colspan=\"2\" style=\"text-align: left;\">\n",
       "                            <strong>Local directory: </strong> /tmp/dask-scratch-space/worker-mcqclaed\n",
       "                        </td>\n",
       "                    </tr>\n",
       "\n",
       "                    \n",
       "\n",
       "                    \n",
       "\n",
       "                </table>\n",
       "            </details>\n",
       "            </div>\n",
       "        </div>\n",
       "        \n",
       "\n",
       "    </details>\n",
       "</div>\n",
       "\n",
       "        </details>\n",
       "    </div>\n",
       "</div>\n",
       "            </details>\n",
       "        \n",
       "\n",
       "    </div>\n",
       "</div>"
      ],
      "text/plain": [
       "<Client: 'tcp://127.0.0.1:35209' processes=4 threads=4, memory=60.62 GiB>"
      ]
     },
     "execution_count": 97,
     "metadata": {},
     "output_type": "execute_result"
    }
   ],
   "source": [
    "from dask.distributed import Client\n",
    "# for zarr\n",
    "client = Client(n_workers=4, threads_per_worker=1)\n",
    "#client = Client(n_workers=8)\n",
    "client"
   ]
  },
  {
   "cell_type": "code",
   "execution_count": 96,
   "id": "b72b65a2-7ce6-4b6c-b1e9-b862dee122d1",
   "metadata": {},
   "outputs": [],
   "source": [
    "#client.shutdown()"
   ]
  },
  {
   "cell_type": "markdown",
   "id": "12817cf2-fb96-4d44-878b-8be9dc02d5ca",
   "metadata": {},
   "source": [
    "# 2. Initialize file stores for reading and writing"
   ]
  },
  {
   "cell_type": "markdown",
   "id": "15fef9b1-b783-425f-951a-631a7296c548",
   "metadata": {},
   "source": [
    "## 2a. Initialize a filesystem for accessing the MUR SST data files."
   ]
  },
  {
   "cell_type": "code",
   "execution_count": 5,
   "id": "0bf1a93e-6452-483b-b3a8-e1d405953ce7",
   "metadata": {},
   "outputs": [],
   "source": [
    "fs = fsspec.filesystem(\"s3\", anon=False)"
   ]
  },
  {
   "cell_type": "markdown",
   "id": "74f6f96e-b04f-45cc-b080-998f9d3497d7",
   "metadata": {},
   "source": [
    "## 2b. Initialize the store we are writing to (icechunk).\n",
    "\n",
    "**NOTE:** If just appending to the store, `overwrite` should `=False`.\n",
    "\n",
    "If overwriting an existing s3 store, you may need to run the following lines:\n",
    "\n",
    "<code>\n",
    "!pip install awscli\n",
    "!aws s3 rm --recursive s3://nasa-veda-scratch/icechunk/{store_name}\n",
    "</code>"
   ]
  },
  {
   "cell_type": "code",
   "execution_count": 116,
   "id": "617867ad-f1f3-4bd7-b3d7-98b4b11b8478",
   "metadata": {},
   "outputs": [],
   "source": [
    "repo = helpers.find_or_create_icechunk_repo(\n",
    "    store_name=\"MUR-JPL-L4-GLOB-v4.1-virtual-v4\",\n",
    "    store_type=\"s3\",\n",
    "    overwrite=False\n",
    ")"
   ]
  },
  {
   "cell_type": "markdown",
   "id": "eaf2d900-3458-4ae7-8fc2-fa0fe62a34df",
   "metadata": {},
   "source": [
    "## Optional: Check the current state of the store"
   ]
  },
  {
   "cell_type": "markdown",
   "id": "d3821967-d818-40bd-9712-9d78b392d275",
   "metadata": {},
   "source": [
    "### Verify the store by opening it with xarray\n",
    "\n",
    "Note how long it takes to open as well."
   ]
  },
  {
   "cell_type": "code",
   "execution_count": 100,
   "id": "e197fd1c-88d8-4b39-8201-878545b988bf",
   "metadata": {},
   "outputs": [
    {
     "name": "stdout",
     "output_type": "stream",
     "text": [
      "CPU times: user 10.3 s, sys: 2.44 s, total: 12.7 s\n",
      "Wall time: 19.9 s\n"
     ]
    }
   ],
   "source": [
    "%%time\n",
    "import xarray as xr\n",
    "session = repo.readonly_session(branch=\"main\")\n",
    "xds = xr.open_zarr(session.store, consolidated=False)"
   ]
  },
  {
   "cell_type": "code",
   "execution_count": 101,
   "id": "361f01a3-7446-4f31-b15a-fc799c6a67ea",
   "metadata": {},
   "outputs": [
    {
     "data": {
      "text/html": [
       "<div><svg style=\"position: absolute; width: 0; height: 0; overflow: hidden\">\n",
       "<defs>\n",
       "<symbol id=\"icon-database\" viewBox=\"0 0 32 32\">\n",
       "<path d=\"M16 0c-8.837 0-16 2.239-16 5v4c0 2.761 7.163 5 16 5s16-2.239 16-5v-4c0-2.761-7.163-5-16-5z\"></path>\n",
       "<path d=\"M16 17c-8.837 0-16-2.239-16-5v6c0 2.761 7.163 5 16 5s16-2.239 16-5v-6c0 2.761-7.163 5-16 5z\"></path>\n",
       "<path d=\"M16 26c-8.837 0-16-2.239-16-5v6c0 2.761 7.163 5 16 5s16-2.239 16-5v-6c0 2.761-7.163 5-16 5z\"></path>\n",
       "</symbol>\n",
       "<symbol id=\"icon-file-text2\" viewBox=\"0 0 32 32\">\n",
       "<path d=\"M28.681 7.159c-0.694-0.947-1.662-2.053-2.724-3.116s-2.169-2.030-3.116-2.724c-1.612-1.182-2.393-1.319-2.841-1.319h-15.5c-1.378 0-2.5 1.121-2.5 2.5v27c0 1.378 1.122 2.5 2.5 2.5h23c1.378 0 2.5-1.122 2.5-2.5v-19.5c0-0.448-0.137-1.23-1.319-2.841zM24.543 5.457c0.959 0.959 1.712 1.825 2.268 2.543h-4.811v-4.811c0.718 0.556 1.584 1.309 2.543 2.268zM28 29.5c0 0.271-0.229 0.5-0.5 0.5h-23c-0.271 0-0.5-0.229-0.5-0.5v-27c0-0.271 0.229-0.5 0.5-0.5 0 0 15.499-0 15.5 0v7c0 0.552 0.448 1 1 1h7v19.5z\"></path>\n",
       "<path d=\"M23 26h-14c-0.552 0-1-0.448-1-1s0.448-1 1-1h14c0.552 0 1 0.448 1 1s-0.448 1-1 1z\"></path>\n",
       "<path d=\"M23 22h-14c-0.552 0-1-0.448-1-1s0.448-1 1-1h14c0.552 0 1 0.448 1 1s-0.448 1-1 1z\"></path>\n",
       "<path d=\"M23 18h-14c-0.552 0-1-0.448-1-1s0.448-1 1-1h14c0.552 0 1 0.448 1 1s-0.448 1-1 1z\"></path>\n",
       "</symbol>\n",
       "</defs>\n",
       "</svg>\n",
       "<style>/* CSS stylesheet for displaying xarray objects in jupyterlab.\n",
       " *\n",
       " */\n",
       "\n",
       ":root {\n",
       "  --xr-font-color0: var(--jp-content-font-color0, rgba(0, 0, 0, 1));\n",
       "  --xr-font-color2: var(--jp-content-font-color2, rgba(0, 0, 0, 0.54));\n",
       "  --xr-font-color3: var(--jp-content-font-color3, rgba(0, 0, 0, 0.38));\n",
       "  --xr-border-color: var(--jp-border-color2, #e0e0e0);\n",
       "  --xr-disabled-color: var(--jp-layout-color3, #bdbdbd);\n",
       "  --xr-background-color: var(--jp-layout-color0, white);\n",
       "  --xr-background-color-row-even: var(--jp-layout-color1, white);\n",
       "  --xr-background-color-row-odd: var(--jp-layout-color2, #eeeeee);\n",
       "}\n",
       "\n",
       "html[theme=\"dark\"],\n",
       "html[data-theme=\"dark\"],\n",
       "body[data-theme=\"dark\"],\n",
       "body.vscode-dark {\n",
       "  --xr-font-color0: rgba(255, 255, 255, 1);\n",
       "  --xr-font-color2: rgba(255, 255, 255, 0.54);\n",
       "  --xr-font-color3: rgba(255, 255, 255, 0.38);\n",
       "  --xr-border-color: #1f1f1f;\n",
       "  --xr-disabled-color: #515151;\n",
       "  --xr-background-color: #111111;\n",
       "  --xr-background-color-row-even: #111111;\n",
       "  --xr-background-color-row-odd: #313131;\n",
       "}\n",
       "\n",
       ".xr-wrap {\n",
       "  display: block !important;\n",
       "  min-width: 300px;\n",
       "  max-width: 700px;\n",
       "}\n",
       "\n",
       ".xr-text-repr-fallback {\n",
       "  /* fallback to plain text repr when CSS is not injected (untrusted notebook) */\n",
       "  display: none;\n",
       "}\n",
       "\n",
       ".xr-header {\n",
       "  padding-top: 6px;\n",
       "  padding-bottom: 6px;\n",
       "  margin-bottom: 4px;\n",
       "  border-bottom: solid 1px var(--xr-border-color);\n",
       "}\n",
       "\n",
       ".xr-header > div,\n",
       ".xr-header > ul {\n",
       "  display: inline;\n",
       "  margin-top: 0;\n",
       "  margin-bottom: 0;\n",
       "}\n",
       "\n",
       ".xr-obj-type,\n",
       ".xr-array-name {\n",
       "  margin-left: 2px;\n",
       "  margin-right: 10px;\n",
       "}\n",
       "\n",
       ".xr-obj-type {\n",
       "  color: var(--xr-font-color2);\n",
       "}\n",
       "\n",
       ".xr-sections {\n",
       "  padding-left: 0 !important;\n",
       "  display: grid;\n",
       "  grid-template-columns: 150px auto auto 1fr 0 20px 0 20px;\n",
       "}\n",
       "\n",
       ".xr-section-item {\n",
       "  display: contents;\n",
       "}\n",
       "\n",
       ".xr-section-item input {\n",
       "  display: inline-block;\n",
       "  opacity: 0;\n",
       "  height: 0;\n",
       "}\n",
       "\n",
       ".xr-section-item input + label {\n",
       "  color: var(--xr-disabled-color);\n",
       "}\n",
       "\n",
       ".xr-section-item input:enabled + label {\n",
       "  cursor: pointer;\n",
       "  color: var(--xr-font-color2);\n",
       "}\n",
       "\n",
       ".xr-section-item input:focus + label {\n",
       "  border: 2px solid var(--xr-font-color0);\n",
       "}\n",
       "\n",
       ".xr-section-item input:enabled + label:hover {\n",
       "  color: var(--xr-font-color0);\n",
       "}\n",
       "\n",
       ".xr-section-summary {\n",
       "  grid-column: 1;\n",
       "  color: var(--xr-font-color2);\n",
       "  font-weight: 500;\n",
       "}\n",
       "\n",
       ".xr-section-summary > span {\n",
       "  display: inline-block;\n",
       "  padding-left: 0.5em;\n",
       "}\n",
       "\n",
       ".xr-section-summary-in:disabled + label {\n",
       "  color: var(--xr-font-color2);\n",
       "}\n",
       "\n",
       ".xr-section-summary-in + label:before {\n",
       "  display: inline-block;\n",
       "  content: \"►\";\n",
       "  font-size: 11px;\n",
       "  width: 15px;\n",
       "  text-align: center;\n",
       "}\n",
       "\n",
       ".xr-section-summary-in:disabled + label:before {\n",
       "  color: var(--xr-disabled-color);\n",
       "}\n",
       "\n",
       ".xr-section-summary-in:checked + label:before {\n",
       "  content: \"▼\";\n",
       "}\n",
       "\n",
       ".xr-section-summary-in:checked + label > span {\n",
       "  display: none;\n",
       "}\n",
       "\n",
       ".xr-section-summary,\n",
       ".xr-section-inline-details {\n",
       "  padding-top: 4px;\n",
       "  padding-bottom: 4px;\n",
       "}\n",
       "\n",
       ".xr-section-inline-details {\n",
       "  grid-column: 2 / -1;\n",
       "}\n",
       "\n",
       ".xr-section-details {\n",
       "  display: none;\n",
       "  grid-column: 1 / -1;\n",
       "  margin-bottom: 5px;\n",
       "}\n",
       "\n",
       ".xr-section-summary-in:checked ~ .xr-section-details {\n",
       "  display: contents;\n",
       "}\n",
       "\n",
       ".xr-array-wrap {\n",
       "  grid-column: 1 / -1;\n",
       "  display: grid;\n",
       "  grid-template-columns: 20px auto;\n",
       "}\n",
       "\n",
       ".xr-array-wrap > label {\n",
       "  grid-column: 1;\n",
       "  vertical-align: top;\n",
       "}\n",
       "\n",
       ".xr-preview {\n",
       "  color: var(--xr-font-color3);\n",
       "}\n",
       "\n",
       ".xr-array-preview,\n",
       ".xr-array-data {\n",
       "  padding: 0 5px !important;\n",
       "  grid-column: 2;\n",
       "}\n",
       "\n",
       ".xr-array-data,\n",
       ".xr-array-in:checked ~ .xr-array-preview {\n",
       "  display: none;\n",
       "}\n",
       "\n",
       ".xr-array-in:checked ~ .xr-array-data,\n",
       ".xr-array-preview {\n",
       "  display: inline-block;\n",
       "}\n",
       "\n",
       ".xr-dim-list {\n",
       "  display: inline-block !important;\n",
       "  list-style: none;\n",
       "  padding: 0 !important;\n",
       "  margin: 0;\n",
       "}\n",
       "\n",
       ".xr-dim-list li {\n",
       "  display: inline-block;\n",
       "  padding: 0;\n",
       "  margin: 0;\n",
       "}\n",
       "\n",
       ".xr-dim-list:before {\n",
       "  content: \"(\";\n",
       "}\n",
       "\n",
       ".xr-dim-list:after {\n",
       "  content: \")\";\n",
       "}\n",
       "\n",
       ".xr-dim-list li:not(:last-child):after {\n",
       "  content: \",\";\n",
       "  padding-right: 5px;\n",
       "}\n",
       "\n",
       ".xr-has-index {\n",
       "  font-weight: bold;\n",
       "}\n",
       "\n",
       ".xr-var-list,\n",
       ".xr-var-item {\n",
       "  display: contents;\n",
       "}\n",
       "\n",
       ".xr-var-item > div,\n",
       ".xr-var-item label,\n",
       ".xr-var-item > .xr-var-name span {\n",
       "  background-color: var(--xr-background-color-row-even);\n",
       "  margin-bottom: 0;\n",
       "}\n",
       "\n",
       ".xr-var-item > .xr-var-name:hover span {\n",
       "  padding-right: 5px;\n",
       "}\n",
       "\n",
       ".xr-var-list > li:nth-child(odd) > div,\n",
       ".xr-var-list > li:nth-child(odd) > label,\n",
       ".xr-var-list > li:nth-child(odd) > .xr-var-name span {\n",
       "  background-color: var(--xr-background-color-row-odd);\n",
       "}\n",
       "\n",
       ".xr-var-name {\n",
       "  grid-column: 1;\n",
       "}\n",
       "\n",
       ".xr-var-dims {\n",
       "  grid-column: 2;\n",
       "}\n",
       "\n",
       ".xr-var-dtype {\n",
       "  grid-column: 3;\n",
       "  text-align: right;\n",
       "  color: var(--xr-font-color2);\n",
       "}\n",
       "\n",
       ".xr-var-preview {\n",
       "  grid-column: 4;\n",
       "}\n",
       "\n",
       ".xr-index-preview {\n",
       "  grid-column: 2 / 5;\n",
       "  color: var(--xr-font-color2);\n",
       "}\n",
       "\n",
       ".xr-var-name,\n",
       ".xr-var-dims,\n",
       ".xr-var-dtype,\n",
       ".xr-preview,\n",
       ".xr-attrs dt {\n",
       "  white-space: nowrap;\n",
       "  overflow: hidden;\n",
       "  text-overflow: ellipsis;\n",
       "  padding-right: 10px;\n",
       "}\n",
       "\n",
       ".xr-var-name:hover,\n",
       ".xr-var-dims:hover,\n",
       ".xr-var-dtype:hover,\n",
       ".xr-attrs dt:hover {\n",
       "  overflow: visible;\n",
       "  width: auto;\n",
       "  z-index: 1;\n",
       "}\n",
       "\n",
       ".xr-var-attrs,\n",
       ".xr-var-data,\n",
       ".xr-index-data {\n",
       "  display: none;\n",
       "  background-color: var(--xr-background-color) !important;\n",
       "  padding-bottom: 5px !important;\n",
       "}\n",
       "\n",
       ".xr-var-attrs-in:checked ~ .xr-var-attrs,\n",
       ".xr-var-data-in:checked ~ .xr-var-data,\n",
       ".xr-index-data-in:checked ~ .xr-index-data {\n",
       "  display: block;\n",
       "}\n",
       "\n",
       ".xr-var-data > table {\n",
       "  float: right;\n",
       "}\n",
       "\n",
       ".xr-var-name span,\n",
       ".xr-var-data,\n",
       ".xr-index-name div,\n",
       ".xr-index-data,\n",
       ".xr-attrs {\n",
       "  padding-left: 25px !important;\n",
       "}\n",
       "\n",
       ".xr-attrs,\n",
       ".xr-var-attrs,\n",
       ".xr-var-data,\n",
       ".xr-index-data {\n",
       "  grid-column: 1 / -1;\n",
       "}\n",
       "\n",
       "dl.xr-attrs {\n",
       "  padding: 0;\n",
       "  margin: 0;\n",
       "  display: grid;\n",
       "  grid-template-columns: 125px auto;\n",
       "}\n",
       "\n",
       ".xr-attrs dt,\n",
       ".xr-attrs dd {\n",
       "  padding: 0;\n",
       "  margin: 0;\n",
       "  float: left;\n",
       "  padding-right: 10px;\n",
       "  width: auto;\n",
       "}\n",
       "\n",
       ".xr-attrs dt {\n",
       "  font-weight: normal;\n",
       "  grid-column: 1;\n",
       "}\n",
       "\n",
       ".xr-attrs dt:hover span {\n",
       "  display: inline-block;\n",
       "  background: var(--xr-background-color);\n",
       "  padding-right: 10px;\n",
       "}\n",
       "\n",
       ".xr-attrs dd {\n",
       "  grid-column: 2;\n",
       "  white-space: pre-wrap;\n",
       "  word-break: break-all;\n",
       "}\n",
       "\n",
       ".xr-icon-database,\n",
       ".xr-icon-file-text2,\n",
       ".xr-no-icon {\n",
       "  display: inline-block;\n",
       "  vertical-align: middle;\n",
       "  width: 1em;\n",
       "  height: 1.5em !important;\n",
       "  stroke-width: 0;\n",
       "  stroke: currentColor;\n",
       "  fill: currentColor;\n",
       "}\n",
       "</style><pre class='xr-text-repr-fallback'>&lt;xarray.Dataset&gt; Size: 130TB\n",
       "Dimensions:           (time: 7156, lat: 17999, lon: 36000)\n",
       "Coordinates:\n",
       "  * time              (time) datetime64[ns] 57kB 2002-06-01T09:00:00 ... 2022...\n",
       "  * lat               (lat) float32 72kB -89.99 -89.98 -89.97 ... 89.98 89.99\n",
       "  * lon               (lon) float32 144kB -180.0 -180.0 -180.0 ... 180.0 180.0\n",
       "Data variables:\n",
       "    analysed_sst      (time, lat, lon) float64 37TB dask.array&lt;chunksize=(1, 1023, 2047), meta=np.ndarray&gt;\n",
       "    analysis_error    (time, lat, lon) float64 37TB dask.array&lt;chunksize=(1, 1023, 2047), meta=np.ndarray&gt;\n",
       "    sea_ice_fraction  (time, lat, lon) float64 37TB dask.array&lt;chunksize=(1, 1447, 2895), meta=np.ndarray&gt;\n",
       "    mask              (time, lat, lon) float32 19TB dask.array&lt;chunksize=(1, 1447, 2895), meta=np.ndarray&gt;\n",
       "Attributes: (12/47)\n",
       "    Conventions:                CF-1.7\n",
       "    Metadata_Conventions:       Unidata Observation Dataset v1.0\n",
       "    acknowledgment:             Please acknowledge the use of these data with...\n",
       "    cdm_data_type:              grid\n",
       "    comment:                    MUR = &quot;Multi-scale Ultra-high Resolution&quot;\n",
       "    creator_email:              ghrsst@podaac.jpl.nasa.gov\n",
       "    ...                         ...\n",
       "    summary:                    A merged, multi-sensor L4 Foundation SST anal...\n",
       "    time_coverage_end:          20210222T210000Z\n",
       "    time_coverage_start:        20210221T210000Z\n",
       "    title:                      Daily MUR SST, Final product\n",
       "    uuid:                       27665bc0-d5fc-11e1-9b23-0800200c9a66\n",
       "    westernmost_longitude:      -180.0</pre><div class='xr-wrap' style='display:none'><div class='xr-header'><div class='xr-obj-type'>xarray.Dataset</div></div><ul class='xr-sections'><li class='xr-section-item'><input id='section-6bd31749-e0fa-4ec9-ac5f-0390f1af0fa6' class='xr-section-summary-in' type='checkbox' disabled ><label for='section-6bd31749-e0fa-4ec9-ac5f-0390f1af0fa6' class='xr-section-summary'  title='Expand/collapse section'>Dimensions:</label><div class='xr-section-inline-details'><ul class='xr-dim-list'><li><span class='xr-has-index'>time</span>: 7156</li><li><span class='xr-has-index'>lat</span>: 17999</li><li><span class='xr-has-index'>lon</span>: 36000</li></ul></div><div class='xr-section-details'></div></li><li class='xr-section-item'><input id='section-0dd8ba52-8569-4560-9545-92ed94c3f8ca' class='xr-section-summary-in' type='checkbox'  checked><label for='section-0dd8ba52-8569-4560-9545-92ed94c3f8ca' class='xr-section-summary' >Coordinates: <span>(3)</span></label><div class='xr-section-inline-details'></div><div class='xr-section-details'><ul class='xr-var-list'><li class='xr-var-item'><div class='xr-var-name'><span class='xr-has-index'>time</span></div><div class='xr-var-dims'>(time)</div><div class='xr-var-dtype'>datetime64[ns]</div><div class='xr-var-preview xr-preview'>2002-06-01T09:00:00 ... 2022-01-...</div><input id='attrs-859a34fe-981d-4ffa-af54-87d365158c48' class='xr-var-attrs-in' type='checkbox' ><label for='attrs-859a34fe-981d-4ffa-af54-87d365158c48' title='Show/Hide attributes'><svg class='icon xr-icon-file-text2'><use xlink:href='#icon-file-text2'></use></svg></label><input id='data-7bf9b6cd-d390-4132-80ce-d1c91a3a2ea1' class='xr-var-data-in' type='checkbox'><label for='data-7bf9b6cd-d390-4132-80ce-d1c91a3a2ea1' title='Show/Hide data repr'><svg class='icon xr-icon-database'><use xlink:href='#icon-database'></use></svg></label><div class='xr-var-attrs'><dl class='xr-attrs'><dt><span>axis :</span></dt><dd>T</dd><dt><span>comment :</span></dt><dd>Nominal time of analyzed fields</dd><dt><span>long_name :</span></dt><dd>reference time of sst field</dd><dt><span>standard_name :</span></dt><dd>time</dd></dl></div><div class='xr-var-data'><pre>array([&#x27;2002-06-01T09:00:00.000000000&#x27;, &#x27;2002-06-02T09:00:00.000000000&#x27;,\n",
       "       &#x27;2002-06-03T09:00:00.000000000&#x27;, ..., &#x27;2021-12-31T09:00:00.000000000&#x27;,\n",
       "       &#x27;2022-01-01T09:00:00.000000000&#x27;, &#x27;2022-01-02T09:00:00.000000000&#x27;],\n",
       "      dtype=&#x27;datetime64[ns]&#x27;)</pre></div></li><li class='xr-var-item'><div class='xr-var-name'><span class='xr-has-index'>lat</span></div><div class='xr-var-dims'>(lat)</div><div class='xr-var-dtype'>float32</div><div class='xr-var-preview xr-preview'>-89.99 -89.98 ... 89.98 89.99</div><input id='attrs-52e2c97e-2517-4955-a160-b4ddd673dd52' class='xr-var-attrs-in' type='checkbox' ><label for='attrs-52e2c97e-2517-4955-a160-b4ddd673dd52' title='Show/Hide attributes'><svg class='icon xr-icon-file-text2'><use xlink:href='#icon-file-text2'></use></svg></label><input id='data-3ee3cdb1-44f8-412f-adce-8768f875790d' class='xr-var-data-in' type='checkbox'><label for='data-3ee3cdb1-44f8-412f-adce-8768f875790d' title='Show/Hide data repr'><svg class='icon xr-icon-database'><use xlink:href='#icon-database'></use></svg></label><div class='xr-var-attrs'><dl class='xr-attrs'><dt><span>axis :</span></dt><dd>Y</dd><dt><span>comment :</span></dt><dd>geolocations inherited from the input data without correction</dd><dt><span>long_name :</span></dt><dd>latitude</dd><dt><span>standard_name :</span></dt><dd>latitude</dd><dt><span>units :</span></dt><dd>degrees_north</dd><dt><span>valid_max :</span></dt><dd>90.0</dd><dt><span>valid_min :</span></dt><dd>-90.0</dd></dl></div><div class='xr-var-data'><pre>array([-89.99, -89.98, -89.97, ...,  89.97,  89.98,  89.99], dtype=float32)</pre></div></li><li class='xr-var-item'><div class='xr-var-name'><span class='xr-has-index'>lon</span></div><div class='xr-var-dims'>(lon)</div><div class='xr-var-dtype'>float32</div><div class='xr-var-preview xr-preview'>-180.0 -180.0 ... 180.0 180.0</div><input id='attrs-a14fc264-7c0a-4048-944f-2e8d740065df' class='xr-var-attrs-in' type='checkbox' ><label for='attrs-a14fc264-7c0a-4048-944f-2e8d740065df' title='Show/Hide attributes'><svg class='icon xr-icon-file-text2'><use xlink:href='#icon-file-text2'></use></svg></label><input id='data-a60c0daa-7a77-420f-b799-862502d45f4c' class='xr-var-data-in' type='checkbox'><label for='data-a60c0daa-7a77-420f-b799-862502d45f4c' title='Show/Hide data repr'><svg class='icon xr-icon-database'><use xlink:href='#icon-database'></use></svg></label><div class='xr-var-attrs'><dl class='xr-attrs'><dt><span>axis :</span></dt><dd>X</dd><dt><span>comment :</span></dt><dd>geolocations inherited from the input data without correction</dd><dt><span>long_name :</span></dt><dd>longitude</dd><dt><span>standard_name :</span></dt><dd>longitude</dd><dt><span>units :</span></dt><dd>degrees_east</dd><dt><span>valid_max :</span></dt><dd>180.0</dd><dt><span>valid_min :</span></dt><dd>-180.0</dd></dl></div><div class='xr-var-data'><pre>array([-179.99, -179.98, -179.97, ...,  179.98,  179.99,  180.  ],\n",
       "      dtype=float32)</pre></div></li></ul></div></li><li class='xr-section-item'><input id='section-a936a8a7-78b6-4032-ab04-4facc727817a' class='xr-section-summary-in' type='checkbox'  checked><label for='section-a936a8a7-78b6-4032-ab04-4facc727817a' class='xr-section-summary' >Data variables: <span>(4)</span></label><div class='xr-section-inline-details'></div><div class='xr-section-details'><ul class='xr-var-list'><li class='xr-var-item'><div class='xr-var-name'><span>analysed_sst</span></div><div class='xr-var-dims'>(time, lat, lon)</div><div class='xr-var-dtype'>float64</div><div class='xr-var-preview xr-preview'>dask.array&lt;chunksize=(1, 1023, 2047), meta=np.ndarray&gt;</div><input id='attrs-667ee175-c975-4403-b394-b54348441ec1' class='xr-var-attrs-in' type='checkbox' ><label for='attrs-667ee175-c975-4403-b394-b54348441ec1' title='Show/Hide attributes'><svg class='icon xr-icon-file-text2'><use xlink:href='#icon-file-text2'></use></svg></label><input id='data-b4ddc5ae-e5bb-4168-9dc9-bcb5f191df6c' class='xr-var-data-in' type='checkbox'><label for='data-b4ddc5ae-e5bb-4168-9dc9-bcb5f191df6c' title='Show/Hide data repr'><svg class='icon xr-icon-database'><use xlink:href='#icon-database'></use></svg></label><div class='xr-var-attrs'><dl class='xr-attrs'><dt><span>comment :</span></dt><dd>&quot;Final&quot; version using Multi-Resolution Variational Analysis (MRVA) method for interpolation</dd><dt><span>long_name :</span></dt><dd>analysed sea surface temperature</dd><dt><span>source :</span></dt><dd>AMSRE-REMSS, AVHRR_Pathfinder-PFV5.2-NODC_day, AVHRR_Pathfinder-PFV5.2-NODC_night, MODIS_T-JPL, iQUAM-NOAA/NESDIS, Ice_Conc-OSISAF</dd><dt><span>standard_name :</span></dt><dd>sea_surface_foundation_temperature</dd><dt><span>units :</span></dt><dd>kelvin</dd><dt><span>valid_max :</span></dt><dd>32767</dd><dt><span>valid_min :</span></dt><dd>-32767</dd></dl></div><div class='xr-var-data'><table>\n",
       "    <tr>\n",
       "        <td>\n",
       "            <table style=\"border-collapse: collapse;\">\n",
       "                <thead>\n",
       "                    <tr>\n",
       "                        <td> </td>\n",
       "                        <th> Array </th>\n",
       "                        <th> Chunk </th>\n",
       "                    </tr>\n",
       "                </thead>\n",
       "                <tbody>\n",
       "                    \n",
       "                    <tr>\n",
       "                        <th> Bytes </th>\n",
       "                        <td> 33.74 TiB </td>\n",
       "                        <td> 15.98 MiB </td>\n",
       "                    </tr>\n",
       "                    \n",
       "                    <tr>\n",
       "                        <th> Shape </th>\n",
       "                        <td> (7156, 17999, 36000) </td>\n",
       "                        <td> (1, 1023, 2047) </td>\n",
       "                    </tr>\n",
       "                    <tr>\n",
       "                        <th> Dask graph </th>\n",
       "                        <td colspan=\"2\"> 2318544 chunks in 2 graph layers </td>\n",
       "                    </tr>\n",
       "                    <tr>\n",
       "                        <th> Data type </th>\n",
       "                        <td colspan=\"2\"> float64 numpy.ndarray </td>\n",
       "                    </tr>\n",
       "                </tbody>\n",
       "            </table>\n",
       "        </td>\n",
       "        <td>\n",
       "        <svg width=\"204\" height=\"134\" style=\"stroke:rgb(0,0,0);stroke-width:1\" >\n",
       "\n",
       "  <!-- Horizontal lines -->\n",
       "  <line x1=\"10\" y1=\"0\" x2=\"34\" y2=\"24\" style=\"stroke-width:2\" />\n",
       "  <line x1=\"10\" y1=\"3\" x2=\"34\" y2=\"28\" />\n",
       "  <line x1=\"10\" y1=\"6\" x2=\"34\" y2=\"31\" />\n",
       "  <line x1=\"10\" y1=\"10\" x2=\"34\" y2=\"34\" />\n",
       "  <line x1=\"10\" y1=\"13\" x2=\"34\" y2=\"38\" />\n",
       "  <line x1=\"10\" y1=\"17\" x2=\"34\" y2=\"41\" />\n",
       "  <line x1=\"10\" y1=\"20\" x2=\"34\" y2=\"45\" />\n",
       "  <line x1=\"10\" y1=\"23\" x2=\"34\" y2=\"48\" />\n",
       "  <line x1=\"10\" y1=\"27\" x2=\"34\" y2=\"51\" />\n",
       "  <line x1=\"10\" y1=\"30\" x2=\"34\" y2=\"55\" />\n",
       "  <line x1=\"10\" y1=\"34\" x2=\"34\" y2=\"58\" />\n",
       "  <line x1=\"10\" y1=\"37\" x2=\"34\" y2=\"62\" />\n",
       "  <line x1=\"10\" y1=\"40\" x2=\"34\" y2=\"65\" />\n",
       "  <line x1=\"10\" y1=\"44\" x2=\"34\" y2=\"69\" />\n",
       "  <line x1=\"10\" y1=\"47\" x2=\"34\" y2=\"72\" />\n",
       "  <line x1=\"10\" y1=\"51\" x2=\"34\" y2=\"75\" />\n",
       "  <line x1=\"10\" y1=\"54\" x2=\"34\" y2=\"79\" />\n",
       "  <line x1=\"10\" y1=\"57\" x2=\"34\" y2=\"82\" />\n",
       "  <line x1=\"10\" y1=\"59\" x2=\"34\" y2=\"84\" style=\"stroke-width:2\" />\n",
       "\n",
       "  <!-- Vertical lines -->\n",
       "  <line x1=\"10\" y1=\"0\" x2=\"10\" y2=\"59\" style=\"stroke-width:2\" />\n",
       "  <line x1=\"11\" y1=\"1\" x2=\"11\" y2=\"61\" />\n",
       "  <line x1=\"12\" y1=\"2\" x2=\"12\" y2=\"62\" />\n",
       "  <line x1=\"13\" y1=\"3\" x2=\"13\" y2=\"63\" />\n",
       "  <line x1=\"15\" y1=\"5\" x2=\"15\" y2=\"65\" />\n",
       "  <line x1=\"16\" y1=\"6\" x2=\"16\" y2=\"66\" />\n",
       "  <line x1=\"17\" y1=\"7\" x2=\"17\" y2=\"67\" />\n",
       "  <line x1=\"19\" y1=\"9\" x2=\"19\" y2=\"69\" />\n",
       "  <line x1=\"20\" y1=\"10\" x2=\"20\" y2=\"70\" />\n",
       "  <line x1=\"21\" y1=\"11\" x2=\"21\" y2=\"71\" />\n",
       "  <line x1=\"22\" y1=\"12\" x2=\"22\" y2=\"72\" />\n",
       "  <line x1=\"24\" y1=\"14\" x2=\"24\" y2=\"74\" />\n",
       "  <line x1=\"25\" y1=\"15\" x2=\"25\" y2=\"75\" />\n",
       "  <line x1=\"26\" y1=\"16\" x2=\"26\" y2=\"76\" />\n",
       "  <line x1=\"28\" y1=\"18\" x2=\"28\" y2=\"78\" />\n",
       "  <line x1=\"29\" y1=\"19\" x2=\"29\" y2=\"79\" />\n",
       "  <line x1=\"30\" y1=\"20\" x2=\"30\" y2=\"80\" />\n",
       "  <line x1=\"32\" y1=\"22\" x2=\"32\" y2=\"82\" />\n",
       "  <line x1=\"33\" y1=\"23\" x2=\"33\" y2=\"83\" />\n",
       "  <line x1=\"34\" y1=\"24\" x2=\"34\" y2=\"84\" style=\"stroke-width:2\" />\n",
       "\n",
       "  <!-- Colored Rectangle -->\n",
       "  <polygon points=\"10.0,0.0 34.696437722097514,24.696437722097514 34.696437722097514,84.69310438876418 10.0,59.99666666666667\" style=\"fill:#8B4903A0;stroke-width:0\"/>\n",
       "\n",
       "  <!-- Horizontal lines -->\n",
       "  <line x1=\"10\" y1=\"0\" x2=\"130\" y2=\"0\" style=\"stroke-width:2\" />\n",
       "  <line x1=\"11\" y1=\"1\" x2=\"131\" y2=\"1\" />\n",
       "  <line x1=\"12\" y1=\"2\" x2=\"132\" y2=\"2\" />\n",
       "  <line x1=\"13\" y1=\"3\" x2=\"133\" y2=\"3\" />\n",
       "  <line x1=\"15\" y1=\"5\" x2=\"135\" y2=\"5\" />\n",
       "  <line x1=\"16\" y1=\"6\" x2=\"136\" y2=\"6\" />\n",
       "  <line x1=\"17\" y1=\"7\" x2=\"137\" y2=\"7\" />\n",
       "  <line x1=\"19\" y1=\"9\" x2=\"139\" y2=\"9\" />\n",
       "  <line x1=\"20\" y1=\"10\" x2=\"140\" y2=\"10\" />\n",
       "  <line x1=\"21\" y1=\"11\" x2=\"141\" y2=\"11\" />\n",
       "  <line x1=\"22\" y1=\"12\" x2=\"142\" y2=\"12\" />\n",
       "  <line x1=\"24\" y1=\"14\" x2=\"144\" y2=\"14\" />\n",
       "  <line x1=\"25\" y1=\"15\" x2=\"145\" y2=\"15\" />\n",
       "  <line x1=\"26\" y1=\"16\" x2=\"146\" y2=\"16\" />\n",
       "  <line x1=\"28\" y1=\"18\" x2=\"148\" y2=\"18\" />\n",
       "  <line x1=\"29\" y1=\"19\" x2=\"149\" y2=\"19\" />\n",
       "  <line x1=\"30\" y1=\"20\" x2=\"150\" y2=\"20\" />\n",
       "  <line x1=\"32\" y1=\"22\" x2=\"152\" y2=\"22\" />\n",
       "  <line x1=\"33\" y1=\"23\" x2=\"153\" y2=\"23\" />\n",
       "  <line x1=\"34\" y1=\"24\" x2=\"154\" y2=\"24\" style=\"stroke-width:2\" />\n",
       "\n",
       "  <!-- Vertical lines -->\n",
       "  <line x1=\"10\" y1=\"0\" x2=\"34\" y2=\"24\" style=\"stroke-width:2\" />\n",
       "  <line x1=\"16\" y1=\"0\" x2=\"41\" y2=\"24\" />\n",
       "  <line x1=\"23\" y1=\"0\" x2=\"48\" y2=\"24\" />\n",
       "  <line x1=\"30\" y1=\"0\" x2=\"55\" y2=\"24\" />\n",
       "  <line x1=\"37\" y1=\"0\" x2=\"61\" y2=\"24\" />\n",
       "  <line x1=\"44\" y1=\"0\" x2=\"68\" y2=\"24\" />\n",
       "  <line x1=\"50\" y1=\"0\" x2=\"75\" y2=\"24\" />\n",
       "  <line x1=\"57\" y1=\"0\" x2=\"82\" y2=\"24\" />\n",
       "  <line x1=\"64\" y1=\"0\" x2=\"89\" y2=\"24\" />\n",
       "  <line x1=\"71\" y1=\"0\" x2=\"96\" y2=\"24\" />\n",
       "  <line x1=\"78\" y1=\"0\" x2=\"102\" y2=\"24\" />\n",
       "  <line x1=\"85\" y1=\"0\" x2=\"109\" y2=\"24\" />\n",
       "  <line x1=\"91\" y1=\"0\" x2=\"116\" y2=\"24\" />\n",
       "  <line x1=\"98\" y1=\"0\" x2=\"123\" y2=\"24\" />\n",
       "  <line x1=\"105\" y1=\"0\" x2=\"130\" y2=\"24\" />\n",
       "  <line x1=\"112\" y1=\"0\" x2=\"137\" y2=\"24\" />\n",
       "  <line x1=\"119\" y1=\"0\" x2=\"143\" y2=\"24\" />\n",
       "  <line x1=\"125\" y1=\"0\" x2=\"150\" y2=\"24\" />\n",
       "  <line x1=\"130\" y1=\"0\" x2=\"154\" y2=\"24\" style=\"stroke-width:2\" />\n",
       "\n",
       "  <!-- Colored Rectangle -->\n",
       "  <polygon points=\"10.0,0.0 130.0,0.0 154.69643772209753,24.696437722097514 34.696437722097514,24.696437722097514\" style=\"fill:#8B4903A0;stroke-width:0\"/>\n",
       "\n",
       "  <!-- Horizontal lines -->\n",
       "  <line x1=\"34\" y1=\"24\" x2=\"154\" y2=\"24\" style=\"stroke-width:2\" />\n",
       "  <line x1=\"34\" y1=\"28\" x2=\"154\" y2=\"28\" />\n",
       "  <line x1=\"34\" y1=\"31\" x2=\"154\" y2=\"31\" />\n",
       "  <line x1=\"34\" y1=\"34\" x2=\"154\" y2=\"34\" />\n",
       "  <line x1=\"34\" y1=\"38\" x2=\"154\" y2=\"38\" />\n",
       "  <line x1=\"34\" y1=\"41\" x2=\"154\" y2=\"41\" />\n",
       "  <line x1=\"34\" y1=\"45\" x2=\"154\" y2=\"45\" />\n",
       "  <line x1=\"34\" y1=\"48\" x2=\"154\" y2=\"48\" />\n",
       "  <line x1=\"34\" y1=\"51\" x2=\"154\" y2=\"51\" />\n",
       "  <line x1=\"34\" y1=\"55\" x2=\"154\" y2=\"55\" />\n",
       "  <line x1=\"34\" y1=\"58\" x2=\"154\" y2=\"58\" />\n",
       "  <line x1=\"34\" y1=\"62\" x2=\"154\" y2=\"62\" />\n",
       "  <line x1=\"34\" y1=\"65\" x2=\"154\" y2=\"65\" />\n",
       "  <line x1=\"34\" y1=\"69\" x2=\"154\" y2=\"69\" />\n",
       "  <line x1=\"34\" y1=\"72\" x2=\"154\" y2=\"72\" />\n",
       "  <line x1=\"34\" y1=\"75\" x2=\"154\" y2=\"75\" />\n",
       "  <line x1=\"34\" y1=\"79\" x2=\"154\" y2=\"79\" />\n",
       "  <line x1=\"34\" y1=\"82\" x2=\"154\" y2=\"82\" />\n",
       "  <line x1=\"34\" y1=\"84\" x2=\"154\" y2=\"84\" style=\"stroke-width:2\" />\n",
       "\n",
       "  <!-- Vertical lines -->\n",
       "  <line x1=\"34\" y1=\"24\" x2=\"34\" y2=\"84\" style=\"stroke-width:2\" />\n",
       "  <line x1=\"41\" y1=\"24\" x2=\"41\" y2=\"84\" />\n",
       "  <line x1=\"48\" y1=\"24\" x2=\"48\" y2=\"84\" />\n",
       "  <line x1=\"55\" y1=\"24\" x2=\"55\" y2=\"84\" />\n",
       "  <line x1=\"61\" y1=\"24\" x2=\"61\" y2=\"84\" />\n",
       "  <line x1=\"68\" y1=\"24\" x2=\"68\" y2=\"84\" />\n",
       "  <line x1=\"75\" y1=\"24\" x2=\"75\" y2=\"84\" />\n",
       "  <line x1=\"82\" y1=\"24\" x2=\"82\" y2=\"84\" />\n",
       "  <line x1=\"89\" y1=\"24\" x2=\"89\" y2=\"84\" />\n",
       "  <line x1=\"96\" y1=\"24\" x2=\"96\" y2=\"84\" />\n",
       "  <line x1=\"102\" y1=\"24\" x2=\"102\" y2=\"84\" />\n",
       "  <line x1=\"109\" y1=\"24\" x2=\"109\" y2=\"84\" />\n",
       "  <line x1=\"116\" y1=\"24\" x2=\"116\" y2=\"84\" />\n",
       "  <line x1=\"123\" y1=\"24\" x2=\"123\" y2=\"84\" />\n",
       "  <line x1=\"130\" y1=\"24\" x2=\"130\" y2=\"84\" />\n",
       "  <line x1=\"137\" y1=\"24\" x2=\"137\" y2=\"84\" />\n",
       "  <line x1=\"143\" y1=\"24\" x2=\"143\" y2=\"84\" />\n",
       "  <line x1=\"150\" y1=\"24\" x2=\"150\" y2=\"84\" />\n",
       "  <line x1=\"154\" y1=\"24\" x2=\"154\" y2=\"84\" style=\"stroke-width:2\" />\n",
       "\n",
       "  <!-- Colored Rectangle -->\n",
       "  <polygon points=\"34.696437722097514,24.696437722097514 154.69643772209753,24.696437722097514 154.69643772209753,84.69310438876418 34.696437722097514,84.69310438876418\" style=\"fill:#ECB172A0;stroke-width:0\"/>\n",
       "\n",
       "  <!-- Text -->\n",
       "  <text x=\"94.696438\" y=\"104.693104\" font-size=\"1.0rem\" font-weight=\"100\" text-anchor=\"middle\" >36000</text>\n",
       "  <text x=\"174.696438\" y=\"54.694771\" font-size=\"1.0rem\" font-weight=\"100\" text-anchor=\"middle\" transform=\"rotate(-90,174.696438,54.694771)\">17999</text>\n",
       "  <text x=\"12.348219\" y=\"92.344886\" font-size=\"1.0rem\" font-weight=\"100\" text-anchor=\"middle\" transform=\"rotate(45,12.348219,92.344886)\">7156</text>\n",
       "</svg>\n",
       "        </td>\n",
       "    </tr>\n",
       "</table></div></li><li class='xr-var-item'><div class='xr-var-name'><span>analysis_error</span></div><div class='xr-var-dims'>(time, lat, lon)</div><div class='xr-var-dtype'>float64</div><div class='xr-var-preview xr-preview'>dask.array&lt;chunksize=(1, 1023, 2047), meta=np.ndarray&gt;</div><input id='attrs-63cf1ed9-8c3f-47c1-95cb-b229fdd460ff' class='xr-var-attrs-in' type='checkbox' ><label for='attrs-63cf1ed9-8c3f-47c1-95cb-b229fdd460ff' title='Show/Hide attributes'><svg class='icon xr-icon-file-text2'><use xlink:href='#icon-file-text2'></use></svg></label><input id='data-a21aebc8-8b01-4b63-b16b-f7476a81406a' class='xr-var-data-in' type='checkbox'><label for='data-a21aebc8-8b01-4b63-b16b-f7476a81406a' title='Show/Hide data repr'><svg class='icon xr-icon-database'><use xlink:href='#icon-database'></use></svg></label><div class='xr-var-attrs'><dl class='xr-attrs'><dt><span>comment :</span></dt><dd>none</dd><dt><span>long_name :</span></dt><dd>estimated error standard deviation of analysed_sst</dd><dt><span>units :</span></dt><dd>kelvin</dd><dt><span>valid_max :</span></dt><dd>32767</dd><dt><span>valid_min :</span></dt><dd>0</dd></dl></div><div class='xr-var-data'><table>\n",
       "    <tr>\n",
       "        <td>\n",
       "            <table style=\"border-collapse: collapse;\">\n",
       "                <thead>\n",
       "                    <tr>\n",
       "                        <td> </td>\n",
       "                        <th> Array </th>\n",
       "                        <th> Chunk </th>\n",
       "                    </tr>\n",
       "                </thead>\n",
       "                <tbody>\n",
       "                    \n",
       "                    <tr>\n",
       "                        <th> Bytes </th>\n",
       "                        <td> 33.74 TiB </td>\n",
       "                        <td> 15.98 MiB </td>\n",
       "                    </tr>\n",
       "                    \n",
       "                    <tr>\n",
       "                        <th> Shape </th>\n",
       "                        <td> (7156, 17999, 36000) </td>\n",
       "                        <td> (1, 1023, 2047) </td>\n",
       "                    </tr>\n",
       "                    <tr>\n",
       "                        <th> Dask graph </th>\n",
       "                        <td colspan=\"2\"> 2318544 chunks in 2 graph layers </td>\n",
       "                    </tr>\n",
       "                    <tr>\n",
       "                        <th> Data type </th>\n",
       "                        <td colspan=\"2\"> float64 numpy.ndarray </td>\n",
       "                    </tr>\n",
       "                </tbody>\n",
       "            </table>\n",
       "        </td>\n",
       "        <td>\n",
       "        <svg width=\"204\" height=\"134\" style=\"stroke:rgb(0,0,0);stroke-width:1\" >\n",
       "\n",
       "  <!-- Horizontal lines -->\n",
       "  <line x1=\"10\" y1=\"0\" x2=\"34\" y2=\"24\" style=\"stroke-width:2\" />\n",
       "  <line x1=\"10\" y1=\"3\" x2=\"34\" y2=\"28\" />\n",
       "  <line x1=\"10\" y1=\"6\" x2=\"34\" y2=\"31\" />\n",
       "  <line x1=\"10\" y1=\"10\" x2=\"34\" y2=\"34\" />\n",
       "  <line x1=\"10\" y1=\"13\" x2=\"34\" y2=\"38\" />\n",
       "  <line x1=\"10\" y1=\"17\" x2=\"34\" y2=\"41\" />\n",
       "  <line x1=\"10\" y1=\"20\" x2=\"34\" y2=\"45\" />\n",
       "  <line x1=\"10\" y1=\"23\" x2=\"34\" y2=\"48\" />\n",
       "  <line x1=\"10\" y1=\"27\" x2=\"34\" y2=\"51\" />\n",
       "  <line x1=\"10\" y1=\"30\" x2=\"34\" y2=\"55\" />\n",
       "  <line x1=\"10\" y1=\"34\" x2=\"34\" y2=\"58\" />\n",
       "  <line x1=\"10\" y1=\"37\" x2=\"34\" y2=\"62\" />\n",
       "  <line x1=\"10\" y1=\"40\" x2=\"34\" y2=\"65\" />\n",
       "  <line x1=\"10\" y1=\"44\" x2=\"34\" y2=\"69\" />\n",
       "  <line x1=\"10\" y1=\"47\" x2=\"34\" y2=\"72\" />\n",
       "  <line x1=\"10\" y1=\"51\" x2=\"34\" y2=\"75\" />\n",
       "  <line x1=\"10\" y1=\"54\" x2=\"34\" y2=\"79\" />\n",
       "  <line x1=\"10\" y1=\"57\" x2=\"34\" y2=\"82\" />\n",
       "  <line x1=\"10\" y1=\"59\" x2=\"34\" y2=\"84\" style=\"stroke-width:2\" />\n",
       "\n",
       "  <!-- Vertical lines -->\n",
       "  <line x1=\"10\" y1=\"0\" x2=\"10\" y2=\"59\" style=\"stroke-width:2\" />\n",
       "  <line x1=\"11\" y1=\"1\" x2=\"11\" y2=\"61\" />\n",
       "  <line x1=\"12\" y1=\"2\" x2=\"12\" y2=\"62\" />\n",
       "  <line x1=\"13\" y1=\"3\" x2=\"13\" y2=\"63\" />\n",
       "  <line x1=\"15\" y1=\"5\" x2=\"15\" y2=\"65\" />\n",
       "  <line x1=\"16\" y1=\"6\" x2=\"16\" y2=\"66\" />\n",
       "  <line x1=\"17\" y1=\"7\" x2=\"17\" y2=\"67\" />\n",
       "  <line x1=\"19\" y1=\"9\" x2=\"19\" y2=\"69\" />\n",
       "  <line x1=\"20\" y1=\"10\" x2=\"20\" y2=\"70\" />\n",
       "  <line x1=\"21\" y1=\"11\" x2=\"21\" y2=\"71\" />\n",
       "  <line x1=\"22\" y1=\"12\" x2=\"22\" y2=\"72\" />\n",
       "  <line x1=\"24\" y1=\"14\" x2=\"24\" y2=\"74\" />\n",
       "  <line x1=\"25\" y1=\"15\" x2=\"25\" y2=\"75\" />\n",
       "  <line x1=\"26\" y1=\"16\" x2=\"26\" y2=\"76\" />\n",
       "  <line x1=\"28\" y1=\"18\" x2=\"28\" y2=\"78\" />\n",
       "  <line x1=\"29\" y1=\"19\" x2=\"29\" y2=\"79\" />\n",
       "  <line x1=\"30\" y1=\"20\" x2=\"30\" y2=\"80\" />\n",
       "  <line x1=\"32\" y1=\"22\" x2=\"32\" y2=\"82\" />\n",
       "  <line x1=\"33\" y1=\"23\" x2=\"33\" y2=\"83\" />\n",
       "  <line x1=\"34\" y1=\"24\" x2=\"34\" y2=\"84\" style=\"stroke-width:2\" />\n",
       "\n",
       "  <!-- Colored Rectangle -->\n",
       "  <polygon points=\"10.0,0.0 34.696437722097514,24.696437722097514 34.696437722097514,84.69310438876418 10.0,59.99666666666667\" style=\"fill:#8B4903A0;stroke-width:0\"/>\n",
       "\n",
       "  <!-- Horizontal lines -->\n",
       "  <line x1=\"10\" y1=\"0\" x2=\"130\" y2=\"0\" style=\"stroke-width:2\" />\n",
       "  <line x1=\"11\" y1=\"1\" x2=\"131\" y2=\"1\" />\n",
       "  <line x1=\"12\" y1=\"2\" x2=\"132\" y2=\"2\" />\n",
       "  <line x1=\"13\" y1=\"3\" x2=\"133\" y2=\"3\" />\n",
       "  <line x1=\"15\" y1=\"5\" x2=\"135\" y2=\"5\" />\n",
       "  <line x1=\"16\" y1=\"6\" x2=\"136\" y2=\"6\" />\n",
       "  <line x1=\"17\" y1=\"7\" x2=\"137\" y2=\"7\" />\n",
       "  <line x1=\"19\" y1=\"9\" x2=\"139\" y2=\"9\" />\n",
       "  <line x1=\"20\" y1=\"10\" x2=\"140\" y2=\"10\" />\n",
       "  <line x1=\"21\" y1=\"11\" x2=\"141\" y2=\"11\" />\n",
       "  <line x1=\"22\" y1=\"12\" x2=\"142\" y2=\"12\" />\n",
       "  <line x1=\"24\" y1=\"14\" x2=\"144\" y2=\"14\" />\n",
       "  <line x1=\"25\" y1=\"15\" x2=\"145\" y2=\"15\" />\n",
       "  <line x1=\"26\" y1=\"16\" x2=\"146\" y2=\"16\" />\n",
       "  <line x1=\"28\" y1=\"18\" x2=\"148\" y2=\"18\" />\n",
       "  <line x1=\"29\" y1=\"19\" x2=\"149\" y2=\"19\" />\n",
       "  <line x1=\"30\" y1=\"20\" x2=\"150\" y2=\"20\" />\n",
       "  <line x1=\"32\" y1=\"22\" x2=\"152\" y2=\"22\" />\n",
       "  <line x1=\"33\" y1=\"23\" x2=\"153\" y2=\"23\" />\n",
       "  <line x1=\"34\" y1=\"24\" x2=\"154\" y2=\"24\" style=\"stroke-width:2\" />\n",
       "\n",
       "  <!-- Vertical lines -->\n",
       "  <line x1=\"10\" y1=\"0\" x2=\"34\" y2=\"24\" style=\"stroke-width:2\" />\n",
       "  <line x1=\"16\" y1=\"0\" x2=\"41\" y2=\"24\" />\n",
       "  <line x1=\"23\" y1=\"0\" x2=\"48\" y2=\"24\" />\n",
       "  <line x1=\"30\" y1=\"0\" x2=\"55\" y2=\"24\" />\n",
       "  <line x1=\"37\" y1=\"0\" x2=\"61\" y2=\"24\" />\n",
       "  <line x1=\"44\" y1=\"0\" x2=\"68\" y2=\"24\" />\n",
       "  <line x1=\"50\" y1=\"0\" x2=\"75\" y2=\"24\" />\n",
       "  <line x1=\"57\" y1=\"0\" x2=\"82\" y2=\"24\" />\n",
       "  <line x1=\"64\" y1=\"0\" x2=\"89\" y2=\"24\" />\n",
       "  <line x1=\"71\" y1=\"0\" x2=\"96\" y2=\"24\" />\n",
       "  <line x1=\"78\" y1=\"0\" x2=\"102\" y2=\"24\" />\n",
       "  <line x1=\"85\" y1=\"0\" x2=\"109\" y2=\"24\" />\n",
       "  <line x1=\"91\" y1=\"0\" x2=\"116\" y2=\"24\" />\n",
       "  <line x1=\"98\" y1=\"0\" x2=\"123\" y2=\"24\" />\n",
       "  <line x1=\"105\" y1=\"0\" x2=\"130\" y2=\"24\" />\n",
       "  <line x1=\"112\" y1=\"0\" x2=\"137\" y2=\"24\" />\n",
       "  <line x1=\"119\" y1=\"0\" x2=\"143\" y2=\"24\" />\n",
       "  <line x1=\"125\" y1=\"0\" x2=\"150\" y2=\"24\" />\n",
       "  <line x1=\"130\" y1=\"0\" x2=\"154\" y2=\"24\" style=\"stroke-width:2\" />\n",
       "\n",
       "  <!-- Colored Rectangle -->\n",
       "  <polygon points=\"10.0,0.0 130.0,0.0 154.69643772209753,24.696437722097514 34.696437722097514,24.696437722097514\" style=\"fill:#8B4903A0;stroke-width:0\"/>\n",
       "\n",
       "  <!-- Horizontal lines -->\n",
       "  <line x1=\"34\" y1=\"24\" x2=\"154\" y2=\"24\" style=\"stroke-width:2\" />\n",
       "  <line x1=\"34\" y1=\"28\" x2=\"154\" y2=\"28\" />\n",
       "  <line x1=\"34\" y1=\"31\" x2=\"154\" y2=\"31\" />\n",
       "  <line x1=\"34\" y1=\"34\" x2=\"154\" y2=\"34\" />\n",
       "  <line x1=\"34\" y1=\"38\" x2=\"154\" y2=\"38\" />\n",
       "  <line x1=\"34\" y1=\"41\" x2=\"154\" y2=\"41\" />\n",
       "  <line x1=\"34\" y1=\"45\" x2=\"154\" y2=\"45\" />\n",
       "  <line x1=\"34\" y1=\"48\" x2=\"154\" y2=\"48\" />\n",
       "  <line x1=\"34\" y1=\"51\" x2=\"154\" y2=\"51\" />\n",
       "  <line x1=\"34\" y1=\"55\" x2=\"154\" y2=\"55\" />\n",
       "  <line x1=\"34\" y1=\"58\" x2=\"154\" y2=\"58\" />\n",
       "  <line x1=\"34\" y1=\"62\" x2=\"154\" y2=\"62\" />\n",
       "  <line x1=\"34\" y1=\"65\" x2=\"154\" y2=\"65\" />\n",
       "  <line x1=\"34\" y1=\"69\" x2=\"154\" y2=\"69\" />\n",
       "  <line x1=\"34\" y1=\"72\" x2=\"154\" y2=\"72\" />\n",
       "  <line x1=\"34\" y1=\"75\" x2=\"154\" y2=\"75\" />\n",
       "  <line x1=\"34\" y1=\"79\" x2=\"154\" y2=\"79\" />\n",
       "  <line x1=\"34\" y1=\"82\" x2=\"154\" y2=\"82\" />\n",
       "  <line x1=\"34\" y1=\"84\" x2=\"154\" y2=\"84\" style=\"stroke-width:2\" />\n",
       "\n",
       "  <!-- Vertical lines -->\n",
       "  <line x1=\"34\" y1=\"24\" x2=\"34\" y2=\"84\" style=\"stroke-width:2\" />\n",
       "  <line x1=\"41\" y1=\"24\" x2=\"41\" y2=\"84\" />\n",
       "  <line x1=\"48\" y1=\"24\" x2=\"48\" y2=\"84\" />\n",
       "  <line x1=\"55\" y1=\"24\" x2=\"55\" y2=\"84\" />\n",
       "  <line x1=\"61\" y1=\"24\" x2=\"61\" y2=\"84\" />\n",
       "  <line x1=\"68\" y1=\"24\" x2=\"68\" y2=\"84\" />\n",
       "  <line x1=\"75\" y1=\"24\" x2=\"75\" y2=\"84\" />\n",
       "  <line x1=\"82\" y1=\"24\" x2=\"82\" y2=\"84\" />\n",
       "  <line x1=\"89\" y1=\"24\" x2=\"89\" y2=\"84\" />\n",
       "  <line x1=\"96\" y1=\"24\" x2=\"96\" y2=\"84\" />\n",
       "  <line x1=\"102\" y1=\"24\" x2=\"102\" y2=\"84\" />\n",
       "  <line x1=\"109\" y1=\"24\" x2=\"109\" y2=\"84\" />\n",
       "  <line x1=\"116\" y1=\"24\" x2=\"116\" y2=\"84\" />\n",
       "  <line x1=\"123\" y1=\"24\" x2=\"123\" y2=\"84\" />\n",
       "  <line x1=\"130\" y1=\"24\" x2=\"130\" y2=\"84\" />\n",
       "  <line x1=\"137\" y1=\"24\" x2=\"137\" y2=\"84\" />\n",
       "  <line x1=\"143\" y1=\"24\" x2=\"143\" y2=\"84\" />\n",
       "  <line x1=\"150\" y1=\"24\" x2=\"150\" y2=\"84\" />\n",
       "  <line x1=\"154\" y1=\"24\" x2=\"154\" y2=\"84\" style=\"stroke-width:2\" />\n",
       "\n",
       "  <!-- Colored Rectangle -->\n",
       "  <polygon points=\"34.696437722097514,24.696437722097514 154.69643772209753,24.696437722097514 154.69643772209753,84.69310438876418 34.696437722097514,84.69310438876418\" style=\"fill:#ECB172A0;stroke-width:0\"/>\n",
       "\n",
       "  <!-- Text -->\n",
       "  <text x=\"94.696438\" y=\"104.693104\" font-size=\"1.0rem\" font-weight=\"100\" text-anchor=\"middle\" >36000</text>\n",
       "  <text x=\"174.696438\" y=\"54.694771\" font-size=\"1.0rem\" font-weight=\"100\" text-anchor=\"middle\" transform=\"rotate(-90,174.696438,54.694771)\">17999</text>\n",
       "  <text x=\"12.348219\" y=\"92.344886\" font-size=\"1.0rem\" font-weight=\"100\" text-anchor=\"middle\" transform=\"rotate(45,12.348219,92.344886)\">7156</text>\n",
       "</svg>\n",
       "        </td>\n",
       "    </tr>\n",
       "</table></div></li><li class='xr-var-item'><div class='xr-var-name'><span>sea_ice_fraction</span></div><div class='xr-var-dims'>(time, lat, lon)</div><div class='xr-var-dtype'>float64</div><div class='xr-var-preview xr-preview'>dask.array&lt;chunksize=(1, 1447, 2895), meta=np.ndarray&gt;</div><input id='attrs-05bf845e-00b3-49f4-80d4-4b7d79b55804' class='xr-var-attrs-in' type='checkbox' ><label for='attrs-05bf845e-00b3-49f4-80d4-4b7d79b55804' title='Show/Hide attributes'><svg class='icon xr-icon-file-text2'><use xlink:href='#icon-file-text2'></use></svg></label><input id='data-4fbdc983-a733-4b57-a844-4b47e04163de' class='xr-var-data-in' type='checkbox'><label for='data-4fbdc983-a733-4b57-a844-4b47e04163de' title='Show/Hide data repr'><svg class='icon xr-icon-database'><use xlink:href='#icon-database'></use></svg></label><div class='xr-var-attrs'><dl class='xr-attrs'><dt><span>comment :</span></dt><dd>ice data interpolated by a nearest neighbor approach.</dd><dt><span>long_name :</span></dt><dd>sea ice area fraction</dd><dt><span>source :</span></dt><dd>EUMETSAT OSI-SAF, copyright EUMETSAT</dd><dt><span>standard_name :</span></dt><dd>sea ice area fraction</dd><dt><span>units :</span></dt><dd>fraction (between 0 and 1)</dd><dt><span>valid_max :</span></dt><dd>100</dd><dt><span>valid_min :</span></dt><dd>0</dd></dl></div><div class='xr-var-data'><table>\n",
       "    <tr>\n",
       "        <td>\n",
       "            <table style=\"border-collapse: collapse;\">\n",
       "                <thead>\n",
       "                    <tr>\n",
       "                        <td> </td>\n",
       "                        <th> Array </th>\n",
       "                        <th> Chunk </th>\n",
       "                    </tr>\n",
       "                </thead>\n",
       "                <tbody>\n",
       "                    \n",
       "                    <tr>\n",
       "                        <th> Bytes </th>\n",
       "                        <td> 33.74 TiB </td>\n",
       "                        <td> 31.96 MiB </td>\n",
       "                    </tr>\n",
       "                    \n",
       "                    <tr>\n",
       "                        <th> Shape </th>\n",
       "                        <td> (7156, 17999, 36000) </td>\n",
       "                        <td> (1, 1447, 2895) </td>\n",
       "                    </tr>\n",
       "                    <tr>\n",
       "                        <th> Dask graph </th>\n",
       "                        <td colspan=\"2\"> 1209364 chunks in 2 graph layers </td>\n",
       "                    </tr>\n",
       "                    <tr>\n",
       "                        <th> Data type </th>\n",
       "                        <td colspan=\"2\"> float64 numpy.ndarray </td>\n",
       "                    </tr>\n",
       "                </tbody>\n",
       "            </table>\n",
       "        </td>\n",
       "        <td>\n",
       "        <svg width=\"204\" height=\"134\" style=\"stroke:rgb(0,0,0);stroke-width:1\" >\n",
       "\n",
       "  <!-- Horizontal lines -->\n",
       "  <line x1=\"10\" y1=\"0\" x2=\"34\" y2=\"24\" style=\"stroke-width:2\" />\n",
       "  <line x1=\"10\" y1=\"4\" x2=\"34\" y2=\"29\" />\n",
       "  <line x1=\"10\" y1=\"9\" x2=\"34\" y2=\"34\" />\n",
       "  <line x1=\"10\" y1=\"14\" x2=\"34\" y2=\"39\" />\n",
       "  <line x1=\"10\" y1=\"19\" x2=\"34\" y2=\"43\" />\n",
       "  <line x1=\"10\" y1=\"24\" x2=\"34\" y2=\"48\" />\n",
       "  <line x1=\"10\" y1=\"28\" x2=\"34\" y2=\"53\" />\n",
       "  <line x1=\"10\" y1=\"33\" x2=\"34\" y2=\"58\" />\n",
       "  <line x1=\"10\" y1=\"38\" x2=\"34\" y2=\"63\" />\n",
       "  <line x1=\"10\" y1=\"43\" x2=\"34\" y2=\"68\" />\n",
       "  <line x1=\"10\" y1=\"48\" x2=\"34\" y2=\"72\" />\n",
       "  <line x1=\"10\" y1=\"53\" x2=\"34\" y2=\"77\" />\n",
       "  <line x1=\"10\" y1=\"57\" x2=\"34\" y2=\"82\" />\n",
       "  <line x1=\"10\" y1=\"59\" x2=\"34\" y2=\"84\" style=\"stroke-width:2\" />\n",
       "\n",
       "  <!-- Vertical lines -->\n",
       "  <line x1=\"10\" y1=\"0\" x2=\"10\" y2=\"59\" style=\"stroke-width:2\" />\n",
       "  <line x1=\"11\" y1=\"1\" x2=\"11\" y2=\"61\" />\n",
       "  <line x1=\"12\" y1=\"2\" x2=\"12\" y2=\"62\" />\n",
       "  <line x1=\"13\" y1=\"3\" x2=\"13\" y2=\"63\" />\n",
       "  <line x1=\"15\" y1=\"5\" x2=\"15\" y2=\"65\" />\n",
       "  <line x1=\"16\" y1=\"6\" x2=\"16\" y2=\"66\" />\n",
       "  <line x1=\"17\" y1=\"7\" x2=\"17\" y2=\"67\" />\n",
       "  <line x1=\"19\" y1=\"9\" x2=\"19\" y2=\"69\" />\n",
       "  <line x1=\"20\" y1=\"10\" x2=\"20\" y2=\"70\" />\n",
       "  <line x1=\"21\" y1=\"11\" x2=\"21\" y2=\"71\" />\n",
       "  <line x1=\"22\" y1=\"12\" x2=\"22\" y2=\"72\" />\n",
       "  <line x1=\"24\" y1=\"14\" x2=\"24\" y2=\"74\" />\n",
       "  <line x1=\"25\" y1=\"15\" x2=\"25\" y2=\"75\" />\n",
       "  <line x1=\"26\" y1=\"16\" x2=\"26\" y2=\"76\" />\n",
       "  <line x1=\"28\" y1=\"18\" x2=\"28\" y2=\"78\" />\n",
       "  <line x1=\"29\" y1=\"19\" x2=\"29\" y2=\"79\" />\n",
       "  <line x1=\"30\" y1=\"20\" x2=\"30\" y2=\"80\" />\n",
       "  <line x1=\"32\" y1=\"22\" x2=\"32\" y2=\"82\" />\n",
       "  <line x1=\"33\" y1=\"23\" x2=\"33\" y2=\"83\" />\n",
       "  <line x1=\"34\" y1=\"24\" x2=\"34\" y2=\"84\" style=\"stroke-width:2\" />\n",
       "\n",
       "  <!-- Colored Rectangle -->\n",
       "  <polygon points=\"10.0,0.0 34.696437722097514,24.696437722097514 34.696437722097514,84.69310438876418 10.0,59.99666666666667\" style=\"fill:#8B4903A0;stroke-width:0\"/>\n",
       "\n",
       "  <!-- Horizontal lines -->\n",
       "  <line x1=\"10\" y1=\"0\" x2=\"130\" y2=\"0\" style=\"stroke-width:2\" />\n",
       "  <line x1=\"11\" y1=\"1\" x2=\"131\" y2=\"1\" />\n",
       "  <line x1=\"12\" y1=\"2\" x2=\"132\" y2=\"2\" />\n",
       "  <line x1=\"13\" y1=\"3\" x2=\"133\" y2=\"3\" />\n",
       "  <line x1=\"15\" y1=\"5\" x2=\"135\" y2=\"5\" />\n",
       "  <line x1=\"16\" y1=\"6\" x2=\"136\" y2=\"6\" />\n",
       "  <line x1=\"17\" y1=\"7\" x2=\"137\" y2=\"7\" />\n",
       "  <line x1=\"19\" y1=\"9\" x2=\"139\" y2=\"9\" />\n",
       "  <line x1=\"20\" y1=\"10\" x2=\"140\" y2=\"10\" />\n",
       "  <line x1=\"21\" y1=\"11\" x2=\"141\" y2=\"11\" />\n",
       "  <line x1=\"22\" y1=\"12\" x2=\"142\" y2=\"12\" />\n",
       "  <line x1=\"24\" y1=\"14\" x2=\"144\" y2=\"14\" />\n",
       "  <line x1=\"25\" y1=\"15\" x2=\"145\" y2=\"15\" />\n",
       "  <line x1=\"26\" y1=\"16\" x2=\"146\" y2=\"16\" />\n",
       "  <line x1=\"28\" y1=\"18\" x2=\"148\" y2=\"18\" />\n",
       "  <line x1=\"29\" y1=\"19\" x2=\"149\" y2=\"19\" />\n",
       "  <line x1=\"30\" y1=\"20\" x2=\"150\" y2=\"20\" />\n",
       "  <line x1=\"32\" y1=\"22\" x2=\"152\" y2=\"22\" />\n",
       "  <line x1=\"33\" y1=\"23\" x2=\"153\" y2=\"23\" />\n",
       "  <line x1=\"34\" y1=\"24\" x2=\"154\" y2=\"24\" style=\"stroke-width:2\" />\n",
       "\n",
       "  <!-- Vertical lines -->\n",
       "  <line x1=\"10\" y1=\"0\" x2=\"34\" y2=\"24\" style=\"stroke-width:2\" />\n",
       "  <line x1=\"19\" y1=\"0\" x2=\"44\" y2=\"24\" />\n",
       "  <line x1=\"29\" y1=\"0\" x2=\"53\" y2=\"24\" />\n",
       "  <line x1=\"38\" y1=\"0\" x2=\"63\" y2=\"24\" />\n",
       "  <line x1=\"48\" y1=\"0\" x2=\"73\" y2=\"24\" />\n",
       "  <line x1=\"58\" y1=\"0\" x2=\"82\" y2=\"24\" />\n",
       "  <line x1=\"67\" y1=\"0\" x2=\"92\" y2=\"24\" />\n",
       "  <line x1=\"77\" y1=\"0\" x2=\"102\" y2=\"24\" />\n",
       "  <line x1=\"87\" y1=\"0\" x2=\"111\" y2=\"24\" />\n",
       "  <line x1=\"96\" y1=\"0\" x2=\"121\" y2=\"24\" />\n",
       "  <line x1=\"106\" y1=\"0\" x2=\"131\" y2=\"24\" />\n",
       "  <line x1=\"116\" y1=\"0\" x2=\"140\" y2=\"24\" />\n",
       "  <line x1=\"125\" y1=\"0\" x2=\"150\" y2=\"24\" />\n",
       "  <line x1=\"130\" y1=\"0\" x2=\"154\" y2=\"24\" style=\"stroke-width:2\" />\n",
       "\n",
       "  <!-- Colored Rectangle -->\n",
       "  <polygon points=\"10.0,0.0 130.0,0.0 154.69643772209753,24.696437722097514 34.696437722097514,24.696437722097514\" style=\"fill:#8B4903A0;stroke-width:0\"/>\n",
       "\n",
       "  <!-- Horizontal lines -->\n",
       "  <line x1=\"34\" y1=\"24\" x2=\"154\" y2=\"24\" style=\"stroke-width:2\" />\n",
       "  <line x1=\"34\" y1=\"29\" x2=\"154\" y2=\"29\" />\n",
       "  <line x1=\"34\" y1=\"34\" x2=\"154\" y2=\"34\" />\n",
       "  <line x1=\"34\" y1=\"39\" x2=\"154\" y2=\"39\" />\n",
       "  <line x1=\"34\" y1=\"43\" x2=\"154\" y2=\"43\" />\n",
       "  <line x1=\"34\" y1=\"48\" x2=\"154\" y2=\"48\" />\n",
       "  <line x1=\"34\" y1=\"53\" x2=\"154\" y2=\"53\" />\n",
       "  <line x1=\"34\" y1=\"58\" x2=\"154\" y2=\"58\" />\n",
       "  <line x1=\"34\" y1=\"63\" x2=\"154\" y2=\"63\" />\n",
       "  <line x1=\"34\" y1=\"68\" x2=\"154\" y2=\"68\" />\n",
       "  <line x1=\"34\" y1=\"72\" x2=\"154\" y2=\"72\" />\n",
       "  <line x1=\"34\" y1=\"77\" x2=\"154\" y2=\"77\" />\n",
       "  <line x1=\"34\" y1=\"82\" x2=\"154\" y2=\"82\" />\n",
       "  <line x1=\"34\" y1=\"84\" x2=\"154\" y2=\"84\" style=\"stroke-width:2\" />\n",
       "\n",
       "  <!-- Vertical lines -->\n",
       "  <line x1=\"34\" y1=\"24\" x2=\"34\" y2=\"84\" style=\"stroke-width:2\" />\n",
       "  <line x1=\"44\" y1=\"24\" x2=\"44\" y2=\"84\" />\n",
       "  <line x1=\"53\" y1=\"24\" x2=\"53\" y2=\"84\" />\n",
       "  <line x1=\"63\" y1=\"24\" x2=\"63\" y2=\"84\" />\n",
       "  <line x1=\"73\" y1=\"24\" x2=\"73\" y2=\"84\" />\n",
       "  <line x1=\"82\" y1=\"24\" x2=\"82\" y2=\"84\" />\n",
       "  <line x1=\"92\" y1=\"24\" x2=\"92\" y2=\"84\" />\n",
       "  <line x1=\"102\" y1=\"24\" x2=\"102\" y2=\"84\" />\n",
       "  <line x1=\"111\" y1=\"24\" x2=\"111\" y2=\"84\" />\n",
       "  <line x1=\"121\" y1=\"24\" x2=\"121\" y2=\"84\" />\n",
       "  <line x1=\"131\" y1=\"24\" x2=\"131\" y2=\"84\" />\n",
       "  <line x1=\"140\" y1=\"24\" x2=\"140\" y2=\"84\" />\n",
       "  <line x1=\"150\" y1=\"24\" x2=\"150\" y2=\"84\" />\n",
       "  <line x1=\"154\" y1=\"24\" x2=\"154\" y2=\"84\" style=\"stroke-width:2\" />\n",
       "\n",
       "  <!-- Colored Rectangle -->\n",
       "  <polygon points=\"34.696437722097514,24.696437722097514 154.69643772209753,24.696437722097514 154.69643772209753,84.69310438876418 34.696437722097514,84.69310438876418\" style=\"fill:#ECB172A0;stroke-width:0\"/>\n",
       "\n",
       "  <!-- Text -->\n",
       "  <text x=\"94.696438\" y=\"104.693104\" font-size=\"1.0rem\" font-weight=\"100\" text-anchor=\"middle\" >36000</text>\n",
       "  <text x=\"174.696438\" y=\"54.694771\" font-size=\"1.0rem\" font-weight=\"100\" text-anchor=\"middle\" transform=\"rotate(-90,174.696438,54.694771)\">17999</text>\n",
       "  <text x=\"12.348219\" y=\"92.344886\" font-size=\"1.0rem\" font-weight=\"100\" text-anchor=\"middle\" transform=\"rotate(45,12.348219,92.344886)\">7156</text>\n",
       "</svg>\n",
       "        </td>\n",
       "    </tr>\n",
       "</table></div></li><li class='xr-var-item'><div class='xr-var-name'><span>mask</span></div><div class='xr-var-dims'>(time, lat, lon)</div><div class='xr-var-dtype'>float32</div><div class='xr-var-preview xr-preview'>dask.array&lt;chunksize=(1, 1447, 2895), meta=np.ndarray&gt;</div><input id='attrs-d13ac48b-2e93-4a4c-8e09-428769e49be1' class='xr-var-attrs-in' type='checkbox' ><label for='attrs-d13ac48b-2e93-4a4c-8e09-428769e49be1' title='Show/Hide attributes'><svg class='icon xr-icon-file-text2'><use xlink:href='#icon-file-text2'></use></svg></label><input id='data-22c8ff53-d957-4411-b3a1-5b0e624a69ab' class='xr-var-data-in' type='checkbox'><label for='data-22c8ff53-d957-4411-b3a1-5b0e624a69ab' title='Show/Hide data repr'><svg class='icon xr-icon-database'><use xlink:href='#icon-database'></use></svg></label><div class='xr-var-attrs'><dl class='xr-attrs'><dt><span>comment :</span></dt><dd>mask can be used to further filter the data.</dd><dt><span>flag_masks :</span></dt><dd>[1, 2, 4, 8, 16]</dd><dt><span>flag_meanings :</span></dt><dd>1=open-sea, 2=land, 5=open-lake, 9=open-sea with ice in the grid, 13=open-lake with ice in the grid</dd><dt><span>flag_values :</span></dt><dd>[1, 2, 5, 9, 13]</dd><dt><span>long_name :</span></dt><dd>sea/land field composite mask</dd><dt><span>source :</span></dt><dd>GMT &quot;grdlandmask&quot;, ice flag from sea_ice_fraction data</dd><dt><span>valid_max :</span></dt><dd>31</dd><dt><span>valid_min :</span></dt><dd>1</dd></dl></div><div class='xr-var-data'><table>\n",
       "    <tr>\n",
       "        <td>\n",
       "            <table style=\"border-collapse: collapse;\">\n",
       "                <thead>\n",
       "                    <tr>\n",
       "                        <td> </td>\n",
       "                        <th> Array </th>\n",
       "                        <th> Chunk </th>\n",
       "                    </tr>\n",
       "                </thead>\n",
       "                <tbody>\n",
       "                    \n",
       "                    <tr>\n",
       "                        <th> Bytes </th>\n",
       "                        <td> 16.87 TiB </td>\n",
       "                        <td> 15.98 MiB </td>\n",
       "                    </tr>\n",
       "                    \n",
       "                    <tr>\n",
       "                        <th> Shape </th>\n",
       "                        <td> (7156, 17999, 36000) </td>\n",
       "                        <td> (1, 1447, 2895) </td>\n",
       "                    </tr>\n",
       "                    <tr>\n",
       "                        <th> Dask graph </th>\n",
       "                        <td colspan=\"2\"> 1209364 chunks in 2 graph layers </td>\n",
       "                    </tr>\n",
       "                    <tr>\n",
       "                        <th> Data type </th>\n",
       "                        <td colspan=\"2\"> float32 numpy.ndarray </td>\n",
       "                    </tr>\n",
       "                </tbody>\n",
       "            </table>\n",
       "        </td>\n",
       "        <td>\n",
       "        <svg width=\"204\" height=\"134\" style=\"stroke:rgb(0,0,0);stroke-width:1\" >\n",
       "\n",
       "  <!-- Horizontal lines -->\n",
       "  <line x1=\"10\" y1=\"0\" x2=\"34\" y2=\"24\" style=\"stroke-width:2\" />\n",
       "  <line x1=\"10\" y1=\"4\" x2=\"34\" y2=\"29\" />\n",
       "  <line x1=\"10\" y1=\"9\" x2=\"34\" y2=\"34\" />\n",
       "  <line x1=\"10\" y1=\"14\" x2=\"34\" y2=\"39\" />\n",
       "  <line x1=\"10\" y1=\"19\" x2=\"34\" y2=\"43\" />\n",
       "  <line x1=\"10\" y1=\"24\" x2=\"34\" y2=\"48\" />\n",
       "  <line x1=\"10\" y1=\"28\" x2=\"34\" y2=\"53\" />\n",
       "  <line x1=\"10\" y1=\"33\" x2=\"34\" y2=\"58\" />\n",
       "  <line x1=\"10\" y1=\"38\" x2=\"34\" y2=\"63\" />\n",
       "  <line x1=\"10\" y1=\"43\" x2=\"34\" y2=\"68\" />\n",
       "  <line x1=\"10\" y1=\"48\" x2=\"34\" y2=\"72\" />\n",
       "  <line x1=\"10\" y1=\"53\" x2=\"34\" y2=\"77\" />\n",
       "  <line x1=\"10\" y1=\"57\" x2=\"34\" y2=\"82\" />\n",
       "  <line x1=\"10\" y1=\"59\" x2=\"34\" y2=\"84\" style=\"stroke-width:2\" />\n",
       "\n",
       "  <!-- Vertical lines -->\n",
       "  <line x1=\"10\" y1=\"0\" x2=\"10\" y2=\"59\" style=\"stroke-width:2\" />\n",
       "  <line x1=\"11\" y1=\"1\" x2=\"11\" y2=\"61\" />\n",
       "  <line x1=\"12\" y1=\"2\" x2=\"12\" y2=\"62\" />\n",
       "  <line x1=\"13\" y1=\"3\" x2=\"13\" y2=\"63\" />\n",
       "  <line x1=\"15\" y1=\"5\" x2=\"15\" y2=\"65\" />\n",
       "  <line x1=\"16\" y1=\"6\" x2=\"16\" y2=\"66\" />\n",
       "  <line x1=\"17\" y1=\"7\" x2=\"17\" y2=\"67\" />\n",
       "  <line x1=\"19\" y1=\"9\" x2=\"19\" y2=\"69\" />\n",
       "  <line x1=\"20\" y1=\"10\" x2=\"20\" y2=\"70\" />\n",
       "  <line x1=\"21\" y1=\"11\" x2=\"21\" y2=\"71\" />\n",
       "  <line x1=\"22\" y1=\"12\" x2=\"22\" y2=\"72\" />\n",
       "  <line x1=\"24\" y1=\"14\" x2=\"24\" y2=\"74\" />\n",
       "  <line x1=\"25\" y1=\"15\" x2=\"25\" y2=\"75\" />\n",
       "  <line x1=\"26\" y1=\"16\" x2=\"26\" y2=\"76\" />\n",
       "  <line x1=\"28\" y1=\"18\" x2=\"28\" y2=\"78\" />\n",
       "  <line x1=\"29\" y1=\"19\" x2=\"29\" y2=\"79\" />\n",
       "  <line x1=\"30\" y1=\"20\" x2=\"30\" y2=\"80\" />\n",
       "  <line x1=\"32\" y1=\"22\" x2=\"32\" y2=\"82\" />\n",
       "  <line x1=\"33\" y1=\"23\" x2=\"33\" y2=\"83\" />\n",
       "  <line x1=\"34\" y1=\"24\" x2=\"34\" y2=\"84\" style=\"stroke-width:2\" />\n",
       "\n",
       "  <!-- Colored Rectangle -->\n",
       "  <polygon points=\"10.0,0.0 34.696437722097514,24.696437722097514 34.696437722097514,84.69310438876418 10.0,59.99666666666667\" style=\"fill:#8B4903A0;stroke-width:0\"/>\n",
       "\n",
       "  <!-- Horizontal lines -->\n",
       "  <line x1=\"10\" y1=\"0\" x2=\"130\" y2=\"0\" style=\"stroke-width:2\" />\n",
       "  <line x1=\"11\" y1=\"1\" x2=\"131\" y2=\"1\" />\n",
       "  <line x1=\"12\" y1=\"2\" x2=\"132\" y2=\"2\" />\n",
       "  <line x1=\"13\" y1=\"3\" x2=\"133\" y2=\"3\" />\n",
       "  <line x1=\"15\" y1=\"5\" x2=\"135\" y2=\"5\" />\n",
       "  <line x1=\"16\" y1=\"6\" x2=\"136\" y2=\"6\" />\n",
       "  <line x1=\"17\" y1=\"7\" x2=\"137\" y2=\"7\" />\n",
       "  <line x1=\"19\" y1=\"9\" x2=\"139\" y2=\"9\" />\n",
       "  <line x1=\"20\" y1=\"10\" x2=\"140\" y2=\"10\" />\n",
       "  <line x1=\"21\" y1=\"11\" x2=\"141\" y2=\"11\" />\n",
       "  <line x1=\"22\" y1=\"12\" x2=\"142\" y2=\"12\" />\n",
       "  <line x1=\"24\" y1=\"14\" x2=\"144\" y2=\"14\" />\n",
       "  <line x1=\"25\" y1=\"15\" x2=\"145\" y2=\"15\" />\n",
       "  <line x1=\"26\" y1=\"16\" x2=\"146\" y2=\"16\" />\n",
       "  <line x1=\"28\" y1=\"18\" x2=\"148\" y2=\"18\" />\n",
       "  <line x1=\"29\" y1=\"19\" x2=\"149\" y2=\"19\" />\n",
       "  <line x1=\"30\" y1=\"20\" x2=\"150\" y2=\"20\" />\n",
       "  <line x1=\"32\" y1=\"22\" x2=\"152\" y2=\"22\" />\n",
       "  <line x1=\"33\" y1=\"23\" x2=\"153\" y2=\"23\" />\n",
       "  <line x1=\"34\" y1=\"24\" x2=\"154\" y2=\"24\" style=\"stroke-width:2\" />\n",
       "\n",
       "  <!-- Vertical lines -->\n",
       "  <line x1=\"10\" y1=\"0\" x2=\"34\" y2=\"24\" style=\"stroke-width:2\" />\n",
       "  <line x1=\"19\" y1=\"0\" x2=\"44\" y2=\"24\" />\n",
       "  <line x1=\"29\" y1=\"0\" x2=\"53\" y2=\"24\" />\n",
       "  <line x1=\"38\" y1=\"0\" x2=\"63\" y2=\"24\" />\n",
       "  <line x1=\"48\" y1=\"0\" x2=\"73\" y2=\"24\" />\n",
       "  <line x1=\"58\" y1=\"0\" x2=\"82\" y2=\"24\" />\n",
       "  <line x1=\"67\" y1=\"0\" x2=\"92\" y2=\"24\" />\n",
       "  <line x1=\"77\" y1=\"0\" x2=\"102\" y2=\"24\" />\n",
       "  <line x1=\"87\" y1=\"0\" x2=\"111\" y2=\"24\" />\n",
       "  <line x1=\"96\" y1=\"0\" x2=\"121\" y2=\"24\" />\n",
       "  <line x1=\"106\" y1=\"0\" x2=\"131\" y2=\"24\" />\n",
       "  <line x1=\"116\" y1=\"0\" x2=\"140\" y2=\"24\" />\n",
       "  <line x1=\"125\" y1=\"0\" x2=\"150\" y2=\"24\" />\n",
       "  <line x1=\"130\" y1=\"0\" x2=\"154\" y2=\"24\" style=\"stroke-width:2\" />\n",
       "\n",
       "  <!-- Colored Rectangle -->\n",
       "  <polygon points=\"10.0,0.0 130.0,0.0 154.69643772209753,24.696437722097514 34.696437722097514,24.696437722097514\" style=\"fill:#8B4903A0;stroke-width:0\"/>\n",
       "\n",
       "  <!-- Horizontal lines -->\n",
       "  <line x1=\"34\" y1=\"24\" x2=\"154\" y2=\"24\" style=\"stroke-width:2\" />\n",
       "  <line x1=\"34\" y1=\"29\" x2=\"154\" y2=\"29\" />\n",
       "  <line x1=\"34\" y1=\"34\" x2=\"154\" y2=\"34\" />\n",
       "  <line x1=\"34\" y1=\"39\" x2=\"154\" y2=\"39\" />\n",
       "  <line x1=\"34\" y1=\"43\" x2=\"154\" y2=\"43\" />\n",
       "  <line x1=\"34\" y1=\"48\" x2=\"154\" y2=\"48\" />\n",
       "  <line x1=\"34\" y1=\"53\" x2=\"154\" y2=\"53\" />\n",
       "  <line x1=\"34\" y1=\"58\" x2=\"154\" y2=\"58\" />\n",
       "  <line x1=\"34\" y1=\"63\" x2=\"154\" y2=\"63\" />\n",
       "  <line x1=\"34\" y1=\"68\" x2=\"154\" y2=\"68\" />\n",
       "  <line x1=\"34\" y1=\"72\" x2=\"154\" y2=\"72\" />\n",
       "  <line x1=\"34\" y1=\"77\" x2=\"154\" y2=\"77\" />\n",
       "  <line x1=\"34\" y1=\"82\" x2=\"154\" y2=\"82\" />\n",
       "  <line x1=\"34\" y1=\"84\" x2=\"154\" y2=\"84\" style=\"stroke-width:2\" />\n",
       "\n",
       "  <!-- Vertical lines -->\n",
       "  <line x1=\"34\" y1=\"24\" x2=\"34\" y2=\"84\" style=\"stroke-width:2\" />\n",
       "  <line x1=\"44\" y1=\"24\" x2=\"44\" y2=\"84\" />\n",
       "  <line x1=\"53\" y1=\"24\" x2=\"53\" y2=\"84\" />\n",
       "  <line x1=\"63\" y1=\"24\" x2=\"63\" y2=\"84\" />\n",
       "  <line x1=\"73\" y1=\"24\" x2=\"73\" y2=\"84\" />\n",
       "  <line x1=\"82\" y1=\"24\" x2=\"82\" y2=\"84\" />\n",
       "  <line x1=\"92\" y1=\"24\" x2=\"92\" y2=\"84\" />\n",
       "  <line x1=\"102\" y1=\"24\" x2=\"102\" y2=\"84\" />\n",
       "  <line x1=\"111\" y1=\"24\" x2=\"111\" y2=\"84\" />\n",
       "  <line x1=\"121\" y1=\"24\" x2=\"121\" y2=\"84\" />\n",
       "  <line x1=\"131\" y1=\"24\" x2=\"131\" y2=\"84\" />\n",
       "  <line x1=\"140\" y1=\"24\" x2=\"140\" y2=\"84\" />\n",
       "  <line x1=\"150\" y1=\"24\" x2=\"150\" y2=\"84\" />\n",
       "  <line x1=\"154\" y1=\"24\" x2=\"154\" y2=\"84\" style=\"stroke-width:2\" />\n",
       "\n",
       "  <!-- Colored Rectangle -->\n",
       "  <polygon points=\"34.696437722097514,24.696437722097514 154.69643772209753,24.696437722097514 154.69643772209753,84.69310438876418 34.696437722097514,84.69310438876418\" style=\"fill:#ECB172A0;stroke-width:0\"/>\n",
       "\n",
       "  <!-- Text -->\n",
       "  <text x=\"94.696438\" y=\"104.693104\" font-size=\"1.0rem\" font-weight=\"100\" text-anchor=\"middle\" >36000</text>\n",
       "  <text x=\"174.696438\" y=\"54.694771\" font-size=\"1.0rem\" font-weight=\"100\" text-anchor=\"middle\" transform=\"rotate(-90,174.696438,54.694771)\">17999</text>\n",
       "  <text x=\"12.348219\" y=\"92.344886\" font-size=\"1.0rem\" font-weight=\"100\" text-anchor=\"middle\" transform=\"rotate(45,12.348219,92.344886)\">7156</text>\n",
       "</svg>\n",
       "        </td>\n",
       "    </tr>\n",
       "</table></div></li></ul></div></li><li class='xr-section-item'><input id='section-300de974-cde6-427f-9c7d-07640e3bc7f8' class='xr-section-summary-in' type='checkbox'  ><label for='section-300de974-cde6-427f-9c7d-07640e3bc7f8' class='xr-section-summary' >Indexes: <span>(3)</span></label><div class='xr-section-inline-details'></div><div class='xr-section-details'><ul class='xr-var-list'><li class='xr-var-item'><div class='xr-index-name'><div>time</div></div><div class='xr-index-preview'>PandasIndex</div><input type='checkbox' disabled/><label></label><input id='index-0a047a95-e32e-4473-8a2f-a5402d3d6f33' class='xr-index-data-in' type='checkbox'/><label for='index-0a047a95-e32e-4473-8a2f-a5402d3d6f33' title='Show/Hide index repr'><svg class='icon xr-icon-database'><use xlink:href='#icon-database'></use></svg></label><div class='xr-index-data'><pre>PandasIndex(DatetimeIndex([&#x27;2002-06-01 09:00:00&#x27;, &#x27;2002-06-02 09:00:00&#x27;,\n",
       "               &#x27;2002-06-03 09:00:00&#x27;, &#x27;2002-06-04 09:00:00&#x27;,\n",
       "               &#x27;2002-06-05 09:00:00&#x27;, &#x27;2002-06-06 09:00:00&#x27;,\n",
       "               &#x27;2002-06-07 09:00:00&#x27;, &#x27;2002-06-08 09:00:00&#x27;,\n",
       "               &#x27;2002-06-09 09:00:00&#x27;, &#x27;2002-06-10 09:00:00&#x27;,\n",
       "               ...\n",
       "               &#x27;2021-12-24 09:00:00&#x27;, &#x27;2021-12-25 09:00:00&#x27;,\n",
       "               &#x27;2021-12-26 09:00:00&#x27;, &#x27;2021-12-27 09:00:00&#x27;,\n",
       "               &#x27;2021-12-28 09:00:00&#x27;, &#x27;2021-12-29 09:00:00&#x27;,\n",
       "               &#x27;2021-12-30 09:00:00&#x27;, &#x27;2021-12-31 09:00:00&#x27;,\n",
       "               &#x27;2022-01-01 09:00:00&#x27;, &#x27;2022-01-02 09:00:00&#x27;],\n",
       "              dtype=&#x27;datetime64[ns]&#x27;, name=&#x27;time&#x27;, length=7156, freq=None))</pre></div></li><li class='xr-var-item'><div class='xr-index-name'><div>lat</div></div><div class='xr-index-preview'>PandasIndex</div><input type='checkbox' disabled/><label></label><input id='index-45560d02-7f93-4333-9aa3-7c18542e70f6' class='xr-index-data-in' type='checkbox'/><label for='index-45560d02-7f93-4333-9aa3-7c18542e70f6' title='Show/Hide index repr'><svg class='icon xr-icon-database'><use xlink:href='#icon-database'></use></svg></label><div class='xr-index-data'><pre>PandasIndex(Index([-89.98999786376953,  -89.9800033569336, -89.97000122070312,\n",
       "       -89.95999908447266, -89.94999694824219, -89.94000244140625,\n",
       "       -89.93000030517578, -89.91999816894531, -89.91000366210938,\n",
       "        -89.9000015258789,\n",
       "       ...\n",
       "         89.9000015258789,  89.91000366210938,  89.91999816894531,\n",
       "        89.93000030517578,  89.94000244140625,  89.94999694824219,\n",
       "        89.95999908447266,  89.97000122070312,   89.9800033569336,\n",
       "        89.98999786376953],\n",
       "      dtype=&#x27;float32&#x27;, name=&#x27;lat&#x27;, length=17999))</pre></div></li><li class='xr-var-item'><div class='xr-index-name'><div>lon</div></div><div class='xr-index-preview'>PandasIndex</div><input type='checkbox' disabled/><label></label><input id='index-7454147f-8ad4-4dee-bfa0-0164b7c75c55' class='xr-index-data-in' type='checkbox'/><label for='index-7454147f-8ad4-4dee-bfa0-0164b7c75c55' title='Show/Hide index repr'><svg class='icon xr-icon-database'><use xlink:href='#icon-database'></use></svg></label><div class='xr-index-data'><pre>PandasIndex(Index([-179.99000549316406, -179.97999572753906, -179.97000122070312,\n",
       "        -179.9600067138672,  -179.9499969482422, -179.94000244140625,\n",
       "       -179.92999267578125,  -179.9199981689453, -179.91000366210938,\n",
       "       -179.89999389648438,\n",
       "       ...\n",
       "        179.91000366210938,   179.9199981689453,  179.92999267578125,\n",
       "        179.94000244140625,   179.9499969482422,   179.9600067138672,\n",
       "        179.97000122070312,  179.97999572753906,  179.99000549316406,\n",
       "                     180.0],\n",
       "      dtype=&#x27;float32&#x27;, name=&#x27;lon&#x27;, length=36000))</pre></div></li></ul></div></li><li class='xr-section-item'><input id='section-7ca97472-7e90-453b-9b60-8e3264317370' class='xr-section-summary-in' type='checkbox'  ><label for='section-7ca97472-7e90-453b-9b60-8e3264317370' class='xr-section-summary' >Attributes: <span>(47)</span></label><div class='xr-section-inline-details'></div><div class='xr-section-details'><dl class='xr-attrs'><dt><span>Conventions :</span></dt><dd>CF-1.7</dd><dt><span>Metadata_Conventions :</span></dt><dd>Unidata Observation Dataset v1.0</dd><dt><span>acknowledgment :</span></dt><dd>Please acknowledge the use of these data with the following statement:  These data were provided by JPL under support by NASA MEaSUREs program.</dd><dt><span>cdm_data_type :</span></dt><dd>grid</dd><dt><span>comment :</span></dt><dd>MUR = &quot;Multi-scale Ultra-high Resolution&quot;</dd><dt><span>creator_email :</span></dt><dd>ghrsst@podaac.jpl.nasa.gov</dd><dt><span>creator_name :</span></dt><dd>JPL MUR SST project</dd><dt><span>creator_url :</span></dt><dd>http://mur.jpl.nasa.gov</dd><dt><span>date_created :</span></dt><dd>20210303T072024Z</dd><dt><span>easternmost_longitude :</span></dt><dd>180.0</dd><dt><span>file_quality_level :</span></dt><dd>3</dd><dt><span>gds_version_id :</span></dt><dd>2.0</dd><dt><span>geospatial_lat_resolution :</span></dt><dd>0.009999999776482582</dd><dt><span>geospatial_lat_units :</span></dt><dd>degrees north</dd><dt><span>geospatial_lon_resolution :</span></dt><dd>0.009999999776482582</dd><dt><span>geospatial_lon_units :</span></dt><dd>degrees east</dd><dt><span>history :</span></dt><dd>created at nominal 4-day latency; replaced nrt (1-day latency) version.</dd><dt><span>id :</span></dt><dd>MUR-JPL-L4-GLOB-v04.1</dd><dt><span>institution :</span></dt><dd>Jet Propulsion Laboratory</dd><dt><span>keywords :</span></dt><dd>Oceans &gt; Ocean Temperature &gt; Sea Surface Temperature</dd><dt><span>keywords_vocabulary :</span></dt><dd>NASA Global Change Master Directory (GCMD) Science Keywords</dd><dt><span>license :</span></dt><dd>These data are available free of charge under data policy of JPL PO.DAAC.</dd><dt><span>metadata_link :</span></dt><dd>http://podaac.jpl.nasa.gov/ws/metadata/dataset/?format=iso&amp;shortName=MUR-JPL-L4-GLOB-v04.1</dd><dt><span>naming_authority :</span></dt><dd>org.ghrsst</dd><dt><span>netcdf_version_id :</span></dt><dd>4.1</dd><dt><span>northernmost_latitude :</span></dt><dd>90.0</dd><dt><span>platform :</span></dt><dd>Terra, Aqua, GCOM-W, MetOp-A, MetOp-B, Buoys/Ships</dd><dt><span>processing_level :</span></dt><dd>L4</dd><dt><span>product_version :</span></dt><dd>04.1</dd><dt><span>project :</span></dt><dd>NASA Making Earth Science Data Records for Use in Research Environments (MEaSUREs) Program</dd><dt><span>publisher_email :</span></dt><dd>ghrsst-po@nceo.ac.uk</dd><dt><span>publisher_name :</span></dt><dd>GHRSST Project Office</dd><dt><span>publisher_url :</span></dt><dd>http://www.ghrsst.org</dd><dt><span>references :</span></dt><dd>http://podaac.jpl.nasa.gov/Multi-scale_Ultra-high_Resolution_MUR-SST</dd><dt><span>sensor :</span></dt><dd>MODIS, AMSR2, AVHRR, in-situ</dd><dt><span>source :</span></dt><dd>MODIS_T-JPL, MODIS_A-JPL, AMSR2-REMSS, AVHRRMTA_G-NAVO, AVHRRMTB_G-NAVO, iQUAM-NOAA/NESDIS, Ice_Conc-OSISAF</dd><dt><span>southernmost_latitude :</span></dt><dd>-90.0</dd><dt><span>spatial_resolution :</span></dt><dd>0.01 degrees</dd><dt><span>standard_name_vocabulary :</span></dt><dd>NetCDF Climate and Forecast (CF) Metadata Convention</dd><dt><span>start_time :</span></dt><dd>20210222T090000Z</dd><dt><span>stop_time :</span></dt><dd>20210222T090000Z</dd><dt><span>summary :</span></dt><dd>A merged, multi-sensor L4 Foundation SST analysis product from JPL.</dd><dt><span>time_coverage_end :</span></dt><dd>20210222T210000Z</dd><dt><span>time_coverage_start :</span></dt><dd>20210221T210000Z</dd><dt><span>title :</span></dt><dd>Daily MUR SST, Final product</dd><dt><span>uuid :</span></dt><dd>27665bc0-d5fc-11e1-9b23-0800200c9a66</dd><dt><span>westernmost_longitude :</span></dt><dd>-180.0</dd></dl></div></li></ul></div></div>"
      ],
      "text/plain": [
       "<xarray.Dataset> Size: 130TB\n",
       "Dimensions:           (time: 7156, lat: 17999, lon: 36000)\n",
       "Coordinates:\n",
       "  * time              (time) datetime64[ns] 57kB 2002-06-01T09:00:00 ... 2022...\n",
       "  * lat               (lat) float32 72kB -89.99 -89.98 -89.97 ... 89.98 89.99\n",
       "  * lon               (lon) float32 144kB -180.0 -180.0 -180.0 ... 180.0 180.0\n",
       "Data variables:\n",
       "    analysed_sst      (time, lat, lon) float64 37TB dask.array<chunksize=(1, 1023, 2047), meta=np.ndarray>\n",
       "    analysis_error    (time, lat, lon) float64 37TB dask.array<chunksize=(1, 1023, 2047), meta=np.ndarray>\n",
       "    sea_ice_fraction  (time, lat, lon) float64 37TB dask.array<chunksize=(1, 1447, 2895), meta=np.ndarray>\n",
       "    mask              (time, lat, lon) float32 19TB dask.array<chunksize=(1, 1447, 2895), meta=np.ndarray>\n",
       "Attributes: (12/47)\n",
       "    Conventions:                CF-1.7\n",
       "    Metadata_Conventions:       Unidata Observation Dataset v1.0\n",
       "    acknowledgment:             Please acknowledge the use of these data with...\n",
       "    cdm_data_type:              grid\n",
       "    comment:                    MUR = \"Multi-scale Ultra-high Resolution\"\n",
       "    creator_email:              ghrsst@podaac.jpl.nasa.gov\n",
       "    ...                         ...\n",
       "    summary:                    A merged, multi-sensor L4 Foundation SST anal...\n",
       "    time_coverage_end:          20210222T210000Z\n",
       "    time_coverage_start:        20210221T210000Z\n",
       "    title:                      Daily MUR SST, Final product\n",
       "    uuid:                       27665bc0-d5fc-11e1-9b23-0800200c9a66\n",
       "    westernmost_longitude:      -180.0"
      ]
     },
     "execution_count": 101,
     "metadata": {},
     "output_type": "execute_result"
    }
   ],
   "source": [
    "xds"
   ]
  },
  {
   "cell_type": "markdown",
   "id": "5c1dcf89-4314-4edb-91c1-08c04045968c",
   "metadata": {},
   "source": [
    "## Check the snapshots"
   ]
  },
  {
   "cell_type": "code",
   "execution_count": 8,
   "id": "a3860bfd-f5a5-4be3-914d-4184a5c8fe5f",
   "metadata": {},
   "outputs": [
    {
     "name": "stdout",
     "output_type": "stream",
     "text": [
      "Repository initialized, snapshot_id: RH014HBQ7X9TSG5K9A3G\n"
     ]
    }
   ],
   "source": [
    "for snapshot in repo.ancestry(branch=\"main\"):\n",
    "    print(f\"{snapshot.message}, snapshot_id: {snapshot.id}\")"
   ]
  },
  {
   "cell_type": "markdown",
   "id": "b85e2e9a-9a89-4b36-85a8-418fefd83933",
   "metadata": {},
   "source": [
    "## Other useful tips"
   ]
  },
  {
   "cell_type": "markdown",
   "id": "0ca14c8f-7709-4d00-8571-411bc0ae9ed9",
   "metadata": {},
   "source": [
    "### Reseting the repo to a previous snapshot"
   ]
  },
  {
   "cell_type": "code",
   "execution_count": 9,
   "id": "f0792798-be17-42b0-9e49-0e0aa5c39e2a",
   "metadata": {},
   "outputs": [],
   "source": [
    "#repo.reset_branch(branch=\"main\", snapshot_id='PHXYBRNBJ7T70SS6DSVG')"
   ]
  },
  {
   "cell_type": "markdown",
   "id": "cad51171-8a43-485e-97ba-7f73c5f711e4",
   "metadata": {},
   "source": [
    "## Inspecting a store with async generators"
   ]
  },
  {
   "cell_type": "code",
   "execution_count": null,
   "id": "ad6a07d7-6046-4491-a156-28dfec7382cf",
   "metadata": {},
   "outputs": [],
   "source": [
    "# async def fn():\n",
    "#     return [item async for item in store.list_dir('/')]\n",
    "\n",
    "# await fn()"
   ]
  },
  {
   "cell_type": "markdown",
   "id": "cb8b25bb-453f-482e-8e86-143307249e93",
   "metadata": {},
   "source": [
    "# 3. Create initial store with data from 2002\n",
    "\n",
    "## 3a. List, virtualize and concatenize datasets\n",
    "\n",
    "This step uses the dmrpp reader of VirtualiZarr. This reader makes this process very fast since we don't actually have to open and read any of the original files."
   ]
  },
  {
   "cell_type": "code",
   "execution_count": 10,
   "id": "96506b26-9129-437c-bb8a-c539037d9db5",
   "metadata": {},
   "outputs": [],
   "source": [
    "mur_sst_files_2002 = helpers.list_mur_sst_files(start_date=\"2002-06-01\", end_date=\"2002-12-31\")\n",
    "mur_sst_dmrpps_2002 = [f + '.dmrpp' for f in mur_sst_files_2002]\n",
    "virtual_ds_2002 = helpers.create_virtual_ds(dmrpps=mur_sst_dmrpps_2002)"
   ]
  },
  {
   "cell_type": "code",
   "execution_count": 11,
   "id": "0e3e044e-82c0-46f8-98a4-3f9294ab327b",
   "metadata": {},
   "outputs": [
    {
     "data": {
      "text/plain": [
       "214"
      ]
     },
     "execution_count": 11,
     "metadata": {},
     "output_type": "execute_result"
    }
   ],
   "source": [
    "# sanity check\n",
    "len(mur_sst_dmrpps_2002)"
   ]
  },
  {
   "cell_type": "markdown",
   "id": "b2f98b73-6a16-47b1-8f74-84df9f2cd97b",
   "metadata": {},
   "source": [
    "## 3b. Write to icechunk"
   ]
  },
  {
   "cell_type": "code",
   "execution_count": 13,
   "id": "2be45430-3310-4f9c-9f3a-d1493493f0e1",
   "metadata": {},
   "outputs": [
    {
     "name": "stdout",
     "output_type": "stream",
     "text": [
      "CPU times: user 2.27 s, sys: 111 ms, total: 2.38 s\n",
      "Wall time: 2.64 s\n"
     ]
    },
    {
     "data": {
      "text/plain": [
       "'QGKV998ZHQDVWRKY72VG'"
      ]
     },
     "execution_count": 13,
     "metadata": {},
     "output_type": "execute_result"
    }
   ],
   "source": [
    "%%time\n",
    "session = repo.writable_session(\"main\")\n",
    "store = session.store\n",
    "virtual_ds_2002.virtualize.to_icechunk(store)\n",
    "session.commit(\"Wrote 2002 data\")"
   ]
  },
  {
   "cell_type": "markdown",
   "id": "4413c12a-74c1-4cb3-bf40-aed6bd45bde8",
   "metadata": {},
   "source": [
    "## 3c. Validate"
   ]
  },
  {
   "cell_type": "code",
   "execution_count": 14,
   "id": "a6eaf38e-f587-438e-93e3-45193b19e759",
   "metadata": {},
   "outputs": [
    {
     "name": "stdout",
     "output_type": "stream",
     "text": [
      "Open icechunk store...\n",
      "Computing icechunk store result...\n",
      "Icechunk store result: 284.47378231035907\n",
      "Opening original files...\n",
      "Computing original files result\n",
      "Result from original files: 284.47378231035907\n",
      "CPU times: user 10.2 s, sys: 1.23 s, total: 11.5 s\n",
      "Wall time: 4min 13s\n"
     ]
    }
   ],
   "source": [
    "%%time\n",
    "helpers.validate_data(store, dates=[\"2002-06-01\", \"2002-12-31\"], fs=fs)"
   ]
  },
  {
   "cell_type": "markdown",
   "id": "deb57c96-5f98-439d-82f7-9547e5e4426b",
   "metadata": {},
   "source": [
    "# 4. 2003\n",
    "\n",
    "One file in 2003 (2003-09-11) had a different encoding, so the the list of 2003 files is split into 3 lists. All dates apart from the date with the different encoding are written as virtual stores. The problematic data is written as zarr.\n",
    "\n",
    "See and run `helpers.get_codecs` with a list of virtual datasets to check all codecs are the same."
   ]
  },
  {
   "cell_type": "markdown",
   "id": "cd66040a-8d4e-4d72-9a5a-f2e7f49bb8ee",
   "metadata": {},
   "source": [
    "## 4a. Discover files with different codecs"
   ]
  },
  {
   "cell_type": "code",
   "execution_count": 15,
   "id": "ae0ef852-f6f4-4919-b726-6f7370bfdd0d",
   "metadata": {},
   "outputs": [
    {
     "name": "stdout",
     "output_type": "stream",
     "text": [
      "Codec(compressor=None, filters=[{'id': 'zlib', 'level': 6}])\n",
      "s3://podaac-ops-cumulus-protected/MUR-JPL-L4-GLOB-v4.1/20030911090000-JPL-L4_GHRSST-SSTfnd-MUR-GLOB-v02.0-fv04.1.nc\n",
      "\n"
     ]
    }
   ],
   "source": [
    "mur_sst_files_2003 = helpers.list_mur_sst_files(start_date=\"2003-01-01\", end_date=\"2003-12-31\")\n",
    "mur_sst_files_2003_dmrpps = [f + '.dmrpp' for f in mur_sst_files_2003]\n",
    "vdss = [helpers.open_virtual(f) for f in mur_sst_files_2003_dmrpps]\n",
    "helpers.check_codecs(vdss)"
   ]
  },
  {
   "cell_type": "markdown",
   "id": "8e55d390-1d64-4802-adfe-4d6b7b167033",
   "metadata": {},
   "source": [
    "**Encoding report:**\n",
    "There's just one different encoding this year: 2003-09-11, which doesn't have the expected shuffle operation. We will write that file as Zarr."
   ]
  },
  {
   "cell_type": "markdown",
   "id": "5e29a257-3376-4cce-a927-6d4a5f53d827",
   "metadata": {},
   "source": [
    "## 4b. Write first set of files as virtual datasets using the DMRPP reader"
   ]
  },
  {
   "cell_type": "code",
   "execution_count": 16,
   "id": "b264e948-0278-4b29-b825-4f378bdef48f",
   "metadata": {},
   "outputs": [],
   "source": [
    "mur_sst_files_2003_1 = helpers.list_mur_sst_files(start_date=\"2003-01-01\", end_date=\"2003-09-10\")\n",
    "mur_sst_files_2003_1_dmrpps = [f + '.dmrpp' for f in mur_sst_files_2003_1]\n",
    "virtual_ds_2003_1 = helpers.create_virtual_ds(dmrpps=mur_sst_files_2003_1_dmrpps)"
   ]
  },
  {
   "cell_type": "code",
   "execution_count": 17,
   "id": "49aa6a5a-0bc4-467d-ae83-0ba60b47b508",
   "metadata": {},
   "outputs": [
    {
     "data": {
      "text/plain": [
       "'YT2DG5DSBYECYMM3VY60'"
      ]
     },
     "execution_count": 17,
     "metadata": {},
     "output_type": "execute_result"
    }
   ],
   "source": [
    "session = repo.writable_session(\"main\")\n",
    "store = session.store\n",
    "virtual_ds_2003_1.virtualize.to_icechunk(store, append_dim='time')\n",
    "session.commit(\"Wrote first part of 2003 data\")"
   ]
  },
  {
   "cell_type": "code",
   "execution_count": 18,
   "id": "ecd3467a-f9ce-4225-8955-42b2ad0309cd",
   "metadata": {},
   "outputs": [
    {
     "name": "stdout",
     "output_type": "stream",
     "text": [
      "Open icechunk store...\n",
      "Computing icechunk store result...\n",
      "Icechunk store result: 284.3320804300873\n",
      "Opening original files...\n",
      "Computing original files result\n",
      "Result from original files: 284.3320804300873\n",
      "CPU times: user 11.9 s, sys: 1.51 s, total: 13.4 s\n",
      "Wall time: 5min 5s\n"
     ]
    }
   ],
   "source": [
    "%%time\n",
    "session = repo.readonly_session(branch=\"main\")\n",
    "store = session.store\n",
    "helpers.validate_data(store, dates=[\"2003-01-01\", \"2003-09-10\"], fs=fs)"
   ]
  },
  {
   "cell_type": "markdown",
   "id": "1dbd18d4-06a5-45e3-af21-552c0e1286b8",
   "metadata": {},
   "source": [
    "## 4c. Write data with different encoding as zarr"
   ]
  },
  {
   "cell_type": "code",
   "execution_count": 19,
   "id": "268bfdb0-f166-48ff-aa93-2334ea6108a6",
   "metadata": {},
   "outputs": [
    {
     "name": "stdout",
     "output_type": "stream",
     "text": [
      "Opening files\n",
      "Files opened\n",
      "Mapping write tasks to dask client\n"
     ]
    },
    {
     "name": "stderr",
     "output_type": "stream",
     "text": [
      "/opt/conda/lib/python3.11/site-packages/numcodecs/zarr3.py:132: UserWarning: Numcodecs codecs are not in the Zarr version 3 specification and may not be supported by other zarr implementations.\n",
      "  super().__init__(**codec_config)\n",
      "/opt/conda/lib/python3.11/site-packages/numcodecs/zarr3.py:132: UserWarning: Numcodecs codecs are not in the Zarr version 3 specification and may not be supported by other zarr implementations.\n",
      "  super().__init__(**codec_config)\n",
      "/opt/conda/lib/python3.11/site-packages/numcodecs/zarr3.py:132: UserWarning: Numcodecs codecs are not in the Zarr version 3 specification and may not be supported by other zarr implementations.\n",
      "  super().__init__(**codec_config)\n",
      "/opt/conda/lib/python3.11/site-packages/numcodecs/zarr3.py:132: UserWarning: Numcodecs codecs are not in the Zarr version 3 specification and may not be supported by other zarr implementations.\n",
      "  super().__init__(**codec_config)\n"
     ]
    },
    {
     "name": "stdout",
     "output_type": "stream",
     "text": [
      "Starting distributed commit\n",
      "Distributed commit done\n",
      "CPU times: user 5.32 s, sys: 672 ms, total: 6 s\n",
      "Wall time: 1min 42s\n"
     ]
    }
   ],
   "source": [
    "%%time\n",
    "dwz.update(\n",
    "    repo=repo,\n",
    "    start_date=\"2003-09-11 09:00\",\n",
    "    end_date=\"2003-09-11 09:00\",\n",
    "    fs=fs,\n",
    "    client=client\n",
    ")"
   ]
  },
  {
   "cell_type": "code",
   "execution_count": 20,
   "id": "9da76821-b152-49e2-9a5b-1aaa1985f796",
   "metadata": {},
   "outputs": [
    {
     "name": "stdout",
     "output_type": "stream",
     "text": [
      "Open icechunk store...\n",
      "Computing icechunk store result...\n",
      "Icechunk store result: 285.29159611231097\n",
      "Opening original files...\n",
      "Computing original files result\n",
      "Result from original files: 285.29159611231097\n",
      "CPU times: user 887 ms, sys: 90.6 ms, total: 978 ms\n",
      "Wall time: 14.2 s\n"
     ]
    }
   ],
   "source": [
    "%%time\n",
    "session = repo.readonly_session(branch=\"main\")\n",
    "store = session.store\n",
    "helpers.validate_data(store, dates=[\"2003-09-11\", \"2003-09-11\"], fs=fs)"
   ]
  },
  {
   "cell_type": "markdown",
   "id": "7173ee65-96f7-45a4-9156-40f9eeeb2f91",
   "metadata": {},
   "source": [
    "## 4d. Write the rest of 2003 as virtual data"
   ]
  },
  {
   "cell_type": "code",
   "execution_count": 22,
   "id": "46f61c26-f7af-4ade-b2cb-550a4f166b51",
   "metadata": {},
   "outputs": [],
   "source": [
    "mur_sst_files_2003_2 = helpers.list_mur_sst_files(start_date=\"2003-09-12\", end_date=\"2003-12-31\")\n",
    "mur_sst_files_2003_2_dmrpps = [f + '.dmrpp' for f in mur_sst_files_2003_2]\n",
    "virtual_ds_2003_2 = helpers.create_virtual_ds(dmrpps=mur_sst_files_2003_2_dmrpps)"
   ]
  },
  {
   "cell_type": "code",
   "execution_count": 23,
   "id": "8b138a89-af22-4736-937e-bc3735f9b7b5",
   "metadata": {},
   "outputs": [
    {
     "data": {
      "text/plain": [
       "'G8BHPTWYMTWD97V15Q7G'"
      ]
     },
     "execution_count": 23,
     "metadata": {},
     "output_type": "execute_result"
    }
   ],
   "source": [
    "session = repo.writable_session(\"main\")\n",
    "store = session.store\n",
    "virtual_ds_2003_2.virtualize.to_icechunk(store, append_dim='time')\n",
    "session.commit(f\"Wrote to end of 2003.\")"
   ]
  },
  {
   "cell_type": "markdown",
   "id": "40667225-1e8d-482c-9f5b-d44f54c505c9",
   "metadata": {},
   "source": [
    "## 4e. Validate"
   ]
  },
  {
   "cell_type": "code",
   "execution_count": 24,
   "id": "6c41cecc-6ce7-4adf-a853-1bb5e60f3be2",
   "metadata": {},
   "outputs": [
    {
     "name": "stdout",
     "output_type": "stream",
     "text": [
      "Open icechunk store...\n",
      "Computing icechunk store result...\n",
      "Icechunk store result: 283.9340395773743\n",
      "Opening original files...\n",
      "Computing original files result\n",
      "Result from original files: 283.9340395773743\n",
      "CPU times: user 5.83 s, sys: 716 ms, total: 6.55 s\n",
      "Wall time: 2min\n"
     ]
    }
   ],
   "source": [
    "%%time\n",
    "helpers.validate_data(store, dates=[\"2003-09-12\", \"2003-12-31\"], fs=fs)"
   ]
  },
  {
   "cell_type": "markdown",
   "id": "f6138d75-0c05-4bd5-86db-7e72fabc5f2b",
   "metadata": {},
   "source": [
    "# 5. Append 2004"
   ]
  },
  {
   "cell_type": "markdown",
   "id": "ccafaf4d-e89c-4c9b-b8ce-c489c84f0277",
   "metadata": {},
   "source": [
    "## 5a. List files"
   ]
  },
  {
   "cell_type": "code",
   "execution_count": 25,
   "id": "2d175d63-cbb1-4c5b-98b0-8e90c35b95ac",
   "metadata": {},
   "outputs": [],
   "source": [
    "dates = ['2004-01-01', '2004-12-31']\n",
    "mur_sst_files_2004 = helpers.list_mur_sst_files(start_date=dates[0], end_date=dates[1])\n",
    "mur_sst_files_2004_dmrpps = [f + '.dmrpp' for f in mur_sst_files_2004]"
   ]
  },
  {
   "cell_type": "code",
   "execution_count": 26,
   "id": "9a6ddaba-9223-415e-bebd-0b86c8b6405d",
   "metadata": {},
   "outputs": [
    {
     "data": {
      "text/plain": [
       "366"
      ]
     },
     "execution_count": 26,
     "metadata": {},
     "output_type": "execute_result"
    }
   ],
   "source": [
    "len(mur_sst_files_2004_dmrpps)"
   ]
  },
  {
   "cell_type": "markdown",
   "id": "682916bc-6f3d-4793-80e6-efa8fc592326",
   "metadata": {},
   "source": [
    "## 5b. Write data"
   ]
  },
  {
   "cell_type": "code",
   "execution_count": 27,
   "id": "cb4343cb-53fb-4000-becf-432fa37a1b1d",
   "metadata": {},
   "outputs": [
    {
     "data": {
      "text/plain": [
       "'W2ESV77NNTJ5AADD431G'"
      ]
     },
     "execution_count": 27,
     "metadata": {},
     "output_type": "execute_result"
    }
   ],
   "source": [
    "virtual_ds_2004 = helpers.create_virtual_ds(dmrpps=mur_sst_files_2004_dmrpps)\n",
    "session = repo.writable_session(\"main\")\n",
    "store = session.store\n",
    "virtual_ds_2004.virtualize.to_icechunk(store, append_dim='time')\n",
    "session.commit(f\"Wrote 2004 to store.\")"
   ]
  },
  {
   "cell_type": "markdown",
   "id": "b70afbdd-87bf-4c89-91da-b592aa290f40",
   "metadata": {},
   "source": [
    "## 5c. Validate data"
   ]
  },
  {
   "cell_type": "code",
   "execution_count": 28,
   "id": "83447236-0f85-4009-b907-72bddc16a745",
   "metadata": {},
   "outputs": [
    {
     "name": "stdout",
     "output_type": "stream",
     "text": [
      "Open icechunk store...\n",
      "Computing icechunk store result...\n",
      "Icechunk store result: 284.13816998533554\n",
      "Opening original files...\n",
      "Computing original files result\n",
      "Result from original files: 284.13816998533554\n",
      "CPU times: user 18.8 s, sys: 1.87 s, total: 20.7 s\n",
      "Wall time: 6min 25s\n"
     ]
    }
   ],
   "source": [
    "%%time\n",
    "helpers.validate_data(store, dates=dates, fs=fs)"
   ]
  },
  {
   "cell_type": "markdown",
   "id": "62b0b93a-b8ea-4c57-a743-b5442bff5b8a",
   "metadata": {},
   "source": [
    "# 6. Let's try 2 years! 2005-2006"
   ]
  },
  {
   "cell_type": "markdown",
   "id": "3862cc23-2aa0-4fbc-baa8-f41c1467d8d6",
   "metadata": {},
   "source": [
    "## 6a. List files"
   ]
  },
  {
   "cell_type": "code",
   "execution_count": 9,
   "id": "af6573d5-14b8-42b0-8209-358fab4f8550",
   "metadata": {},
   "outputs": [],
   "source": [
    "dates = ['2005-01-01', '2006-12-31']\n",
    "mur_sst_files_2005_2006 = helpers.list_mur_sst_files(start_date=dates[0], end_date=dates[1])\n",
    "mur_sst_files_2005_2006_dmrpps = [f + '.dmrpp' for f in mur_sst_files_2005_2006]"
   ]
  },
  {
   "cell_type": "code",
   "execution_count": 10,
   "id": "0a349c99-ba58-4fe4-a419-41aca46609db",
   "metadata": {},
   "outputs": [
    {
     "data": {
      "text/plain": [
       "730"
      ]
     },
     "execution_count": 10,
     "metadata": {},
     "output_type": "execute_result"
    }
   ],
   "source": [
    "len(mur_sst_files_2005_2006_dmrpps)"
   ]
  },
  {
   "cell_type": "markdown",
   "id": "1d9f3714-8a07-44dd-9fcc-e6d31351f426",
   "metadata": {},
   "source": [
    "## 6b. Write data"
   ]
  },
  {
   "cell_type": "code",
   "execution_count": 11,
   "id": "922bfd82-9584-4dc9-9436-c79832d184a2",
   "metadata": {},
   "outputs": [],
   "source": [
    "virtual_ds_2005_2006 = helpers.create_virtual_ds(dmrpps=mur_sst_files_2005_2006_dmrpps)\n",
    "session = repo.writable_session(\"main\")\n",
    "store = session.store\n",
    "virtual_ds_2005_2006.virtualize.to_icechunk(store, append_dim='time')"
   ]
  },
  {
   "cell_type": "code",
   "execution_count": 12,
   "id": "ddd87f22-e319-415a-9a0a-5800ec250a79",
   "metadata": {},
   "outputs": [
    {
     "data": {
      "text/plain": [
       "'APJNASJV5VB0KYXNN200'"
      ]
     },
     "execution_count": 12,
     "metadata": {},
     "output_type": "execute_result"
    }
   ],
   "source": [
    "session.commit(f\"Wrote 2005-2006 to store.\")"
   ]
  },
  {
   "cell_type": "markdown",
   "id": "f76610d0-e365-4108-8457-6ad626846e61",
   "metadata": {},
   "source": [
    "## 6c. Validate data"
   ]
  },
  {
   "cell_type": "code",
   "execution_count": 14,
   "id": "3837f38a-0b54-4b47-b84b-7e877d840df3",
   "metadata": {},
   "outputs": [],
   "source": [
    "# %%time\n",
    "# helpers.validate_data(store, dates=dates, fs=fs)"
   ]
  },
  {
   "cell_type": "markdown",
   "id": "5aebd799-eb74-4ef3-a5fe-6ba2f638ef70",
   "metadata": {},
   "source": [
    "# 7. Let's try 5 years! 2007 through end of 2011"
   ]
  },
  {
   "cell_type": "markdown",
   "id": "2356754e-9459-4e1e-8cdb-4bb6fdc08898",
   "metadata": {},
   "source": [
    "## 7a. List files"
   ]
  },
  {
   "cell_type": "code",
   "execution_count": 13,
   "id": "e4aa5930-0702-48e3-a592-e8c13054970f",
   "metadata": {},
   "outputs": [],
   "source": [
    "dates = ['2007-01-01', '2011-12-31']\n",
    "mur_sst_files_2007_2011 = helpers.list_mur_sst_files(start_date=dates[0], end_date=dates[1])\n",
    "mur_sst_files_2007_2011_dmrpps = [f + '.dmrpp' for f in mur_sst_files_2007_2011]"
   ]
  },
  {
   "cell_type": "code",
   "execution_count": 15,
   "id": "67d64c6a-7a09-4886-8ad5-9425d8d99955",
   "metadata": {},
   "outputs": [
    {
     "data": {
      "text/plain": [
       "1826"
      ]
     },
     "execution_count": 15,
     "metadata": {},
     "output_type": "execute_result"
    }
   ],
   "source": [
    "len(mur_sst_files_2007_2011_dmrpps)"
   ]
  },
  {
   "cell_type": "markdown",
   "id": "be579dd5-79c0-4979-b2f2-f3ba868e8927",
   "metadata": {},
   "source": [
    "## 7b. Write data"
   ]
  },
  {
   "cell_type": "code",
   "execution_count": 16,
   "id": "1dca0578-5935-4a7e-b94f-ad8afd7e9795",
   "metadata": {},
   "outputs": [
    {
     "data": {
      "text/plain": [
       "'ZRW8E4MY7GJ66QHRWP5G'"
      ]
     },
     "execution_count": 16,
     "metadata": {},
     "output_type": "execute_result"
    }
   ],
   "source": [
    "virtual_ds_2007_2011 = helpers.create_virtual_ds(dmrpps=mur_sst_files_2007_2011_dmrpps)\n",
    "session = repo.writable_session(\"main\")\n",
    "store = session.store\n",
    "virtual_ds_2007_2011.virtualize.to_icechunk(store, append_dim='time')\n",
    "session.commit(f\"Wrote 2007-2011 to store.\")"
   ]
  },
  {
   "cell_type": "markdown",
   "id": "59456b4e-ae52-48e6-8a0f-224e616079bf",
   "metadata": {},
   "source": [
    "## 7c. Validate data"
   ]
  },
  {
   "cell_type": "code",
   "execution_count": 17,
   "id": "9bc8dde8-bff9-46d1-834e-8ded2fdec040",
   "metadata": {},
   "outputs": [],
   "source": [
    "# %%time\n",
    "# helpers.validate_data(store, dates=dates, fs=fs)"
   ]
  },
  {
   "cell_type": "markdown",
   "id": "aaadecba-ac8d-4049-b9aa-84f7467b3638",
   "metadata": {},
   "source": [
    "# 8. 2012"
   ]
  },
  {
   "cell_type": "markdown",
   "id": "2e9f8fcd-352e-49ed-9629-8f82c13503cc",
   "metadata": {},
   "source": [
    "## 8a. List files"
   ]
  },
  {
   "cell_type": "code",
   "execution_count": 18,
   "id": "37c68b0b-56d5-4201-96df-24a9c93cb39d",
   "metadata": {},
   "outputs": [],
   "source": [
    "dates = ['2012-01-01', '2012-12-31']\n",
    "mur_sst_files_2012 = helpers.list_mur_sst_files(start_date=dates[0], end_date=dates[1])\n",
    "mur_sst_files_2012_dmrpps = [f + '.dmrpp' for f in mur_sst_files_2012]"
   ]
  },
  {
   "cell_type": "code",
   "execution_count": 19,
   "id": "6ef8b6c2-d46d-4456-8d4c-6468b606de81",
   "metadata": {},
   "outputs": [
    {
     "data": {
      "text/plain": [
       "366"
      ]
     },
     "execution_count": 19,
     "metadata": {},
     "output_type": "execute_result"
    }
   ],
   "source": [
    "len(mur_sst_files_2012_dmrpps)"
   ]
  },
  {
   "cell_type": "markdown",
   "id": "25232308-3475-4714-acdc-366471cae472",
   "metadata": {},
   "source": [
    "## 8b. Write data"
   ]
  },
  {
   "cell_type": "code",
   "execution_count": 20,
   "id": "257c25db-dd2e-401f-baab-763427e2d664",
   "metadata": {},
   "outputs": [],
   "source": [
    "virtual_ds_2012 = helpers.create_virtual_ds(dmrpps=mur_sst_files_2012_dmrpps)"
   ]
  },
  {
   "cell_type": "code",
   "execution_count": 21,
   "id": "b29ce860-b106-48f5-9f93-2fd07f520b88",
   "metadata": {},
   "outputs": [
    {
     "data": {
      "text/plain": [
       "'4DZA38KYMVR39EKW4RNG'"
      ]
     },
     "execution_count": 21,
     "metadata": {},
     "output_type": "execute_result"
    }
   ],
   "source": [
    "session = repo.writable_session(\"main\")\n",
    "store = session.store\n",
    "virtual_ds_2012.virtualize.to_icechunk(store, append_dim='time')\n",
    "session.commit(f\"Wrote 2012 to store.\")"
   ]
  },
  {
   "cell_type": "markdown",
   "id": "4809c496-4a27-4377-b17d-0c9372c5698c",
   "metadata": {},
   "source": [
    "## 8c. Validate data"
   ]
  },
  {
   "cell_type": "code",
   "execution_count": 22,
   "id": "e865c7ed-95c5-4fff-bbd4-3a2d6761d91a",
   "metadata": {},
   "outputs": [],
   "source": [
    "# %%time\n",
    "# helpers.validate_data(store, dates=dates, fs=fs)"
   ]
  },
  {
   "cell_type": "markdown",
   "id": "368bc21e-ad9f-40b5-8589-9a86c5f9507a",
   "metadata": {},
   "source": [
    "# 9. 2013"
   ]
  },
  {
   "cell_type": "markdown",
   "id": "e3f67101-0efa-42ff-870c-04311b30837b",
   "metadata": {},
   "source": [
    "## 9a. List files"
   ]
  },
  {
   "cell_type": "code",
   "execution_count": 23,
   "id": "f69569b4-4416-4d32-bb08-30665b5574b4",
   "metadata": {},
   "outputs": [],
   "source": [
    "dates = ['2013-01-01', '2013-12-31']\n",
    "mur_sst_files_2013 = helpers.list_mur_sst_files(start_date=dates[0], end_date=dates[1])\n",
    "mur_sst_files_2013_dmrpps = [f + '.dmrpp' for f in mur_sst_files_2013]"
   ]
  },
  {
   "cell_type": "code",
   "execution_count": 24,
   "id": "27a79ad9-08f0-4781-92fb-1fd5893e29cc",
   "metadata": {},
   "outputs": [
    {
     "data": {
      "text/plain": [
       "365"
      ]
     },
     "execution_count": 24,
     "metadata": {},
     "output_type": "execute_result"
    }
   ],
   "source": [
    "len(mur_sst_files_2013_dmrpps)"
   ]
  },
  {
   "cell_type": "markdown",
   "id": "2320dd89-355a-474b-b2ec-0bcac9f9dca7",
   "metadata": {},
   "source": [
    "## 9b. Write data"
   ]
  },
  {
   "cell_type": "code",
   "execution_count": 25,
   "id": "935abd71-fc50-4098-ac6d-deb5e0fa60ef",
   "metadata": {},
   "outputs": [],
   "source": [
    "virtual_ds_2013 = helpers.create_virtual_ds(dmrpps=mur_sst_files_2013_dmrpps)"
   ]
  },
  {
   "cell_type": "code",
   "execution_count": 26,
   "id": "d3ece276-a2b0-4514-aa00-b7ecf3b26ea0",
   "metadata": {},
   "outputs": [
    {
     "data": {
      "text/plain": [
       "'3X1PR4MSWQQ42KPTQM1G'"
      ]
     },
     "execution_count": 26,
     "metadata": {},
     "output_type": "execute_result"
    }
   ],
   "source": [
    "session = repo.writable_session(\"main\")\n",
    "store = session.store\n",
    "virtual_ds_2013.virtualize.to_icechunk(store, append_dim='time')\n",
    "session.commit(f\"Wrote 2013 to store.\")"
   ]
  },
  {
   "cell_type": "markdown",
   "id": "aae92421-04fa-44d4-8308-0ff7279ecd02",
   "metadata": {},
   "source": [
    "## 9c. Validate data"
   ]
  },
  {
   "cell_type": "code",
   "execution_count": 27,
   "id": "e8f248da-d0fe-4eec-b621-b44eb18a06e5",
   "metadata": {},
   "outputs": [],
   "source": [
    "# %%time\n",
    "# helpers.validate_data(store, dates=dates, fs=fs)"
   ]
  },
  {
   "cell_type": "markdown",
   "id": "1bdbecab-50be-460b-b234-eb0c7bb1d072",
   "metadata": {},
   "source": [
    "# 10. 2014"
   ]
  },
  {
   "cell_type": "markdown",
   "id": "bf1fd75d-9a03-4add-a7a9-37508b6f1f58",
   "metadata": {},
   "source": [
    "## 10a. List files"
   ]
  },
  {
   "cell_type": "code",
   "execution_count": 28,
   "id": "a0f84ab0-68ce-4c81-a375-2a13f1e66438",
   "metadata": {},
   "outputs": [],
   "source": [
    "dates = ['2014-01-01', '2014-12-31']\n",
    "mur_sst_files_2014 = helpers.list_mur_sst_files(start_date=dates[0], end_date=dates[1])\n",
    "mur_sst_files_2014_dmrpps = [f + '.dmrpp' for f in mur_sst_files_2014]"
   ]
  },
  {
   "cell_type": "code",
   "execution_count": 29,
   "id": "5a3a8906-3eb8-4e51-966b-3f18872f8cbb",
   "metadata": {},
   "outputs": [
    {
     "data": {
      "text/plain": [
       "365"
      ]
     },
     "execution_count": 29,
     "metadata": {},
     "output_type": "execute_result"
    }
   ],
   "source": [
    "len(mur_sst_files_2014_dmrpps)"
   ]
  },
  {
   "cell_type": "markdown",
   "id": "af48a060-0572-4e4b-b0e8-182177465331",
   "metadata": {},
   "source": [
    "## 10b. Write data"
   ]
  },
  {
   "cell_type": "code",
   "execution_count": 30,
   "id": "c9e8de50-b41d-4227-87cf-4f7575881348",
   "metadata": {},
   "outputs": [],
   "source": [
    "virtual_ds_2014 = helpers.create_virtual_ds(dmrpps=mur_sst_files_2014_dmrpps)"
   ]
  },
  {
   "cell_type": "code",
   "execution_count": 31,
   "id": "965df092-331f-443c-bea4-8e043a407d8e",
   "metadata": {},
   "outputs": [],
   "source": [
    "session = repo.writable_session(\"main\")\n",
    "store = session.store\n",
    "virtual_ds_2014.virtualize.to_icechunk(store, append_dim='time')"
   ]
  },
  {
   "cell_type": "code",
   "execution_count": 32,
   "id": "2483215d-52f7-4d27-932e-42df4f6cb71a",
   "metadata": {},
   "outputs": [
    {
     "data": {
      "text/plain": [
       "'A6EAP944RQTYDW559P50'"
      ]
     },
     "execution_count": 32,
     "metadata": {},
     "output_type": "execute_result"
    }
   ],
   "source": [
    "session.commit(f\"Wrote 2014 to store.\")"
   ]
  },
  {
   "cell_type": "markdown",
   "id": "417f3850-a610-4ca7-9f7c-c20610a8cf0e",
   "metadata": {},
   "source": [
    "## 10c. Validate data"
   ]
  },
  {
   "cell_type": "code",
   "execution_count": 33,
   "id": "ef1208bd-15db-45a9-8391-5aae7b68f512",
   "metadata": {},
   "outputs": [],
   "source": [
    "# %%time\n",
    "# helpers.validate_data(store, dates=dates, fs=fs)"
   ]
  },
  {
   "cell_type": "markdown",
   "id": "12973743-2fbf-40f1-bf24-4926a67681f2",
   "metadata": {},
   "source": [
    "# 11. 2015"
   ]
  },
  {
   "cell_type": "markdown",
   "id": "7cc06361-bb0b-4064-a851-551f5026dbfc",
   "metadata": {},
   "source": [
    "## 11a. List files"
   ]
  },
  {
   "cell_type": "code",
   "execution_count": 34,
   "id": "6d2d28eb-cd37-49bb-9bdd-ac193b608a5b",
   "metadata": {},
   "outputs": [],
   "source": [
    "dates = ['2015-01-01', '2015-12-31']\n",
    "mur_sst_files_2015 = helpers.list_mur_sst_files(start_date=dates[0], end_date=dates[1])\n",
    "mur_sst_files_2015_dmrpps = [f + '.dmrpp' for f in mur_sst_files_2015]"
   ]
  },
  {
   "cell_type": "code",
   "execution_count": 35,
   "id": "85c46026-c720-4b0c-9c96-3714ef0db5de",
   "metadata": {},
   "outputs": [
    {
     "data": {
      "text/plain": [
       "365"
      ]
     },
     "execution_count": 35,
     "metadata": {},
     "output_type": "execute_result"
    }
   ],
   "source": [
    "len(mur_sst_files_2015_dmrpps)"
   ]
  },
  {
   "cell_type": "markdown",
   "id": "02457de6-3242-413d-ada7-e1f8d6a08729",
   "metadata": {},
   "source": [
    "## 11b. Write data"
   ]
  },
  {
   "cell_type": "code",
   "execution_count": 36,
   "id": "2cedfe48-1bd7-4e7d-9a4b-0ef2a687922d",
   "metadata": {},
   "outputs": [],
   "source": [
    "virtual_ds_2015 = helpers.create_virtual_ds(dmrpps=mur_sst_files_2015_dmrpps)"
   ]
  },
  {
   "cell_type": "code",
   "execution_count": 37,
   "id": "2d45233f-d7ed-4144-b98a-6986eb94b9e5",
   "metadata": {},
   "outputs": [],
   "source": [
    "session = repo.writable_session(\"main\")\n",
    "store = session.store\n",
    "virtual_ds_2015.virtualize.to_icechunk(store, append_dim='time')"
   ]
  },
  {
   "cell_type": "code",
   "execution_count": 38,
   "id": "6807d23b-52b5-4df0-8d75-35c6444556a1",
   "metadata": {},
   "outputs": [
    {
     "data": {
      "text/plain": [
       "'P68R1FJD7FN38PKG6Y1G'"
      ]
     },
     "execution_count": 38,
     "metadata": {},
     "output_type": "execute_result"
    }
   ],
   "source": [
    "session.commit(f\"Wrote 2015 to store.\")"
   ]
  },
  {
   "cell_type": "markdown",
   "id": "f3bd55f8-95e6-439a-adee-716aaed4246b",
   "metadata": {},
   "source": [
    "## 11c. Validate data"
   ]
  },
  {
   "cell_type": "code",
   "execution_count": 39,
   "id": "03da73ed-e917-4824-8300-18a94a68ee77",
   "metadata": {},
   "outputs": [],
   "source": [
    "# %%time\n",
    "# helpers.validate_data(store, dates=dates, fs=fs)"
   ]
  },
  {
   "cell_type": "markdown",
   "id": "095366f7-ffef-4fe6-9eb8-aa1e8f23205e",
   "metadata": {},
   "source": [
    "# 12. 2016"
   ]
  },
  {
   "cell_type": "markdown",
   "id": "7d85d7f9-122e-4643-9cdb-765ecdc1b616",
   "metadata": {},
   "source": [
    "## 12a. List files"
   ]
  },
  {
   "cell_type": "code",
   "execution_count": 40,
   "id": "c17fd9c1-4790-4adf-85d7-9b1918095caa",
   "metadata": {},
   "outputs": [],
   "source": [
    "dates = ['2016-01-01', '2016-12-31']\n",
    "mur_sst_files_2016 = helpers.list_mur_sst_files(start_date=dates[0], end_date=dates[1])\n",
    "mur_sst_files_2016_dmrpps = [f + '.dmrpp' for f in mur_sst_files_2016]"
   ]
  },
  {
   "cell_type": "code",
   "execution_count": 41,
   "id": "1ac78d88-6fb3-4d27-80c7-5bc3c70f76ce",
   "metadata": {},
   "outputs": [
    {
     "data": {
      "text/plain": [
       "366"
      ]
     },
     "execution_count": 41,
     "metadata": {},
     "output_type": "execute_result"
    }
   ],
   "source": [
    "len(mur_sst_files_2016_dmrpps)"
   ]
  },
  {
   "cell_type": "markdown",
   "id": "f11778a2-33cf-4b73-a008-76885111cf59",
   "metadata": {},
   "source": [
    "## 12b. Write data"
   ]
  },
  {
   "cell_type": "code",
   "execution_count": 42,
   "id": "af0f9f5c-b70f-4839-85b3-4f5dd884c366",
   "metadata": {},
   "outputs": [],
   "source": [
    "virtual_ds_2016 = helpers.create_virtual_ds(dmrpps=mur_sst_files_2016_dmrpps)"
   ]
  },
  {
   "cell_type": "code",
   "execution_count": 43,
   "id": "2565ace9-5fcd-4af1-824b-ca3024a29234",
   "metadata": {},
   "outputs": [
    {
     "data": {
      "text/plain": [
       "'7PJ4TPQ31MJ8H621GVZG'"
      ]
     },
     "execution_count": 43,
     "metadata": {},
     "output_type": "execute_result"
    }
   ],
   "source": [
    "session = repo.writable_session(\"main\")\n",
    "store = session.store\n",
    "virtual_ds_2016.virtualize.to_icechunk(store, append_dim='time')\n",
    "session.commit(f\"Wrote 2016 to store.\")"
   ]
  },
  {
   "cell_type": "code",
   "execution_count": 44,
   "id": "344f71fe-6ace-4bd8-b5e9-629c966bcadc",
   "metadata": {},
   "outputs": [],
   "source": [
    "# %%time\n",
    "# helpers.validate_data(store, dates=dates, fs=fs)"
   ]
  },
  {
   "cell_type": "markdown",
   "id": "4d56d916-3aee-42a0-acbe-5015e240cb5d",
   "metadata": {},
   "source": [
    "# 13. 2017"
   ]
  },
  {
   "cell_type": "markdown",
   "id": "4f3c45a4-db99-416f-b74e-0d3c72512f88",
   "metadata": {},
   "source": [
    "## 13a. List files"
   ]
  },
  {
   "cell_type": "code",
   "execution_count": 45,
   "id": "db75b776-f0ac-4d55-9a9c-7c74152930ea",
   "metadata": {},
   "outputs": [
    {
     "name": "stdout",
     "output_type": "stream",
     "text": [
      "CPU times: user 2.21 ms, sys: 0 ns, total: 2.21 ms\n",
      "Wall time: 2.19 ms\n"
     ]
    }
   ],
   "source": [
    "%%time\n",
    "dates = ['2017-01-01', '2017-12-31']\n",
    "mur_sst_files_2017 = helpers.list_mur_sst_files(start_date=dates[0], end_date=dates[1])\n",
    "mur_sst_files_2017_dmrpps = [f + '.dmrpp' for f in mur_sst_files_2017]"
   ]
  },
  {
   "cell_type": "code",
   "execution_count": 46,
   "id": "610615b5-9bfa-4301-8be0-60ebd3023b60",
   "metadata": {},
   "outputs": [
    {
     "data": {
      "text/plain": [
       "365"
      ]
     },
     "execution_count": 46,
     "metadata": {},
     "output_type": "execute_result"
    }
   ],
   "source": [
    "len(mur_sst_files_2017_dmrpps)"
   ]
  },
  {
   "cell_type": "markdown",
   "id": "819601fb-a3f1-4d3b-af7d-ac7452baeb1d",
   "metadata": {},
   "source": [
    "## 13b. Write data"
   ]
  },
  {
   "cell_type": "code",
   "execution_count": 47,
   "id": "69b0874a-22db-40e0-8922-5fd66b2f709d",
   "metadata": {},
   "outputs": [
    {
     "name": "stdout",
     "output_type": "stream",
     "text": [
      "CPU times: user 23 s, sys: 689 ms, total: 23.7 s\n",
      "Wall time: 41.7 s\n"
     ]
    },
    {
     "data": {
      "text/plain": [
       "'74KK4TSA62NARFF89VQ0'"
      ]
     },
     "execution_count": 47,
     "metadata": {},
     "output_type": "execute_result"
    }
   ],
   "source": [
    "%%time\n",
    "virtual_ds_2017 = helpers.create_virtual_ds(dmrpps=mur_sst_files_2017_dmrpps)\n",
    "session = repo.writable_session(\"main\")\n",
    "store = session.store\n",
    "virtual_ds_2017.virtualize.to_icechunk(store, append_dim='time')\n",
    "session.commit(f\"Wrote 2017 to store.\")"
   ]
  },
  {
   "cell_type": "markdown",
   "id": "fb6008f3-ad5f-4e99-9a92-71467d0d72a4",
   "metadata": {},
   "source": [
    "## 13c. Validate data"
   ]
  },
  {
   "cell_type": "code",
   "execution_count": 48,
   "id": "cd31987b-0065-4997-b0ef-1dd7d486644a",
   "metadata": {},
   "outputs": [],
   "source": [
    "# %%time\n",
    "# helpers.validate_data(store, dates=dates, fs=fs)"
   ]
  },
  {
   "cell_type": "markdown",
   "id": "dba1ade2-d22a-4005-a74e-5a76a3145f8c",
   "metadata": {},
   "source": [
    "# 14. 2018"
   ]
  },
  {
   "cell_type": "markdown",
   "id": "f928b06c-0338-4ba3-a08b-607b4fc830fb",
   "metadata": {},
   "source": [
    "## 14a. List files"
   ]
  },
  {
   "cell_type": "code",
   "execution_count": 49,
   "id": "e8dc333b-03e4-4c12-9b2d-3b4411576208",
   "metadata": {},
   "outputs": [
    {
     "name": "stdout",
     "output_type": "stream",
     "text": [
      "CPU times: user 1.67 ms, sys: 0 ns, total: 1.67 ms\n",
      "Wall time: 1.66 ms\n"
     ]
    }
   ],
   "source": [
    "%%time\n",
    "dates = ['2018-01-01', '2018-12-31']\n",
    "mur_sst_files_2018 = helpers.list_mur_sst_files(start_date=dates[0], end_date=dates[1])\n",
    "mur_sst_files_2018_dmrpps = [f + '.dmrpp' for f in mur_sst_files_2018]"
   ]
  },
  {
   "cell_type": "code",
   "execution_count": 50,
   "id": "7d702f76-c755-4075-b924-b2bc92078944",
   "metadata": {},
   "outputs": [
    {
     "data": {
      "text/plain": [
       "365"
      ]
     },
     "execution_count": 50,
     "metadata": {},
     "output_type": "execute_result"
    }
   ],
   "source": [
    "len(mur_sst_files_2018_dmrpps)"
   ]
  },
  {
   "cell_type": "markdown",
   "id": "241cfd2b-6e81-4c58-8f59-4277308df577",
   "metadata": {},
   "source": [
    "## 14b. Write data"
   ]
  },
  {
   "cell_type": "code",
   "execution_count": 51,
   "id": "498802d3-057b-47d4-9955-8d9d4932eb7c",
   "metadata": {},
   "outputs": [
    {
     "name": "stdout",
     "output_type": "stream",
     "text": [
      "CPU times: user 23.6 s, sys: 763 ms, total: 24.4 s\n",
      "Wall time: 42.4 s\n"
     ]
    },
    {
     "data": {
      "text/plain": [
       "'KSS8NH4RB6XHCK9KSEF0'"
      ]
     },
     "execution_count": 51,
     "metadata": {},
     "output_type": "execute_result"
    }
   ],
   "source": [
    "%%time\n",
    "virtual_ds_2018 = helpers.create_virtual_ds(dmrpps=mur_sst_files_2018_dmrpps)\n",
    "session = repo.writable_session(\"main\")\n",
    "store = session.store\n",
    "virtual_ds_2018.virtualize.to_icechunk(store, append_dim='time')\n",
    "session.commit(f\"Wrote 2018 to store.\")"
   ]
  },
  {
   "cell_type": "markdown",
   "id": "63c021f7-8958-4995-8fa3-2b4770efc439",
   "metadata": {},
   "source": [
    "## 14c. Validate data"
   ]
  },
  {
   "cell_type": "code",
   "execution_count": 52,
   "id": "9c731902-8396-4989-a335-bcb761d71c4e",
   "metadata": {},
   "outputs": [],
   "source": [
    "# %%time\n",
    "# helpers.validate_data(store, dates=dates, fs=fs)"
   ]
  },
  {
   "cell_type": "markdown",
   "id": "d6243e5c-42ed-4594-8816-8821bdc75fe6",
   "metadata": {},
   "source": [
    "# 15. 2019"
   ]
  },
  {
   "cell_type": "markdown",
   "id": "710ad0d7-4ee0-4f78-aa5b-5c819c28b808",
   "metadata": {},
   "source": [
    "## 15a. List files"
   ]
  },
  {
   "cell_type": "code",
   "execution_count": 53,
   "id": "2791b244-a8a0-4cb3-b176-5625fa170cc4",
   "metadata": {},
   "outputs": [
    {
     "name": "stdout",
     "output_type": "stream",
     "text": [
      "CPU times: user 1.67 ms, sys: 0 ns, total: 1.67 ms\n",
      "Wall time: 1.66 ms\n"
     ]
    }
   ],
   "source": [
    "%%time\n",
    "dates = ['2019-01-01', '2019-12-31']\n",
    "mur_sst_files_2019 = helpers.list_mur_sst_files(start_date=dates[0], end_date=dates[1])\n",
    "mur_sst_files_2019_dmrpps = [f + '.dmrpp' for f in mur_sst_files_2019]"
   ]
  },
  {
   "cell_type": "code",
   "execution_count": 54,
   "id": "277977d4-263b-4823-94ab-6d5a72634139",
   "metadata": {},
   "outputs": [
    {
     "data": {
      "text/plain": [
       "365"
      ]
     },
     "execution_count": 54,
     "metadata": {},
     "output_type": "execute_result"
    }
   ],
   "source": [
    "len(mur_sst_files_2019_dmrpps)"
   ]
  },
  {
   "cell_type": "markdown",
   "id": "652cc6f9-e522-410b-85e3-bd30d93f5716",
   "metadata": {},
   "source": [
    "## 15b. Write data"
   ]
  },
  {
   "cell_type": "code",
   "execution_count": 55,
   "id": "fad5dde3-a646-45be-becc-6a47e23ba4ea",
   "metadata": {},
   "outputs": [
    {
     "name": "stdout",
     "output_type": "stream",
     "text": [
      "CPU times: user 24.3 s, sys: 875 ms, total: 25.2 s\n",
      "Wall time: 44.1 s\n"
     ]
    },
    {
     "data": {
      "text/plain": [
       "'WZBJGAX7QJ7VESNE4RJG'"
      ]
     },
     "execution_count": 55,
     "metadata": {},
     "output_type": "execute_result"
    }
   ],
   "source": [
    "%%time\n",
    "virtual_ds_2019 = helpers.create_virtual_ds(dmrpps=mur_sst_files_2019_dmrpps)\n",
    "session = repo.writable_session(\"main\")\n",
    "store = session.store\n",
    "virtual_ds_2019.virtualize.to_icechunk(store, append_dim='time')\n",
    "session.commit(f\"Wrote 2019 to store.\")"
   ]
  },
  {
   "cell_type": "markdown",
   "id": "876cafd7-87c9-4c8b-830c-7c56411f3a0a",
   "metadata": {},
   "source": [
    "## 15c. Validate data"
   ]
  },
  {
   "cell_type": "code",
   "execution_count": 56,
   "id": "39510175-2423-476b-a62d-707454970765",
   "metadata": {},
   "outputs": [],
   "source": [
    "# %%time\n",
    "# helpers.validate_data(store, dates=dates, fs=fs)"
   ]
  },
  {
   "cell_type": "markdown",
   "id": "e3eb0982-7afa-475a-ac4f-b1e0be10784e",
   "metadata": {},
   "source": [
    "# 16. 2020"
   ]
  },
  {
   "cell_type": "markdown",
   "id": "bbf529d2-0097-47a3-88ef-b06dfce1132d",
   "metadata": {},
   "source": [
    "## 16a. List files"
   ]
  },
  {
   "cell_type": "code",
   "execution_count": 57,
   "id": "f562e5c8-92e2-478d-8460-e16990da277a",
   "metadata": {},
   "outputs": [
    {
     "name": "stdout",
     "output_type": "stream",
     "text": [
      "CPU times: user 1.71 ms, sys: 77 μs, total: 1.79 ms\n",
      "Wall time: 1.77 ms\n"
     ]
    }
   ],
   "source": [
    "%%time\n",
    "dates = ['2020-01-01', '2020-12-31']\n",
    "mur_sst_files_2020 = helpers.list_mur_sst_files(start_date=dates[0], end_date=dates[1])\n",
    "mur_sst_files_2020_dmrpps = [f + '.dmrpp' for f in mur_sst_files_2020]"
   ]
  },
  {
   "cell_type": "code",
   "execution_count": 58,
   "id": "ab3a8a13-6909-43a5-89a1-7e946a727154",
   "metadata": {},
   "outputs": [
    {
     "data": {
      "text/plain": [
       "366"
      ]
     },
     "execution_count": 58,
     "metadata": {},
     "output_type": "execute_result"
    }
   ],
   "source": [
    "len(mur_sst_files_2020_dmrpps)"
   ]
  },
  {
   "cell_type": "markdown",
   "id": "0fbefd8a-1b3f-4e60-b3a2-942d41eda496",
   "metadata": {},
   "source": [
    "## 16b. Write data"
   ]
  },
  {
   "cell_type": "code",
   "execution_count": 59,
   "id": "a9bac991-1efd-4534-9ee1-60260b60f2a5",
   "metadata": {},
   "outputs": [
    {
     "name": "stdout",
     "output_type": "stream",
     "text": [
      "CPU times: user 24.6 s, sys: 836 ms, total: 25.4 s\n",
      "Wall time: 43.7 s\n"
     ]
    },
    {
     "data": {
      "text/plain": [
       "'QGKT50J6EV1AK10QP9C0'"
      ]
     },
     "execution_count": 59,
     "metadata": {},
     "output_type": "execute_result"
    }
   ],
   "source": [
    "%%time\n",
    "virtual_ds_2020 = helpers.create_virtual_ds(dmrpps=mur_sst_files_2020_dmrpps)\n",
    "session = repo.writable_session(\"main\")\n",
    "store = session.store\n",
    "virtual_ds_2020.virtualize.to_icechunk(store, append_dim='time')\n",
    "session.commit(f\"Wrote 2020 to store.\")"
   ]
  },
  {
   "cell_type": "markdown",
   "id": "148d1e66-3ab3-48fc-acb1-3c60372700ce",
   "metadata": {},
   "source": [
    "## 16c. Validate data"
   ]
  },
  {
   "cell_type": "code",
   "execution_count": 60,
   "id": "35f70d4c-b06e-4279-8dc7-59288ed6155e",
   "metadata": {},
   "outputs": [],
   "source": [
    "# %%time\n",
    "# helpers.validate_data(store, dates=dates, fs=fs)"
   ]
  },
  {
   "cell_type": "markdown",
   "id": "2a46fcd2-64d4-49ed-8af1-bc4598a03082",
   "metadata": {},
   "source": [
    "# 17. 2021"
   ]
  },
  {
   "cell_type": "markdown",
   "id": "90edbb02-aee1-4276-988b-627903e3ec7d",
   "metadata": {},
   "source": [
    "## 17a. List files with different encodings"
   ]
  },
  {
   "cell_type": "code",
   "execution_count": 61,
   "id": "890b0f1f-80c7-481a-9d80-5f587de604e6",
   "metadata": {},
   "outputs": [
    {
     "name": "stdout",
     "output_type": "stream",
     "text": [
      "Codec(compressor=None, filters=[{'id': 'shuffle', 'elementsize': 2}, {'id': 'zlib', 'level': 7}])\n",
      "s3://podaac-ops-cumulus-protected/MUR-JPL-L4-GLOB-v4.1/20210220090000-JPL-L4_GHRSST-SSTfnd-MUR-GLOB-v02.0-fv04.1.nc\n",
      "\n",
      "Codec(compressor=None, filters=[{'id': 'shuffle', 'elementsize': 2}, {'id': 'zlib', 'level': 7}])\n",
      "s3://podaac-ops-cumulus-protected/MUR-JPL-L4-GLOB-v4.1/20210221090000-JPL-L4_GHRSST-SSTfnd-MUR-GLOB-v02.0-fv04.1.nc\n",
      "\n",
      "Codec(compressor=None, filters=[{'id': 'zlib', 'level': 6}, {'id': 'shuffle', 'elementsize': 2}])\n",
      "s3://podaac-ops-cumulus-protected/MUR-JPL-L4-GLOB-v4.1/20211224090000-JPL-L4_GHRSST-SSTfnd-MUR-GLOB-v02.0-fv04.1.nc\n",
      "\n",
      "Codec(compressor=None, filters=[{'id': 'zlib', 'level': 6}, {'id': 'shuffle', 'elementsize': 2}])\n",
      "s3://podaac-ops-cumulus-protected/MUR-JPL-L4-GLOB-v4.1/20211225090000-JPL-L4_GHRSST-SSTfnd-MUR-GLOB-v02.0-fv04.1.nc\n",
      "\n",
      "Codec(compressor=None, filters=[{'id': 'zlib', 'level': 6}, {'id': 'shuffle', 'elementsize': 2}])\n",
      "s3://podaac-ops-cumulus-protected/MUR-JPL-L4-GLOB-v4.1/20211226090000-JPL-L4_GHRSST-SSTfnd-MUR-GLOB-v02.0-fv04.1.nc\n",
      "\n",
      "Codec(compressor=None, filters=[{'id': 'zlib', 'level': 6}, {'id': 'shuffle', 'elementsize': 2}])\n",
      "s3://podaac-ops-cumulus-protected/MUR-JPL-L4-GLOB-v4.1/20211227090000-JPL-L4_GHRSST-SSTfnd-MUR-GLOB-v02.0-fv04.1.nc\n",
      "\n",
      "Codec(compressor=None, filters=[{'id': 'zlib', 'level': 6}, {'id': 'shuffle', 'elementsize': 2}])\n",
      "s3://podaac-ops-cumulus-protected/MUR-JPL-L4-GLOB-v4.1/20211228090000-JPL-L4_GHRSST-SSTfnd-MUR-GLOB-v02.0-fv04.1.nc\n",
      "\n",
      "Codec(compressor=None, filters=[{'id': 'zlib', 'level': 6}, {'id': 'shuffle', 'elementsize': 2}])\n",
      "s3://podaac-ops-cumulus-protected/MUR-JPL-L4-GLOB-v4.1/20211229090000-JPL-L4_GHRSST-SSTfnd-MUR-GLOB-v02.0-fv04.1.nc\n",
      "\n",
      "Codec(compressor=None, filters=[{'id': 'zlib', 'level': 6}, {'id': 'shuffle', 'elementsize': 2}])\n",
      "s3://podaac-ops-cumulus-protected/MUR-JPL-L4-GLOB-v4.1/20211230090000-JPL-L4_GHRSST-SSTfnd-MUR-GLOB-v02.0-fv04.1.nc\n",
      "\n",
      "Codec(compressor=None, filters=[{'id': 'zlib', 'level': 6}, {'id': 'shuffle', 'elementsize': 2}])\n",
      "s3://podaac-ops-cumulus-protected/MUR-JPL-L4-GLOB-v4.1/20211231090000-JPL-L4_GHRSST-SSTfnd-MUR-GLOB-v02.0-fv04.1.nc\n",
      "\n"
     ]
    }
   ],
   "source": [
    "mur_sst_files_2021 = helpers.list_mur_sst_files(start_date=\"2021-01-01\", end_date=\"2021-12-31\")\n",
    "mur_sst_files_2021_dmrpps = [f + '.dmrpp' for f in mur_sst_files_2021]\n",
    "vdss = [helpers.open_virtual(f) for f in mur_sst_files_2021_dmrpps]\n",
    "helpers.check_codecs(vdss)"
   ]
  },
  {
   "cell_type": "markdown",
   "id": "6c0d7ff0-892b-4825-9846-59c5c0b45df5",
   "metadata": {},
   "source": [
    "**Encoding report:**\n",
    "* 2021-02-20 and 2021-02-21 use `zlib` level `7`.\n",
    "* 2021-12-24 to 2021-12-31 implement `shuffle` after `zlib` (the wrong order).\n",
    "\n",
    "These dates will be written as zarr."
   ]
  },
  {
   "cell_type": "markdown",
   "id": "766c6078-a422-4362-a843-f27b651cb68c",
   "metadata": {},
   "source": [
    "## 17a. List files from first period"
   ]
  },
  {
   "cell_type": "code",
   "execution_count": 62,
   "id": "d43a784a-7a53-4034-82c4-71839470077a",
   "metadata": {},
   "outputs": [
    {
     "name": "stdout",
     "output_type": "stream",
     "text": [
      "CPU times: user 603 μs, sys: 0 ns, total: 603 μs\n",
      "Wall time: 599 μs\n"
     ]
    }
   ],
   "source": [
    "%%time\n",
    "dates = ['2021-01-01', '2021-02-19']\n",
    "mur_sst_files_2021_1 = helpers.list_mur_sst_files(start_date=dates[0], end_date=dates[1])\n",
    "mur_sst_files_2021_1_dmrpps = [f + '.dmrpp' for f in mur_sst_files_2021_1]"
   ]
  },
  {
   "cell_type": "code",
   "execution_count": 63,
   "id": "b489f765-fe54-4a81-8072-2d63583ab74d",
   "metadata": {},
   "outputs": [
    {
     "data": {
      "text/plain": [
       "50"
      ]
     },
     "execution_count": 63,
     "metadata": {},
     "output_type": "execute_result"
    }
   ],
   "source": [
    "len(mur_sst_files_2021_1_dmrpps)"
   ]
  },
  {
   "cell_type": "markdown",
   "id": "1e4777be-db86-4a95-b8fa-21144a690932",
   "metadata": {},
   "source": [
    "## 17b. Write data"
   ]
  },
  {
   "cell_type": "code",
   "execution_count": 65,
   "id": "ed996201-5a3b-488a-8636-d123da31cb15",
   "metadata": {},
   "outputs": [
    {
     "name": "stdout",
     "output_type": "stream",
     "text": [
      "CPU times: user 20.4 s, sys: 626 ms, total: 21 s\n",
      "Wall time: 23.8 s\n"
     ]
    },
    {
     "data": {
      "text/plain": [
       "'MM87KZG60DZG8GHS8HH0'"
      ]
     },
     "execution_count": 65,
     "metadata": {},
     "output_type": "execute_result"
    }
   ],
   "source": [
    "%%time\n",
    "virtual_ds_2021_1 = helpers.create_virtual_ds(dmrpps=mur_sst_files_2021_1_dmrpps)\n",
    "session = repo.writable_session(\"main\")\n",
    "store = session.store\n",
    "virtual_ds_2021_1.virtualize.to_icechunk(store, append_dim='time')\n",
    "session.commit(f\"Wrote 2021-01-01 to 2021-02-19 to store.\")"
   ]
  },
  {
   "cell_type": "code",
   "execution_count": 64,
   "id": "d6a9c049-8bf7-463c-accc-e21c4874bc16",
   "metadata": {},
   "outputs": [],
   "source": [
    "# %%time\n",
    "# helpers.validate_data(store, dates=dates, fs=fs)"
   ]
  },
  {
   "cell_type": "markdown",
   "id": "204aec7a-4821-44de-a9da-efeb9b9cc56b",
   "metadata": {},
   "source": [
    "## 17c. Write 2 special days as zarr"
   ]
  },
  {
   "cell_type": "code",
   "execution_count": 66,
   "id": "3951ace1-080d-43c3-8d8e-511a12447097",
   "metadata": {},
   "outputs": [
    {
     "name": "stdout",
     "output_type": "stream",
     "text": [
      "Opening files\n",
      "Files opened\n",
      "Mapping write tasks to dask client\n"
     ]
    },
    {
     "name": "stderr",
     "output_type": "stream",
     "text": [
      "/opt/conda/lib/python3.11/site-packages/numcodecs/zarr3.py:132: UserWarning: Numcodecs codecs are not in the Zarr version 3 specification and may not be supported by other zarr implementations.\n",
      "  super().__init__(**codec_config)\n",
      "/opt/conda/lib/python3.11/site-packages/numcodecs/zarr3.py:132: UserWarning: Numcodecs codecs are not in the Zarr version 3 specification and may not be supported by other zarr implementations.\n",
      "  super().__init__(**codec_config)\n",
      "/opt/conda/lib/python3.11/site-packages/numcodecs/zarr3.py:132: UserWarning: Numcodecs codecs are not in the Zarr version 3 specification and may not be supported by other zarr implementations.\n",
      "  super().__init__(**codec_config)\n",
      "/opt/conda/lib/python3.11/site-packages/numcodecs/zarr3.py:132: UserWarning: Numcodecs codecs are not in the Zarr version 3 specification and may not be supported by other zarr implementations.\n",
      "  super().__init__(**codec_config)\n",
      "/opt/conda/lib/python3.11/site-packages/numcodecs/zarr3.py:132: UserWarning: Numcodecs codecs are not in the Zarr version 3 specification and may not be supported by other zarr implementations.\n",
      "  super().__init__(**codec_config)\n",
      "/opt/conda/lib/python3.11/site-packages/numcodecs/zarr3.py:132: UserWarning: Numcodecs codecs are not in the Zarr version 3 specification and may not be supported by other zarr implementations.\n",
      "  super().__init__(**codec_config)\n",
      "/opt/conda/lib/python3.11/site-packages/numcodecs/zarr3.py:132: UserWarning: Numcodecs codecs are not in the Zarr version 3 specification and may not be supported by other zarr implementations.\n",
      "  super().__init__(**codec_config)\n",
      "/opt/conda/lib/python3.11/site-packages/numcodecs/zarr3.py:132: UserWarning: Numcodecs codecs are not in the Zarr version 3 specification and may not be supported by other zarr implementations.\n",
      "  super().__init__(**codec_config)\n"
     ]
    },
    {
     "name": "stdout",
     "output_type": "stream",
     "text": [
      "Starting distributed commit\n",
      "Distributed commit done\n",
      "CPU times: user 34.7 s, sys: 2.21 s, total: 36.9 s\n",
      "Wall time: 4min 7s\n"
     ]
    }
   ],
   "source": [
    "%%time\n",
    "dwz.update(\n",
    "    repo=repo,\n",
    "    start_date=\"2021-02-20 09:00\",\n",
    "    end_date=\"2021-02-21 09:00\",\n",
    "    fs=fs,\n",
    "    client=client\n",
    ")"
   ]
  },
  {
   "cell_type": "code",
   "execution_count": 67,
   "id": "b2a2f60b-5c5e-44c7-a9d0-c0f080319eb4",
   "metadata": {},
   "outputs": [
    {
     "data": {
      "text/plain": [
       "{'tcp://127.0.0.1:34403': 1,\n",
       " 'tcp://127.0.0.1:40051': 1,\n",
       " 'tcp://127.0.0.1:40731': 1,\n",
       " 'tcp://127.0.0.1:46695': 1}"
      ]
     },
     "execution_count": 67,
     "metadata": {},
     "output_type": "execute_result"
    }
   ],
   "source": [
    "helpers.trim_dask_worker_memory(client)"
   ]
  },
  {
   "cell_type": "code",
   "execution_count": null,
   "id": "7409b7b8-7cbf-4efa-bdc5-73bafec5d97b",
   "metadata": {},
   "outputs": [],
   "source": [
    "# %%time\n",
    "# session = repo.readonly_session(branch=\"main\")\n",
    "# store = session.store\n",
    "# helpers.validate_data(store, dates=[\"2021-02-20\", \"2021-02-21\"], fs=fs)"
   ]
  },
  {
   "cell_type": "markdown",
   "id": "62df041f-3a56-46f7-bae8-02a18ef73129",
   "metadata": {},
   "source": [
    "## 17d. List files for 2021-02-22 to 2021-12-23"
   ]
  },
  {
   "cell_type": "code",
   "execution_count": 68,
   "id": "317c2822-5a92-4ae2-a845-2718bb3e904f",
   "metadata": {},
   "outputs": [
    {
     "name": "stdout",
     "output_type": "stream",
     "text": [
      "CPU times: user 1.48 ms, sys: 0 ns, total: 1.48 ms\n",
      "Wall time: 1.45 ms\n"
     ]
    }
   ],
   "source": [
    "%%time\n",
    "dates = ['2021-02-22', '2021-12-23']\n",
    "mur_sst_files_2021_2 = helpers.list_mur_sst_files(start_date=dates[0], end_date=dates[1])\n",
    "mur_sst_files_2021_2_dmrpps = [f + '.dmrpp' for f in mur_sst_files_2021_2]"
   ]
  },
  {
   "cell_type": "code",
   "execution_count": 69,
   "id": "4bab3b9a-08a6-4f39-b65b-2d8a04fb6ebc",
   "metadata": {},
   "outputs": [
    {
     "data": {
      "text/plain": [
       "305"
      ]
     },
     "execution_count": 69,
     "metadata": {},
     "output_type": "execute_result"
    }
   ],
   "source": [
    "len(mur_sst_files_2021_2_dmrpps)"
   ]
  },
  {
   "cell_type": "markdown",
   "id": "c097ac9f-a344-4f02-a5ba-baae511f011a",
   "metadata": {},
   "source": [
    "## 17e. Write data"
   ]
  },
  {
   "cell_type": "code",
   "execution_count": 70,
   "id": "477cd5ed-dc0d-4916-9a5b-491747b4039a",
   "metadata": {},
   "outputs": [
    {
     "name": "stdout",
     "output_type": "stream",
     "text": [
      "CPU times: user 26.2 s, sys: 866 ms, total: 27 s\n",
      "Wall time: 40.2 s\n"
     ]
    },
    {
     "data": {
      "text/plain": [
       "'ZC8A2JK80QTV8AWBVJ30'"
      ]
     },
     "execution_count": 70,
     "metadata": {},
     "output_type": "execute_result"
    }
   ],
   "source": [
    "%%time\n",
    "virtual_ds_2021_2 = helpers.create_virtual_ds(dmrpps=mur_sst_files_2021_2_dmrpps)\n",
    "session = repo.writable_session(\"main\")\n",
    "store = session.store\n",
    "virtual_ds_2021_2.virtualize.to_icechunk(store, append_dim='time')\n",
    "session.commit(f\"Wrote 2021-02-22 to 2021-12-23 to store.\")"
   ]
  },
  {
   "cell_type": "code",
   "execution_count": 72,
   "id": "e6bfb2b1-59c0-46ea-a3fc-e4db84679066",
   "metadata": {},
   "outputs": [],
   "source": [
    "# %%time\n",
    "# session = repo.readonly_session(branch=\"main\")\n",
    "# store = session.store\n",
    "# helpers.validate_data(store, dates=dates, fs=fs)"
   ]
  },
  {
   "cell_type": "markdown",
   "id": "3b8abc48-ac58-4c7a-82f4-4816ec411ad8",
   "metadata": {},
   "source": [
    "## 17f. Write the rest of the days as Zarr"
   ]
  },
  {
   "cell_type": "code",
   "execution_count": 77,
   "id": "ff1558b0-9d85-4aea-8946-00bce61002c5",
   "metadata": {},
   "outputs": [
    {
     "name": "stdout",
     "output_type": "stream",
     "text": [
      "Opening files\n",
      "Files opened\n",
      "Mapping write tasks to dask client\n"
     ]
    },
    {
     "name": "stderr",
     "output_type": "stream",
     "text": [
      "/opt/conda/lib/python3.11/site-packages/numcodecs/zarr3.py:132: UserWarning: Numcodecs codecs are not in the Zarr version 3 specification and may not be supported by other zarr implementations.\n",
      "  super().__init__(**codec_config)\n",
      "/opt/conda/lib/python3.11/site-packages/numcodecs/zarr3.py:132: UserWarning: Numcodecs codecs are not in the Zarr version 3 specification and may not be supported by other zarr implementations.\n",
      "  super().__init__(**codec_config)\n",
      "/opt/conda/lib/python3.11/site-packages/numcodecs/zarr3.py:132: UserWarning: Numcodecs codecs are not in the Zarr version 3 specification and may not be supported by other zarr implementations.\n",
      "  super().__init__(**codec_config)\n",
      "/opt/conda/lib/python3.11/site-packages/numcodecs/zarr3.py:132: UserWarning: Numcodecs codecs are not in the Zarr version 3 specification and may not be supported by other zarr implementations.\n",
      "  super().__init__(**codec_config)\n",
      "/opt/conda/lib/python3.11/site-packages/numcodecs/zarr3.py:132: UserWarning: Numcodecs codecs are not in the Zarr version 3 specification and may not be supported by other zarr implementations.\n",
      "  super().__init__(**codec_config)\n",
      "/opt/conda/lib/python3.11/site-packages/numcodecs/zarr3.py:132: UserWarning: Numcodecs codecs are not in the Zarr version 3 specification and may not be supported by other zarr implementations.\n",
      "  super().__init__(**codec_config)\n",
      "/opt/conda/lib/python3.11/site-packages/numcodecs/zarr3.py:132: UserWarning: Numcodecs codecs are not in the Zarr version 3 specification and may not be supported by other zarr implementations.\n",
      "  super().__init__(**codec_config)\n",
      "/opt/conda/lib/python3.11/site-packages/numcodecs/zarr3.py:132: UserWarning: Numcodecs codecs are not in the Zarr version 3 specification and may not be supported by other zarr implementations.\n",
      "  super().__init__(**codec_config)\n"
     ]
    },
    {
     "name": "stdout",
     "output_type": "stream",
     "text": [
      "Starting distributed commit\n",
      "Distributed commit done\n",
      "CPU times: user 47.9 s, sys: 1.83 s, total: 49.7 s\n",
      "Wall time: 4min 2s\n"
     ]
    },
    {
     "data": {
      "text/plain": [
       "{'tcp://127.0.0.1:34157': 1,\n",
       " 'tcp://127.0.0.1:38767': 1,\n",
       " 'tcp://127.0.0.1:38917': 1,\n",
       " 'tcp://127.0.0.1:45499': 1}"
      ]
     },
     "execution_count": 77,
     "metadata": {},
     "output_type": "execute_result"
    }
   ],
   "source": [
    "%%time\n",
    "dwz.update(\n",
    "    repo=repo,\n",
    "    start_date=\"2021-12-24 09:00\",\n",
    "    end_date=\"2021-12-25 09:00\",\n",
    "    fs=fs,\n",
    "    client=client\n",
    ")\n",
    "helpers.trim_dask_worker_memory(client)"
   ]
  },
  {
   "cell_type": "code",
   "execution_count": 78,
   "id": "eb4658ab-d6e1-4280-b21f-a2ca140175a6",
   "metadata": {},
   "outputs": [
    {
     "name": "stdout",
     "output_type": "stream",
     "text": [
      "Opening files\n",
      "Files opened\n",
      "Mapping write tasks to dask client\n"
     ]
    },
    {
     "name": "stderr",
     "output_type": "stream",
     "text": [
      "/opt/conda/lib/python3.11/site-packages/numcodecs/zarr3.py:132: UserWarning: Numcodecs codecs are not in the Zarr version 3 specification and may not be supported by other zarr implementations.\n",
      "  super().__init__(**codec_config)\n",
      "/opt/conda/lib/python3.11/site-packages/numcodecs/zarr3.py:132: UserWarning: Numcodecs codecs are not in the Zarr version 3 specification and may not be supported by other zarr implementations.\n",
      "  super().__init__(**codec_config)\n",
      "/opt/conda/lib/python3.11/site-packages/numcodecs/zarr3.py:132: UserWarning: Numcodecs codecs are not in the Zarr version 3 specification and may not be supported by other zarr implementations.\n",
      "  super().__init__(**codec_config)\n",
      "/opt/conda/lib/python3.11/site-packages/numcodecs/zarr3.py:132: UserWarning: Numcodecs codecs are not in the Zarr version 3 specification and may not be supported by other zarr implementations.\n",
      "  super().__init__(**codec_config)\n",
      "/opt/conda/lib/python3.11/site-packages/numcodecs/zarr3.py:132: UserWarning: Numcodecs codecs are not in the Zarr version 3 specification and may not be supported by other zarr implementations.\n",
      "  super().__init__(**codec_config)\n",
      "/opt/conda/lib/python3.11/site-packages/numcodecs/zarr3.py:132: UserWarning: Numcodecs codecs are not in the Zarr version 3 specification and may not be supported by other zarr implementations.\n",
      "  super().__init__(**codec_config)\n",
      "/opt/conda/lib/python3.11/site-packages/numcodecs/zarr3.py:132: UserWarning: Numcodecs codecs are not in the Zarr version 3 specification and may not be supported by other zarr implementations.\n",
      "  super().__init__(**codec_config)\n",
      "/opt/conda/lib/python3.11/site-packages/numcodecs/zarr3.py:132: UserWarning: Numcodecs codecs are not in the Zarr version 3 specification and may not be supported by other zarr implementations.\n",
      "  super().__init__(**codec_config)\n"
     ]
    },
    {
     "name": "stdout",
     "output_type": "stream",
     "text": [
      "Starting distributed commit\n",
      "Distributed commit done\n",
      "CPU times: user 46.8 s, sys: 1.92 s, total: 48.7 s\n",
      "Wall time: 3min 56s\n"
     ]
    },
    {
     "data": {
      "text/plain": [
       "{'tcp://127.0.0.1:34157': 1,\n",
       " 'tcp://127.0.0.1:38767': 1,\n",
       " 'tcp://127.0.0.1:38917': 1,\n",
       " 'tcp://127.0.0.1:45499': 1}"
      ]
     },
     "execution_count": 78,
     "metadata": {},
     "output_type": "execute_result"
    }
   ],
   "source": [
    "%%time\n",
    "dwz.update(\n",
    "    repo=repo,\n",
    "    start_date=\"2021-12-26 09:00\",\n",
    "    end_date=\"2021-12-27 09:00\",\n",
    "    fs=fs,\n",
    "    client=client\n",
    ")\n",
    "helpers.trim_dask_worker_memory(client)"
   ]
  },
  {
   "cell_type": "code",
   "execution_count": 79,
   "id": "370177b4-8362-4212-9500-fc9e6d0f856f",
   "metadata": {},
   "outputs": [
    {
     "name": "stdout",
     "output_type": "stream",
     "text": [
      "Opening files\n",
      "Files opened\n",
      "Mapping write tasks to dask client\n"
     ]
    },
    {
     "name": "stderr",
     "output_type": "stream",
     "text": [
      "/opt/conda/lib/python3.11/site-packages/numcodecs/zarr3.py:132: UserWarning: Numcodecs codecs are not in the Zarr version 3 specification and may not be supported by other zarr implementations.\n",
      "  super().__init__(**codec_config)\n",
      "/opt/conda/lib/python3.11/site-packages/numcodecs/zarr3.py:132: UserWarning: Numcodecs codecs are not in the Zarr version 3 specification and may not be supported by other zarr implementations.\n",
      "  super().__init__(**codec_config)\n",
      "/opt/conda/lib/python3.11/site-packages/numcodecs/zarr3.py:132: UserWarning: Numcodecs codecs are not in the Zarr version 3 specification and may not be supported by other zarr implementations.\n",
      "  super().__init__(**codec_config)\n",
      "/opt/conda/lib/python3.11/site-packages/numcodecs/zarr3.py:132: UserWarning: Numcodecs codecs are not in the Zarr version 3 specification and may not be supported by other zarr implementations.\n",
      "  super().__init__(**codec_config)\n",
      "/opt/conda/lib/python3.11/site-packages/numcodecs/zarr3.py:132: UserWarning: Numcodecs codecs are not in the Zarr version 3 specification and may not be supported by other zarr implementations.\n",
      "  super().__init__(**codec_config)\n",
      "/opt/conda/lib/python3.11/site-packages/numcodecs/zarr3.py:132: UserWarning: Numcodecs codecs are not in the Zarr version 3 specification and may not be supported by other zarr implementations.\n",
      "  super().__init__(**codec_config)\n",
      "/opt/conda/lib/python3.11/site-packages/numcodecs/zarr3.py:132: UserWarning: Numcodecs codecs are not in the Zarr version 3 specification and may not be supported by other zarr implementations.\n",
      "  super().__init__(**codec_config)\n",
      "/opt/conda/lib/python3.11/site-packages/numcodecs/zarr3.py:132: UserWarning: Numcodecs codecs are not in the Zarr version 3 specification and may not be supported by other zarr implementations.\n",
      "  super().__init__(**codec_config)\n"
     ]
    },
    {
     "name": "stdout",
     "output_type": "stream",
     "text": [
      "Starting distributed commit\n",
      "Distributed commit done\n",
      "CPU times: user 47.2 s, sys: 1.85 s, total: 49 s\n",
      "Wall time: 4min 4s\n"
     ]
    },
    {
     "data": {
      "text/plain": [
       "{'tcp://127.0.0.1:34157': 1,\n",
       " 'tcp://127.0.0.1:38767': 1,\n",
       " 'tcp://127.0.0.1:38917': 1,\n",
       " 'tcp://127.0.0.1:45499': 1}"
      ]
     },
     "execution_count": 79,
     "metadata": {},
     "output_type": "execute_result"
    }
   ],
   "source": [
    "%%time\n",
    "dwz.update(\n",
    "    repo=repo,\n",
    "    start_date=\"2021-12-28 09:00\",\n",
    "    end_date=\"2021-12-29 09:00\",\n",
    "    fs=fs,\n",
    "    client=client\n",
    ")\n",
    "helpers.trim_dask_worker_memory(client)"
   ]
  },
  {
   "cell_type": "code",
   "execution_count": 80,
   "id": "8ff872e6-3b83-4c17-ad68-421c1aee9c9e",
   "metadata": {},
   "outputs": [
    {
     "name": "stdout",
     "output_type": "stream",
     "text": [
      "Opening files\n",
      "Files opened\n",
      "Mapping write tasks to dask client\n"
     ]
    },
    {
     "name": "stderr",
     "output_type": "stream",
     "text": [
      "/opt/conda/lib/python3.11/site-packages/numcodecs/zarr3.py:132: UserWarning: Numcodecs codecs are not in the Zarr version 3 specification and may not be supported by other zarr implementations.\n",
      "  super().__init__(**codec_config)\n",
      "/opt/conda/lib/python3.11/site-packages/numcodecs/zarr3.py:132: UserWarning: Numcodecs codecs are not in the Zarr version 3 specification and may not be supported by other zarr implementations.\n",
      "  super().__init__(**codec_config)\n",
      "/opt/conda/lib/python3.11/site-packages/numcodecs/zarr3.py:132: UserWarning: Numcodecs codecs are not in the Zarr version 3 specification and may not be supported by other zarr implementations.\n",
      "  super().__init__(**codec_config)\n",
      "/opt/conda/lib/python3.11/site-packages/numcodecs/zarr3.py:132: UserWarning: Numcodecs codecs are not in the Zarr version 3 specification and may not be supported by other zarr implementations.\n",
      "  super().__init__(**codec_config)\n",
      "/opt/conda/lib/python3.11/site-packages/numcodecs/zarr3.py:132: UserWarning: Numcodecs codecs are not in the Zarr version 3 specification and may not be supported by other zarr implementations.\n",
      "  super().__init__(**codec_config)\n",
      "/opt/conda/lib/python3.11/site-packages/numcodecs/zarr3.py:132: UserWarning: Numcodecs codecs are not in the Zarr version 3 specification and may not be supported by other zarr implementations.\n",
      "  super().__init__(**codec_config)\n",
      "/opt/conda/lib/python3.11/site-packages/numcodecs/zarr3.py:132: UserWarning: Numcodecs codecs are not in the Zarr version 3 specification and may not be supported by other zarr implementations.\n",
      "  super().__init__(**codec_config)\n",
      "/opt/conda/lib/python3.11/site-packages/numcodecs/zarr3.py:132: UserWarning: Numcodecs codecs are not in the Zarr version 3 specification and may not be supported by other zarr implementations.\n",
      "  super().__init__(**codec_config)\n"
     ]
    },
    {
     "name": "stdout",
     "output_type": "stream",
     "text": [
      "Starting distributed commit\n",
      "Distributed commit done\n",
      "CPU times: user 47.3 s, sys: 2.3 s, total: 49.6 s\n",
      "Wall time: 3min 57s\n"
     ]
    },
    {
     "data": {
      "text/plain": [
       "{'tcp://127.0.0.1:34157': 1,\n",
       " 'tcp://127.0.0.1:38767': 1,\n",
       " 'tcp://127.0.0.1:38917': 1,\n",
       " 'tcp://127.0.0.1:45499': 1}"
      ]
     },
     "execution_count": 80,
     "metadata": {},
     "output_type": "execute_result"
    }
   ],
   "source": [
    "%%time\n",
    "dwz.update(\n",
    "    repo=repo,\n",
    "    start_date=\"2021-12-30 09:00\",\n",
    "    end_date=\"2021-12-31 09:00\",\n",
    "    fs=fs,\n",
    "    client=client\n",
    ")\n",
    "helpers.trim_dask_worker_memory(client)"
   ]
  },
  {
   "cell_type": "markdown",
   "id": "34da002b-563c-4df4-bfd5-bd706d89d275",
   "metadata": {},
   "source": [
    "* 1 day at a time: With 4 workers, each having 1 thread and 15GB of memory. The maximum amount of memory used I saw was 25%. Some workers did use more than 100% CPU. It took about 2 minutes.\n",
    "* 2 days at a time: Same worker configuration, maximum memory I saw used was 40%. Often workers exceeded 100% CPU. Took 3 minutes.\n",
    "* 3 days at a time: Same worker configuration, maximum memory reached 80%, this definitely seems the upper limit. 2 days at a time for 15GB per worker is probably safer.\n",
    "  * 2 more days after this caused many warnings of memory usage >80%. This is probably because some memory is not released back to the OS: https://distributed.dask.org/en/stable/worker-memory.html#memory-not-released-back-to-the-os.\n",
    "\n",
    "Each array is at most 5.2GB (17999 * 36000 * 8 bytes), so not sure why workers are using so much memory."
   ]
  },
  {
   "cell_type": "markdown",
   "id": "8575c70a-7a8c-46fc-89fb-37ec883e650b",
   "metadata": {},
   "source": [
    "## 17*. Validate data"
   ]
  },
  {
   "cell_type": "code",
   "execution_count": 81,
   "id": "26c94219-4c4f-4fff-aa86-0f86750518d2",
   "metadata": {},
   "outputs": [],
   "source": [
    "# %%time\n",
    "# dates = ['2021-12-24', '2021-12-31']\n",
    "# session = repo.readonly_session(branch=\"main\")\n",
    "# store = session.store\n",
    "# helpers.validate_data(store, dates=dates, fs=fs)"
   ]
  },
  {
   "cell_type": "markdown",
   "id": "e9e0545d-eaf9-4eda-9698-da88bd15c244",
   "metadata": {},
   "source": [
    "# 18. 2022"
   ]
  },
  {
   "cell_type": "markdown",
   "id": "9cb82da3-4667-4cad-bf34-2aecfee220d6",
   "metadata": {},
   "source": [
    "## 18a. List files"
   ]
  },
  {
   "cell_type": "code",
   "execution_count": null,
   "id": "acde3793-4e2d-4ce2-b975-41ef66e74dd6",
   "metadata": {},
   "outputs": [],
   "source": [
    "%%time\n",
    "dates = ['2022-01-01', '2022-12-31']\n",
    "mur_sst_files_2022 = helpers.list_mur_sst_files(start_date=dates[0], end_date=dates[1])\n",
    "mur_sst_files_2022_dmrpps = [f + '.dmrpp' for f in mur_sst_files_2022]"
   ]
  },
  {
   "cell_type": "code",
   "execution_count": null,
   "id": "4b6fa2bd-cefc-4d68-ad1a-f5612b654f4a",
   "metadata": {},
   "outputs": [],
   "source": [
    "len(mur_sst_files_2022_dmrpps)"
   ]
  },
  {
   "cell_type": "markdown",
   "id": "b254ef80-8f1f-4631-87e5-06a1f175a4e4",
   "metadata": {},
   "source": [
    "## 18b. Find files with different encodings"
   ]
  },
  {
   "cell_type": "code",
   "execution_count": null,
   "id": "7675769a-fa78-4798-9e76-932500cb36eb",
   "metadata": {},
   "outputs": [],
   "source": [
    "# vdss = [helpers.open_virtual(f) for f in mur_sst_files_2022_dmrpps]\n",
    "# helpers.check_codecs(vdss)"
   ]
  },
  {
   "cell_type": "markdown",
   "id": "3bc4758d-09ff-4364-be1c-956237ee1933",
   "metadata": {},
   "source": [
    "**Encoding report:**\n",
    "* 2022-01-01 to 2022-01-26 has `shuffle` after `zlib` (wrong order)\n",
    "* 2022-11-09 has `zlib` level `7` (`zlib` level `6` is the standard)"
   ]
  },
  {
   "cell_type": "markdown",
   "id": "5542693b-b5ed-481c-9e5c-47ee23bc3292",
   "metadata": {},
   "source": [
    "## 18c. Write 2022-01-01 to 2022-01-26 as Zarr"
   ]
  },
  {
   "cell_type": "code",
   "execution_count": 82,
   "id": "bbdb3c02-7192-48e0-a225-93b445733a05",
   "metadata": {},
   "outputs": [
    {
     "name": "stdout",
     "output_type": "stream",
     "text": [
      "Opening files\n",
      "Files opened\n",
      "Mapping write tasks to dask client\n"
     ]
    },
    {
     "name": "stderr",
     "output_type": "stream",
     "text": [
      "/opt/conda/lib/python3.11/site-packages/numcodecs/zarr3.py:132: UserWarning: Numcodecs codecs are not in the Zarr version 3 specification and may not be supported by other zarr implementations.\n",
      "  super().__init__(**codec_config)\n",
      "/opt/conda/lib/python3.11/site-packages/numcodecs/zarr3.py:132: UserWarning: Numcodecs codecs are not in the Zarr version 3 specification and may not be supported by other zarr implementations.\n",
      "  super().__init__(**codec_config)\n",
      "/opt/conda/lib/python3.11/site-packages/numcodecs/zarr3.py:132: UserWarning: Numcodecs codecs are not in the Zarr version 3 specification and may not be supported by other zarr implementations.\n",
      "  super().__init__(**codec_config)\n",
      "/opt/conda/lib/python3.11/site-packages/numcodecs/zarr3.py:132: UserWarning: Numcodecs codecs are not in the Zarr version 3 specification and may not be supported by other zarr implementations.\n",
      "  super().__init__(**codec_config)\n",
      "/opt/conda/lib/python3.11/site-packages/numcodecs/zarr3.py:132: UserWarning: Numcodecs codecs are not in the Zarr version 3 specification and may not be supported by other zarr implementations.\n",
      "  super().__init__(**codec_config)\n",
      "/opt/conda/lib/python3.11/site-packages/numcodecs/zarr3.py:132: UserWarning: Numcodecs codecs are not in the Zarr version 3 specification and may not be supported by other zarr implementations.\n",
      "  super().__init__(**codec_config)\n",
      "/opt/conda/lib/python3.11/site-packages/numcodecs/zarr3.py:132: UserWarning: Numcodecs codecs are not in the Zarr version 3 specification and may not be supported by other zarr implementations.\n",
      "  super().__init__(**codec_config)\n",
      "/opt/conda/lib/python3.11/site-packages/numcodecs/zarr3.py:132: UserWarning: Numcodecs codecs are not in the Zarr version 3 specification and may not be supported by other zarr implementations.\n",
      "  super().__init__(**codec_config)\n"
     ]
    },
    {
     "name": "stdout",
     "output_type": "stream",
     "text": [
      "Starting distributed commit\n",
      "Distributed commit done\n",
      "CPU times: user 50.3 s, sys: 2.37 s, total: 52.7 s\n",
      "Wall time: 4min 31s\n"
     ]
    },
    {
     "data": {
      "text/plain": [
       "{'tcp://127.0.0.1:34157': 1,\n",
       " 'tcp://127.0.0.1:38767': 1,\n",
       " 'tcp://127.0.0.1:38917': 1,\n",
       " 'tcp://127.0.0.1:45499': 1}"
      ]
     },
     "execution_count": 82,
     "metadata": {},
     "output_type": "execute_result"
    }
   ],
   "source": [
    "%%time\n",
    "dates = [\"2022-01-01\", \"2022-01-02\"]\n",
    "dwz.update(\n",
    "    repo=repo,\n",
    "    start_date=f\"{dates[0]} 09:00\",\n",
    "    end_date=f\"{dates[1]} 09:00\",\n",
    "    fs=fs,\n",
    "    client=client\n",
    ")\n",
    "helpers.trim_dask_worker_memory(client)"
   ]
  },
  {
   "cell_type": "code",
   "execution_count": null,
   "id": "72041bb8-9bfd-47f6-b606-e9a137f9a416",
   "metadata": {},
   "outputs": [],
   "source": [
    "# %%time\n",
    "# session = repo.readonly_session(branch=\"main\")\n",
    "# store = session.store\n",
    "# helpers.validate_data(store, dates=dates, fs=fs)"
   ]
  },
  {
   "cell_type": "code",
   "execution_count": 102,
   "id": "2139b8c0-358e-464d-9758-48a7103323ed",
   "metadata": {},
   "outputs": [
    {
     "name": "stdout",
     "output_type": "stream",
     "text": [
      "Opening files\n",
      "Files opened\n",
      "Mapping write tasks to dask client\n"
     ]
    },
    {
     "name": "stderr",
     "output_type": "stream",
     "text": [
      "/opt/conda/lib/python3.11/site-packages/numcodecs/zarr3.py:132: UserWarning: Numcodecs codecs are not in the Zarr version 3 specification and may not be supported by other zarr implementations.\n",
      "  super().__init__(**codec_config)\n",
      "/opt/conda/lib/python3.11/site-packages/numcodecs/zarr3.py:132: UserWarning: Numcodecs codecs are not in the Zarr version 3 specification and may not be supported by other zarr implementations.\n",
      "  super().__init__(**codec_config)\n",
      "/opt/conda/lib/python3.11/site-packages/numcodecs/zarr3.py:132: UserWarning: Numcodecs codecs are not in the Zarr version 3 specification and may not be supported by other zarr implementations.\n",
      "  super().__init__(**codec_config)\n",
      "/opt/conda/lib/python3.11/site-packages/numcodecs/zarr3.py:132: UserWarning: Numcodecs codecs are not in the Zarr version 3 specification and may not be supported by other zarr implementations.\n",
      "  super().__init__(**codec_config)\n",
      "/opt/conda/lib/python3.11/site-packages/numcodecs/zarr3.py:132: UserWarning: Numcodecs codecs are not in the Zarr version 3 specification and may not be supported by other zarr implementations.\n",
      "  super().__init__(**codec_config)\n",
      "/opt/conda/lib/python3.11/site-packages/numcodecs/zarr3.py:132: UserWarning: Numcodecs codecs are not in the Zarr version 3 specification and may not be supported by other zarr implementations.\n",
      "  super().__init__(**codec_config)\n",
      "/opt/conda/lib/python3.11/site-packages/numcodecs/zarr3.py:132: UserWarning: Numcodecs codecs are not in the Zarr version 3 specification and may not be supported by other zarr implementations.\n",
      "  super().__init__(**codec_config)\n",
      "/opt/conda/lib/python3.11/site-packages/numcodecs/zarr3.py:132: UserWarning: Numcodecs codecs are not in the Zarr version 3 specification and may not be supported by other zarr implementations.\n",
      "  super().__init__(**codec_config)\n"
     ]
    },
    {
     "name": "stdout",
     "output_type": "stream",
     "text": [
      "Starting distributed commit\n",
      "Distributed commit done\n",
      "CPU times: user 37.6 s, sys: 1.59 s, total: 39.2 s\n",
      "Wall time: 4min 12s\n"
     ]
    },
    {
     "data": {
      "text/plain": [
       "{'tcp://127.0.0.1:35289': 1,\n",
       " 'tcp://127.0.0.1:41661': 1,\n",
       " 'tcp://127.0.0.1:45397': 1,\n",
       " 'tcp://127.0.0.1:46477': 1}"
      ]
     },
     "execution_count": 102,
     "metadata": {},
     "output_type": "execute_result"
    }
   ],
   "source": [
    "%%time\n",
    "dates = [\"2022-01-03\", \"2022-01-04\"]\n",
    "dwz.update(\n",
    "    repo=repo,\n",
    "    start_date=f\"{dates[0]} 09:00\",\n",
    "    end_date=f\"{dates[1]} 09:00\",\n",
    "    fs=fs,\n",
    "    client=client\n",
    ")\n",
    "helpers.trim_dask_worker_memory(client)"
   ]
  },
  {
   "cell_type": "code",
   "execution_count": null,
   "id": "ae3b3991-9c1b-4257-9073-d1987c54bdbe",
   "metadata": {},
   "outputs": [],
   "source": [
    "# %%time\n",
    "# session = repo.readonly_session(branch=\"main\")\n",
    "# store = session.store\n",
    "# helpers.validate_data(store, dates=dates, fs=fs)"
   ]
  },
  {
   "cell_type": "code",
   "execution_count": 103,
   "id": "b8601e12-3e90-4233-a447-b18bb3e595e4",
   "metadata": {},
   "outputs": [
    {
     "name": "stdout",
     "output_type": "stream",
     "text": [
      "Opening files\n",
      "Files opened\n",
      "Mapping write tasks to dask client\n"
     ]
    },
    {
     "name": "stderr",
     "output_type": "stream",
     "text": [
      "/opt/conda/lib/python3.11/site-packages/numcodecs/zarr3.py:132: UserWarning: Numcodecs codecs are not in the Zarr version 3 specification and may not be supported by other zarr implementations.\n",
      "  super().__init__(**codec_config)\n",
      "/opt/conda/lib/python3.11/site-packages/numcodecs/zarr3.py:132: UserWarning: Numcodecs codecs are not in the Zarr version 3 specification and may not be supported by other zarr implementations.\n",
      "  super().__init__(**codec_config)\n",
      "/opt/conda/lib/python3.11/site-packages/numcodecs/zarr3.py:132: UserWarning: Numcodecs codecs are not in the Zarr version 3 specification and may not be supported by other zarr implementations.\n",
      "  super().__init__(**codec_config)\n",
      "/opt/conda/lib/python3.11/site-packages/numcodecs/zarr3.py:132: UserWarning: Numcodecs codecs are not in the Zarr version 3 specification and may not be supported by other zarr implementations.\n",
      "  super().__init__(**codec_config)\n",
      "/opt/conda/lib/python3.11/site-packages/numcodecs/zarr3.py:132: UserWarning: Numcodecs codecs are not in the Zarr version 3 specification and may not be supported by other zarr implementations.\n",
      "  super().__init__(**codec_config)\n",
      "/opt/conda/lib/python3.11/site-packages/numcodecs/zarr3.py:132: UserWarning: Numcodecs codecs are not in the Zarr version 3 specification and may not be supported by other zarr implementations.\n",
      "  super().__init__(**codec_config)\n",
      "/opt/conda/lib/python3.11/site-packages/numcodecs/zarr3.py:132: UserWarning: Numcodecs codecs are not in the Zarr version 3 specification and may not be supported by other zarr implementations.\n",
      "  super().__init__(**codec_config)\n",
      "/opt/conda/lib/python3.11/site-packages/numcodecs/zarr3.py:132: UserWarning: Numcodecs codecs are not in the Zarr version 3 specification and may not be supported by other zarr implementations.\n",
      "  super().__init__(**codec_config)\n"
     ]
    },
    {
     "name": "stdout",
     "output_type": "stream",
     "text": [
      "Starting distributed commit\n",
      "Distributed commit done\n",
      "CPU times: user 38.3 s, sys: 2.58 s, total: 40.9 s\n",
      "Wall time: 4min 8s\n"
     ]
    },
    {
     "data": {
      "text/plain": [
       "{'tcp://127.0.0.1:35289': 1,\n",
       " 'tcp://127.0.0.1:41661': 1,\n",
       " 'tcp://127.0.0.1:45397': 1,\n",
       " 'tcp://127.0.0.1:46477': 1}"
      ]
     },
     "execution_count": 103,
     "metadata": {},
     "output_type": "execute_result"
    }
   ],
   "source": [
    "%%time\n",
    "dates = [\"2022-01-05\", \"2022-01-06\"]\n",
    "dwz.update(\n",
    "    repo=repo,\n",
    "    start_date=f\"{dates[0]} 09:00\",\n",
    "    end_date=f\"{dates[1]} 09:00\",\n",
    "    fs=fs,\n",
    "    client=client\n",
    ")\n",
    "helpers.trim_dask_worker_memory(client)"
   ]
  },
  {
   "cell_type": "code",
   "execution_count": 104,
   "id": "93653a9b-d292-466f-8f82-cc3ea471bd24",
   "metadata": {},
   "outputs": [
    {
     "name": "stdout",
     "output_type": "stream",
     "text": [
      "Opening files\n",
      "Files opened\n",
      "Mapping write tasks to dask client\n"
     ]
    },
    {
     "name": "stderr",
     "output_type": "stream",
     "text": [
      "/opt/conda/lib/python3.11/site-packages/numcodecs/zarr3.py:132: UserWarning: Numcodecs codecs are not in the Zarr version 3 specification and may not be supported by other zarr implementations.\n",
      "  super().__init__(**codec_config)\n",
      "/opt/conda/lib/python3.11/site-packages/numcodecs/zarr3.py:132: UserWarning: Numcodecs codecs are not in the Zarr version 3 specification and may not be supported by other zarr implementations.\n",
      "  super().__init__(**codec_config)\n",
      "/opt/conda/lib/python3.11/site-packages/numcodecs/zarr3.py:132: UserWarning: Numcodecs codecs are not in the Zarr version 3 specification and may not be supported by other zarr implementations.\n",
      "  super().__init__(**codec_config)\n",
      "/opt/conda/lib/python3.11/site-packages/numcodecs/zarr3.py:132: UserWarning: Numcodecs codecs are not in the Zarr version 3 specification and may not be supported by other zarr implementations.\n",
      "  super().__init__(**codec_config)\n",
      "/opt/conda/lib/python3.11/site-packages/numcodecs/zarr3.py:132: UserWarning: Numcodecs codecs are not in the Zarr version 3 specification and may not be supported by other zarr implementations.\n",
      "  super().__init__(**codec_config)\n",
      "/opt/conda/lib/python3.11/site-packages/numcodecs/zarr3.py:132: UserWarning: Numcodecs codecs are not in the Zarr version 3 specification and may not be supported by other zarr implementations.\n",
      "  super().__init__(**codec_config)\n",
      "/opt/conda/lib/python3.11/site-packages/numcodecs/zarr3.py:132: UserWarning: Numcodecs codecs are not in the Zarr version 3 specification and may not be supported by other zarr implementations.\n",
      "  super().__init__(**codec_config)\n",
      "/opt/conda/lib/python3.11/site-packages/numcodecs/zarr3.py:132: UserWarning: Numcodecs codecs are not in the Zarr version 3 specification and may not be supported by other zarr implementations.\n",
      "  super().__init__(**codec_config)\n"
     ]
    },
    {
     "name": "stdout",
     "output_type": "stream",
     "text": [
      "Starting distributed commit\n",
      "Distributed commit done\n",
      "CPU times: user 39.2 s, sys: 1.84 s, total: 41 s\n",
      "Wall time: 4min 20s\n"
     ]
    },
    {
     "data": {
      "text/plain": [
       "{'tcp://127.0.0.1:35289': 1,\n",
       " 'tcp://127.0.0.1:41661': 1,\n",
       " 'tcp://127.0.0.1:45397': 1,\n",
       " 'tcp://127.0.0.1:46477': 1}"
      ]
     },
     "execution_count": 104,
     "metadata": {},
     "output_type": "execute_result"
    }
   ],
   "source": [
    "%%time\n",
    "dates = [\"2022-01-07\", \"2022-01-08\"]\n",
    "dwz.update(\n",
    "    repo=repo,\n",
    "    start_date=f\"{dates[0]} 09:00\",\n",
    "    end_date=f\"{dates[1]} 09:00\",\n",
    "    fs=fs,\n",
    "    client=client\n",
    ")\n",
    "helpers.trim_dask_worker_memory(client)"
   ]
  },
  {
   "cell_type": "code",
   "execution_count": 105,
   "id": "e8b955dd-f626-4709-a0b1-759fbf20e699",
   "metadata": {},
   "outputs": [
    {
     "name": "stdout",
     "output_type": "stream",
     "text": [
      "Opening files\n",
      "Files opened\n",
      "Mapping write tasks to dask client\n"
     ]
    },
    {
     "name": "stderr",
     "output_type": "stream",
     "text": [
      "/opt/conda/lib/python3.11/site-packages/numcodecs/zarr3.py:132: UserWarning: Numcodecs codecs are not in the Zarr version 3 specification and may not be supported by other zarr implementations.\n",
      "  super().__init__(**codec_config)\n",
      "/opt/conda/lib/python3.11/site-packages/numcodecs/zarr3.py:132: UserWarning: Numcodecs codecs are not in the Zarr version 3 specification and may not be supported by other zarr implementations.\n",
      "  super().__init__(**codec_config)\n",
      "/opt/conda/lib/python3.11/site-packages/numcodecs/zarr3.py:132: UserWarning: Numcodecs codecs are not in the Zarr version 3 specification and may not be supported by other zarr implementations.\n",
      "  super().__init__(**codec_config)\n",
      "/opt/conda/lib/python3.11/site-packages/numcodecs/zarr3.py:132: UserWarning: Numcodecs codecs are not in the Zarr version 3 specification and may not be supported by other zarr implementations.\n",
      "  super().__init__(**codec_config)\n",
      "/opt/conda/lib/python3.11/site-packages/numcodecs/zarr3.py:132: UserWarning: Numcodecs codecs are not in the Zarr version 3 specification and may not be supported by other zarr implementations.\n",
      "  super().__init__(**codec_config)\n",
      "/opt/conda/lib/python3.11/site-packages/numcodecs/zarr3.py:132: UserWarning: Numcodecs codecs are not in the Zarr version 3 specification and may not be supported by other zarr implementations.\n",
      "  super().__init__(**codec_config)\n",
      "/opt/conda/lib/python3.11/site-packages/numcodecs/zarr3.py:132: UserWarning: Numcodecs codecs are not in the Zarr version 3 specification and may not be supported by other zarr implementations.\n",
      "  super().__init__(**codec_config)\n",
      "/opt/conda/lib/python3.11/site-packages/numcodecs/zarr3.py:132: UserWarning: Numcodecs codecs are not in the Zarr version 3 specification and may not be supported by other zarr implementations.\n",
      "  super().__init__(**codec_config)\n"
     ]
    },
    {
     "name": "stdout",
     "output_type": "stream",
     "text": [
      "Starting distributed commit\n",
      "Distributed commit done\n",
      "CPU times: user 36.5 s, sys: 2.71 s, total: 39.2 s\n",
      "Wall time: 3min 48s\n"
     ]
    },
    {
     "data": {
      "text/plain": [
       "{'tcp://127.0.0.1:35289': 1,\n",
       " 'tcp://127.0.0.1:41661': 1,\n",
       " 'tcp://127.0.0.1:45397': 1,\n",
       " 'tcp://127.0.0.1:46477': 1}"
      ]
     },
     "execution_count": 105,
     "metadata": {},
     "output_type": "execute_result"
    }
   ],
   "source": [
    "%%time\n",
    "dates = [\"2022-01-09\", \"2022-01-10\"]\n",
    "dwz.update(\n",
    "    repo=repo,\n",
    "    start_date=f\"{dates[0]} 09:00\",\n",
    "    end_date=f\"{dates[1]} 09:00\",\n",
    "    fs=fs,\n",
    "    client=client\n",
    ")\n",
    "helpers.trim_dask_worker_memory(client)"
   ]
  },
  {
   "cell_type": "code",
   "execution_count": 106,
   "id": "73d0f384-88c2-4a79-a19c-dd89618a51bd",
   "metadata": {},
   "outputs": [
    {
     "name": "stdout",
     "output_type": "stream",
     "text": [
      "Opening files\n",
      "Files opened\n",
      "Mapping write tasks to dask client\n"
     ]
    },
    {
     "name": "stderr",
     "output_type": "stream",
     "text": [
      "/opt/conda/lib/python3.11/site-packages/numcodecs/zarr3.py:132: UserWarning: Numcodecs codecs are not in the Zarr version 3 specification and may not be supported by other zarr implementations.\n",
      "  super().__init__(**codec_config)\n",
      "/opt/conda/lib/python3.11/site-packages/numcodecs/zarr3.py:132: UserWarning: Numcodecs codecs are not in the Zarr version 3 specification and may not be supported by other zarr implementations.\n",
      "  super().__init__(**codec_config)\n",
      "/opt/conda/lib/python3.11/site-packages/numcodecs/zarr3.py:132: UserWarning: Numcodecs codecs are not in the Zarr version 3 specification and may not be supported by other zarr implementations.\n",
      "  super().__init__(**codec_config)\n",
      "/opt/conda/lib/python3.11/site-packages/numcodecs/zarr3.py:132: UserWarning: Numcodecs codecs are not in the Zarr version 3 specification and may not be supported by other zarr implementations.\n",
      "  super().__init__(**codec_config)\n",
      "/opt/conda/lib/python3.11/site-packages/numcodecs/zarr3.py:132: UserWarning: Numcodecs codecs are not in the Zarr version 3 specification and may not be supported by other zarr implementations.\n",
      "  super().__init__(**codec_config)\n",
      "/opt/conda/lib/python3.11/site-packages/numcodecs/zarr3.py:132: UserWarning: Numcodecs codecs are not in the Zarr version 3 specification and may not be supported by other zarr implementations.\n",
      "  super().__init__(**codec_config)\n",
      "/opt/conda/lib/python3.11/site-packages/numcodecs/zarr3.py:132: UserWarning: Numcodecs codecs are not in the Zarr version 3 specification and may not be supported by other zarr implementations.\n",
      "  super().__init__(**codec_config)\n",
      "/opt/conda/lib/python3.11/site-packages/numcodecs/zarr3.py:132: UserWarning: Numcodecs codecs are not in the Zarr version 3 specification and may not be supported by other zarr implementations.\n",
      "  super().__init__(**codec_config)\n"
     ]
    },
    {
     "name": "stdout",
     "output_type": "stream",
     "text": [
      "Starting distributed commit\n",
      "Distributed commit done\n",
      "CPU times: user 37.6 s, sys: 2.05 s, total: 39.7 s\n",
      "Wall time: 4min 18s\n"
     ]
    },
    {
     "data": {
      "text/plain": [
       "{'tcp://127.0.0.1:35289': 1,\n",
       " 'tcp://127.0.0.1:41661': 1,\n",
       " 'tcp://127.0.0.1:45397': 1,\n",
       " 'tcp://127.0.0.1:46477': 1}"
      ]
     },
     "execution_count": 106,
     "metadata": {},
     "output_type": "execute_result"
    }
   ],
   "source": [
    "%%time\n",
    "dates = [\"2022-01-11\", \"2022-01-12\"]\n",
    "dwz.update(\n",
    "    repo=repo,\n",
    "    start_date=f\"{dates[0]} 09:00\",\n",
    "    end_date=f\"{dates[1]} 09:00\",\n",
    "    fs=fs,\n",
    "    client=client\n",
    ")\n",
    "helpers.trim_dask_worker_memory(client)"
   ]
  },
  {
   "cell_type": "code",
   "execution_count": 107,
   "id": "f9a81a33-01a3-4e33-aa0a-5b767977264d",
   "metadata": {},
   "outputs": [
    {
     "name": "stdout",
     "output_type": "stream",
     "text": [
      "Opening files\n",
      "Files opened\n",
      "Mapping write tasks to dask client\n"
     ]
    },
    {
     "name": "stderr",
     "output_type": "stream",
     "text": [
      "/opt/conda/lib/python3.11/site-packages/numcodecs/zarr3.py:132: UserWarning: Numcodecs codecs are not in the Zarr version 3 specification and may not be supported by other zarr implementations.\n",
      "  super().__init__(**codec_config)\n",
      "/opt/conda/lib/python3.11/site-packages/numcodecs/zarr3.py:132: UserWarning: Numcodecs codecs are not in the Zarr version 3 specification and may not be supported by other zarr implementations.\n",
      "  super().__init__(**codec_config)\n",
      "/opt/conda/lib/python3.11/site-packages/numcodecs/zarr3.py:132: UserWarning: Numcodecs codecs are not in the Zarr version 3 specification and may not be supported by other zarr implementations.\n",
      "  super().__init__(**codec_config)\n",
      "/opt/conda/lib/python3.11/site-packages/numcodecs/zarr3.py:132: UserWarning: Numcodecs codecs are not in the Zarr version 3 specification and may not be supported by other zarr implementations.\n",
      "  super().__init__(**codec_config)\n",
      "/opt/conda/lib/python3.11/site-packages/numcodecs/zarr3.py:132: UserWarning: Numcodecs codecs are not in the Zarr version 3 specification and may not be supported by other zarr implementations.\n",
      "  super().__init__(**codec_config)\n",
      "/opt/conda/lib/python3.11/site-packages/numcodecs/zarr3.py:132: UserWarning: Numcodecs codecs are not in the Zarr version 3 specification and may not be supported by other zarr implementations.\n",
      "  super().__init__(**codec_config)\n",
      "/opt/conda/lib/python3.11/site-packages/numcodecs/zarr3.py:132: UserWarning: Numcodecs codecs are not in the Zarr version 3 specification and may not be supported by other zarr implementations.\n",
      "  super().__init__(**codec_config)\n",
      "/opt/conda/lib/python3.11/site-packages/numcodecs/zarr3.py:132: UserWarning: Numcodecs codecs are not in the Zarr version 3 specification and may not be supported by other zarr implementations.\n",
      "  super().__init__(**codec_config)\n",
      "2025-01-27 23:26:22,330 - distributed.worker.memory - WARNING - Unmanaged memory use is high. This may indicate a memory leak or the memory may not be released to the OS; see https://distributed.dask.org/en/latest/worker-memory.html#memory-not-released-back-to-the-os for more information. -- Unmanaged memory: 11.15 GiB -- Worker memory limit: 15.16 GiB\n"
     ]
    },
    {
     "name": "stdout",
     "output_type": "stream",
     "text": [
      "Starting distributed commit\n",
      "Distributed commit done\n",
      "CPU times: user 38.8 s, sys: 2.18 s, total: 41 s\n",
      "Wall time: 4min 28s\n"
     ]
    },
    {
     "data": {
      "text/plain": [
       "{'tcp://127.0.0.1:35289': 1,\n",
       " 'tcp://127.0.0.1:41661': 1,\n",
       " 'tcp://127.0.0.1:45397': 1,\n",
       " 'tcp://127.0.0.1:46477': 1}"
      ]
     },
     "execution_count": 107,
     "metadata": {},
     "output_type": "execute_result"
    }
   ],
   "source": [
    "%%time\n",
    "dates = [\"2022-01-13\", \"2022-01-14\"]\n",
    "dwz.update(\n",
    "    repo=repo,\n",
    "    start_date=f\"{dates[0]} 09:00\",\n",
    "    end_date=f\"{dates[1]} 09:00\",\n",
    "    fs=fs,\n",
    "    client=client\n",
    ")\n",
    "helpers.trim_dask_worker_memory(client)"
   ]
  },
  {
   "cell_type": "code",
   "execution_count": 108,
   "id": "cc04c98a-a51d-4b8c-98e1-28943ba8a046",
   "metadata": {},
   "outputs": [
    {
     "name": "stdout",
     "output_type": "stream",
     "text": [
      "Opening files\n",
      "Files opened\n",
      "Mapping write tasks to dask client\n"
     ]
    },
    {
     "name": "stderr",
     "output_type": "stream",
     "text": [
      "/opt/conda/lib/python3.11/site-packages/numcodecs/zarr3.py:132: UserWarning: Numcodecs codecs are not in the Zarr version 3 specification and may not be supported by other zarr implementations.\n",
      "  super().__init__(**codec_config)\n",
      "/opt/conda/lib/python3.11/site-packages/numcodecs/zarr3.py:132: UserWarning: Numcodecs codecs are not in the Zarr version 3 specification and may not be supported by other zarr implementations.\n",
      "  super().__init__(**codec_config)\n",
      "/opt/conda/lib/python3.11/site-packages/numcodecs/zarr3.py:132: UserWarning: Numcodecs codecs are not in the Zarr version 3 specification and may not be supported by other zarr implementations.\n",
      "  super().__init__(**codec_config)\n",
      "/opt/conda/lib/python3.11/site-packages/numcodecs/zarr3.py:132: UserWarning: Numcodecs codecs are not in the Zarr version 3 specification and may not be supported by other zarr implementations.\n",
      "  super().__init__(**codec_config)\n",
      "/opt/conda/lib/python3.11/site-packages/numcodecs/zarr3.py:132: UserWarning: Numcodecs codecs are not in the Zarr version 3 specification and may not be supported by other zarr implementations.\n",
      "  super().__init__(**codec_config)\n",
      "/opt/conda/lib/python3.11/site-packages/numcodecs/zarr3.py:132: UserWarning: Numcodecs codecs are not in the Zarr version 3 specification and may not be supported by other zarr implementations.\n",
      "  super().__init__(**codec_config)\n",
      "/opt/conda/lib/python3.11/site-packages/numcodecs/zarr3.py:132: UserWarning: Numcodecs codecs are not in the Zarr version 3 specification and may not be supported by other zarr implementations.\n",
      "  super().__init__(**codec_config)\n",
      "/opt/conda/lib/python3.11/site-packages/numcodecs/zarr3.py:132: UserWarning: Numcodecs codecs are not in the Zarr version 3 specification and may not be supported by other zarr implementations.\n",
      "  super().__init__(**codec_config)\n"
     ]
    },
    {
     "name": "stdout",
     "output_type": "stream",
     "text": [
      "Starting distributed commit\n",
      "Distributed commit done\n",
      "CPU times: user 39.2 s, sys: 2.51 s, total: 41.7 s\n",
      "Wall time: 4min 35s\n"
     ]
    },
    {
     "data": {
      "text/plain": [
       "{'tcp://127.0.0.1:35289': 1,\n",
       " 'tcp://127.0.0.1:41661': 1,\n",
       " 'tcp://127.0.0.1:45397': 1,\n",
       " 'tcp://127.0.0.1:46477': 1}"
      ]
     },
     "execution_count": 108,
     "metadata": {},
     "output_type": "execute_result"
    }
   ],
   "source": [
    "%%time\n",
    "dates = [\"2022-01-15\", \"2022-01-16\"]\n",
    "dwz.update(\n",
    "    repo=repo,\n",
    "    start_date=f\"{dates[0]} 09:00\",\n",
    "    end_date=f\"{dates[1]} 09:00\",\n",
    "    fs=fs,\n",
    "    client=client\n",
    ")\n",
    "helpers.trim_dask_worker_memory(client)"
   ]
  },
  {
   "cell_type": "code",
   "execution_count": 109,
   "id": "74d10440-f38a-4e92-9559-94dd711a11a0",
   "metadata": {},
   "outputs": [
    {
     "name": "stdout",
     "output_type": "stream",
     "text": [
      "Opening files\n",
      "Files opened\n",
      "Mapping write tasks to dask client\n"
     ]
    },
    {
     "name": "stderr",
     "output_type": "stream",
     "text": [
      "/opt/conda/lib/python3.11/site-packages/numcodecs/zarr3.py:132: UserWarning: Numcodecs codecs are not in the Zarr version 3 specification and may not be supported by other zarr implementations.\n",
      "  super().__init__(**codec_config)\n",
      "/opt/conda/lib/python3.11/site-packages/numcodecs/zarr3.py:132: UserWarning: Numcodecs codecs are not in the Zarr version 3 specification and may not be supported by other zarr implementations.\n",
      "  super().__init__(**codec_config)\n",
      "/opt/conda/lib/python3.11/site-packages/numcodecs/zarr3.py:132: UserWarning: Numcodecs codecs are not in the Zarr version 3 specification and may not be supported by other zarr implementations.\n",
      "  super().__init__(**codec_config)\n",
      "/opt/conda/lib/python3.11/site-packages/numcodecs/zarr3.py:132: UserWarning: Numcodecs codecs are not in the Zarr version 3 specification and may not be supported by other zarr implementations.\n",
      "  super().__init__(**codec_config)\n",
      "/opt/conda/lib/python3.11/site-packages/numcodecs/zarr3.py:132: UserWarning: Numcodecs codecs are not in the Zarr version 3 specification and may not be supported by other zarr implementations.\n",
      "  super().__init__(**codec_config)\n",
      "/opt/conda/lib/python3.11/site-packages/numcodecs/zarr3.py:132: UserWarning: Numcodecs codecs are not in the Zarr version 3 specification and may not be supported by other zarr implementations.\n",
      "  super().__init__(**codec_config)\n",
      "/opt/conda/lib/python3.11/site-packages/numcodecs/zarr3.py:132: UserWarning: Numcodecs codecs are not in the Zarr version 3 specification and may not be supported by other zarr implementations.\n",
      "  super().__init__(**codec_config)\n",
      "/opt/conda/lib/python3.11/site-packages/numcodecs/zarr3.py:132: UserWarning: Numcodecs codecs are not in the Zarr version 3 specification and may not be supported by other zarr implementations.\n",
      "  super().__init__(**codec_config)\n",
      "2025-01-27 23:35:16,329 - distributed.worker.memory - WARNING - Unmanaged memory use is high. This may indicate a memory leak or the memory may not be released to the OS; see https://distributed.dask.org/en/latest/worker-memory.html#memory-not-released-back-to-the-os for more information. -- Unmanaged memory: 10.63 GiB -- Worker memory limit: 15.16 GiB\n"
     ]
    },
    {
     "name": "stdout",
     "output_type": "stream",
     "text": [
      "Starting distributed commit\n",
      "Distributed commit done\n",
      "CPU times: user 37.1 s, sys: 2.26 s, total: 39.4 s\n",
      "Wall time: 4min 1s\n"
     ]
    },
    {
     "data": {
      "text/plain": [
       "{'tcp://127.0.0.1:35289': 1,\n",
       " 'tcp://127.0.0.1:41661': 1,\n",
       " 'tcp://127.0.0.1:45397': 1,\n",
       " 'tcp://127.0.0.1:46477': 1}"
      ]
     },
     "execution_count": 109,
     "metadata": {},
     "output_type": "execute_result"
    }
   ],
   "source": [
    "%%time\n",
    "dates = [\"2022-01-17\", \"2022-01-18\"]\n",
    "dwz.update(\n",
    "    repo=repo,\n",
    "    start_date=f\"{dates[0]} 09:00\",\n",
    "    end_date=f\"{dates[1]} 09:00\",\n",
    "    fs=fs,\n",
    "    client=client\n",
    ")\n",
    "helpers.trim_dask_worker_memory(client)"
   ]
  },
  {
   "cell_type": "code",
   "execution_count": 110,
   "id": "64b80fc2-7747-40ac-a6de-3bb315ff8461",
   "metadata": {},
   "outputs": [
    {
     "name": "stdout",
     "output_type": "stream",
     "text": [
      "Opening files\n",
      "Files opened\n",
      "Mapping write tasks to dask client\n"
     ]
    },
    {
     "name": "stderr",
     "output_type": "stream",
     "text": [
      "/opt/conda/lib/python3.11/site-packages/numcodecs/zarr3.py:132: UserWarning: Numcodecs codecs are not in the Zarr version 3 specification and may not be supported by other zarr implementations.\n",
      "  super().__init__(**codec_config)\n",
      "/opt/conda/lib/python3.11/site-packages/numcodecs/zarr3.py:132: UserWarning: Numcodecs codecs are not in the Zarr version 3 specification and may not be supported by other zarr implementations.\n",
      "  super().__init__(**codec_config)\n",
      "/opt/conda/lib/python3.11/site-packages/numcodecs/zarr3.py:132: UserWarning: Numcodecs codecs are not in the Zarr version 3 specification and may not be supported by other zarr implementations.\n",
      "  super().__init__(**codec_config)\n",
      "/opt/conda/lib/python3.11/site-packages/numcodecs/zarr3.py:132: UserWarning: Numcodecs codecs are not in the Zarr version 3 specification and may not be supported by other zarr implementations.\n",
      "  super().__init__(**codec_config)\n",
      "/opt/conda/lib/python3.11/site-packages/numcodecs/zarr3.py:132: UserWarning: Numcodecs codecs are not in the Zarr version 3 specification and may not be supported by other zarr implementations.\n",
      "  super().__init__(**codec_config)\n",
      "/opt/conda/lib/python3.11/site-packages/numcodecs/zarr3.py:132: UserWarning: Numcodecs codecs are not in the Zarr version 3 specification and may not be supported by other zarr implementations.\n",
      "  super().__init__(**codec_config)\n",
      "/opt/conda/lib/python3.11/site-packages/numcodecs/zarr3.py:132: UserWarning: Numcodecs codecs are not in the Zarr version 3 specification and may not be supported by other zarr implementations.\n",
      "  super().__init__(**codec_config)\n",
      "/opt/conda/lib/python3.11/site-packages/numcodecs/zarr3.py:132: UserWarning: Numcodecs codecs are not in the Zarr version 3 specification and may not be supported by other zarr implementations.\n",
      "  super().__init__(**codec_config)\n"
     ]
    },
    {
     "name": "stdout",
     "output_type": "stream",
     "text": [
      "Starting distributed commit\n",
      "Distributed commit done\n",
      "CPU times: user 37.3 s, sys: 1.92 s, total: 39.2 s\n",
      "Wall time: 3min 56s\n"
     ]
    },
    {
     "data": {
      "text/plain": [
       "{'tcp://127.0.0.1:35289': 1,\n",
       " 'tcp://127.0.0.1:41661': 1,\n",
       " 'tcp://127.0.0.1:45397': 1,\n",
       " 'tcp://127.0.0.1:46477': 1}"
      ]
     },
     "execution_count": 110,
     "metadata": {},
     "output_type": "execute_result"
    }
   ],
   "source": [
    "%%time\n",
    "dates = [\"2022-01-19\", \"2022-01-20\"]\n",
    "dwz.update(\n",
    "    repo=repo,\n",
    "    start_date=f\"{dates[0]} 09:00\",\n",
    "    end_date=f\"{dates[1]} 09:00\",\n",
    "    fs=fs,\n",
    "    client=client\n",
    ")\n",
    "helpers.trim_dask_worker_memory(client)"
   ]
  },
  {
   "cell_type": "code",
   "execution_count": 111,
   "id": "01440d5a-38f9-45d9-b206-a0cf38ac86b3",
   "metadata": {},
   "outputs": [
    {
     "name": "stdout",
     "output_type": "stream",
     "text": [
      "Opening files\n",
      "Files opened\n",
      "Mapping write tasks to dask client\n"
     ]
    },
    {
     "name": "stderr",
     "output_type": "stream",
     "text": [
      "/opt/conda/lib/python3.11/site-packages/numcodecs/zarr3.py:132: UserWarning: Numcodecs codecs are not in the Zarr version 3 specification and may not be supported by other zarr implementations.\n",
      "  super().__init__(**codec_config)\n",
      "/opt/conda/lib/python3.11/site-packages/numcodecs/zarr3.py:132: UserWarning: Numcodecs codecs are not in the Zarr version 3 specification and may not be supported by other zarr implementations.\n",
      "  super().__init__(**codec_config)\n",
      "/opt/conda/lib/python3.11/site-packages/numcodecs/zarr3.py:132: UserWarning: Numcodecs codecs are not in the Zarr version 3 specification and may not be supported by other zarr implementations.\n",
      "  super().__init__(**codec_config)\n",
      "/opt/conda/lib/python3.11/site-packages/numcodecs/zarr3.py:132: UserWarning: Numcodecs codecs are not in the Zarr version 3 specification and may not be supported by other zarr implementations.\n",
      "  super().__init__(**codec_config)\n",
      "/opt/conda/lib/python3.11/site-packages/numcodecs/zarr3.py:132: UserWarning: Numcodecs codecs are not in the Zarr version 3 specification and may not be supported by other zarr implementations.\n",
      "  super().__init__(**codec_config)\n",
      "/opt/conda/lib/python3.11/site-packages/numcodecs/zarr3.py:132: UserWarning: Numcodecs codecs are not in the Zarr version 3 specification and may not be supported by other zarr implementations.\n",
      "  super().__init__(**codec_config)\n",
      "/opt/conda/lib/python3.11/site-packages/numcodecs/zarr3.py:132: UserWarning: Numcodecs codecs are not in the Zarr version 3 specification and may not be supported by other zarr implementations.\n",
      "  super().__init__(**codec_config)\n",
      "/opt/conda/lib/python3.11/site-packages/numcodecs/zarr3.py:132: UserWarning: Numcodecs codecs are not in the Zarr version 3 specification and may not be supported by other zarr implementations.\n",
      "  super().__init__(**codec_config)\n"
     ]
    },
    {
     "name": "stdout",
     "output_type": "stream",
     "text": [
      "Starting distributed commit\n",
      "Distributed commit done\n",
      "CPU times: user 38.1 s, sys: 1.87 s, total: 40 s\n",
      "Wall time: 3min 59s\n"
     ]
    },
    {
     "data": {
      "text/plain": [
       "{'tcp://127.0.0.1:35289': 1,\n",
       " 'tcp://127.0.0.1:41661': 1,\n",
       " 'tcp://127.0.0.1:45397': 1,\n",
       " 'tcp://127.0.0.1:46477': 1}"
      ]
     },
     "execution_count": 111,
     "metadata": {},
     "output_type": "execute_result"
    }
   ],
   "source": [
    "%%time\n",
    "dates = [\"2022-01-21\", \"2022-01-22\"]\n",
    "dwz.update(\n",
    "    repo=repo,\n",
    "    start_date=f\"{dates[0]} 09:00\",\n",
    "    end_date=f\"{dates[1]} 09:00\",\n",
    "    fs=fs,\n",
    "    client=client\n",
    ")\n",
    "helpers.trim_dask_worker_memory(client)"
   ]
  },
  {
   "cell_type": "code",
   "execution_count": 112,
   "id": "402e0d50-c702-4443-80a9-211eaaf22883",
   "metadata": {},
   "outputs": [
    {
     "name": "stdout",
     "output_type": "stream",
     "text": [
      "Opening files\n",
      "Files opened\n",
      "Mapping write tasks to dask client\n"
     ]
    },
    {
     "name": "stderr",
     "output_type": "stream",
     "text": [
      "/opt/conda/lib/python3.11/site-packages/numcodecs/zarr3.py:132: UserWarning: Numcodecs codecs are not in the Zarr version 3 specification and may not be supported by other zarr implementations.\n",
      "  super().__init__(**codec_config)\n",
      "/opt/conda/lib/python3.11/site-packages/numcodecs/zarr3.py:132: UserWarning: Numcodecs codecs are not in the Zarr version 3 specification and may not be supported by other zarr implementations.\n",
      "  super().__init__(**codec_config)\n",
      "/opt/conda/lib/python3.11/site-packages/numcodecs/zarr3.py:132: UserWarning: Numcodecs codecs are not in the Zarr version 3 specification and may not be supported by other zarr implementations.\n",
      "  super().__init__(**codec_config)\n",
      "/opt/conda/lib/python3.11/site-packages/numcodecs/zarr3.py:132: UserWarning: Numcodecs codecs are not in the Zarr version 3 specification and may not be supported by other zarr implementations.\n",
      "  super().__init__(**codec_config)\n",
      "/opt/conda/lib/python3.11/site-packages/numcodecs/zarr3.py:132: UserWarning: Numcodecs codecs are not in the Zarr version 3 specification and may not be supported by other zarr implementations.\n",
      "  super().__init__(**codec_config)\n",
      "/opt/conda/lib/python3.11/site-packages/numcodecs/zarr3.py:132: UserWarning: Numcodecs codecs are not in the Zarr version 3 specification and may not be supported by other zarr implementations.\n",
      "  super().__init__(**codec_config)\n",
      "/opt/conda/lib/python3.11/site-packages/numcodecs/zarr3.py:132: UserWarning: Numcodecs codecs are not in the Zarr version 3 specification and may not be supported by other zarr implementations.\n",
      "  super().__init__(**codec_config)\n",
      "/opt/conda/lib/python3.11/site-packages/numcodecs/zarr3.py:132: UserWarning: Numcodecs codecs are not in the Zarr version 3 specification and may not be supported by other zarr implementations.\n",
      "  super().__init__(**codec_config)\n"
     ]
    },
    {
     "name": "stdout",
     "output_type": "stream",
     "text": [
      "Starting distributed commit\n",
      "Distributed commit done\n",
      "CPU times: user 37.2 s, sys: 1.4 s, total: 38.6 s\n",
      "Wall time: 3min 57s\n"
     ]
    },
    {
     "data": {
      "text/plain": [
       "{'tcp://127.0.0.1:35289': 1,\n",
       " 'tcp://127.0.0.1:41661': 1,\n",
       " 'tcp://127.0.0.1:45397': 1,\n",
       " 'tcp://127.0.0.1:46477': 1}"
      ]
     },
     "execution_count": 112,
     "metadata": {},
     "output_type": "execute_result"
    }
   ],
   "source": [
    "%%time\n",
    "dates = [\"2022-01-23\", \"2022-01-24\"]\n",
    "dwz.update(\n",
    "    repo=repo,\n",
    "    start_date=f\"{dates[0]} 09:00\",\n",
    "    end_date=f\"{dates[1]} 09:00\",\n",
    "    fs=fs,\n",
    "    client=client\n",
    ")\n",
    "helpers.trim_dask_worker_memory(client)"
   ]
  },
  {
   "cell_type": "code",
   "execution_count": 113,
   "id": "889f8a17-7732-47a1-8070-35e8fc3d8d09",
   "metadata": {},
   "outputs": [
    {
     "name": "stdout",
     "output_type": "stream",
     "text": [
      "Opening files\n",
      "Files opened\n",
      "Mapping write tasks to dask client\n"
     ]
    },
    {
     "name": "stderr",
     "output_type": "stream",
     "text": [
      "/opt/conda/lib/python3.11/site-packages/numcodecs/zarr3.py:132: UserWarning: Numcodecs codecs are not in the Zarr version 3 specification and may not be supported by other zarr implementations.\n",
      "  super().__init__(**codec_config)\n",
      "/opt/conda/lib/python3.11/site-packages/numcodecs/zarr3.py:132: UserWarning: Numcodecs codecs are not in the Zarr version 3 specification and may not be supported by other zarr implementations.\n",
      "  super().__init__(**codec_config)\n",
      "/opt/conda/lib/python3.11/site-packages/numcodecs/zarr3.py:132: UserWarning: Numcodecs codecs are not in the Zarr version 3 specification and may not be supported by other zarr implementations.\n",
      "  super().__init__(**codec_config)\n",
      "/opt/conda/lib/python3.11/site-packages/numcodecs/zarr3.py:132: UserWarning: Numcodecs codecs are not in the Zarr version 3 specification and may not be supported by other zarr implementations.\n",
      "  super().__init__(**codec_config)\n",
      "/opt/conda/lib/python3.11/site-packages/numcodecs/zarr3.py:132: UserWarning: Numcodecs codecs are not in the Zarr version 3 specification and may not be supported by other zarr implementations.\n",
      "  super().__init__(**codec_config)\n",
      "/opt/conda/lib/python3.11/site-packages/numcodecs/zarr3.py:132: UserWarning: Numcodecs codecs are not in the Zarr version 3 specification and may not be supported by other zarr implementations.\n",
      "  super().__init__(**codec_config)\n",
      "/opt/conda/lib/python3.11/site-packages/numcodecs/zarr3.py:132: UserWarning: Numcodecs codecs are not in the Zarr version 3 specification and may not be supported by other zarr implementations.\n",
      "  super().__init__(**codec_config)\n",
      "/opt/conda/lib/python3.11/site-packages/numcodecs/zarr3.py:132: UserWarning: Numcodecs codecs are not in the Zarr version 3 specification and may not be supported by other zarr implementations.\n",
      "  super().__init__(**codec_config)\n",
      "2025-01-27 23:50:08,813 - distributed.worker.memory - WARNING - Unmanaged memory use is high. This may indicate a memory leak or the memory may not be released to the OS; see https://distributed.dask.org/en/latest/worker-memory.html#memory-not-released-back-to-the-os for more information. -- Unmanaged memory: 10.74 GiB -- Worker memory limit: 15.16 GiB\n",
      "2025-01-27 23:50:59,926 - distributed.worker.memory - WARNING - Worker is at 80% memory usage. Pausing worker.  Process memory: 12.14 GiB -- Worker memory limit: 15.16 GiB\n",
      "2025-01-27 23:51:13,628 - distributed.worker.memory - WARNING - Worker is at 73% memory usage. Resuming worker. Process memory: 11.11 GiB -- Worker memory limit: 15.16 GiB\n"
     ]
    },
    {
     "name": "stdout",
     "output_type": "stream",
     "text": [
      "Starting distributed commit\n",
      "Distributed commit done\n",
      "CPU times: user 37.3 s, sys: 1.46 s, total: 38.8 s\n",
      "Wall time: 3min 49s\n"
     ]
    },
    {
     "data": {
      "text/plain": [
       "{'tcp://127.0.0.1:35289': 1,\n",
       " 'tcp://127.0.0.1:41661': 1,\n",
       " 'tcp://127.0.0.1:45397': 1,\n",
       " 'tcp://127.0.0.1:46477': 1}"
      ]
     },
     "execution_count": 113,
     "metadata": {},
     "output_type": "execute_result"
    }
   ],
   "source": [
    "%%time\n",
    "dates = [\"2022-01-25\", \"2022-01-26\"]\n",
    "dwz.update(\n",
    "    repo=repo,\n",
    "    start_date=f\"{dates[0]} 09:00\",\n",
    "    end_date=f\"{dates[1]} 09:00\",\n",
    "    fs=fs,\n",
    "    client=client\n",
    ")\n",
    "helpers.trim_dask_worker_memory(client)"
   ]
  },
  {
   "cell_type": "code",
   "execution_count": null,
   "id": "85488ff2-4bfc-4eab-a1bb-da96675ea9ac",
   "metadata": {},
   "outputs": [],
   "source": [
    "# %%time\n",
    "# session = repo.readonly_session(branch=\"main\")\n",
    "# store = session.store\n",
    "# helpers.validate_data(store, dates=[\"2022-01-01\", \"2022-01-26\"], fs=fs)"
   ]
  },
  {
   "cell_type": "markdown",
   "id": "a6c5a318-84f6-4283-b08b-3378f1089804",
   "metadata": {},
   "source": [
    "## 18d. Continue with 2022 until 2022-11-08"
   ]
  },
  {
   "cell_type": "code",
   "execution_count": 114,
   "id": "c0a48533-73ca-454d-8d31-3cc01d4a488d",
   "metadata": {},
   "outputs": [
    {
     "name": "stdout",
     "output_type": "stream",
     "text": [
      "CPU times: user 2.07 ms, sys: 0 ns, total: 2.07 ms\n",
      "Wall time: 2.06 ms\n"
     ]
    }
   ],
   "source": [
    "%%time\n",
    "dates = ['2022-01-27', '2022-11-08']\n",
    "mur_sst_files_2022 = helpers.list_mur_sst_files(start_date=dates[0], end_date=dates[1])\n",
    "mur_sst_files_2022_dmrpps = [f + '.dmrpp' for f in mur_sst_files_2022]"
   ]
  },
  {
   "cell_type": "code",
   "execution_count": 117,
   "id": "4fc19395-623d-425c-a7ce-f0783907f737",
   "metadata": {},
   "outputs": [
    {
     "name": "stdout",
     "output_type": "stream",
     "text": [
      "CPU times: user 30 s, sys: 2.1 s, total: 32.1 s\n",
      "Wall time: 43.8 s\n"
     ]
    },
    {
     "data": {
      "text/plain": [
       "'49R1F52S4BA8TK0YAF20'"
      ]
     },
     "execution_count": 117,
     "metadata": {},
     "output_type": "execute_result"
    }
   ],
   "source": [
    "%%time\n",
    "virtual_ds_2022 = helpers.create_virtual_ds(dmrpps=mur_sst_files_2022_dmrpps)\n",
    "session = repo.writable_session(\"main\")\n",
    "store = session.store\n",
    "virtual_ds_2022.virtualize.to_icechunk(store, append_dim='time')\n",
    "session.commit(f\"Wrote {dates[0]} to {dates[1]} to store.\")"
   ]
  },
  {
   "cell_type": "code",
   "execution_count": null,
   "id": "04d0655e-4c68-4b54-8751-4e51b181d41a",
   "metadata": {},
   "outputs": [],
   "source": [
    "# %%time\n",
    "# session = repo.readonly_session(branch=\"main\")\n",
    "# store = session.store\n",
    "# helpers.validate_data(store, dates=dates, fs=fs)"
   ]
  },
  {
   "cell_type": "markdown",
   "id": "73ed6a15-87a1-4af4-a826-4615e19270a4",
   "metadata": {},
   "source": [
    "## 18e. Add 11-09-2022 as zarr"
   ]
  },
  {
   "cell_type": "code",
   "execution_count": 118,
   "id": "f6d9f2ff-9769-43c5-b7a7-da925bedab4a",
   "metadata": {},
   "outputs": [
    {
     "name": "stdout",
     "output_type": "stream",
     "text": [
      "Opening files\n",
      "Files opened\n",
      "Mapping write tasks to dask client\n"
     ]
    },
    {
     "name": "stderr",
     "output_type": "stream",
     "text": [
      "/opt/conda/lib/python3.11/site-packages/numcodecs/zarr3.py:132: UserWarning: Numcodecs codecs are not in the Zarr version 3 specification and may not be supported by other zarr implementations.\n",
      "  super().__init__(**codec_config)\n",
      "/opt/conda/lib/python3.11/site-packages/numcodecs/zarr3.py:132: UserWarning: Numcodecs codecs are not in the Zarr version 3 specification and may not be supported by other zarr implementations.\n",
      "  super().__init__(**codec_config)\n",
      "/opt/conda/lib/python3.11/site-packages/numcodecs/zarr3.py:132: UserWarning: Numcodecs codecs are not in the Zarr version 3 specification and may not be supported by other zarr implementations.\n",
      "  super().__init__(**codec_config)\n",
      "/opt/conda/lib/python3.11/site-packages/numcodecs/zarr3.py:132: UserWarning: Numcodecs codecs are not in the Zarr version 3 specification and may not be supported by other zarr implementations.\n",
      "  super().__init__(**codec_config)\n"
     ]
    },
    {
     "name": "stdout",
     "output_type": "stream",
     "text": [
      "Starting distributed commit\n",
      "Distributed commit done\n",
      "CPU times: user 33.5 s, sys: 2.13 s, total: 35.7 s\n",
      "Wall time: 2min 28s\n"
     ]
    }
   ],
   "source": [
    "%%time\n",
    "dates = [\"2022-11-09\", \"2022-11-09\"]\n",
    "dwz.update(\n",
    "    repo=repo,\n",
    "    start_date=f\"{dates[0]} 09:00\",\n",
    "    end_date=f\"{dates[1]} 09:00\",\n",
    "    fs=fs,\n",
    "    client=client\n",
    ")"
   ]
  },
  {
   "cell_type": "code",
   "execution_count": 119,
   "id": "dd660cb2-bc75-4d45-bce8-0730e6837186",
   "metadata": {},
   "outputs": [],
   "source": [
    "# %%time\n",
    "# session = repo.readonly_session(branch=\"main\")\n",
    "# store = session.store\n",
    "# helpers.validate_data(store, dates=dates, fs=fs)"
   ]
  },
  {
   "cell_type": "markdown",
   "id": "ae116a5d-90a0-4b4e-a64e-817e6eeb61c7",
   "metadata": {},
   "source": [
    "## 18e. Finish 2022 as virtual refs"
   ]
  },
  {
   "cell_type": "code",
   "execution_count": 120,
   "id": "82458452-8f35-4df4-bf98-fc7e1b73da35",
   "metadata": {},
   "outputs": [
    {
     "name": "stdout",
     "output_type": "stream",
     "text": [
      "CPU times: user 588 μs, sys: 32 μs, total: 620 μs\n",
      "Wall time: 614 μs\n"
     ]
    }
   ],
   "source": [
    "%%time\n",
    "dates = ['2022-11-10', '2022-12-31']\n",
    "mur_sst_files_2022_2 = helpers.list_mur_sst_files(start_date=dates[0], end_date=dates[1])\n",
    "mur_sst_files_2022_2_dmrpps = [f + '.dmrpp' for f in mur_sst_files_2022_2]"
   ]
  },
  {
   "cell_type": "code",
   "execution_count": 121,
   "id": "26634ac7-617d-4b3e-b65d-368d0537d5d5",
   "metadata": {},
   "outputs": [
    {
     "data": {
      "text/plain": [
       "52"
      ]
     },
     "execution_count": 121,
     "metadata": {},
     "output_type": "execute_result"
    }
   ],
   "source": [
    "len(mur_sst_files_2022_2_dmrpps)"
   ]
  },
  {
   "cell_type": "code",
   "execution_count": 122,
   "id": "56e91b54-1eb5-4de5-a53a-3df94d989eaa",
   "metadata": {},
   "outputs": [
    {
     "name": "stdout",
     "output_type": "stream",
     "text": [
      "CPU times: user 23.3 s, sys: 680 ms, total: 24 s\n",
      "Wall time: 27.2 s\n"
     ]
    },
    {
     "data": {
      "text/plain": [
       "'0EK5PYGJDMF2148JN4G0'"
      ]
     },
     "execution_count": 122,
     "metadata": {},
     "output_type": "execute_result"
    }
   ],
   "source": [
    "%%time\n",
    "virtual_ds_2022_2 = helpers.create_virtual_ds(dmrpps=mur_sst_files_2022_2_dmrpps)\n",
    "session = repo.writable_session(\"main\")\n",
    "store = session.store\n",
    "virtual_ds_2022_2.virtualize.to_icechunk(store, append_dim='time')\n",
    "session.commit(f\"Wrote {dates[0]} to {dates[1]} to store.\")"
   ]
  },
  {
   "cell_type": "code",
   "execution_count": null,
   "id": "0a3ae33b-fc24-42d3-88eb-ae81576178b0",
   "metadata": {},
   "outputs": [],
   "source": [
    "# %%time\n",
    "# session = repo.readonly_session(branch=\"main\")\n",
    "# store = session.store\n",
    "# helpers.validate_data(store, dates=dates, fs=fs)"
   ]
  },
  {
   "cell_type": "code",
   "execution_count": 123,
   "id": "72063ad2-3f35-4231-bff5-283f7022fc1b",
   "metadata": {},
   "outputs": [
    {
     "data": {
      "text/plain": [
       "{'tcp://127.0.0.1:35289': 1,\n",
       " 'tcp://127.0.0.1:41661': 1,\n",
       " 'tcp://127.0.0.1:45397': 1,\n",
       " 'tcp://127.0.0.1:46477': 1}"
      ]
     },
     "execution_count": 123,
     "metadata": {},
     "output_type": "execute_result"
    }
   ],
   "source": [
    "helpers.trim_dask_worker_memory(client)"
   ]
  },
  {
   "cell_type": "markdown",
   "id": "317e0721-9a8e-4e81-ae59-52622c8ac395",
   "metadata": {},
   "source": [
    "# 19. 2023\n",
    "\n",
    "**Chunking report:**\n",
    "\n",
    "We will similarly break up 2023 into some virtual chunks and some zarr chunks. This is because of chunking changes. See https://forum.earthdata.nasa.gov/viewtopic.php?t=5909.\n",
    "\n",
    "Since the different chunk shape seems to be the default one after 09-04-2023, we will create this store until then and then start a new store. So there will be one store from 06-01-2002 to 09-03-2023 and another starting on 09-04-2023 that will go to the present day."
   ]
  },
  {
   "cell_type": "markdown",
   "id": "78123adb-28c3-4bb3-82e2-f326ca1ae00f",
   "metadata": {},
   "source": [
    "## 19a. First set of virtual data (2023-01-01 to 2023-02-23)"
   ]
  },
  {
   "cell_type": "code",
   "execution_count": 124,
   "id": "e1877f98-6225-44e6-829b-f68206b64eee",
   "metadata": {},
   "outputs": [
    {
     "name": "stdout",
     "output_type": "stream",
     "text": [
      "CPU times: user 609 μs, sys: 33 μs, total: 642 μs\n",
      "Wall time: 633 μs\n"
     ]
    }
   ],
   "source": [
    "%%time\n",
    "dates = ['2023-01-01', '2023-02-23']\n",
    "mur_sst_files_2023_1 = helpers.list_mur_sst_files(start_date=dates[0], end_date=dates[1])\n",
    "mur_sst_files_2023_1_dmrpps = [f + '.dmrpp' for f in mur_sst_files_2023_1]\n"
   ]
  },
  {
   "cell_type": "code",
   "execution_count": 125,
   "id": "80a7541c-3429-40d9-b817-c5800018d93e",
   "metadata": {},
   "outputs": [
    {
     "data": {
      "text/plain": [
       "54"
      ]
     },
     "execution_count": 125,
     "metadata": {},
     "output_type": "execute_result"
    }
   ],
   "source": [
    "len(mur_sst_files_2023_1_dmrpps)"
   ]
  },
  {
   "cell_type": "code",
   "execution_count": 126,
   "id": "13c9f0cc-27b2-4699-84b1-638882cdd85e",
   "metadata": {},
   "outputs": [],
   "source": [
    "virtual_ds_2023_1 = helpers.create_virtual_ds(dmrpps=mur_sst_files_2023_1_dmrpps)"
   ]
  },
  {
   "cell_type": "code",
   "execution_count": 127,
   "id": "1de15241-a15e-49c1-ae4c-ac65aaaaf2af",
   "metadata": {},
   "outputs": [
    {
     "data": {
      "text/plain": [
       "'PMPF1X2NHQB1NC3X5DW0'"
      ]
     },
     "execution_count": 127,
     "metadata": {},
     "output_type": "execute_result"
    }
   ],
   "source": [
    "session = repo.writable_session(\"main\")\n",
    "store = session.store\n",
    "virtual_ds_2023_1.virtualize.to_icechunk(store, append_dim='time')\n",
    "session.commit(f\"Wrote {dates[0]} to {dates[1]} to store.\")"
   ]
  },
  {
   "cell_type": "code",
   "execution_count": null,
   "id": "9a9ed7ee-6b4f-4347-9c80-5227ccfe131e",
   "metadata": {},
   "outputs": [],
   "source": [
    "# %%time\n",
    "# session = repo.readonly_session(branch=\"main\")\n",
    "# store = session.store\n",
    "# helpers.validate_data(store, dates=dates, fs=fs)"
   ]
  },
  {
   "cell_type": "markdown",
   "id": "a801fbe3-a107-48a5-b8e1-4eeb40305192",
   "metadata": {},
   "source": [
    "## 19b. Append 2023-02-24 to 2023-02-28 as zarr"
   ]
  },
  {
   "cell_type": "code",
   "execution_count": 128,
   "id": "337a3a39-bd7c-40ab-9d91-6bad4d68dc11",
   "metadata": {},
   "outputs": [
    {
     "name": "stdout",
     "output_type": "stream",
     "text": [
      "Opening files\n",
      "Files opened\n",
      "Mapping write tasks to dask client\n"
     ]
    },
    {
     "name": "stderr",
     "output_type": "stream",
     "text": [
      "/opt/conda/lib/python3.11/site-packages/numcodecs/zarr3.py:132: UserWarning: Numcodecs codecs are not in the Zarr version 3 specification and may not be supported by other zarr implementations.\n",
      "  super().__init__(**codec_config)\n",
      "/opt/conda/lib/python3.11/site-packages/numcodecs/zarr3.py:132: UserWarning: Numcodecs codecs are not in the Zarr version 3 specification and may not be supported by other zarr implementations.\n",
      "  super().__init__(**codec_config)\n",
      "/opt/conda/lib/python3.11/site-packages/numcodecs/zarr3.py:132: UserWarning: Numcodecs codecs are not in the Zarr version 3 specification and may not be supported by other zarr implementations.\n",
      "  super().__init__(**codec_config)\n",
      "/opt/conda/lib/python3.11/site-packages/numcodecs/zarr3.py:132: UserWarning: Numcodecs codecs are not in the Zarr version 3 specification and may not be supported by other zarr implementations.\n",
      "  super().__init__(**codec_config)\n",
      "/opt/conda/lib/python3.11/site-packages/numcodecs/zarr3.py:132: UserWarning: Numcodecs codecs are not in the Zarr version 3 specification and may not be supported by other zarr implementations.\n",
      "  super().__init__(**codec_config)\n",
      "/opt/conda/lib/python3.11/site-packages/numcodecs/zarr3.py:132: UserWarning: Numcodecs codecs are not in the Zarr version 3 specification and may not be supported by other zarr implementations.\n",
      "  super().__init__(**codec_config)\n",
      "/opt/conda/lib/python3.11/site-packages/numcodecs/zarr3.py:132: UserWarning: Numcodecs codecs are not in the Zarr version 3 specification and may not be supported by other zarr implementations.\n",
      "  super().__init__(**codec_config)\n",
      "/opt/conda/lib/python3.11/site-packages/numcodecs/zarr3.py:132: UserWarning: Numcodecs codecs are not in the Zarr version 3 specification and may not be supported by other zarr implementations.\n",
      "  super().__init__(**codec_config)\n"
     ]
    },
    {
     "name": "stdout",
     "output_type": "stream",
     "text": [
      "Starting distributed commit\n",
      "Distributed commit done\n",
      "CPU times: user 31.4 s, sys: 1.14 s, total: 32.6 s\n",
      "Wall time: 1min 34s\n"
     ]
    },
    {
     "data": {
      "text/plain": [
       "{'tcp://127.0.0.1:35289': 1,\n",
       " 'tcp://127.0.0.1:41661': 1,\n",
       " 'tcp://127.0.0.1:45397': 1,\n",
       " 'tcp://127.0.0.1:46477': 1}"
      ]
     },
     "execution_count": 128,
     "metadata": {},
     "output_type": "execute_result"
    }
   ],
   "source": [
    "%%time\n",
    "dates = [\"2023-02-24\", \"2023-02-25\"]\n",
    "dwz.update(\n",
    "    repo=repo,\n",
    "    start_date=f\"{dates[0]} 09:00\",\n",
    "    end_date=f\"{dates[1]} 09:00\",\n",
    "    fs=fs,\n",
    "    client=client\n",
    ")\n",
    "helpers.trim_dask_worker_memory(client)"
   ]
  },
  {
   "cell_type": "code",
   "execution_count": 129,
   "id": "9552be12-0eb5-4c6e-b08f-17b565b27962",
   "metadata": {},
   "outputs": [
    {
     "name": "stdout",
     "output_type": "stream",
     "text": [
      "Opening files\n",
      "Files opened\n",
      "Mapping write tasks to dask client\n"
     ]
    },
    {
     "name": "stderr",
     "output_type": "stream",
     "text": [
      "/opt/conda/lib/python3.11/site-packages/numcodecs/zarr3.py:132: UserWarning: Numcodecs codecs are not in the Zarr version 3 specification and may not be supported by other zarr implementations.\n",
      "  super().__init__(**codec_config)\n",
      "/opt/conda/lib/python3.11/site-packages/numcodecs/zarr3.py:132: UserWarning: Numcodecs codecs are not in the Zarr version 3 specification and may not be supported by other zarr implementations.\n",
      "  super().__init__(**codec_config)\n",
      "/opt/conda/lib/python3.11/site-packages/numcodecs/zarr3.py:132: UserWarning: Numcodecs codecs are not in the Zarr version 3 specification and may not be supported by other zarr implementations.\n",
      "  super().__init__(**codec_config)\n",
      "/opt/conda/lib/python3.11/site-packages/numcodecs/zarr3.py:132: UserWarning: Numcodecs codecs are not in the Zarr version 3 specification and may not be supported by other zarr implementations.\n",
      "  super().__init__(**codec_config)\n",
      "/opt/conda/lib/python3.11/site-packages/numcodecs/zarr3.py:132: UserWarning: Numcodecs codecs are not in the Zarr version 3 specification and may not be supported by other zarr implementations.\n",
      "  super().__init__(**codec_config)\n",
      "/opt/conda/lib/python3.11/site-packages/numcodecs/zarr3.py:132: UserWarning: Numcodecs codecs are not in the Zarr version 3 specification and may not be supported by other zarr implementations.\n",
      "  super().__init__(**codec_config)\n",
      "/opt/conda/lib/python3.11/site-packages/numcodecs/zarr3.py:132: UserWarning: Numcodecs codecs are not in the Zarr version 3 specification and may not be supported by other zarr implementations.\n",
      "  super().__init__(**codec_config)\n",
      "/opt/conda/lib/python3.11/site-packages/numcodecs/zarr3.py:132: UserWarning: Numcodecs codecs are not in the Zarr version 3 specification and may not be supported by other zarr implementations.\n",
      "  super().__init__(**codec_config)\n"
     ]
    },
    {
     "name": "stdout",
     "output_type": "stream",
     "text": [
      "Starting distributed commit\n",
      "Distributed commit done\n",
      "CPU times: user 32.6 s, sys: 1.14 s, total: 33.7 s\n",
      "Wall time: 1min 49s\n"
     ]
    },
    {
     "data": {
      "text/plain": [
       "{'tcp://127.0.0.1:35289': 1,\n",
       " 'tcp://127.0.0.1:41661': 1,\n",
       " 'tcp://127.0.0.1:45397': 1,\n",
       " 'tcp://127.0.0.1:46477': 1}"
      ]
     },
     "execution_count": 129,
     "metadata": {},
     "output_type": "execute_result"
    }
   ],
   "source": [
    "%%time\n",
    "dates = [\"2023-02-26\", \"2023-02-27\"]\n",
    "dwz.update(\n",
    "    repo=repo,\n",
    "    start_date=f\"{dates[0]} 09:00\",\n",
    "    end_date=f\"{dates[1]} 09:00\",\n",
    "    fs=fs,\n",
    "    client=client\n",
    ")\n",
    "helpers.trim_dask_worker_memory(client)"
   ]
  },
  {
   "cell_type": "code",
   "execution_count": 130,
   "id": "023433b7-3145-4227-b030-ce22a246159c",
   "metadata": {},
   "outputs": [
    {
     "name": "stdout",
     "output_type": "stream",
     "text": [
      "Opening files\n",
      "Files opened\n",
      "Mapping write tasks to dask client\n"
     ]
    },
    {
     "name": "stderr",
     "output_type": "stream",
     "text": [
      "/opt/conda/lib/python3.11/site-packages/numcodecs/zarr3.py:132: UserWarning: Numcodecs codecs are not in the Zarr version 3 specification and may not be supported by other zarr implementations.\n",
      "  super().__init__(**codec_config)\n",
      "/opt/conda/lib/python3.11/site-packages/numcodecs/zarr3.py:132: UserWarning: Numcodecs codecs are not in the Zarr version 3 specification and may not be supported by other zarr implementations.\n",
      "  super().__init__(**codec_config)\n",
      "/opt/conda/lib/python3.11/site-packages/numcodecs/zarr3.py:132: UserWarning: Numcodecs codecs are not in the Zarr version 3 specification and may not be supported by other zarr implementations.\n",
      "  super().__init__(**codec_config)\n",
      "/opt/conda/lib/python3.11/site-packages/numcodecs/zarr3.py:132: UserWarning: Numcodecs codecs are not in the Zarr version 3 specification and may not be supported by other zarr implementations.\n",
      "  super().__init__(**codec_config)\n"
     ]
    },
    {
     "name": "stdout",
     "output_type": "stream",
     "text": [
      "Starting distributed commit\n",
      "Distributed commit done\n",
      "CPU times: user 28.2 s, sys: 1 s, total: 29.2 s\n",
      "Wall time: 1min 25s\n"
     ]
    },
    {
     "data": {
      "text/plain": [
       "{'tcp://127.0.0.1:35289': 1,\n",
       " 'tcp://127.0.0.1:41661': 1,\n",
       " 'tcp://127.0.0.1:45397': 1,\n",
       " 'tcp://127.0.0.1:46477': 1}"
      ]
     },
     "execution_count": 130,
     "metadata": {},
     "output_type": "execute_result"
    }
   ],
   "source": [
    "%%time\n",
    "dates = [\"2023-02-28\", \"2023-02-28\"]\n",
    "dwz.update(\n",
    "    repo=repo,\n",
    "    start_date=f\"{dates[0]} 09:00\",\n",
    "    end_date=f\"{dates[1]} 09:00\",\n",
    "    fs=fs,\n",
    "    client=client\n",
    ")\n",
    "helpers.trim_dask_worker_memory(client)"
   ]
  },
  {
   "cell_type": "code",
   "execution_count": null,
   "id": "c42bd6fc-d2d2-43a2-8961-7683987d219d",
   "metadata": {},
   "outputs": [],
   "source": [
    "# %%time\n",
    "# session = repo.readonly_session(branch=\"main\")\n",
    "# store = session.store\n",
    "# helpers.validate_data(store, dates=[\"2023-02-24\", \"2023-02-28\"], fs=fs)"
   ]
  },
  {
   "cell_type": "markdown",
   "id": "3fe2e131-2c47-460d-8c5f-d27c200388f4",
   "metadata": {},
   "source": [
    "## 19c. Write 2023-03-01 to 2023-04-21 as virtual refs"
   ]
  },
  {
   "cell_type": "code",
   "execution_count": 131,
   "id": "39e2b891-5bb1-408e-9024-b91c823f6ea3",
   "metadata": {},
   "outputs": [
    {
     "name": "stdout",
     "output_type": "stream",
     "text": [
      "CPU times: user 571 μs, sys: 30 μs, total: 601 μs\n",
      "Wall time: 593 μs\n"
     ]
    }
   ],
   "source": [
    "%%time\n",
    "dates = ['2023-03-01', '2023-04-21']\n",
    "mur_sst_files_2023_2 = helpers.list_mur_sst_files(start_date=dates[0], end_date=dates[1])\n",
    "mur_sst_files_2023_2_dmrpps = [f + '.dmrpp' for f in mur_sst_files_2023_2]\n"
   ]
  },
  {
   "cell_type": "code",
   "execution_count": 132,
   "id": "adb0e75e-00f5-4513-8ffb-c1230256f3ec",
   "metadata": {},
   "outputs": [
    {
     "data": {
      "text/plain": [
       "52"
      ]
     },
     "execution_count": 132,
     "metadata": {},
     "output_type": "execute_result"
    }
   ],
   "source": [
    "len(mur_sst_files_2023_2_dmrpps)"
   ]
  },
  {
   "cell_type": "code",
   "execution_count": 133,
   "id": "ec15a7ca-2cf8-40d1-bf65-5bfdd5d18507",
   "metadata": {},
   "outputs": [],
   "source": [
    "virtual_ds_2023_2 = helpers.create_virtual_ds(dmrpps=mur_sst_files_2023_2_dmrpps)"
   ]
  },
  {
   "cell_type": "code",
   "execution_count": 134,
   "id": "35e68f5a-1c6e-4f42-96c9-e263fbf14337",
   "metadata": {},
   "outputs": [
    {
     "data": {
      "text/plain": [
       "'5D5V4HGNDS81QB3P3PV0'"
      ]
     },
     "execution_count": 134,
     "metadata": {},
     "output_type": "execute_result"
    }
   ],
   "source": [
    "session = repo.writable_session(\"main\")\n",
    "store = session.store\n",
    "virtual_ds_2023_2.virtualize.to_icechunk(store, append_dim='time')\n",
    "session.commit(f\"Wrote {dates[0]} to {dates[1]} to store.\")"
   ]
  },
  {
   "cell_type": "code",
   "execution_count": null,
   "id": "9775f91e-d0df-4aa3-a081-9b608f3ed323",
   "metadata": {},
   "outputs": [],
   "source": [
    "# %%time\n",
    "# session = repo.readonly_session(branch=\"main\")\n",
    "# store = session.store\n",
    "# helpers.validate_data(store, dates=dates, fs=fs)"
   ]
  },
  {
   "cell_type": "markdown",
   "id": "e77feae3-41f0-4dfb-8b7e-d540b014406a",
   "metadata": {},
   "source": [
    "## 19d. Write 2023-04-22 as Zarr"
   ]
  },
  {
   "cell_type": "code",
   "execution_count": 135,
   "id": "cda8368d-59e9-4c5b-a57c-e02b8b2315ed",
   "metadata": {},
   "outputs": [
    {
     "name": "stdout",
     "output_type": "stream",
     "text": [
      "Opening files\n",
      "Files opened\n",
      "Mapping write tasks to dask client\n"
     ]
    },
    {
     "name": "stderr",
     "output_type": "stream",
     "text": [
      "/opt/conda/lib/python3.11/site-packages/numcodecs/zarr3.py:132: UserWarning: Numcodecs codecs are not in the Zarr version 3 specification and may not be supported by other zarr implementations.\n",
      "  super().__init__(**codec_config)\n",
      "/opt/conda/lib/python3.11/site-packages/numcodecs/zarr3.py:132: UserWarning: Numcodecs codecs are not in the Zarr version 3 specification and may not be supported by other zarr implementations.\n",
      "  super().__init__(**codec_config)\n",
      "/opt/conda/lib/python3.11/site-packages/numcodecs/zarr3.py:132: UserWarning: Numcodecs codecs are not in the Zarr version 3 specification and may not be supported by other zarr implementations.\n",
      "  super().__init__(**codec_config)\n",
      "/opt/conda/lib/python3.11/site-packages/numcodecs/zarr3.py:132: UserWarning: Numcodecs codecs are not in the Zarr version 3 specification and may not be supported by other zarr implementations.\n",
      "  super().__init__(**codec_config)\n"
     ]
    },
    {
     "name": "stdout",
     "output_type": "stream",
     "text": [
      "Starting distributed commit\n",
      "Distributed commit done\n",
      "CPU times: user 27.5 s, sys: 1.01 s, total: 28.5 s\n",
      "Wall time: 1min 13s\n"
     ]
    },
    {
     "data": {
      "text/plain": [
       "{'tcp://127.0.0.1:35289': 1,\n",
       " 'tcp://127.0.0.1:41661': 1,\n",
       " 'tcp://127.0.0.1:45397': 1,\n",
       " 'tcp://127.0.0.1:46477': 1}"
      ]
     },
     "execution_count": 135,
     "metadata": {},
     "output_type": "execute_result"
    }
   ],
   "source": [
    "%%time\n",
    "dates = [\"2023-04-22\", \"2023-04-22\"]\n",
    "dwz.update(\n",
    "    repo=repo,\n",
    "    start_date=f\"{dates[0]} 09:00\",\n",
    "    end_date=f\"{dates[1]} 09:00\",\n",
    "    fs=fs,\n",
    "    client=client\n",
    ")\n",
    "helpers.trim_dask_worker_memory(client)"
   ]
  },
  {
   "cell_type": "markdown",
   "id": "a01f8fca-6510-405b-bfa8-185dca4097f5",
   "metadata": {},
   "source": [
    "## 19e. Write 2023-04-23 to 2023-09-03 as virtual refs"
   ]
  },
  {
   "cell_type": "code",
   "execution_count": 136,
   "id": "4283158e-3017-4427-b5e7-39791edb6457",
   "metadata": {},
   "outputs": [
    {
     "name": "stdout",
     "output_type": "stream",
     "text": [
      "CPU times: user 0 ns, sys: 1.03 ms, total: 1.03 ms\n",
      "Wall time: 1.01 ms\n"
     ]
    }
   ],
   "source": [
    "%%time\n",
    "dates = ['2023-04-23', '2023-09-03']\n",
    "mur_sst_files_2023_3 = helpers.list_mur_sst_files(start_date=dates[0], end_date=dates[1])\n",
    "mur_sst_files_2023_3_dmrpps = [f + '.dmrpp' for f in mur_sst_files_2023_3]"
   ]
  },
  {
   "cell_type": "code",
   "execution_count": 137,
   "id": "a97735c2-c00c-4f6a-8f05-64cfb3922a12",
   "metadata": {},
   "outputs": [
    {
     "data": {
      "text/plain": [
       "134"
      ]
     },
     "execution_count": 137,
     "metadata": {},
     "output_type": "execute_result"
    }
   ],
   "source": [
    "len(mur_sst_files_2023_3_dmrpps)"
   ]
  },
  {
   "cell_type": "code",
   "execution_count": 138,
   "id": "730e4970-9402-460b-a6ef-b9f66091a2c7",
   "metadata": {},
   "outputs": [],
   "source": [
    "virtual_ds_2023_3 = helpers.create_virtual_ds(dmrpps=mur_sst_files_2023_3_dmrpps)"
   ]
  },
  {
   "cell_type": "code",
   "execution_count": 139,
   "id": "05f3ef53-2ff4-45d3-9620-acdfd4ff8b41",
   "metadata": {},
   "outputs": [
    {
     "data": {
      "text/plain": [
       "'3714221ZXFMCZNDSKMAG'"
      ]
     },
     "execution_count": 139,
     "metadata": {},
     "output_type": "execute_result"
    }
   ],
   "source": [
    "session = repo.writable_session(\"main\")\n",
    "store = session.store\n",
    "virtual_ds_2023_3.virtualize.to_icechunk(store, append_dim='time')\n",
    "session.commit(f\"Wrote {dates[0]} to {dates[1]} to store.\")"
   ]
  },
  {
   "cell_type": "code",
   "execution_count": null,
   "id": "f5f6f068-adb7-4f5d-8c0a-ad974aced979",
   "metadata": {},
   "outputs": [],
   "source": [
    "# %%time\n",
    "# session = repo.readonly_session(branch=\"main\")\n",
    "# store = session.store\n",
    "# helpers.validate_data(store, dates=['2023-04-22', '2023-09-03'], fs=fs)"
   ]
  }
 ],
 "metadata": {
  "kernelspec": {
   "display_name": "Python 3 (ipykernel)",
   "language": "python",
   "name": "python3"
  },
  "language_info": {
   "codemirror_mode": {
    "name": "ipython",
    "version": 3
   },
   "file_extension": ".py",
   "mimetype": "text/x-python",
   "name": "python",
   "nbconvert_exporter": "python",
   "pygments_lexer": "ipython3",
   "version": "3.11.10"
  }
 },
 "nbformat": 4,
 "nbformat_minor": 5
}
